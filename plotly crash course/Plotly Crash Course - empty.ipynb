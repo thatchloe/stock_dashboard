{
 "cells": [
  {
   "cell_type": "markdown",
   "id": "309a3934",
   "metadata": {},
   "source": [
    "# Plotly Crash Course & Cheat Sheet\n",
    "\n",
    "#### Why Plotly?\n",
    "- Interactive charts\n",
    "- Multi-language support\n",
    "- Powerful graphs with very little code\n",
    "- It's deployable online with Dash!\n",
    "\n",
    "#### You don't have to memorize the code! I'm going to make sure you understand how to use the Plotly resources\n",
    "#### Plotly Express (Px) vs Plotly Graph Objects (Go)\n",
    "#### Start with Px and check the High Level Interface page whenever you want to style your chart\n",
    "#### Move to Go when you need to customize elements like the layout and traces\n",
    "#### Explore it!"
   ]
  },
  {
   "cell_type": "markdown",
   "id": "adf45f9c",
   "metadata": {},
   "source": [
    "## Loading our data\n",
    "\n",
    "- We will load data from gapminder and use it to go over the basics of Plotly"
   ]
  },
  {
   "cell_type": "code",
   "execution_count": null,
   "id": "d05b3844",
   "metadata": {},
   "outputs": [],
   "source": [
    "# https://plotly.com/python/\n",
    "\n",
    "# https://plotly.com/python-api-reference/generated/plotly.data.html\n"
   ]
  },
  {
   "cell_type": "code",
   "execution_count": null,
   "id": "612d47ad",
   "metadata": {},
   "outputs": [],
   "source": []
  },
  {
   "cell_type": "code",
   "execution_count": null,
   "id": "5848ed06",
   "metadata": {},
   "outputs": [],
   "source": []
  },
  {
   "cell_type": "markdown",
   "id": "4957b375",
   "metadata": {},
   "source": [
    "## Plotly Express\n",
    "\n",
    "- Very easy to start\n",
    "- Powerful one liners and some customization out of the box\n",
    "- Still a lot of features for static presentations"
   ]
  },
  {
   "cell_type": "markdown",
   "id": "0936f83e",
   "metadata": {},
   "source": [
    "### Scatter Plots"
   ]
  },
  {
   "cell_type": "code",
   "execution_count": null,
   "id": "7dd17a2a",
   "metadata": {},
   "outputs": [],
   "source": [
    "# https://plotly.com/python/line-and-scatter/#scatter-plots-with-plotly-express\n",
    "# https://plotly.com/python-api-reference/plotly.express.html\n"
   ]
  },
  {
   "cell_type": "code",
   "execution_count": null,
   "id": "4321813e",
   "metadata": {},
   "outputs": [],
   "source": []
  },
  {
   "cell_type": "code",
   "execution_count": null,
   "id": "0fabc82f",
   "metadata": {},
   "outputs": [],
   "source": []
  },
  {
   "cell_type": "code",
   "execution_count": null,
   "id": "3edf879e",
   "metadata": {},
   "outputs": [],
   "source": []
  },
  {
   "cell_type": "markdown",
   "id": "94a7e7be",
   "metadata": {},
   "source": [
    "### Ready to use Themes"
   ]
  },
  {
   "cell_type": "code",
   "execution_count": null,
   "id": "d5e1aa65",
   "metadata": {},
   "outputs": [],
   "source": [
    "# https://plotly.com/python/templates/"
   ]
  },
  {
   "cell_type": "code",
   "execution_count": null,
   "id": "ff77adc2",
   "metadata": {},
   "outputs": [],
   "source": []
  },
  {
   "cell_type": "code",
   "execution_count": null,
   "id": "2f705ead",
   "metadata": {},
   "outputs": [],
   "source": []
  },
  {
   "cell_type": "markdown",
   "id": "c8c4009d",
   "metadata": {},
   "source": [
    "### Line Chart"
   ]
  },
  {
   "cell_type": "code",
   "execution_count": null,
   "id": "bcbd2db9",
   "metadata": {},
   "outputs": [],
   "source": [
    "# https://plotly.com/python/line-charts/\n",
    "\n",
    "\n",
    "# https://plotly.com/python/reference/index/\n"
   ]
  },
  {
   "cell_type": "code",
   "execution_count": null,
   "id": "cc450647",
   "metadata": {},
   "outputs": [],
   "source": []
  },
  {
   "cell_type": "code",
   "execution_count": null,
   "id": "f15ec39f",
   "metadata": {},
   "outputs": [],
   "source": []
  },
  {
   "cell_type": "markdown",
   "id": "1abc5f8d",
   "metadata": {},
   "source": [
    "### Bar Chart"
   ]
  },
  {
   "cell_type": "code",
   "execution_count": null,
   "id": "baef1e68",
   "metadata": {},
   "outputs": [],
   "source": []
  },
  {
   "cell_type": "code",
   "execution_count": null,
   "id": "81efa5bc",
   "metadata": {},
   "outputs": [],
   "source": []
  },
  {
   "cell_type": "code",
   "execution_count": null,
   "id": "2926ea04",
   "metadata": {},
   "outputs": [],
   "source": []
  },
  {
   "cell_type": "code",
   "execution_count": null,
   "id": "9efd58e3",
   "metadata": {},
   "outputs": [],
   "source": []
  },
  {
   "cell_type": "code",
   "execution_count": null,
   "id": "8531a93b",
   "metadata": {},
   "outputs": [],
   "source": []
  },
  {
   "cell_type": "markdown",
   "id": "be6f9467",
   "metadata": {},
   "source": [
    "## Plotly Graph Objects\n",
    "\n",
    "- If you want to get serious about Plotly, you will have to start using Graph Objects at some point!\n",
    "- More customization\n",
    "- Lets you create dynamic charts\n",
    "- It can be overwelming if you don't know what you want"
   ]
  },
  {
   "cell_type": "code",
   "execution_count": null,
   "id": "7c99e666",
   "metadata": {},
   "outputs": [],
   "source": [
    "# https://plotly.com/python/graph-objects/\n",
    "# https://plotly.com/python-api-reference/generated/plotly.graph_objects.Figure.html\n"
   ]
  },
  {
   "cell_type": "code",
   "execution_count": null,
   "id": "2281d541",
   "metadata": {},
   "outputs": [],
   "source": []
  },
  {
   "cell_type": "markdown",
   "id": "bb7a743a",
   "metadata": {},
   "source": [
    "## Adding your own style to your charts"
   ]
  },
  {
   "cell_type": "code",
   "execution_count": null,
   "id": "fc6ae539",
   "metadata": {},
   "outputs": [],
   "source": []
  },
  {
   "cell_type": "code",
   "execution_count": null,
   "id": "5aadb28a",
   "metadata": {},
   "outputs": [],
   "source": []
  },
  {
   "cell_type": "code",
   "execution_count": null,
   "id": "b06bf25e",
   "metadata": {},
   "outputs": [],
   "source": []
  },
  {
   "cell_type": "code",
   "execution_count": null,
   "id": "8ac0f02d",
   "metadata": {},
   "outputs": [],
   "source": []
  }
 ],
 "metadata": {
  "kernelspec": {
   "display_name": "Python 3 (ipykernel)",
   "language": "python",
   "name": "python3"
  },
  "language_info": {
   "codemirror_mode": {
    "name": "ipython",
    "version": 3
   },
   "file_extension": ".py",
   "mimetype": "text/x-python",
   "name": "python",
   "nbconvert_exporter": "python",
   "pygments_lexer": "ipython3",
   "version": "3.7.0"
  }
 },
 "nbformat": 4,
 "nbformat_minor": 5
}
