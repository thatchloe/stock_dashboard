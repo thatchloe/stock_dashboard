  {
   "cell_type": "code",
   "execution_count": 123,
   "metadata": {},
   "outputs": [],
   "source": [
    "import pandas as pd\n",
    "from glob import glob\n",
    "from time import strftime, sleep\n",
    "import numpy as np\n",
    "from datetime import datetime\n",
    "\n",
    "import dash\n",
    "from dash import dcc\n",
    "from dash import html\n",
    "from dash.dependencies import Output, Input\n",
    "import plotly.express as px\n",
    "import dash_bootstrap_components as dbc\n",
    "import plotly.graph_objects as go\n",
    "from dash import dash_table\n",
    "from jupyter_dash import JupyterDash\n",
    "from plotly.subplots import make_subplots\n",
    "\n",
    "def clean_header(df):\n",
    "    df.columns = df.columns.str.strip().str.lower().str.replace('.', '', regex=False).str.replace('(', \\\n",
    "                '', regex=False).str.replace(')', '', regex=False).str.replace(' ', '_', regex=False).str.replace('_/_', '/', regex=False)\n",
    "    \n",
    "def get_now():\n",
    "    now = datetime.now().strftime('%Y-%m-%d_%Hh%Mm')\n",
    "    return now\n",
    "\n",
    "def datetime_maker(df, datecol):\n",
    "    df[datecol] = pd.to_datetime(df[datecol])"
   ]
  },
  {
   "cell_type": "markdown",
   "metadata": {},
   "source": [
    "#### Import the last transactions_finaldf from Phase I"
   ]
  },
  {
   "cell_type": "code",
   "execution_count": 64,
   "metadata": {},
   "outputs": [
    {
     "name": "stdout",
     "output_type": "stream",
     "text": [
      "transactions_finaldf_2021-12-02_02h36m.xlsx\n"
     ]
    }
   ],
   "source": [
    "last_file = sorted(glob('../outputs/transactions_all/*finaldf*.xlsx'))[-1] # path to file in the folder\n",
    "print(last_file[-(len(last_file))+(last_file.rfind('/')+1):])\n",
    "all_transactions = pd.read_excel(last_file, engine='openpyxl')\n",
    "all_transactions.date = pd.to_datetime(all_transactions.date, format='%d/%m/%Y')"
   ]
  },
  {
   "cell_type": "markdown",
   "metadata": {},
   "source": [
    "#### Import the last portfolio_df from Phase II"
   ]
  },
  {
   "cell_type": "code",
   "execution_count": 124,
   "metadata": {},
   "outputs": [
    {
     "name": "stdout",
     "output_type": "stream",
     "text": [
      "portfolio_df_2021-12-05_01h56m.csv\n"
     ]
    }
   ],
   "source": [
    "last_file = sorted(glob('../outputs/portfolio_df/portfolio_df_*.csv'))[-1] # path to file in the folder\n",
    "print(last_file[-(len(last_file))+(last_file.rfind('/')+1):])\n",
    "portf_allvalues = pd.read_csv(last_file)\n",
    "portf_allvalues = portf_allvalues.set_index('date')"
   ]
  },
  {
   "cell_type": "markdown",
   "metadata": {},
   "source": [
    "#### Import the last final_current_positions from Phase II"
   ]
  },
  {
   "cell_type": "code",
   "execution_count": 125,
   "metadata": {},
   "outputs": [
    {
     "name": "stdout",
     "output_type": "stream",
     "text": [
      "final_current_positions_2021-12-05_02h51m.csv\n"
     ]
    }
   ],
   "source": [
    "last_file = sorted(glob('../outputs/final_current_positions/final_current_positions_*.csv'))[-1] # path to file in the folder\n",
    "print(last_file[-(len(last_file))+(last_file.rfind('/')+1):])\n",
    "current_positions = pd.read_csv(last_file)\n",
    "current_positions = current_positions.sort_values(by='current_value', ascending=False).round(2)"
   ]
  },
  {
   "cell_type": "code",
   "execution_count": null,
   "metadata": {},
   "outputs": [],
   "source": []
  },
  {
   "cell_type": "markdown",
   "metadata": {},
   "source": [
    "## Portfolio Charts\n",
    "\n",
    "- Portfolio Value - First we prepare two smaller dataframes with our portfolio value and our invested value.\n",
    "- Drawdown percentage - This will tell us the distance from previous portfolio high\n",
    "- Buy/Sell orders - Visually identify months where you were more active\n",
    "- Growth comparison vs SP500 - Some may prefer this chart"
   ]
  },
  {
   "cell_type": "markdown",
   "metadata": {},
   "source": [
    "<div class=\"alert alert-block alert-danger\">\n",
    "<b></b><br><b>Do not</b> use anything earlier than your first trade otherwise there will be no initial value\n",
    "</div>"
   ]
  },
  {
   "cell_type": "code",
   "execution_count": 126,
   "metadata": {},
   "outputs": [
    {
     "data": {
      "text/html": [
       "<div>\n",
       "<style scoped>\n",
       "    .dataframe tbody tr th:only-of-type {\n",
       "        vertical-align: middle;\n",
       "    }\n",
       "\n",
       "    .dataframe tbody tr th {\n",
       "        vertical-align: top;\n",
       "    }\n",
       "\n",
       "    .dataframe thead th {\n",
       "        text-align: right;\n",
       "    }\n",
       "</style>\n",
       "<table border=\"1\" class=\"dataframe\">\n",
       "  <thead>\n",
       "    <tr style=\"text-align: right;\">\n",
       "      <th></th>\n",
       "      <th>date</th>\n",
       "      <th>portf_value</th>\n",
       "      <th>sp500_mktvalue</th>\n",
       "      <th>ptf_value_pctch</th>\n",
       "      <th>sp500_pctch</th>\n",
       "      <th>ptf_value_diff</th>\n",
       "      <th>sp500_diff</th>\n",
       "    </tr>\n",
       "  </thead>\n",
       "  <tbody>\n",
       "    <tr>\n",
       "      <th>0</th>\n",
       "      <td>2020-01-10</td>\n",
       "      <td>5163.46</td>\n",
       "      <td>3265.35</td>\n",
       "      <td>-0.55</td>\n",
       "      <td>-0.29</td>\n",
       "      <td>-28.65</td>\n",
       "      <td>-9.35</td>\n",
       "    </tr>\n",
       "    <tr>\n",
       "      <th>1</th>\n",
       "      <td>2020-01-13</td>\n",
       "      <td>5255.01</td>\n",
       "      <td>3288.13</td>\n",
       "      <td>1.77</td>\n",
       "      <td>0.70</td>\n",
       "      <td>91.55</td>\n",
       "      <td>22.78</td>\n",
       "    </tr>\n",
       "    <tr>\n",
       "      <th>2</th>\n",
       "      <td>2020-01-14</td>\n",
       "      <td>5237.21</td>\n",
       "      <td>3283.15</td>\n",
       "      <td>-0.34</td>\n",
       "      <td>-0.15</td>\n",
       "      <td>-17.80</td>\n",
       "      <td>-4.98</td>\n",
       "    </tr>\n",
       "    <tr>\n",
       "      <th>3</th>\n",
       "      <td>2020-01-15</td>\n",
       "      <td>5207.94</td>\n",
       "      <td>3289.29</td>\n",
       "      <td>-0.56</td>\n",
       "      <td>0.19</td>\n",
       "      <td>-29.28</td>\n",
       "      <td>6.14</td>\n",
       "    </tr>\n",
       "    <tr>\n",
       "      <th>4</th>\n",
       "      <td>2020-01-16</td>\n",
       "      <td>5241.90</td>\n",
       "      <td>3316.81</td>\n",
       "      <td>0.65</td>\n",
       "      <td>0.84</td>\n",
       "      <td>33.97</td>\n",
       "      <td>27.52</td>\n",
       "    </tr>\n",
       "    <tr>\n",
       "      <th>...</th>\n",
       "      <td>...</td>\n",
       "      <td>...</td>\n",
       "      <td>...</td>\n",
       "      <td>...</td>\n",
       "      <td>...</td>\n",
       "      <td>...</td>\n",
       "      <td>...</td>\n",
       "    </tr>\n",
       "    <tr>\n",
       "      <th>475</th>\n",
       "      <td>2021-11-29</td>\n",
       "      <td>102124.76</td>\n",
       "      <td>4655.27</td>\n",
       "      <td>1.92</td>\n",
       "      <td>1.32</td>\n",
       "      <td>1927.65</td>\n",
       "      <td>60.65</td>\n",
       "    </tr>\n",
       "    <tr>\n",
       "      <th>476</th>\n",
       "      <td>2021-11-30</td>\n",
       "      <td>100229.42</td>\n",
       "      <td>4567.00</td>\n",
       "      <td>-1.86</td>\n",
       "      <td>-1.90</td>\n",
       "      <td>-1895.34</td>\n",
       "      <td>-88.27</td>\n",
       "    </tr>\n",
       "    <tr>\n",
       "      <th>477</th>\n",
       "      <td>2021-12-01</td>\n",
       "      <td>96975.07</td>\n",
       "      <td>4513.04</td>\n",
       "      <td>-3.25</td>\n",
       "      <td>-1.18</td>\n",
       "      <td>-3254.35</td>\n",
       "      <td>-53.96</td>\n",
       "    </tr>\n",
       "    <tr>\n",
       "      <th>478</th>\n",
       "      <td>2021-12-02</td>\n",
       "      <td>97704.87</td>\n",
       "      <td>4577.10</td>\n",
       "      <td>0.75</td>\n",
       "      <td>1.42</td>\n",
       "      <td>729.80</td>\n",
       "      <td>64.06</td>\n",
       "    </tr>\n",
       "    <tr>\n",
       "      <th>479</th>\n",
       "      <td>2021-12-03</td>\n",
       "      <td>93969.89</td>\n",
       "      <td>4538.43</td>\n",
       "      <td>-3.82</td>\n",
       "      <td>-0.84</td>\n",
       "      <td>-3734.99</td>\n",
       "      <td>-38.67</td>\n",
       "    </tr>\n",
       "  </tbody>\n",
       "</table>\n",
       "<p>480 rows × 7 columns</p>\n",
       "</div>"
      ],
      "text/plain": [
       "          date  portf_value  sp500_mktvalue  ptf_value_pctch  sp500_pctch  \\\n",
       "0   2020-01-10      5163.46         3265.35            -0.55        -0.29   \n",
       "1   2020-01-13      5255.01         3288.13             1.77         0.70   \n",
       "2   2020-01-14      5237.21         3283.15            -0.34        -0.15   \n",
       "3   2020-01-15      5207.94         3289.29            -0.56         0.19   \n",
       "4   2020-01-16      5241.90         3316.81             0.65         0.84   \n",
       "..         ...          ...             ...              ...          ...   \n",
       "475 2021-11-29    102124.76         4655.27             1.92         1.32   \n",
       "476 2021-11-30    100229.42         4567.00            -1.86        -1.90   \n",
       "477 2021-12-01     96975.07         4513.04            -3.25        -1.18   \n",
       "478 2021-12-02     97704.87         4577.10             0.75         1.42   \n",
       "479 2021-12-03     93969.89         4538.43            -3.82        -0.84   \n",
       "\n",
       "     ptf_value_diff  sp500_diff  \n",
       "0            -28.65       -9.35  \n",
       "1             91.55       22.78  \n",
       "2            -17.80       -4.98  \n",
       "3            -29.28        6.14  \n",
       "4             33.97       27.52  \n",
       "..              ...         ...  \n",
       "475         1927.65       60.65  \n",
       "476        -1895.34      -88.27  \n",
       "477        -3254.35      -53.96  \n",
       "478          729.80       64.06  \n",
       "479        -3734.99      -38.67  \n",
       "\n",
       "[480 rows x 7 columns]"
      ]
     },
     "execution_count": 126,
     "metadata": {},
     "output_type": "execute_result"
    }
   ],
   "source": [
    "initial_date = '2020-01-09'\n",
    "plotlydf_portfval = portf_allvalues[portf_allvalues.index > initial_date]\n",
    "\n",
    "# plotlydf_portfval = portf_allvalues.copy()\n",
    "plotlydf_portfval = plotlydf_portfval[['portf_value', 'sp500_mktvalue', 'ptf_value_pctch',\n",
    "                                     'sp500_pctch', 'ptf_value_diff', 'sp500_diff']].reset_index().round(2)\n",
    "\n",
    "# calculating cumulative growth since initial date\n",
    "plotlydf_portfval.rename(columns={'index': 'date'}, inplace=True)  # needed for later\n",
    "plotlydf_portfval.date = pd.to_datetime(plotlydf_portfval.date)\n",
    "plotlydf_portfval"
   ]
  },
  {
   "cell_type": "code",
   "execution_count": 127,
   "metadata": {},
   "outputs": [
    {
     "data": {
      "text/html": [
       "<div>\n",
       "<style scoped>\n",
       "    .dataframe tbody tr th:only-of-type {\n",
       "        vertical-align: middle;\n",
       "    }\n",
       "\n",
       "    .dataframe tbody tr th {\n",
       "        vertical-align: top;\n",
       "    }\n",
       "\n",
       "    .dataframe thead th {\n",
       "        text-align: right;\n",
       "    }\n",
       "</style>\n",
       "<table border=\"1\" class=\"dataframe\">\n",
       "  <thead>\n",
       "    <tr style=\"text-align: right;\">\n",
       "      <th></th>\n",
       "      <th>date</th>\n",
       "      <th>cashflow</th>\n",
       "      <th>alltime_cashflow</th>\n",
       "    </tr>\n",
       "  </thead>\n",
       "  <tbody>\n",
       "    <tr>\n",
       "      <th>0</th>\n",
       "      <td>2020-01-08</td>\n",
       "      <td>3503.0</td>\n",
       "      <td>3503.00</td>\n",
       "    </tr>\n",
       "    <tr>\n",
       "      <th>1</th>\n",
       "      <td>2020-01-09</td>\n",
       "      <td>1854.0</td>\n",
       "      <td>5357.00</td>\n",
       "    </tr>\n",
       "    <tr>\n",
       "      <th>2</th>\n",
       "      <td>2020-01-10</td>\n",
       "      <td>0.0</td>\n",
       "      <td>5357.00</td>\n",
       "    </tr>\n",
       "    <tr>\n",
       "      <th>3</th>\n",
       "      <td>2020-01-11</td>\n",
       "      <td>0.0</td>\n",
       "      <td>5357.00</td>\n",
       "    </tr>\n",
       "    <tr>\n",
       "      <th>4</th>\n",
       "      <td>2020-01-12</td>\n",
       "      <td>0.0</td>\n",
       "      <td>5357.00</td>\n",
       "    </tr>\n",
       "    <tr>\n",
       "      <th>...</th>\n",
       "      <td>...</td>\n",
       "      <td>...</td>\n",
       "      <td>...</td>\n",
       "    </tr>\n",
       "    <tr>\n",
       "      <th>691</th>\n",
       "      <td>2021-11-29</td>\n",
       "      <td>0.0</td>\n",
       "      <td>52827.31</td>\n",
       "    </tr>\n",
       "    <tr>\n",
       "      <th>692</th>\n",
       "      <td>2021-11-30</td>\n",
       "      <td>0.0</td>\n",
       "      <td>52827.31</td>\n",
       "    </tr>\n",
       "    <tr>\n",
       "      <th>693</th>\n",
       "      <td>2021-12-01</td>\n",
       "      <td>0.0</td>\n",
       "      <td>52827.31</td>\n",
       "    </tr>\n",
       "    <tr>\n",
       "      <th>694</th>\n",
       "      <td>2021-12-02</td>\n",
       "      <td>0.0</td>\n",
       "      <td>52827.31</td>\n",
       "    </tr>\n",
       "    <tr>\n",
       "      <th>695</th>\n",
       "      <td>2021-12-03</td>\n",
       "      <td>0.0</td>\n",
       "      <td>52827.31</td>\n",
       "    </tr>\n",
       "  </tbody>\n",
       "</table>\n",
       "<p>696 rows × 3 columns</p>\n",
       "</div>"
      ],
      "text/plain": [
       "          date  cashflow  alltime_cashflow\n",
       "0   2020-01-08    3503.0           3503.00\n",
       "1   2020-01-09    1854.0           5357.00\n",
       "2   2020-01-10       0.0           5357.00\n",
       "3   2020-01-11       0.0           5357.00\n",
       "4   2020-01-12       0.0           5357.00\n",
       "..         ...       ...               ...\n",
       "691 2021-11-29       0.0          52827.31\n",
       "692 2021-11-30       0.0          52827.31\n",
       "693 2021-12-01       0.0          52827.31\n",
       "694 2021-12-02       0.0          52827.31\n",
       "695 2021-12-03       0.0          52827.31\n",
       "\n",
       "[696 rows x 3 columns]"
      ]
     },
     "execution_count": 127,
     "metadata": {},
     "output_type": "execute_result"
    }
   ],
   "source": [
    "# Going to use the column cashflow to calculate a net return on the assets\n",
    "invested_df = (all_transactions.groupby('date').sum()['cashflow']*-1)\n",
    "idx = pd.date_range(all_transactions.date.min(), plotlydf_portfval.date.max())\n",
    "invested_df = invested_df.reindex(idx, fill_value=0).reset_index()\n",
    "invested_df.rename(columns={'index': 'date'}, inplace=True)\n",
    "invested_df['alltime_cashflow'] = invested_df['cashflow'].cumsum()\n",
    "invested_df"
   ]
  },
  {
   "cell_type": "code",
   "execution_count": 132,
   "metadata": {},
   "outputs": [
    {
     "data": {
      "text/html": [
       "<div>\n",
       "<style scoped>\n",
       "    .dataframe tbody tr th:only-of-type {\n",
       "        vertical-align: middle;\n",
       "    }\n",
       "\n",
       "    .dataframe tbody tr th {\n",
       "        vertical-align: top;\n",
       "    }\n",
       "\n",
       "    .dataframe thead th {\n",
       "        text-align: right;\n",
       "    }\n",
       "</style>\n",
       "<table border=\"1\" class=\"dataframe\">\n",
       "  <thead>\n",
       "    <tr style=\"text-align: right;\">\n",
       "      <th></th>\n",
       "      <th>date</th>\n",
       "      <th>portf_value</th>\n",
       "      <th>sp500_mktvalue</th>\n",
       "      <th>ptf_value_pctch</th>\n",
       "      <th>sp500_pctch</th>\n",
       "      <th>ptf_value_diff</th>\n",
       "      <th>sp500_diff</th>\n",
       "      <th>cashflow</th>\n",
       "      <th>alltime_cashflow</th>\n",
       "      <th>net_invested</th>\n",
       "      <th>net_value</th>\n",
       "      <th>ptf_growth</th>\n",
       "      <th>sp500_growth</th>\n",
       "      <th>adjusted_ptfchg</th>\n",
       "      <th>highvalue</th>\n",
       "      <th>drawdownpct</th>\n",
       "    </tr>\n",
       "  </thead>\n",
       "  <tbody>\n",
       "    <tr>\n",
       "      <th>0</th>\n",
       "      <td>2020-01-10</td>\n",
       "      <td>5163.46</td>\n",
       "      <td>3265.35</td>\n",
       "      <td>-0.55</td>\n",
       "      <td>-0.29</td>\n",
       "      <td>-28.65</td>\n",
       "      <td>-9.35</td>\n",
       "      <td>0.0</td>\n",
       "      <td>5357.00</td>\n",
       "      <td>0.00</td>\n",
       "      <td>5163.46</td>\n",
       "      <td>1.000000</td>\n",
       "      <td>1.000000</td>\n",
       "      <td>NaN</td>\n",
       "      <td>5163.46</td>\n",
       "      <td>0.00</td>\n",
       "    </tr>\n",
       "    <tr>\n",
       "      <th>1</th>\n",
       "      <td>2020-01-13</td>\n",
       "      <td>5255.01</td>\n",
       "      <td>3288.13</td>\n",
       "      <td>1.77</td>\n",
       "      <td>0.70</td>\n",
       "      <td>91.55</td>\n",
       "      <td>22.78</td>\n",
       "      <td>0.0</td>\n",
       "      <td>5357.00</td>\n",
       "      <td>0.00</td>\n",
       "      <td>5255.01</td>\n",
       "      <td>1.017730</td>\n",
       "      <td>1.006976</td>\n",
       "      <td>1.77</td>\n",
       "      <td>5255.01</td>\n",
       "      <td>0.00</td>\n",
       "    </tr>\n",
       "    <tr>\n",
       "      <th>2</th>\n",
       "      <td>2020-01-14</td>\n",
       "      <td>5237.21</td>\n",
       "      <td>3283.15</td>\n",
       "      <td>-0.34</td>\n",
       "      <td>-0.15</td>\n",
       "      <td>-17.80</td>\n",
       "      <td>-4.98</td>\n",
       "      <td>0.0</td>\n",
       "      <td>5357.00</td>\n",
       "      <td>0.00</td>\n",
       "      <td>5237.21</td>\n",
       "      <td>1.014283</td>\n",
       "      <td>1.005451</td>\n",
       "      <td>-0.34</td>\n",
       "      <td>5255.01</td>\n",
       "      <td>-0.34</td>\n",
       "    </tr>\n",
       "    <tr>\n",
       "      <th>3</th>\n",
       "      <td>2020-01-15</td>\n",
       "      <td>5207.94</td>\n",
       "      <td>3289.29</td>\n",
       "      <td>-0.56</td>\n",
       "      <td>0.19</td>\n",
       "      <td>-29.28</td>\n",
       "      <td>6.14</td>\n",
       "      <td>0.0</td>\n",
       "      <td>5357.00</td>\n",
       "      <td>0.00</td>\n",
       "      <td>5207.94</td>\n",
       "      <td>1.008614</td>\n",
       "      <td>1.007332</td>\n",
       "      <td>-0.56</td>\n",
       "      <td>5255.01</td>\n",
       "      <td>-0.90</td>\n",
       "    </tr>\n",
       "    <tr>\n",
       "      <th>4</th>\n",
       "      <td>2020-01-16</td>\n",
       "      <td>5241.90</td>\n",
       "      <td>3316.81</td>\n",
       "      <td>0.65</td>\n",
       "      <td>0.84</td>\n",
       "      <td>33.97</td>\n",
       "      <td>27.52</td>\n",
       "      <td>0.0</td>\n",
       "      <td>5357.00</td>\n",
       "      <td>0.00</td>\n",
       "      <td>5241.90</td>\n",
       "      <td>1.015191</td>\n",
       "      <td>1.015759</td>\n",
       "      <td>0.65</td>\n",
       "      <td>5255.01</td>\n",
       "      <td>-0.25</td>\n",
       "    </tr>\n",
       "    <tr>\n",
       "      <th>...</th>\n",
       "      <td>...</td>\n",
       "      <td>...</td>\n",
       "      <td>...</td>\n",
       "      <td>...</td>\n",
       "      <td>...</td>\n",
       "      <td>...</td>\n",
       "      <td>...</td>\n",
       "      <td>...</td>\n",
       "      <td>...</td>\n",
       "      <td>...</td>\n",
       "      <td>...</td>\n",
       "      <td>...</td>\n",
       "      <td>...</td>\n",
       "      <td>...</td>\n",
       "      <td>...</td>\n",
       "      <td>...</td>\n",
       "    </tr>\n",
       "    <tr>\n",
       "      <th>475</th>\n",
       "      <td>2021-11-29</td>\n",
       "      <td>102124.76</td>\n",
       "      <td>4655.27</td>\n",
       "      <td>1.92</td>\n",
       "      <td>1.32</td>\n",
       "      <td>1927.65</td>\n",
       "      <td>60.65</td>\n",
       "      <td>0.0</td>\n",
       "      <td>52827.31</td>\n",
       "      <td>47470.31</td>\n",
       "      <td>54654.45</td>\n",
       "      <td>10.584850</td>\n",
       "      <td>1.425657</td>\n",
       "      <td>3.66</td>\n",
       "      <td>56953.33</td>\n",
       "      <td>-4.04</td>\n",
       "    </tr>\n",
       "    <tr>\n",
       "      <th>476</th>\n",
       "      <td>2021-11-30</td>\n",
       "      <td>100229.42</td>\n",
       "      <td>4567.00</td>\n",
       "      <td>-1.86</td>\n",
       "      <td>-1.90</td>\n",
       "      <td>-1895.34</td>\n",
       "      <td>-88.27</td>\n",
       "      <td>0.0</td>\n",
       "      <td>52827.31</td>\n",
       "      <td>47470.31</td>\n",
       "      <td>52759.11</td>\n",
       "      <td>10.217782</td>\n",
       "      <td>1.398625</td>\n",
       "      <td>-3.47</td>\n",
       "      <td>56953.33</td>\n",
       "      <td>-7.36</td>\n",
       "    </tr>\n",
       "    <tr>\n",
       "      <th>477</th>\n",
       "      <td>2021-12-01</td>\n",
       "      <td>96975.07</td>\n",
       "      <td>4513.04</td>\n",
       "      <td>-3.25</td>\n",
       "      <td>-1.18</td>\n",
       "      <td>-3254.35</td>\n",
       "      <td>-53.96</td>\n",
       "      <td>0.0</td>\n",
       "      <td>52827.31</td>\n",
       "      <td>47470.31</td>\n",
       "      <td>49504.76</td>\n",
       "      <td>9.587517</td>\n",
       "      <td>1.382100</td>\n",
       "      <td>-6.17</td>\n",
       "      <td>56953.33</td>\n",
       "      <td>-13.08</td>\n",
       "    </tr>\n",
       "    <tr>\n",
       "      <th>478</th>\n",
       "      <td>2021-12-02</td>\n",
       "      <td>97704.87</td>\n",
       "      <td>4577.10</td>\n",
       "      <td>0.75</td>\n",
       "      <td>1.42</td>\n",
       "      <td>729.80</td>\n",
       "      <td>64.06</td>\n",
       "      <td>0.0</td>\n",
       "      <td>52827.31</td>\n",
       "      <td>47470.31</td>\n",
       "      <td>50234.56</td>\n",
       "      <td>9.728856</td>\n",
       "      <td>1.401718</td>\n",
       "      <td>1.47</td>\n",
       "      <td>56953.33</td>\n",
       "      <td>-11.80</td>\n",
       "    </tr>\n",
       "    <tr>\n",
       "      <th>479</th>\n",
       "      <td>2021-12-03</td>\n",
       "      <td>93969.89</td>\n",
       "      <td>4538.43</td>\n",
       "      <td>-3.82</td>\n",
       "      <td>-0.84</td>\n",
       "      <td>-3734.99</td>\n",
       "      <td>-38.67</td>\n",
       "      <td>0.0</td>\n",
       "      <td>52827.31</td>\n",
       "      <td>47470.31</td>\n",
       "      <td>46499.58</td>\n",
       "      <td>9.005508</td>\n",
       "      <td>1.389876</td>\n",
       "      <td>-7.44</td>\n",
       "      <td>56953.33</td>\n",
       "      <td>-18.35</td>\n",
       "    </tr>\n",
       "  </tbody>\n",
       "</table>\n",
       "<p>480 rows × 16 columns</p>\n",
       "</div>"
      ],
      "text/plain": [
       "          date  portf_value  sp500_mktvalue  ptf_value_pctch  sp500_pctch  \\\n",
       "0   2020-01-10      5163.46         3265.35            -0.55        -0.29   \n",
       "1   2020-01-13      5255.01         3288.13             1.77         0.70   \n",
       "2   2020-01-14      5237.21         3283.15            -0.34        -0.15   \n",
       "3   2020-01-15      5207.94         3289.29            -0.56         0.19   \n",
       "4   2020-01-16      5241.90         3316.81             0.65         0.84   \n",
       "..         ...          ...             ...              ...          ...   \n",
       "475 2021-11-29    102124.76         4655.27             1.92         1.32   \n",
       "476 2021-11-30    100229.42         4567.00            -1.86        -1.90   \n",
       "477 2021-12-01     96975.07         4513.04            -3.25        -1.18   \n",
       "478 2021-12-02     97704.87         4577.10             0.75         1.42   \n",
       "479 2021-12-03     93969.89         4538.43            -3.82        -0.84   \n",
       "\n",
       "     ptf_value_diff  sp500_diff  cashflow  alltime_cashflow  net_invested  \\\n",
       "0            -28.65       -9.35       0.0           5357.00          0.00   \n",
       "1             91.55       22.78       0.0           5357.00          0.00   \n",
       "2            -17.80       -4.98       0.0           5357.00          0.00   \n",
       "3            -29.28        6.14       0.0           5357.00          0.00   \n",
       "4             33.97       27.52       0.0           5357.00          0.00   \n",
       "..              ...         ...       ...               ...           ...   \n",
       "475         1927.65       60.65       0.0          52827.31      47470.31   \n",
       "476        -1895.34      -88.27       0.0          52827.31      47470.31   \n",
       "477        -3254.35      -53.96       0.0          52827.31      47470.31   \n",
       "478          729.80       64.06       0.0          52827.31      47470.31   \n",
       "479        -3734.99      -38.67       0.0          52827.31      47470.31   \n",
       "\n",
       "     net_value  ptf_growth  sp500_growth  adjusted_ptfchg  highvalue  \\\n",
       "0      5163.46    1.000000      1.000000              NaN    5163.46   \n",
       "1      5255.01    1.017730      1.006976             1.77    5255.01   \n",
       "2      5237.21    1.014283      1.005451            -0.34    5255.01   \n",
       "3      5207.94    1.008614      1.007332            -0.56    5255.01   \n",
       "4      5241.90    1.015191      1.015759             0.65    5255.01   \n",
       "..         ...         ...           ...              ...        ...   \n",
       "475   54654.45   10.584850      1.425657             3.66   56953.33   \n",
       "476   52759.11   10.217782      1.398625            -3.47   56953.33   \n",
       "477   49504.76    9.587517      1.382100            -6.17   56953.33   \n",
       "478   50234.56    9.728856      1.401718             1.47   56953.33   \n",
       "479   46499.58    9.005508      1.389876            -7.44   56953.33   \n",
       "\n",
       "     drawdownpct  \n",
       "0           0.00  \n",
       "1           0.00  \n",
       "2          -0.34  \n",
       "3          -0.90  \n",
       "4          -0.25  \n",
       "..           ...  \n",
       "475        -4.04  \n",
       "476        -7.36  \n",
       "477       -13.08  \n",
       "478       -11.80  \n",
       "479       -18.35  \n",
       "\n",
       "[480 rows x 16 columns]"
      ]
     },
     "execution_count": 132,
     "metadata": {},
     "output_type": "execute_result"
    }
   ],
   "source": [
    "plotlydf_portfval = pd.merge(plotlydf_portfval, invested_df, on='date', how='inner')\n",
    "# net invested will let us know how much we invested during the period in analysis\n",
    "# then we take this out of the portfolio value, to calculate the returns\n",
    "plotlydf_portfval['net_invested'] = plotlydf_portfval['cashflow'].cumsum()\n",
    "plotlydf_portfval['net_value'] = plotlydf_portfval.portf_value - plotlydf_portfval.net_invested\n",
    "plotlydf_portfval['ptf_growth'] = plotlydf_portfval.net_value/plotlydf_portfval['net_value'].iloc[0]\n",
    "plotlydf_portfval['sp500_growth'] = plotlydf_portfval.sp500_mktvalue/plotlydf_portfval['sp500_mktvalue'].iloc[0]\n",
    "# adjusted ptfchg will be the accurate variation (net of investments)\n",
    "plotlydf_portfval['adjusted_ptfchg'] = (plotlydf_portfval['net_value'].pct_change()*100).round(2)\n",
    "plotlydf_portfval['highvalue'] = plotlydf_portfval['net_value'].cummax()\n",
    "plotlydf_portfval['drawdownpct'] = (plotlydf_portfval['net_value']/plotlydf_portfval['highvalue']-1).round(4)*100\n",
    "plotlydf_portfval"
   ]
  },
  {
   "cell_type": "code",
   "execution_count": null,
   "metadata": {},
   "outputs": [],
   "source": []
  },
  {
   "cell_type": "code",
   "execution_count": 128,
   "metadata": {},
   "outputs": [],
   "source": [
    "CHART_THEME = 'plotly_dark'  # others include seaborn, ggplot2, plotly_white, plotly_dark"
   ]
  },
  {
   "cell_type": "code",
   "execution_count": 129,
   "metadata": {},
   "outputs": [
    {
     "data": {
      "application/vnd.plotly.v1+json": {
       "config": {
        "plotlyServerURL": "https://plot.ly"
       },
       "data": [
        {
         "hovertemplate": "$ %{y:,.0f}",
         "mode": "lines",
         "name": "Portfolio Value",
         "type": "scatter",
         "x": [
          "2020-01-10T00:00:00",
          "2020-01-13T00:00:00",
          "2020-01-14T00:00:00",
          "2020-01-15T00:00:00",
          "2020-01-16T00:00:00",
          "2020-01-17T00:00:00",
          "2020-01-21T00:00:00",
          "2020-01-22T00:00:00",
          "2020-01-23T00:00:00",
          "2020-01-24T00:00:00",
          "2020-01-27T00:00:00",
          "2020-01-28T00:00:00",
          "2020-01-29T00:00:00",
          "2020-01-30T00:00:00",
          "2020-01-31T00:00:00",
          "2020-02-03T00:00:00",
          "2020-02-04T00:00:00",
          "2020-02-05T00:00:00",
          "2020-02-06T00:00:00",
          "2020-02-07T00:00:00",
          "2020-02-10T00:00:00",
          "2020-02-11T00:00:00",
          "2020-02-12T00:00:00",
          "2020-02-13T00:00:00",
          "2020-02-14T00:00:00",
          "2020-02-18T00:00:00",
          "2020-02-19T00:00:00",
          "2020-02-20T00:00:00",
          "2020-02-21T00:00:00",
          "2020-02-24T00:00:00",
          "2020-02-25T00:00:00",
          "2020-02-26T00:00:00",
          "2020-02-27T00:00:00",
          "2020-02-28T00:00:00",
          "2020-03-02T00:00:00",
          "2020-03-03T00:00:00",
          "2020-03-04T00:00:00",
          "2020-03-05T00:00:00",
          "2020-03-06T00:00:00",
          "2020-03-09T00:00:00",
          "2020-03-10T00:00:00",
          "2020-03-11T00:00:00",
          "2020-03-12T00:00:00",
          "2020-03-13T00:00:00",
          "2020-03-16T00:00:00",
          "2020-03-17T00:00:00",
          "2020-03-18T00:00:00",
          "2020-03-19T00:00:00",
          "2020-03-20T00:00:00",
          "2020-03-23T00:00:00",
          "2020-03-24T00:00:00",
          "2020-03-25T00:00:00",
          "2020-03-26T00:00:00",
          "2020-03-27T00:00:00",
          "2020-03-30T00:00:00",
          "2020-03-31T00:00:00",
          "2020-04-01T00:00:00",
          "2020-04-02T00:00:00",
          "2020-04-03T00:00:00",
          "2020-04-06T00:00:00",
          "2020-04-07T00:00:00",
          "2020-04-08T00:00:00",
          "2020-04-09T00:00:00",
          "2020-04-13T00:00:00",
          "2020-04-14T00:00:00",
          "2020-04-15T00:00:00",
          "2020-04-16T00:00:00",
          "2020-04-17T00:00:00",
          "2020-04-20T00:00:00",
          "2020-04-21T00:00:00",
          "2020-04-22T00:00:00",
          "2020-04-23T00:00:00",
          "2020-04-24T00:00:00",
          "2020-04-27T00:00:00",
          "2020-04-28T00:00:00",
          "2020-04-29T00:00:00",
          "2020-04-30T00:00:00",
          "2020-05-01T00:00:00",
          "2020-05-04T00:00:00",
          "2020-05-05T00:00:00",
          "2020-05-06T00:00:00",
          "2020-05-07T00:00:00",
          "2020-05-08T00:00:00",
          "2020-05-11T00:00:00",
          "2020-05-12T00:00:00",
          "2020-05-13T00:00:00",
          "2020-05-14T00:00:00",
          "2020-05-15T00:00:00",
          "2020-05-18T00:00:00",
          "2020-05-19T00:00:00",
          "2020-05-20T00:00:00",
          "2020-05-21T00:00:00",
          "2020-05-22T00:00:00",
          "2020-05-26T00:00:00",
          "2020-05-27T00:00:00",
          "2020-05-28T00:00:00",
          "2020-05-29T00:00:00",
          "2020-06-01T00:00:00",
          "2020-06-02T00:00:00",
          "2020-06-03T00:00:00",
          "2020-06-04T00:00:00",
          "2020-06-05T00:00:00",
          "2020-06-08T00:00:00",
          "2020-06-09T00:00:00",
          "2020-06-10T00:00:00",
          "2020-06-11T00:00:00",
          "2020-06-12T00:00:00",
          "2020-06-15T00:00:00",
          "2020-06-16T00:00:00",
          "2020-06-17T00:00:00",
          "2020-06-18T00:00:00",
          "2020-06-19T00:00:00",
          "2020-06-22T00:00:00",
          "2020-06-23T00:00:00",
          "2020-06-24T00:00:00",
          "2020-06-25T00:00:00",
          "2020-06-26T00:00:00",
          "2020-06-29T00:00:00",
          "2020-06-30T00:00:00",
          "2020-07-01T00:00:00",
          "2020-07-02T00:00:00",
          "2020-07-06T00:00:00",
          "2020-07-07T00:00:00",
          "2020-07-08T00:00:00",
          "2020-07-09T00:00:00",
          "2020-07-10T00:00:00",
          "2020-07-13T00:00:00",
          "2020-07-14T00:00:00",
          "2020-07-15T00:00:00",
          "2020-07-16T00:00:00",
          "2020-07-17T00:00:00",
          "2020-07-20T00:00:00",
          "2020-07-21T00:00:00",
          "2020-07-22T00:00:00",
          "2020-07-23T00:00:00",
          "2020-07-24T00:00:00",
          "2020-07-27T00:00:00",
          "2020-07-28T00:00:00",
          "2020-07-29T00:00:00",
          "2020-07-30T00:00:00",
          "2020-07-31T00:00:00",
          "2020-08-03T00:00:00",
          "2020-08-04T00:00:00",
          "2020-08-05T00:00:00",
          "2020-08-06T00:00:00",
          "2020-08-07T00:00:00",
          "2020-08-10T00:00:00",
          "2020-08-11T00:00:00",
          "2020-08-12T00:00:00",
          "2020-08-13T00:00:00",
          "2020-08-14T00:00:00",
          "2020-08-17T00:00:00",
          "2020-08-18T00:00:00",
          "2020-08-19T00:00:00",
          "2020-08-20T00:00:00",
          "2020-08-21T00:00:00",
          "2020-08-24T00:00:00",
          "2020-08-25T00:00:00",
          "2020-08-26T00:00:00",
          "2020-08-27T00:00:00",
          "2020-08-28T00:00:00",
          "2020-08-31T00:00:00",
          "2020-09-01T00:00:00",
          "2020-09-02T00:00:00",
          "2020-09-03T00:00:00",
          "2020-09-04T00:00:00",
          "2020-09-08T00:00:00",
          "2020-09-09T00:00:00",
          "2020-09-10T00:00:00",
          "2020-09-11T00:00:00",
          "2020-09-14T00:00:00",
          "2020-09-15T00:00:00",
          "2020-09-16T00:00:00",
          "2020-09-17T00:00:00",
          "2020-09-18T00:00:00",
          "2020-09-21T00:00:00",
          "2020-09-22T00:00:00",
          "2020-09-23T00:00:00",
          "2020-09-24T00:00:00",
          "2020-09-25T00:00:00",
          "2020-09-28T00:00:00",
          "2020-09-29T00:00:00",
          "2020-09-30T00:00:00",
          "2020-10-01T00:00:00",
          "2020-10-02T00:00:00",
          "2020-10-05T00:00:00",
          "2020-10-06T00:00:00",
          "2020-10-07T00:00:00",
          "2020-10-08T00:00:00",
          "2020-10-09T00:00:00",
          "2020-10-12T00:00:00",
          "2020-10-13T00:00:00",
          "2020-10-14T00:00:00",
          "2020-10-15T00:00:00",
          "2020-10-16T00:00:00",
          "2020-10-19T00:00:00",
          "2020-10-20T00:00:00",
          "2020-10-21T00:00:00",
          "2020-10-22T00:00:00",
          "2020-10-23T00:00:00",
          "2020-10-26T00:00:00",
          "2020-10-27T00:00:00",
          "2020-10-28T00:00:00",
          "2020-10-29T00:00:00",
          "2020-10-30T00:00:00",
          "2020-11-02T00:00:00",
          "2020-11-03T00:00:00",
          "2020-11-04T00:00:00",
          "2020-11-05T00:00:00",
          "2020-11-06T00:00:00",
          "2020-11-09T00:00:00",
          "2020-11-10T00:00:00",
          "2020-11-11T00:00:00",
          "2020-11-12T00:00:00",
          "2020-11-13T00:00:00",
          "2020-11-16T00:00:00",
          "2020-11-17T00:00:00",
          "2020-11-18T00:00:00",
          "2020-11-19T00:00:00",
          "2020-11-20T00:00:00",
          "2020-11-23T00:00:00",
          "2020-11-24T00:00:00",
          "2020-11-25T00:00:00",
          "2020-11-27T00:00:00",
          "2020-11-30T00:00:00",
          "2020-12-01T00:00:00",
          "2020-12-02T00:00:00",
          "2020-12-03T00:00:00",
          "2020-12-04T00:00:00",
          "2020-12-07T00:00:00",
          "2020-12-08T00:00:00",
          "2020-12-09T00:00:00",
          "2020-12-10T00:00:00",
          "2020-12-11T00:00:00",
          "2020-12-14T00:00:00",
          "2020-12-15T00:00:00",
          "2020-12-16T00:00:00",
          "2020-12-17T00:00:00",
          "2020-12-18T00:00:00",
          "2020-12-21T00:00:00",
          "2020-12-22T00:00:00",
          "2020-12-23T00:00:00",
          "2020-12-24T00:00:00",
          "2020-12-28T00:00:00",
          "2020-12-29T00:00:00",
          "2020-12-30T00:00:00",
          "2020-12-31T00:00:00",
          "2021-01-04T00:00:00",
          "2021-01-05T00:00:00",
          "2021-01-06T00:00:00",
          "2021-01-07T00:00:00",
          "2021-01-08T00:00:00",
          "2021-01-11T00:00:00",
          "2021-01-12T00:00:00",
          "2021-01-13T00:00:00",
          "2021-01-14T00:00:00",
          "2021-01-15T00:00:00",
          "2021-01-19T00:00:00",
          "2021-01-20T00:00:00",
          "2021-01-21T00:00:00",
          "2021-01-22T00:00:00",
          "2021-01-25T00:00:00",
          "2021-01-26T00:00:00",
          "2021-01-27T00:00:00",
          "2021-01-28T00:00:00",
          "2021-01-29T00:00:00",
          "2021-02-01T00:00:00",
          "2021-02-02T00:00:00",
          "2021-02-03T00:00:00",
          "2021-02-04T00:00:00",
          "2021-02-05T00:00:00",
          "2021-02-08T00:00:00",
          "2021-02-09T00:00:00",
          "2021-02-10T00:00:00",
          "2021-02-11T00:00:00",
          "2021-02-12T00:00:00",
          "2021-02-16T00:00:00",
          "2021-02-17T00:00:00",
          "2021-02-18T00:00:00",
          "2021-02-19T00:00:00",
          "2021-02-22T00:00:00",
          "2021-02-23T00:00:00",
          "2021-02-24T00:00:00",
          "2021-02-25T00:00:00",
          "2021-02-26T00:00:00",
          "2021-03-01T00:00:00",
          "2021-03-02T00:00:00",
          "2021-03-03T00:00:00",
          "2021-03-04T00:00:00",
          "2021-03-05T00:00:00",
          "2021-03-08T00:00:00",
          "2021-03-09T00:00:00",
          "2021-03-10T00:00:00",
          "2021-03-11T00:00:00",
          "2021-03-12T00:00:00",
          "2021-03-15T00:00:00",
          "2021-03-16T00:00:00",
          "2021-03-17T00:00:00",
          "2021-03-18T00:00:00",
          "2021-03-19T00:00:00",
          "2021-03-22T00:00:00",
          "2021-03-23T00:00:00",
          "2021-03-24T00:00:00",
          "2021-03-25T00:00:00",
          "2021-03-26T00:00:00",
          "2021-03-29T00:00:00",
          "2021-03-30T00:00:00",
          "2021-03-31T00:00:00",
          "2021-04-01T00:00:00",
          "2021-04-05T00:00:00",
          "2021-04-06T00:00:00",
          "2021-04-07T00:00:00",
          "2021-04-08T00:00:00",
          "2021-04-09T00:00:00",
          "2021-04-12T00:00:00",
          "2021-04-13T00:00:00",
          "2021-04-14T00:00:00",
          "2021-04-15T00:00:00",
          "2021-04-16T00:00:00",
          "2021-04-19T00:00:00",
          "2021-04-20T00:00:00",
          "2021-04-21T00:00:00",
          "2021-04-22T00:00:00",
          "2021-04-23T00:00:00",
          "2021-04-26T00:00:00",
          "2021-04-27T00:00:00",
          "2021-04-28T00:00:00",
          "2021-04-29T00:00:00",
          "2021-04-30T00:00:00",
          "2021-05-03T00:00:00",
          "2021-05-04T00:00:00",
          "2021-05-05T00:00:00",
          "2021-05-06T00:00:00",
          "2021-05-07T00:00:00",
          "2021-05-10T00:00:00",
          "2021-05-11T00:00:00",
          "2021-05-12T00:00:00",
          "2021-05-13T00:00:00",
          "2021-05-14T00:00:00",
          "2021-05-17T00:00:00",
          "2021-05-18T00:00:00",
          "2021-05-19T00:00:00",
          "2021-05-20T00:00:00",
          "2021-05-21T00:00:00",
          "2021-05-24T00:00:00",
          "2021-05-25T00:00:00",
          "2021-05-26T00:00:00",
          "2021-05-27T00:00:00",
          "2021-05-28T00:00:00",
          "2021-06-01T00:00:00",
          "2021-06-02T00:00:00",
          "2021-06-03T00:00:00",
          "2021-06-04T00:00:00",
          "2021-06-07T00:00:00",
          "2021-06-08T00:00:00",
          "2021-06-09T00:00:00",
          "2021-06-10T00:00:00",
          "2021-06-11T00:00:00",
          "2021-06-14T00:00:00",
          "2021-06-15T00:00:00",
          "2021-06-16T00:00:00",
          "2021-06-17T00:00:00",
          "2021-06-18T00:00:00",
          "2021-06-21T00:00:00",
          "2021-06-22T00:00:00",
          "2021-06-23T00:00:00",
          "2021-06-24T00:00:00",
          "2021-06-25T00:00:00",
          "2021-06-28T00:00:00",
          "2021-06-29T00:00:00",
          "2021-06-30T00:00:00",
          "2021-07-01T00:00:00",
          "2021-07-02T00:00:00",
          "2021-07-06T00:00:00",
          "2021-07-07T00:00:00",
          "2021-07-08T00:00:00",
          "2021-07-09T00:00:00",
          "2021-07-12T00:00:00",
          "2021-07-13T00:00:00",
          "2021-07-14T00:00:00",
          "2021-07-15T00:00:00",
          "2021-07-16T00:00:00",
          "2021-07-19T00:00:00",
          "2021-07-20T00:00:00",
          "2021-07-21T00:00:00",
          "2021-07-22T00:00:00",
          "2021-07-23T00:00:00",
          "2021-07-26T00:00:00",
          "2021-07-27T00:00:00",
          "2021-07-28T00:00:00",
          "2021-07-29T00:00:00",
          "2021-07-30T00:00:00",
          "2021-08-02T00:00:00",
          "2021-08-03T00:00:00",
          "2021-08-04T00:00:00",
          "2021-08-05T00:00:00",
          "2021-08-06T00:00:00",
          "2021-08-09T00:00:00",
          "2021-08-10T00:00:00",
          "2021-08-11T00:00:00",
          "2021-08-12T00:00:00",
          "2021-08-13T00:00:00",
          "2021-08-16T00:00:00",
          "2021-08-17T00:00:00",
          "2021-08-18T00:00:00",
          "2021-08-19T00:00:00",
          "2021-08-20T00:00:00",
          "2021-08-23T00:00:00",
          "2021-08-24T00:00:00",
          "2021-08-25T00:00:00",
          "2021-08-26T00:00:00",
          "2021-08-27T00:00:00",
          "2021-08-30T00:00:00",
          "2021-08-31T00:00:00",
          "2021-09-01T00:00:00",
          "2021-09-02T00:00:00",
          "2021-09-03T00:00:00",
          "2021-09-07T00:00:00",
          "2021-09-08T00:00:00",
          "2021-09-09T00:00:00",
          "2021-09-10T00:00:00",
          "2021-09-13T00:00:00",
          "2021-09-14T00:00:00",
          "2021-09-15T00:00:00",
          "2021-09-16T00:00:00",
          "2021-09-17T00:00:00",
          "2021-09-20T00:00:00",
          "2021-09-21T00:00:00",
          "2021-09-22T00:00:00",
          "2021-09-23T00:00:00",
          "2021-09-24T00:00:00",
          "2021-09-27T00:00:00",
          "2021-09-28T00:00:00",
          "2021-09-29T00:00:00",
          "2021-09-30T00:00:00",
          "2021-10-01T00:00:00",
          "2021-10-04T00:00:00",
          "2021-10-05T00:00:00",
          "2021-10-06T00:00:00",
          "2021-10-07T00:00:00",
          "2021-10-08T00:00:00",
          "2021-10-11T00:00:00",
          "2021-10-12T00:00:00",
          "2021-10-13T00:00:00",
          "2021-10-14T00:00:00",
          "2021-10-15T00:00:00",
          "2021-10-18T00:00:00",
          "2021-10-19T00:00:00",
          "2021-10-20T00:00:00",
          "2021-10-21T00:00:00",
          "2021-10-22T00:00:00",
          "2021-10-25T00:00:00",
          "2021-10-26T00:00:00",
          "2021-10-27T00:00:00",
          "2021-10-28T00:00:00",
          "2021-10-29T00:00:00",
          "2021-11-01T00:00:00",
          "2021-11-02T00:00:00",
          "2021-11-03T00:00:00",
          "2021-11-04T00:00:00",
          "2021-11-05T00:00:00",
          "2021-11-08T00:00:00",
          "2021-11-09T00:00:00",
          "2021-11-10T00:00:00",
          "2021-11-11T00:00:00",
          "2021-11-12T00:00:00",
          "2021-11-15T00:00:00",
          "2021-11-16T00:00:00",
          "2021-11-17T00:00:00",
          "2021-11-18T00:00:00",
          "2021-11-19T00:00:00",
          "2021-11-22T00:00:00",
          "2021-11-23T00:00:00",
          "2021-11-24T00:00:00",
          "2021-11-26T00:00:00",
          "2021-11-29T00:00:00",
          "2021-11-30T00:00:00",
          "2021-12-01T00:00:00",
          "2021-12-02T00:00:00",
          "2021-12-03T00:00:00"
         ],
         "y": [
          5163.46,
          5255.01,
          5237.21,
          5207.94,
          5241.9,
          5269.38,
          5238.26,
          5191.73,
          5283.15,
          5293.26,
          5170.95,
          5132.47,
          5115.89,
          5150.4,
          5015.25,
          6503.49,
          6684.95,
          6719.57,
          6772.63,
          6716.25,
          7505.58,
          7501.09,
          7626.52,
          7589.65,
          7617.5,
          7627.52,
          7699.44,
          7675.2,
          7492.45,
          7239.74,
          7004.67,
          7140.56,
          6866.37,
          6840.77,
          7186.51,
          6935.65,
          7265.33,
          7114.76,
          7020.3,
          6457.34,
          6831.02,
          6529.4,
          5828.52,
          6877.43,
          6045.23,
          6366.95,
          6217.09,
          6322.62,
          6624.94,
          6606.33,
          7152.33,
          7096.92,
          9091.02,
          8700.7,
          10084.48,
          10004.13,
          9681.1,
          9873.12,
          9700.18,
          10294.26,
          10298.7,
          10522.3,
          10561.6,
          10632.31,
          15912.26,
          15709.27,
          15903.34,
          14517.79,
          14355.83,
          13850.87,
          15750.58,
          15786.69,
          18629.42,
          18926.31,
          19800.79,
          20523.63,
          21181.56,
          20533.63,
          20776.94,
          23507.96,
          23640.52,
          24125.72,
          24640.69,
          24741.98,
          24306,
          23858.13,
          24173.71,
          25402.87,
          25937.65,
          25940.01,
          26482.8,
          26251.61,
          30608.2,
          31098.21,
          33543.91,
          33476.09,
          34491.71,
          35423.56,
          35781.14,
          37636.32,
          37379.65,
          39609.01,
          42961.9,
          43246.74,
          43816.88,
          41402.95,
          44865,
          45902.99,
          46475.07,
          46234.9,
          46722.32,
          46456.25,
          47111.28,
          47514.87,
          46587.82,
          47311.32,
          45865.94,
          46581.07,
          47349.22,
          47817.66,
          47831.9,
          48954.53,
          48903.11,
          49753,
          49973.95,
          50526.31,
          49540.26,
          50455.26,
          50990.08,
          50672.74,
          50786.62,
          51889.74,
          51569.45,
          51979.04,
          50972.5,
          49252.45,
          50176.32,
          49542.63,
          50354,
          51219.08,
          51635.64,
          52801.83,
          54936.78,
          55767.81,
          56337.68,
          55794.74,
          55684.53,
          54449.42,
          55629.71,
          56124.62,
          55886.8,
          56576.4,
          56870.67,
          58294.93,
          58988.8,
          59148.7,
          60302.18,
          60781.46,
          62030.44,
          63744.53,
          64281.69,
          64953.97,
          65954.83,
          67351.3,
          66927.94,
          68048.38,
          65578.08,
          67588.36,
          66586.33,
          65985.97,
          67725.13,
          68573.45,
          68112.59,
          67272.3,
          67304.49,
          67133.47,
          68024.65,
          65838.64,
          65477.27,
          67656.44,
          69268.87,
          69319.37,
          70091.02,
          71675.4,
          70441.53,
          72059.92,
          70853.45,
          72224.37,
          72154.04,
          72763.62,
          71576.17,
          73392.18,
          73180.64,
          72966.44,
          72384.49,
          71583.76,
          71551.18,
          70911.85,
          70856.8,
          71011.28,
          69644.37,
          69786.58,
          67563.38,
          68542.22,
          66015.93,
          66826.54,
          68435.16,
          72209.77,
          74723.26,
          75292.25,
          73478.59,
          72749.21,
          74602.6,
          74471.11,
          74015.44,
          75366.35,
          76441.58,
          76275.68,
          77401.92,
          77527.85,
          79104.61,
          80376.9,
          81277.7,
          81891.56,
          81813.56,
          81646.04,
          81847.86,
          82649.18,
          83066.28,
          83488.95,
          85985.63,
          83464.31,
          84592.03,
          84386.7,
          84685.03,
          85835.95,
          86268.49,
          87518.43,
          87536.39,
          87456.58,
          88102.67,
          87783.86,
          87622.81,
          86808.28,
          86559.73,
          88070.86,
          87887.71,
          87344.98,
          88584.74,
          88656.2,
          92087.63,
          94276.45,
          93038.74,
          94860.24,
          95606.89,
          95417.23,
          93621.89,
          94592.71,
          95595.82,
          96751.04,
          97048.77,
          97208.13,
          97823.57,
          95405.62,
          95550.41,
          93196.37,
          95340.52,
          97001.34,
          97850.82,
          99644.22,
          100152.63,
          101560.32,
          102247.13,
          101860.6,
          102184.92,
          103383.96,
          102475.91,
          99306.25,
          97253.19,
          97278.86,
          93789.81,
          92933.82,
          94571.86,
          90659.28,
          91572.88,
          95206.19,
          93279.52,
          89607.87,
          87008.92,
          86314.44,
          84541.7,
          89223.88,
          89683.79,
          93110.31,
          92913.38,
          93853.69,
          92776.45,
          93284.09,
          90136.55,
          91246.51,
          92373,
          90962.92,
          87245.09,
          87442.78,
          87212,
          85690.78,
          86465.91,
          88305.02,
          89268.17,
          89931.73,
          90414.37,
          90025.69,
          91429.46,
          91526.32,
          91088.43,
          92830.88,
          91453.93,
          92177.09,
          92181.39,
          90543.91,
          89546.37,
          91149.43,
          90161.45,
          91506.87,
          92721.37,
          92182.45,
          92115.38,
          91653.22,
          90857.9,
          89911.05,
          88300.52,
          87314.94,
          85971.85,
          86720.34,
          83918.36,
          84222.79,
          81590.38,
          81372.95,
          83594.48,
          84835.33,
          85208.08,
          85052.87,
          86781.56,
          86602.04,
          88108.75,
          88122.58,
          89249.62,
          89949.63,
          89945.15,
          90118.71,
          90331.08,
          88836.49,
          90630.46,
          91659.39,
          91988,
          91310.53,
          91865.33,
          92616.84,
          92767.55,
          91390.27,
          91558.07,
          92839.87,
          92453.54,
          93066.41,
          94597.28,
          95474.8,
          96585,
          96353.22,
          98030.63,
          97851.14,
          97847.97,
          97602.96,
          97990.1,
          97840.49,
          96721.78,
          96125.67,
          97078.61,
          97845.12,
          96762.11,
          95534.27,
          94778.56,
          93634.04,
          93486.41,
          95016.81,
          96529.36,
          96386.53,
          97224.51,
          97573.86,
          96310,
          97642.23,
          97560.98,
          97582.23,
          97537.87,
          97936.9,
          99307.82,
          99608.34,
          98819.53,
          99740.56,
          99522.98,
          98815.61,
          99386.44,
          98863.09,
          97737.5,
          96719.29,
          95915.18,
          95154.18,
          96178.65,
          98150.24,
          98924.46,
          99470.09,
          98553.44,
          99701.53,
          100344.12,
          100396.31,
          100659.02,
          100804.24,
          101041.03,
          100929.85,
          99591.41,
          99933.86,
          99012.3,
          99013,
          98443.42,
          99291.54,
          99589.99,
          99098.31,
          96533.53,
          96765.6,
          98017.3,
          99197.74,
          98995.1,
          98972.12,
          95892.67,
          95351.64,
          95162.47,
          95835.05,
          93617.45,
          95693.36,
          96192.6,
          97566.21,
          97174.53,
          96879.2,
          97440.57,
          99521.98,
          100757.87,
          101396.55,
          102841.78,
          103630.84,
          103263.09,
          103766.61,
          102270.55,
          105399.8,
          102082.6,
          101294.99,
          102799.12,
          102942.64,
          104778.52,
          104750.21,
          105757.72,
          106276.29,
          104845.58,
          106226.61,
          102897.8,
          100971.5,
          101954.18,
          103407.74,
          103080.29,
          103575.34,
          102884.86,
          102783.5,
          103482.2,
          102347.53,
          101259.49,
          102094.87,
          100197.11,
          102124.76,
          100229.42,
          96975.07,
          97704.87,
          93969.89
         ]
        },
        {
         "fill": "tozeroy",
         "fillcolor": "rgba(255, 150, 20, 0.3)",
         "hovertemplate": "$ %{y:,.0f}",
         "line": {
          "color": "orangered",
          "dash": "dash",
          "width": 2
         },
         "mode": "lines",
         "name": "Net Invested",
         "type": "scatter",
         "x": [
          "2020-01-08T00:00:00",
          "2020-01-09T00:00:00",
          "2020-01-10T00:00:00",
          "2020-01-11T00:00:00",
          "2020-01-12T00:00:00",
          "2020-01-13T00:00:00",
          "2020-01-14T00:00:00",
          "2020-01-15T00:00:00",
          "2020-01-16T00:00:00",
          "2020-01-17T00:00:00",
          "2020-01-18T00:00:00",
          "2020-01-19T00:00:00",
          "2020-01-20T00:00:00",
          "2020-01-21T00:00:00",
          "2020-01-22T00:00:00",
          "2020-01-23T00:00:00",
          "2020-01-24T00:00:00",
          "2020-01-25T00:00:00",
          "2020-01-26T00:00:00",
          "2020-01-27T00:00:00",
          "2020-01-28T00:00:00",
          "2020-01-29T00:00:00",
          "2020-01-30T00:00:00",
          "2020-01-31T00:00:00",
          "2020-02-01T00:00:00",
          "2020-02-02T00:00:00",
          "2020-02-03T00:00:00",
          "2020-02-04T00:00:00",
          "2020-02-05T00:00:00",
          "2020-02-06T00:00:00",
          "2020-02-07T00:00:00",
          "2020-02-08T00:00:00",
          "2020-02-09T00:00:00",
          "2020-02-10T00:00:00",
          "2020-02-11T00:00:00",
          "2020-02-12T00:00:00",
          "2020-02-13T00:00:00",
          "2020-02-14T00:00:00",
          "2020-02-15T00:00:00",
          "2020-02-16T00:00:00",
          "2020-02-17T00:00:00",
          "2020-02-18T00:00:00",
          "2020-02-19T00:00:00",
          "2020-02-20T00:00:00",
          "2020-02-21T00:00:00",
          "2020-02-22T00:00:00",
          "2020-02-23T00:00:00",
          "2020-02-24T00:00:00",
          "2020-02-25T00:00:00",
          "2020-02-26T00:00:00",
          "2020-02-27T00:00:00",
          "2020-02-28T00:00:00",
          "2020-02-29T00:00:00",
          "2020-03-01T00:00:00",
          "2020-03-02T00:00:00",
          "2020-03-03T00:00:00",
          "2020-03-04T00:00:00",
          "2020-03-05T00:00:00",
          "2020-03-06T00:00:00",
          "2020-03-07T00:00:00",
          "2020-03-08T00:00:00",
          "2020-03-09T00:00:00",
          "2020-03-10T00:00:00",
          "2020-03-11T00:00:00",
          "2020-03-12T00:00:00",
          "2020-03-13T00:00:00",
          "2020-03-14T00:00:00",
          "2020-03-15T00:00:00",
          "2020-03-16T00:00:00",
          "2020-03-17T00:00:00",
          "2020-03-18T00:00:00",
          "2020-03-19T00:00:00",
          "2020-03-20T00:00:00",
          "2020-03-21T00:00:00",
          "2020-03-22T00:00:00",
          "2020-03-23T00:00:00",
          "2020-03-24T00:00:00",
          "2020-03-25T00:00:00",
          "2020-03-26T00:00:00",
          "2020-03-27T00:00:00",
          "2020-03-28T00:00:00",
          "2020-03-29T00:00:00",
          "2020-03-30T00:00:00",
          "2020-03-31T00:00:00",
          "2020-04-01T00:00:00",
          "2020-04-02T00:00:00",
          "2020-04-03T00:00:00",
          "2020-04-04T00:00:00",
          "2020-04-05T00:00:00",
          "2020-04-06T00:00:00",
          "2020-04-07T00:00:00",
          "2020-04-08T00:00:00",
          "2020-04-09T00:00:00",
          "2020-04-10T00:00:00",
          "2020-04-11T00:00:00",
          "2020-04-12T00:00:00",
          "2020-04-13T00:00:00",
          "2020-04-14T00:00:00",
          "2020-04-15T00:00:00",
          "2020-04-16T00:00:00",
          "2020-04-17T00:00:00",
          "2020-04-18T00:00:00",
          "2020-04-19T00:00:00",
          "2020-04-20T00:00:00",
          "2020-04-21T00:00:00",
          "2020-04-22T00:00:00",
          "2020-04-23T00:00:00",
          "2020-04-24T00:00:00",
          "2020-04-25T00:00:00",
          "2020-04-26T00:00:00",
          "2020-04-27T00:00:00",
          "2020-04-28T00:00:00",
          "2020-04-29T00:00:00",
          "2020-04-30T00:00:00",
          "2020-05-01T00:00:00",
          "2020-05-02T00:00:00",
          "2020-05-03T00:00:00",
          "2020-05-04T00:00:00",
          "2020-05-05T00:00:00",
          "2020-05-06T00:00:00",
          "2020-05-07T00:00:00",
          "2020-05-08T00:00:00",
          "2020-05-09T00:00:00",
          "2020-05-10T00:00:00",
          "2020-05-11T00:00:00",
          "2020-05-12T00:00:00",
          "2020-05-13T00:00:00",
          "2020-05-14T00:00:00",
          "2020-05-15T00:00:00",
          "2020-05-16T00:00:00",
          "2020-05-17T00:00:00",
          "2020-05-18T00:00:00",
          "2020-05-19T00:00:00",
          "2020-05-20T00:00:00",
          "2020-05-21T00:00:00",
          "2020-05-22T00:00:00",
          "2020-05-23T00:00:00",
          "2020-05-24T00:00:00",
          "2020-05-25T00:00:00",
          "2020-05-26T00:00:00",
          "2020-05-27T00:00:00",
          "2020-05-28T00:00:00",
          "2020-05-29T00:00:00",
          "2020-05-30T00:00:00",
          "2020-05-31T00:00:00",
          "2020-06-01T00:00:00",
          "2020-06-02T00:00:00",
          "2020-06-03T00:00:00",
          "2020-06-04T00:00:00",
          "2020-06-05T00:00:00",
          "2020-06-06T00:00:00",
          "2020-06-07T00:00:00",
          "2020-06-08T00:00:00",
          "2020-06-09T00:00:00",
          "2020-06-10T00:00:00",
          "2020-06-11T00:00:00",
          "2020-06-12T00:00:00",
          "2020-06-13T00:00:00",
          "2020-06-14T00:00:00",
          "2020-06-15T00:00:00",
          "2020-06-16T00:00:00",
          "2020-06-17T00:00:00",
          "2020-06-18T00:00:00",
          "2020-06-19T00:00:00",
          "2020-06-20T00:00:00",
          "2020-06-21T00:00:00",
          "2020-06-22T00:00:00",
          "2020-06-23T00:00:00",
          "2020-06-24T00:00:00",
          "2020-06-25T00:00:00",
          "2020-06-26T00:00:00",
          "2020-06-27T00:00:00",
          "2020-06-28T00:00:00",
          "2020-06-29T00:00:00",
          "2020-06-30T00:00:00",
          "2020-07-01T00:00:00",
          "2020-07-02T00:00:00",
          "2020-07-03T00:00:00",
          "2020-07-04T00:00:00",
          "2020-07-05T00:00:00",
          "2020-07-06T00:00:00",
          "2020-07-07T00:00:00",
          "2020-07-08T00:00:00",
          "2020-07-09T00:00:00",
          "2020-07-10T00:00:00",
          "2020-07-11T00:00:00",
          "2020-07-12T00:00:00",
          "2020-07-13T00:00:00",
          "2020-07-14T00:00:00",
          "2020-07-15T00:00:00",
          "2020-07-16T00:00:00",
          "2020-07-17T00:00:00",
          "2020-07-18T00:00:00",
          "2020-07-19T00:00:00",
          "2020-07-20T00:00:00",
          "2020-07-21T00:00:00",
          "2020-07-22T00:00:00",
          "2020-07-23T00:00:00",
          "2020-07-24T00:00:00",
          "2020-07-25T00:00:00",
          "2020-07-26T00:00:00",
          "2020-07-27T00:00:00",
          "2020-07-28T00:00:00",
          "2020-07-29T00:00:00",
          "2020-07-30T00:00:00",
          "2020-07-31T00:00:00",
          "2020-08-01T00:00:00",
          "2020-08-02T00:00:00",
          "2020-08-03T00:00:00",
          "2020-08-04T00:00:00",
          "2020-08-05T00:00:00",
          "2020-08-06T00:00:00",
          "2020-08-07T00:00:00",
          "2020-08-08T00:00:00",
          "2020-08-09T00:00:00",
          "2020-08-10T00:00:00",
          "2020-08-11T00:00:00",
          "2020-08-12T00:00:00",
          "2020-08-13T00:00:00",
          "2020-08-14T00:00:00",
          "2020-08-15T00:00:00",
          "2020-08-16T00:00:00",
          "2020-08-17T00:00:00",
          "2020-08-18T00:00:00",
          "2020-08-19T00:00:00",
          "2020-08-20T00:00:00",
          "2020-08-21T00:00:00",
          "2020-08-22T00:00:00",
          "2020-08-23T00:00:00",
          "2020-08-24T00:00:00",
          "2020-08-25T00:00:00",
          "2020-08-26T00:00:00",
          "2020-08-27T00:00:00",
          "2020-08-28T00:00:00",
          "2020-08-29T00:00:00",
          "2020-08-30T00:00:00",
          "2020-08-31T00:00:00",
          "2020-09-01T00:00:00",
          "2020-09-02T00:00:00",
          "2020-09-03T00:00:00",
          "2020-09-04T00:00:00",
          "2020-09-05T00:00:00",
          "2020-09-06T00:00:00",
          "2020-09-07T00:00:00",
          "2020-09-08T00:00:00",
          "2020-09-09T00:00:00",
          "2020-09-10T00:00:00",
          "2020-09-11T00:00:00",
          "2020-09-12T00:00:00",
          "2020-09-13T00:00:00",
          "2020-09-14T00:00:00",
          "2020-09-15T00:00:00",
          "2020-09-16T00:00:00",
          "2020-09-17T00:00:00",
          "2020-09-18T00:00:00",
          "2020-09-19T00:00:00",
          "2020-09-20T00:00:00",
          "2020-09-21T00:00:00",
          "2020-09-22T00:00:00",
          "2020-09-23T00:00:00",
          "2020-09-24T00:00:00",
          "2020-09-25T00:00:00",
          "2020-09-26T00:00:00",
          "2020-09-27T00:00:00",
          "2020-09-28T00:00:00",
          "2020-09-29T00:00:00",
          "2020-09-30T00:00:00",
          "2020-10-01T00:00:00",
          "2020-10-02T00:00:00",
          "2020-10-03T00:00:00",
          "2020-10-04T00:00:00",
          "2020-10-05T00:00:00",
          "2020-10-06T00:00:00",
          "2020-10-07T00:00:00",
          "2020-10-08T00:00:00",
          "2020-10-09T00:00:00",
          "2020-10-10T00:00:00",
          "2020-10-11T00:00:00",
          "2020-10-12T00:00:00",
          "2020-10-13T00:00:00",
          "2020-10-14T00:00:00",
          "2020-10-15T00:00:00",
          "2020-10-16T00:00:00",
          "2020-10-17T00:00:00",
          "2020-10-18T00:00:00",
          "2020-10-19T00:00:00",
          "2020-10-20T00:00:00",
          "2020-10-21T00:00:00",
          "2020-10-22T00:00:00",
          "2020-10-23T00:00:00",
          "2020-10-24T00:00:00",
          "2020-10-25T00:00:00",
          "2020-10-26T00:00:00",
          "2020-10-27T00:00:00",
          "2020-10-28T00:00:00",
          "2020-10-29T00:00:00",
          "2020-10-30T00:00:00",
          "2020-10-31T00:00:00",
          "2020-11-01T00:00:00",
          "2020-11-02T00:00:00",
          "2020-11-03T00:00:00",
          "2020-11-04T00:00:00",
          "2020-11-05T00:00:00",
          "2020-11-06T00:00:00",
          "2020-11-07T00:00:00",
          "2020-11-08T00:00:00",
          "2020-11-09T00:00:00",
          "2020-11-10T00:00:00",
          "2020-11-11T00:00:00",
          "2020-11-12T00:00:00",
          "2020-11-13T00:00:00",
          "2020-11-14T00:00:00",
          "2020-11-15T00:00:00",
          "2020-11-16T00:00:00",
          "2020-11-17T00:00:00",
          "2020-11-18T00:00:00",
          "2020-11-19T00:00:00",
          "2020-11-20T00:00:00",
          "2020-11-21T00:00:00",
          "2020-11-22T00:00:00",
          "2020-11-23T00:00:00",
          "2020-11-24T00:00:00",
          "2020-11-25T00:00:00",
          "2020-11-26T00:00:00",
          "2020-11-27T00:00:00",
          "2020-11-28T00:00:00",
          "2020-11-29T00:00:00",
          "2020-11-30T00:00:00",
          "2020-12-01T00:00:00",
          "2020-12-02T00:00:00",
          "2020-12-03T00:00:00",
          "2020-12-04T00:00:00",
          "2020-12-05T00:00:00",
          "2020-12-06T00:00:00",
          "2020-12-07T00:00:00",
          "2020-12-08T00:00:00",
          "2020-12-09T00:00:00",
          "2020-12-10T00:00:00",
          "2020-12-11T00:00:00",
          "2020-12-12T00:00:00",
          "2020-12-13T00:00:00",
          "2020-12-14T00:00:00",
          "2020-12-15T00:00:00",
          "2020-12-16T00:00:00",
          "2020-12-17T00:00:00",
          "2020-12-18T00:00:00",
          "2020-12-19T00:00:00",
          "2020-12-20T00:00:00",
          "2020-12-21T00:00:00",
          "2020-12-22T00:00:00",
          "2020-12-23T00:00:00",
          "2020-12-24T00:00:00",
          "2020-12-25T00:00:00",
          "2020-12-26T00:00:00",
          "2020-12-27T00:00:00",
          "2020-12-28T00:00:00",
          "2020-12-29T00:00:00",
          "2020-12-30T00:00:00",
          "2020-12-31T00:00:00",
          "2021-01-01T00:00:00",
          "2021-01-02T00:00:00",
          "2021-01-03T00:00:00",
          "2021-01-04T00:00:00",
          "2021-01-05T00:00:00",
          "2021-01-06T00:00:00",
          "2021-01-07T00:00:00",
          "2021-01-08T00:00:00",
          "2021-01-09T00:00:00",
          "2021-01-10T00:00:00",
          "2021-01-11T00:00:00",
          "2021-01-12T00:00:00",
          "2021-01-13T00:00:00",
          "2021-01-14T00:00:00",
          "2021-01-15T00:00:00",
          "2021-01-16T00:00:00",
          "2021-01-17T00:00:00",
          "2021-01-18T00:00:00",
          "2021-01-19T00:00:00",
          "2021-01-20T00:00:00",
          "2021-01-21T00:00:00",
          "2021-01-22T00:00:00",
          "2021-01-23T00:00:00",
          "2021-01-24T00:00:00",
          "2021-01-25T00:00:00",
          "2021-01-26T00:00:00",
          "2021-01-27T00:00:00",
          "2021-01-28T00:00:00",
          "2021-01-29T00:00:00",
          "2021-01-30T00:00:00",
          "2021-01-31T00:00:00",
          "2021-02-01T00:00:00",
          "2021-02-02T00:00:00",
          "2021-02-03T00:00:00",
          "2021-02-04T00:00:00",
          "2021-02-05T00:00:00",
          "2021-02-06T00:00:00",
          "2021-02-07T00:00:00",
          "2021-02-08T00:00:00",
          "2021-02-09T00:00:00",
          "2021-02-10T00:00:00",
          "2021-02-11T00:00:00",
          "2021-02-12T00:00:00",
          "2021-02-13T00:00:00",
          "2021-02-14T00:00:00",
          "2021-02-15T00:00:00",
          "2021-02-16T00:00:00",
          "2021-02-17T00:00:00",
          "2021-02-18T00:00:00",
          "2021-02-19T00:00:00",
          "2021-02-20T00:00:00",
          "2021-02-21T00:00:00",
          "2021-02-22T00:00:00",
          "2021-02-23T00:00:00",
          "2021-02-24T00:00:00",
          "2021-02-25T00:00:00",
          "2021-02-26T00:00:00",
          "2021-02-27T00:00:00",
          "2021-02-28T00:00:00",
          "2021-03-01T00:00:00",
          "2021-03-02T00:00:00",
          "2021-03-03T00:00:00",
          "2021-03-04T00:00:00",
          "2021-03-05T00:00:00",
          "2021-03-06T00:00:00",
          "2021-03-07T00:00:00",
          "2021-03-08T00:00:00",
          "2021-03-09T00:00:00",
          "2021-03-10T00:00:00",
          "2021-03-11T00:00:00",
          "2021-03-12T00:00:00",
          "2021-03-13T00:00:00",
          "2021-03-14T00:00:00",
          "2021-03-15T00:00:00",
          "2021-03-16T00:00:00",
          "2021-03-17T00:00:00",
          "2021-03-18T00:00:00",
          "2021-03-19T00:00:00",
          "2021-03-20T00:00:00",
          "2021-03-21T00:00:00",
          "2021-03-22T00:00:00",
          "2021-03-23T00:00:00",
          "2021-03-24T00:00:00",
          "2021-03-25T00:00:00",
          "2021-03-26T00:00:00",
          "2021-03-27T00:00:00",
          "2021-03-28T00:00:00",
          "2021-03-29T00:00:00",
          "2021-03-30T00:00:00",
          "2021-03-31T00:00:00",
          "2021-04-01T00:00:00",
          "2021-04-02T00:00:00",
          "2021-04-03T00:00:00",
          "2021-04-04T00:00:00",
          "2021-04-05T00:00:00",
          "2021-04-06T00:00:00",
          "2021-04-07T00:00:00",
          "2021-04-08T00:00:00",
          "2021-04-09T00:00:00",
          "2021-04-10T00:00:00",
          "2021-04-11T00:00:00",
          "2021-04-12T00:00:00",
          "2021-04-13T00:00:00",
          "2021-04-14T00:00:00",
          "2021-04-15T00:00:00",
          "2021-04-16T00:00:00",
          "2021-04-17T00:00:00",
          "2021-04-18T00:00:00",
          "2021-04-19T00:00:00",
          "2021-04-20T00:00:00",
          "2021-04-21T00:00:00",
          "2021-04-22T00:00:00",
          "2021-04-23T00:00:00",
          "2021-04-24T00:00:00",
          "2021-04-25T00:00:00",
          "2021-04-26T00:00:00",
          "2021-04-27T00:00:00",
          "2021-04-28T00:00:00",
          "2021-04-29T00:00:00",
          "2021-04-30T00:00:00",
          "2021-05-01T00:00:00",
          "2021-05-02T00:00:00",
          "2021-05-03T00:00:00",
          "2021-05-04T00:00:00",
          "2021-05-05T00:00:00",
          "2021-05-06T00:00:00",
          "2021-05-07T00:00:00",
          "2021-05-08T00:00:00",
          "2021-05-09T00:00:00",
          "2021-05-10T00:00:00",
          "2021-05-11T00:00:00",
          "2021-05-12T00:00:00",
          "2021-05-13T00:00:00",
          "2021-05-14T00:00:00",
          "2021-05-15T00:00:00",
          "2021-05-16T00:00:00",
          "2021-05-17T00:00:00",
          "2021-05-18T00:00:00",
          "2021-05-19T00:00:00",
          "2021-05-20T00:00:00",
          "2021-05-21T00:00:00",
          "2021-05-22T00:00:00",
          "2021-05-23T00:00:00",
          "2021-05-24T00:00:00",
          "2021-05-25T00:00:00",
          "2021-05-26T00:00:00",
          "2021-05-27T00:00:00",
          "2021-05-28T00:00:00",
          "2021-05-29T00:00:00",
          "2021-05-30T00:00:00",
          "2021-05-31T00:00:00",
          "2021-06-01T00:00:00",
          "2021-06-02T00:00:00",
          "2021-06-03T00:00:00",
          "2021-06-04T00:00:00",
          "2021-06-05T00:00:00",
          "2021-06-06T00:00:00",
          "2021-06-07T00:00:00",
          "2021-06-08T00:00:00",
          "2021-06-09T00:00:00",
          "2021-06-10T00:00:00",
          "2021-06-11T00:00:00",
          "2021-06-12T00:00:00",
          "2021-06-13T00:00:00",
          "2021-06-14T00:00:00",
          "2021-06-15T00:00:00",
          "2021-06-16T00:00:00",
          "2021-06-17T00:00:00",
          "2021-06-18T00:00:00",
          "2021-06-19T00:00:00",
          "2021-06-20T00:00:00",
          "2021-06-21T00:00:00",
          "2021-06-22T00:00:00",
          "2021-06-23T00:00:00",
          "2021-06-24T00:00:00",
          "2021-06-25T00:00:00",
          "2021-06-26T00:00:00",
          "2021-06-27T00:00:00",
          "2021-06-28T00:00:00",
          "2021-06-29T00:00:00",
          "2021-06-30T00:00:00",
          "2021-07-01T00:00:00",
          "2021-07-02T00:00:00",
          "2021-07-03T00:00:00",
          "2021-07-04T00:00:00",
          "2021-07-05T00:00:00",
          "2021-07-06T00:00:00",
          "2021-07-07T00:00:00",
          "2021-07-08T00:00:00",
          "2021-07-09T00:00:00",
          "2021-07-10T00:00:00",
          "2021-07-11T00:00:00",
          "2021-07-12T00:00:00",
          "2021-07-13T00:00:00",
          "2021-07-14T00:00:00",
          "2021-07-15T00:00:00",
          "2021-07-16T00:00:00",
          "2021-07-17T00:00:00",
          "2021-07-18T00:00:00",
          "2021-07-19T00:00:00",
          "2021-07-20T00:00:00",
          "2021-07-21T00:00:00",
          "2021-07-22T00:00:00",
          "2021-07-23T00:00:00",
          "2021-07-24T00:00:00",
          "2021-07-25T00:00:00",
          "2021-07-26T00:00:00",
          "2021-07-27T00:00:00",
          "2021-07-28T00:00:00",
          "2021-07-29T00:00:00",
          "2021-07-30T00:00:00",
          "2021-07-31T00:00:00",
          "2021-08-01T00:00:00",
          "2021-08-02T00:00:00",
          "2021-08-03T00:00:00",
          "2021-08-04T00:00:00",
          "2021-08-05T00:00:00",
          "2021-08-06T00:00:00",
          "2021-08-07T00:00:00",
          "2021-08-08T00:00:00",
          "2021-08-09T00:00:00",
          "2021-08-10T00:00:00",
          "2021-08-11T00:00:00",
          "2021-08-12T00:00:00",
          "2021-08-13T00:00:00",
          "2021-08-14T00:00:00",
          "2021-08-15T00:00:00",
          "2021-08-16T00:00:00",
          "2021-08-17T00:00:00",
          "2021-08-18T00:00:00",
          "2021-08-19T00:00:00",
          "2021-08-20T00:00:00",
          "2021-08-21T00:00:00",
          "2021-08-22T00:00:00",
          "2021-08-23T00:00:00",
          "2021-08-24T00:00:00",
          "2021-08-25T00:00:00",
          "2021-08-26T00:00:00",
          "2021-08-27T00:00:00",
          "2021-08-28T00:00:00",
          "2021-08-29T00:00:00",
          "2021-08-30T00:00:00",
          "2021-08-31T00:00:00",
          "2021-09-01T00:00:00",
          "2021-09-02T00:00:00",
          "2021-09-03T00:00:00",
          "2021-09-04T00:00:00",
          "2021-09-05T00:00:00",
          "2021-09-06T00:00:00",
          "2021-09-07T00:00:00",
          "2021-09-08T00:00:00",
          "2021-09-09T00:00:00",
          "2021-09-10T00:00:00",
          "2021-09-11T00:00:00",
          "2021-09-12T00:00:00",
          "2021-09-13T00:00:00",
          "2021-09-14T00:00:00",
          "2021-09-15T00:00:00",
          "2021-09-16T00:00:00",
          "2021-09-17T00:00:00",
          "2021-09-18T00:00:00",
          "2021-09-19T00:00:00",
          "2021-09-20T00:00:00",
          "2021-09-21T00:00:00",
          "2021-09-22T00:00:00",
          "2021-09-23T00:00:00",
          "2021-09-24T00:00:00",
          "2021-09-25T00:00:00",
          "2021-09-26T00:00:00",
          "2021-09-27T00:00:00",
          "2021-09-28T00:00:00",
          "2021-09-29T00:00:00",
          "2021-09-30T00:00:00",
          "2021-10-01T00:00:00",
          "2021-10-02T00:00:00",
          "2021-10-03T00:00:00",
          "2021-10-04T00:00:00",
          "2021-10-05T00:00:00",
          "2021-10-06T00:00:00",
          "2021-10-07T00:00:00",
          "2021-10-08T00:00:00",
          "2021-10-09T00:00:00",
          "2021-10-10T00:00:00",
          "2021-10-11T00:00:00",
          "2021-10-12T00:00:00",
          "2021-10-13T00:00:00",
          "2021-10-14T00:00:00",
          "2021-10-15T00:00:00",
          "2021-10-16T00:00:00",
          "2021-10-17T00:00:00",
          "2021-10-18T00:00:00",
          "2021-10-19T00:00:00",
          "2021-10-20T00:00:00",
          "2021-10-21T00:00:00",
          "2021-10-22T00:00:00",
          "2021-10-23T00:00:00",
          "2021-10-24T00:00:00",
          "2021-10-25T00:00:00",
          "2021-10-26T00:00:00",
          "2021-10-27T00:00:00",
          "2021-10-28T00:00:00",
          "2021-10-29T00:00:00",
          "2021-10-30T00:00:00",
          "2021-10-31T00:00:00",
          "2021-11-01T00:00:00",
          "2021-11-02T00:00:00",
          "2021-11-03T00:00:00",
          "2021-11-04T00:00:00",
          "2021-11-05T00:00:00",
          "2021-11-06T00:00:00",
          "2021-11-07T00:00:00",
          "2021-11-08T00:00:00",
          "2021-11-09T00:00:00",
          "2021-11-10T00:00:00",
          "2021-11-11T00:00:00",
          "2021-11-12T00:00:00",
          "2021-11-13T00:00:00",
          "2021-11-14T00:00:00",
          "2021-11-15T00:00:00",
          "2021-11-16T00:00:00",
          "2021-11-17T00:00:00",
          "2021-11-18T00:00:00",
          "2021-11-19T00:00:00",
          "2021-11-20T00:00:00",
          "2021-11-21T00:00:00",
          "2021-11-22T00:00:00",
          "2021-11-23T00:00:00",
          "2021-11-24T00:00:00",
          "2021-11-25T00:00:00",
          "2021-11-26T00:00:00",
          "2021-11-27T00:00:00",
          "2021-11-28T00:00:00",
          "2021-11-29T00:00:00",
          "2021-11-30T00:00:00",
          "2021-12-01T00:00:00",
          "2021-12-02T00:00:00",
          "2021-12-03T00:00:00"
         ],
         "y": [
          3503,
          5357,
          5357,
          5357,
          5357,
          5357,
          5357,
          5357,
          5357,
          5357,
          5357,
          5357,
          5357,
          5357,
          5357,
          5357,
          5357,
          5357,
          5357,
          5357,
          5357,
          5357,
          5357,
          5357,
          5357,
          5357,
          6820.53,
          6820.53,
          6820.53,
          6820.53,
          6820.53,
          6820.53,
          6820.53,
          7525.41,
          7525.41,
          7525.41,
          7525.41,
          7525.41,
          7525.41,
          7525.41,
          7525.41,
          7525.41,
          7525.41,
          7525.41,
          7525.41,
          7525.41,
          7525.41,
          7525.41,
          7525.41,
          7525.41,
          7525.41,
          7525.41,
          7525.41,
          7525.41,
          7525.41,
          7525.41,
          7525.41,
          7525.41,
          7525.41,
          7525.41,
          7525.41,
          7525.41,
          7525.41,
          7525.41,
          7525.41,
          8095.54,
          8095.54,
          8095.54,
          8095.54,
          8095.54,
          8095.54,
          8095.54,
          8751.82,
          8751.82,
          8751.82,
          8751.82,
          8751.82,
          8751.82,
          10402.1,
          10402.1,
          10402.1,
          10402.1,
          11492.42,
          11492.42,
          11492.42,
          11492.42,
          11492.42,
          11492.42,
          11492.42,
          11492.42,
          11492.42,
          11492.42,
          11492.42,
          11492.42,
          11492.42,
          11492.42,
          11492.42,
          16496.32,
          16496.32,
          16496.32,
          14979.89,
          14979.89,
          14979.89,
          14979.89,
          14979.89,
          16388.73,
          16388.73,
          19022.079999999998,
          19022.079999999998,
          19022.079999999998,
          19022.079999999998,
          20059.96,
          20059.96,
          20941.84,
          20941.84,
          20941.84,
          20941.84,
          20941.84,
          23635.79,
          23635.79,
          23635.79,
          23635.79,
          23635.79,
          23635.79,
          23635.79,
          23635.79,
          23635.79,
          23635.79,
          24601.79,
          24601.79,
          24601.79,
          24601.79,
          24601.79,
          24601.79,
          24601.79,
          28899.550000000003,
          28899.550000000003,
          28899.550000000003,
          28899.550000000003,
          29632.550000000003,
          32020.700000000004,
          32020.700000000004,
          32513.940000000006,
          32513.940000000006,
          32513.940000000006,
          33147.18000000001,
          33147.18000000001,
          34744.33000000001,
          34744.33000000001,
          36400.16000000001,
          36400.16000000001,
          36400.16000000001,
          38785.20000000001,
          38785.20000000001,
          39637.56000000001,
          39637.56000000001,
          42532.42000000001,
          42532.42000000001,
          42532.42000000001,
          42532.42000000001,
          42606.62000000001,
          42606.62000000001,
          42606.62000000001,
          42606.62000000001,
          42606.62000000001,
          42606.62000000001,
          42606.62000000001,
          42606.62000000001,
          42606.62000000001,
          42606.62000000001,
          42546.70000000001,
          42546.70000000001,
          42546.70000000001,
          42546.70000000001,
          42546.70000000001,
          42546.70000000001,
          42546.70000000001,
          42546.70000000001,
          42546.70000000001,
          42546.70000000001,
          42546.70000000001,
          42546.70000000001,
          42546.70000000001,
          42546.70000000001,
          42546.70000000001,
          42546.70000000001,
          42546.70000000001,
          42546.70000000001,
          42546.70000000001,
          42546.70000000001,
          42546.70000000001,
          42546.70000000001,
          42546.70000000001,
          42546.70000000001,
          42546.70000000001,
          42546.70000000001,
          42546.70000000001,
          42546.70000000001,
          41339.38000000001,
          41339.38000000001,
          41339.38000000001,
          41339.38000000001,
          41339.38000000001,
          41339.38000000001,
          42249.70000000001,
          42249.70000000001,
          42249.70000000001,
          42249.70000000001,
          42249.70000000001,
          43769.74000000001,
          43769.74000000001,
          43769.74000000001,
          43769.74000000001,
          43769.74000000001,
          43769.74000000001,
          43769.74000000001,
          43769.74000000001,
          43769.74000000001,
          43769.74000000001,
          43769.74000000001,
          43769.74000000001,
          43769.74000000001,
          43769.74000000001,
          43769.74000000001,
          45500.960000000014,
          45500.960000000014,
          45500.960000000014,
          45500.960000000014,
          45500.960000000014,
          46248.460000000014,
          46248.460000000014,
          46248.460000000014,
          47953.860000000015,
          47953.860000000015,
          47953.860000000015,
          47953.860000000015,
          47953.860000000015,
          47953.860000000015,
          49101.63000000001,
          52043.19000000001,
          54435.66000000001,
          54435.66000000001,
          54435.66000000001,
          54435.66000000001,
          54435.66000000001,
          54435.66000000001,
          54435.66000000001,
          54435.66000000001,
          54435.66000000001,
          54435.66000000001,
          54435.66000000001,
          54435.66000000001,
          54435.66000000001,
          54435.66000000001,
          54435.66000000001,
          54435.66000000001,
          54435.66000000001,
          54435.66000000001,
          54435.66000000001,
          54435.66000000001,
          54435.66000000001,
          54435.66000000001,
          54435.66000000001,
          54435.66000000001,
          54435.66000000001,
          54435.66000000001,
          54435.66000000001,
          54435.66000000001,
          54435.66000000001,
          54435.66000000001,
          54435.66000000001,
          54435.66000000001,
          54435.66000000001,
          54435.66000000001,
          54435.66000000001,
          54435.66000000001,
          54435.66000000001,
          54435.66000000001,
          52137.06000000001,
          53699.220000000016,
          53699.220000000016,
          53699.220000000016,
          53699.220000000016,
          53699.220000000016,
          53699.220000000016,
          53699.220000000016,
          53699.220000000016,
          53699.220000000016,
          53699.220000000016,
          53699.220000000016,
          53699.220000000016,
          53699.220000000016,
          53699.220000000016,
          53699.220000000016,
          53699.220000000016,
          53699.220000000016,
          53699.220000000016,
          53699.220000000016,
          53699.220000000016,
          53699.220000000016,
          53699.220000000016,
          55451.48000000002,
          55451.48000000002,
          55451.48000000002,
          55451.48000000002,
          55451.48000000002,
          55451.48000000002,
          55451.48000000002,
          55451.48000000002,
          55451.48000000002,
          54561.28000000002,
          54561.28000000002,
          54561.28000000002,
          54561.28000000002,
          55149.52000000002,
          55149.52000000002,
          55149.52000000002,
          55149.52000000002,
          55149.52000000002,
          55149.52000000002,
          55149.52000000002,
          55149.52000000002,
          55149.52000000002,
          55149.52000000002,
          55149.52000000002,
          55149.52000000002,
          55149.52000000002,
          55149.52000000002,
          55149.52000000002,
          55149.52000000002,
          55149.52000000002,
          55149.52000000002,
          55149.52000000002,
          55149.52000000002,
          55149.52000000002,
          56854.98000000002,
          56854.98000000002,
          56854.98000000002,
          56854.98000000002,
          56854.98000000002,
          56854.98000000002,
          56854.98000000002,
          56854.98000000002,
          56854.98000000002,
          56854.98000000002,
          56854.98000000002,
          56854.98000000002,
          56854.98000000002,
          56854.98000000002,
          56854.98000000002,
          56854.98000000002,
          56854.98000000002,
          56854.98000000002,
          56854.98000000002,
          56854.98000000002,
          56854.98000000002,
          56854.98000000002,
          57582.720000000016,
          57582.720000000016,
          57582.720000000016,
          57582.720000000016,
          57582.720000000016,
          57582.720000000016,
          57582.720000000016,
          57582.720000000016,
          57582.720000000016,
          57582.720000000016,
          57582.720000000016,
          57582.720000000016,
          57582.720000000016,
          57582.720000000016,
          57582.720000000016,
          57582.720000000016,
          57582.720000000016,
          57582.720000000016,
          57582.720000000016,
          57582.720000000016,
          57582.720000000016,
          57582.720000000016,
          57582.720000000016,
          57582.720000000016,
          57582.720000000016,
          57582.720000000016,
          57582.720000000016,
          57582.720000000016,
          57582.720000000016,
          57582.720000000016,
          57582.720000000016,
          57582.720000000016,
          57582.720000000016,
          57582.720000000016,
          57582.720000000016,
          57582.720000000016,
          57582.720000000016,
          57582.720000000016,
          57582.720000000016,
          57582.720000000016,
          57582.720000000016,
          57582.720000000016,
          57582.720000000016,
          57582.720000000016,
          57582.720000000016,
          57582.720000000016,
          57582.720000000016,
          57582.720000000016,
          57582.720000000016,
          55685.62000000002,
          55000.720000000016,
          54011.84000000002,
          54011.84000000002,
          54011.84000000002,
          54011.84000000002,
          53971.20000000002,
          53971.20000000002,
          53971.20000000002,
          53971.20000000002,
          53971.20000000002,
          53971.20000000002,
          53971.20000000002,
          53971.20000000002,
          53971.20000000002,
          54208.80000000002,
          53465.80000000002,
          53465.80000000002,
          53465.80000000002,
          53465.80000000002,
          53465.80000000002,
          53465.80000000002,
          53465.80000000002,
          53465.80000000002,
          53465.80000000002,
          53465.80000000002,
          53465.80000000002,
          53465.80000000002,
          53465.80000000002,
          53465.80000000002,
          53465.80000000002,
          53465.80000000002,
          53465.80000000002,
          53465.80000000002,
          53465.80000000002,
          53465.80000000002,
          53465.80000000002,
          53465.80000000002,
          53465.80000000002,
          53465.80000000002,
          53465.80000000002,
          53465.80000000002,
          53465.80000000002,
          53465.80000000002,
          53465.80000000002,
          53465.80000000002,
          53465.80000000002,
          53465.80000000002,
          53465.80000000002,
          53465.80000000002,
          53465.80000000002,
          53465.80000000002,
          53465.80000000002,
          53465.80000000002,
          53465.80000000002,
          53465.80000000002,
          53465.80000000002,
          53465.80000000002,
          53465.80000000002,
          53465.80000000002,
          53465.80000000002,
          53465.80000000002,
          53465.80000000002,
          53465.80000000002,
          53465.80000000002,
          53465.80000000002,
          53465.80000000002,
          53465.80000000002,
          53465.80000000002,
          53465.80000000002,
          53465.80000000002,
          53465.80000000002,
          53465.80000000002,
          53465.80000000002,
          53465.80000000002,
          53465.80000000002,
          53465.80000000002,
          53465.80000000002,
          52266.250000000015,
          52266.250000000015,
          52266.250000000015,
          52266.250000000015,
          52266.250000000015,
          52266.250000000015,
          52266.250000000015,
          52266.250000000015,
          52266.250000000015,
          52266.250000000015,
          52266.250000000015,
          53721.250000000015,
          53721.250000000015,
          53721.250000000015,
          53721.250000000015,
          53721.250000000015,
          53721.250000000015,
          53721.250000000015,
          53721.250000000015,
          53721.250000000015,
          53721.250000000015,
          53721.250000000015,
          53721.250000000015,
          53721.250000000015,
          53721.250000000015,
          53721.250000000015,
          53721.250000000015,
          53721.250000000015,
          53721.250000000015,
          53721.250000000015,
          53721.250000000015,
          53721.250000000015,
          53721.250000000015,
          53721.250000000015,
          53721.250000000015,
          53721.250000000015,
          53721.250000000015,
          53721.250000000015,
          53721.250000000015,
          53721.250000000015,
          53721.250000000015,
          53721.250000000015,
          53721.250000000015,
          53721.250000000015,
          53721.250000000015,
          53721.250000000015,
          53721.250000000015,
          53721.250000000015,
          53721.250000000015,
          53721.250000000015,
          53721.250000000015,
          53721.250000000015,
          53721.250000000015,
          53721.250000000015,
          53721.250000000015,
          53721.250000000015,
          53721.250000000015,
          53721.250000000015,
          53721.250000000015,
          53721.250000000015,
          53721.250000000015,
          53721.250000000015,
          53721.250000000015,
          53721.250000000015,
          53721.250000000015,
          53721.250000000015,
          53721.250000000015,
          53721.250000000015,
          53721.250000000015,
          53721.250000000015,
          53721.250000000015,
          53721.250000000015,
          53721.250000000015,
          53721.250000000015,
          53721.250000000015,
          53721.250000000015,
          53721.250000000015,
          53721.250000000015,
          53721.250000000015,
          53721.250000000015,
          53721.250000000015,
          53721.250000000015,
          53721.250000000015,
          53721.250000000015,
          53721.250000000015,
          54728.860000000015,
          54728.860000000015,
          54728.860000000015,
          54728.860000000015,
          54728.860000000015,
          55535.110000000015,
          55535.110000000015,
          55535.110000000015,
          55535.110000000015,
          55535.110000000015,
          55535.110000000015,
          55535.110000000015,
          55535.110000000015,
          55535.110000000015,
          55535.110000000015,
          55535.110000000015,
          55535.110000000015,
          55535.110000000015,
          55535.110000000015,
          55535.110000000015,
          55535.110000000015,
          55535.110000000015,
          55535.110000000015,
          55535.110000000015,
          55535.110000000015,
          55535.110000000015,
          55535.110000000015,
          55535.110000000015,
          55535.110000000015,
          55535.110000000015,
          55535.110000000015,
          55535.110000000015,
          55535.110000000015,
          55535.110000000015,
          55535.110000000015,
          55535.110000000015,
          55535.110000000015,
          55535.110000000015,
          55535.110000000015,
          55535.110000000015,
          55535.110000000015,
          55535.110000000015,
          55535.110000000015,
          55535.110000000015,
          55535.110000000015,
          55535.110000000015,
          55535.110000000015,
          55535.110000000015,
          55535.110000000015,
          55535.110000000015,
          55535.110000000015,
          55535.110000000015,
          55535.110000000015,
          55535.110000000015,
          55535.110000000015,
          55535.110000000015,
          55535.110000000015,
          55535.110000000015,
          55535.110000000015,
          55535.110000000015,
          55535.110000000015,
          55535.110000000015,
          55535.110000000015,
          55535.110000000015,
          55535.110000000015,
          55535.110000000015,
          55535.110000000015,
          56463.91000000002,
          56463.91000000002,
          56463.91000000002,
          56463.91000000002,
          56463.91000000002,
          56463.91000000002,
          56463.91000000002,
          56463.91000000002,
          57239.71000000002,
          57239.71000000002,
          57239.71000000002,
          57239.71000000002,
          57239.71000000002,
          57239.71000000002,
          57239.71000000002,
          57239.71000000002,
          57239.71000000002,
          57239.71000000002,
          57239.71000000002,
          57239.71000000002,
          57757.96000000002,
          54679.96000000002,
          54679.96000000002,
          54679.96000000002,
          54679.96000000002,
          54679.96000000002,
          54679.96000000002,
          54679.96000000002,
          54679.96000000002,
          54679.96000000002,
          54679.96000000002,
          54679.96000000002,
          54679.96000000002,
          54679.96000000002,
          54679.96000000002,
          52827.31000000002,
          52827.31000000002,
          52827.31000000002,
          52827.31000000002,
          52827.31000000002,
          52827.31000000002,
          52827.31000000002,
          52827.31000000002,
          52827.31000000002,
          52827.31000000002,
          52827.31000000002,
          52827.31000000002,
          52827.31000000002,
          52827.31000000002,
          52827.31000000002,
          52827.31000000002,
          52827.31000000002,
          52827.31000000002,
          52827.31000000002,
          52827.31000000002,
          52827.31000000002,
          52827.31000000002,
          52827.31000000002,
          52827.31000000002,
          52827.31000000002
         ]
        }
       ],
       "layout": {
        "height": 500,
        "hovermode": "x unified",
        "legend": {
         "x": 0.01,
         "xanchor": "left",
         "y": 0.99,
         "yanchor": "top"
        },
        "margin": {
         "b": 50,
         "l": 25,
         "r": 25,
         "t": 50
        },
        "paper_bgcolor": "#272b30",
        "plot_bgcolor": "#272b30",
        "showlegend": false,
        "template": {
         "data": {
          "bar": [
           {
            "error_x": {
             "color": "#f2f5fa"
            },
            "error_y": {
             "color": "#f2f5fa"
            },
            "marker": {
             "line": {
              "color": "rgb(17,17,17)",
              "width": 0.5
             },
             "pattern": {
              "fillmode": "overlay",
              "size": 10,
              "solidity": 0.2
             }
            },
            "type": "bar"
           }
          ],
          "barpolar": [
           {
            "marker": {
             "line": {
              "color": "rgb(17,17,17)",
              "width": 0.5
             },
             "pattern": {
              "fillmode": "overlay",
              "size": 10,
              "solidity": 0.2
             }
            },
            "type": "barpolar"
           }
          ],
          "carpet": [
           {
            "aaxis": {
             "endlinecolor": "#A2B1C6",
             "gridcolor": "#506784",
             "linecolor": "#506784",
             "minorgridcolor": "#506784",
             "startlinecolor": "#A2B1C6"
            },
            "baxis": {
             "endlinecolor": "#A2B1C6",
             "gridcolor": "#506784",
             "linecolor": "#506784",
             "minorgridcolor": "#506784",
             "startlinecolor": "#A2B1C6"
            },
            "type": "carpet"
           }
          ],
          "choropleth": [
           {
            "colorbar": {
             "outlinewidth": 0,
             "ticks": ""
            },
            "type": "choropleth"
           }
          ],
          "contour": [
           {
            "colorbar": {
             "outlinewidth": 0,
             "ticks": ""
            },
            "colorscale": [
             [
              0,
              "#0d0887"
             ],
             [
              0.1111111111111111,
              "#46039f"
             ],
             [
              0.2222222222222222,
              "#7201a8"
             ],
             [
              0.3333333333333333,
              "#9c179e"
             ],
             [
              0.4444444444444444,
              "#bd3786"
             ],
             [
              0.5555555555555556,
              "#d8576b"
             ],
             [
              0.6666666666666666,
              "#ed7953"
             ],
             [
              0.7777777777777778,
              "#fb9f3a"
             ],
             [
              0.8888888888888888,
              "#fdca26"
             ],
             [
              1,
              "#f0f921"
             ]
            ],
            "type": "contour"
           }
          ],
          "contourcarpet": [
           {
            "colorbar": {
             "outlinewidth": 0,
             "ticks": ""
            },
            "type": "contourcarpet"
           }
          ],
          "heatmap": [
           {
            "colorbar": {
             "outlinewidth": 0,
             "ticks": ""
            },
            "colorscale": [
             [
              0,
              "#0d0887"
             ],
             [
              0.1111111111111111,
              "#46039f"
             ],
             [
              0.2222222222222222,
              "#7201a8"
             ],
             [
              0.3333333333333333,
              "#9c179e"
             ],
             [
              0.4444444444444444,
              "#bd3786"
             ],
             [
              0.5555555555555556,
              "#d8576b"
             ],
             [
              0.6666666666666666,
              "#ed7953"
             ],
             [
              0.7777777777777778,
              "#fb9f3a"
             ],
             [
              0.8888888888888888,
              "#fdca26"
             ],
             [
              1,
              "#f0f921"
             ]
            ],
            "type": "heatmap"
           }
          ],
          "heatmapgl": [
           {
            "colorbar": {
             "outlinewidth": 0,
             "ticks": ""
            },
            "colorscale": [
             [
              0,
              "#0d0887"
             ],
             [
              0.1111111111111111,
              "#46039f"
             ],
             [
              0.2222222222222222,
              "#7201a8"
             ],
             [
              0.3333333333333333,
              "#9c179e"
             ],
             [
              0.4444444444444444,
              "#bd3786"
             ],
             [
              0.5555555555555556,
              "#d8576b"
             ],
             [
              0.6666666666666666,
              "#ed7953"
             ],
             [
              0.7777777777777778,
              "#fb9f3a"
             ],
             [
              0.8888888888888888,
              "#fdca26"
             ],
             [
              1,
              "#f0f921"
             ]
            ],
            "type": "heatmapgl"
           }
          ],
          "histogram": [
           {
            "marker": {
             "pattern": {
              "fillmode": "overlay",
              "size": 10,
              "solidity": 0.2
             }
            },
            "type": "histogram"
           }
          ],
          "histogram2d": [
           {
            "colorbar": {
             "outlinewidth": 0,
             "ticks": ""
            },
            "colorscale": [
             [
              0,
              "#0d0887"
             ],
             [
              0.1111111111111111,
              "#46039f"
             ],
             [
              0.2222222222222222,
              "#7201a8"
             ],
             [
              0.3333333333333333,
              "#9c179e"
             ],
             [
              0.4444444444444444,
              "#bd3786"
             ],
             [
              0.5555555555555556,
              "#d8576b"
             ],
             [
              0.6666666666666666,
              "#ed7953"
             ],
             [
              0.7777777777777778,
              "#fb9f3a"
             ],
             [
              0.8888888888888888,
              "#fdca26"
             ],
             [
              1,
              "#f0f921"
             ]
            ],
            "type": "histogram2d"
           }
          ],
          "histogram2dcontour": [
           {
            "colorbar": {
             "outlinewidth": 0,
             "ticks": ""
            },
            "colorscale": [
             [
              0,
              "#0d0887"
             ],
             [
              0.1111111111111111,
              "#46039f"
             ],
             [
              0.2222222222222222,
              "#7201a8"
             ],
             [
              0.3333333333333333,
              "#9c179e"
             ],
             [
              0.4444444444444444,
              "#bd3786"
             ],
             [
              0.5555555555555556,
              "#d8576b"
             ],
             [
              0.6666666666666666,
              "#ed7953"
             ],
             [
              0.7777777777777778,
              "#fb9f3a"
             ],
             [
              0.8888888888888888,
              "#fdca26"
             ],
             [
              1,
              "#f0f921"
             ]
            ],
            "type": "histogram2dcontour"
           }
          ],
          "mesh3d": [
           {
            "colorbar": {
             "outlinewidth": 0,
             "ticks": ""
            },
            "type": "mesh3d"
           }
          ],
          "parcoords": [
           {
            "line": {
             "colorbar": {
              "outlinewidth": 0,
              "ticks": ""
             }
            },
            "type": "parcoords"
           }
          ],
          "pie": [
           {
            "automargin": true,
            "type": "pie"
           }
          ],
          "scatter": [
           {
            "marker": {
             "line": {
              "color": "#283442"
             }
            },
            "type": "scatter"
           }
          ],
          "scatter3d": [
           {
            "line": {
             "colorbar": {
              "outlinewidth": 0,
              "ticks": ""
             }
            },
            "marker": {
             "colorbar": {
              "outlinewidth": 0,
              "ticks": ""
             }
            },
            "type": "scatter3d"
           }
          ],
          "scattercarpet": [
           {
            "marker": {
             "colorbar": {
              "outlinewidth": 0,
              "ticks": ""
             }
            },
            "type": "scattercarpet"
           }
          ],
          "scattergeo": [
           {
            "marker": {
             "colorbar": {
              "outlinewidth": 0,
              "ticks": ""
             }
            },
            "type": "scattergeo"
           }
          ],
          "scattergl": [
           {
            "marker": {
             "line": {
              "color": "#283442"
             }
            },
            "type": "scattergl"
           }
          ],
          "scattermapbox": [
           {
            "marker": {
             "colorbar": {
              "outlinewidth": 0,
              "ticks": ""
             }
            },
            "type": "scattermapbox"
           }
          ],
          "scatterpolar": [
           {
            "marker": {
             "colorbar": {
              "outlinewidth": 0,
              "ticks": ""
             }
            },
            "type": "scatterpolar"
           }
          ],
          "scatterpolargl": [
           {
            "marker": {
             "colorbar": {
              "outlinewidth": 0,
              "ticks": ""
             }
            },
            "type": "scatterpolargl"
           }
          ],
          "scatterternary": [
           {
            "marker": {
             "colorbar": {
              "outlinewidth": 0,
              "ticks": ""
             }
            },
            "type": "scatterternary"
           }
          ],
          "surface": [
           {
            "colorbar": {
             "outlinewidth": 0,
             "ticks": ""
            },
            "colorscale": [
             [
              0,
              "#0d0887"
             ],
             [
              0.1111111111111111,
              "#46039f"
             ],
             [
              0.2222222222222222,
              "#7201a8"
             ],
             [
              0.3333333333333333,
              "#9c179e"
             ],
             [
              0.4444444444444444,
              "#bd3786"
             ],
             [
              0.5555555555555556,
              "#d8576b"
             ],
             [
              0.6666666666666666,
              "#ed7953"
             ],
             [
              0.7777777777777778,
              "#fb9f3a"
             ],
             [
              0.8888888888888888,
              "#fdca26"
             ],
             [
              1,
              "#f0f921"
             ]
            ],
            "type": "surface"
           }
          ],
          "table": [
           {
            "cells": {
             "fill": {
              "color": "#506784"
             },
             "line": {
              "color": "rgb(17,17,17)"
             }
            },
            "header": {
             "fill": {
              "color": "#2a3f5f"
             },
             "line": {
              "color": "rgb(17,17,17)"
             }
            },
            "type": "table"
           }
          ]
         },
         "layout": {
          "annotationdefaults": {
           "arrowcolor": "#f2f5fa",
           "arrowhead": 0,
           "arrowwidth": 1
          },
          "autotypenumbers": "strict",
          "coloraxis": {
           "colorbar": {
            "outlinewidth": 0,
            "ticks": ""
           }
          },
          "colorscale": {
           "diverging": [
            [
             0,
             "#8e0152"
            ],
            [
             0.1,
             "#c51b7d"
            ],
            [
             0.2,
             "#de77ae"
            ],
            [
             0.3,
             "#f1b6da"
            ],
            [
             0.4,
             "#fde0ef"
            ],
            [
             0.5,
             "#f7f7f7"
            ],
            [
             0.6,
             "#e6f5d0"
            ],
            [
             0.7,
             "#b8e186"
            ],
            [
             0.8,
             "#7fbc41"
            ],
            [
             0.9,
             "#4d9221"
            ],
            [
             1,
             "#276419"
            ]
           ],
           "sequential": [
            [
             0,
             "#0d0887"
            ],
            [
             0.1111111111111111,
             "#46039f"
            ],
            [
             0.2222222222222222,
             "#7201a8"
            ],
            [
             0.3333333333333333,
             "#9c179e"
            ],
            [
             0.4444444444444444,
             "#bd3786"
            ],
            [
             0.5555555555555556,
             "#d8576b"
            ],
            [
             0.6666666666666666,
             "#ed7953"
            ],
            [
             0.7777777777777778,
             "#fb9f3a"
            ],
            [
             0.8888888888888888,
             "#fdca26"
            ],
            [
             1,
             "#f0f921"
            ]
           ],
           "sequentialminus": [
            [
             0,
             "#0d0887"
            ],
            [
             0.1111111111111111,
             "#46039f"
            ],
            [
             0.2222222222222222,
             "#7201a8"
            ],
            [
             0.3333333333333333,
             "#9c179e"
            ],
            [
             0.4444444444444444,
             "#bd3786"
            ],
            [
             0.5555555555555556,
             "#d8576b"
            ],
            [
             0.6666666666666666,
             "#ed7953"
            ],
            [
             0.7777777777777778,
             "#fb9f3a"
            ],
            [
             0.8888888888888888,
             "#fdca26"
            ],
            [
             1,
             "#f0f921"
            ]
           ]
          },
          "colorway": [
           "#636efa",
           "#EF553B",
           "#00cc96",
           "#ab63fa",
           "#FFA15A",
           "#19d3f3",
           "#FF6692",
           "#B6E880",
           "#FF97FF",
           "#FECB52"
          ],
          "font": {
           "color": "#f2f5fa"
          },
          "geo": {
           "bgcolor": "rgb(17,17,17)",
           "lakecolor": "rgb(17,17,17)",
           "landcolor": "rgb(17,17,17)",
           "showlakes": true,
           "showland": true,
           "subunitcolor": "#506784"
          },
          "hoverlabel": {
           "align": "left"
          },
          "hovermode": "closest",
          "mapbox": {
           "style": "dark"
          },
          "paper_bgcolor": "rgb(17,17,17)",
          "plot_bgcolor": "rgb(17,17,17)",
          "polar": {
           "angularaxis": {
            "gridcolor": "#506784",
            "linecolor": "#506784",
            "ticks": ""
           },
           "bgcolor": "rgb(17,17,17)",
           "radialaxis": {
            "gridcolor": "#506784",
            "linecolor": "#506784",
            "ticks": ""
           }
          },
          "scene": {
           "xaxis": {
            "backgroundcolor": "rgb(17,17,17)",
            "gridcolor": "#506784",
            "gridwidth": 2,
            "linecolor": "#506784",
            "showbackground": true,
            "ticks": "",
            "zerolinecolor": "#C8D4E3"
           },
           "yaxis": {
            "backgroundcolor": "rgb(17,17,17)",
            "gridcolor": "#506784",
            "gridwidth": 2,
            "linecolor": "#506784",
            "showbackground": true,
            "ticks": "",
            "zerolinecolor": "#C8D4E3"
           },
           "zaxis": {
            "backgroundcolor": "rgb(17,17,17)",
            "gridcolor": "#506784",
            "gridwidth": 2,
            "linecolor": "#506784",
            "showbackground": true,
            "ticks": "",
            "zerolinecolor": "#C8D4E3"
           }
          },
          "shapedefaults": {
           "line": {
            "color": "#f2f5fa"
           }
          },
          "sliderdefaults": {
           "bgcolor": "#C8D4E3",
           "bordercolor": "rgb(17,17,17)",
           "borderwidth": 1,
           "tickwidth": 0
          },
          "ternary": {
           "aaxis": {
            "gridcolor": "#506784",
            "linecolor": "#506784",
            "ticks": ""
           },
           "baxis": {
            "gridcolor": "#506784",
            "linecolor": "#506784",
            "ticks": ""
           },
           "bgcolor": "rgb(17,17,17)",
           "caxis": {
            "gridcolor": "#506784",
            "linecolor": "#506784",
            "ticks": ""
           }
          },
          "title": {
           "x": 0.05
          },
          "updatemenudefaults": {
           "bgcolor": "#506784",
           "borderwidth": 0
          },
          "xaxis": {
           "automargin": true,
           "gridcolor": "#283442",
           "linecolor": "#506784",
           "ticks": "",
           "title": {
            "standoff": 15
           },
           "zerolinecolor": "#283442",
           "zerolinewidth": 2
          },
          "yaxis": {
           "automargin": true,
           "gridcolor": "#283442",
           "linecolor": "#506784",
           "ticks": "",
           "title": {
            "standoff": 15
           },
           "zerolinecolor": "#283442",
           "zerolinewidth": 2
          }
         }
        },
        "title": {
         "x": 0.5
        },
        "xaxis": {
         "rangeselector": {
          "activecolor": "tomato",
          "bgcolor": "#272b30",
          "buttons": [
           {
            "count": 7,
            "label": "1w",
            "step": "day",
            "stepmode": "backward"
           },
           {
            "count": 14,
            "label": "2w",
            "step": "day",
            "stepmode": "backward"
           },
           {
            "count": 1,
            "label": "1m",
            "step": "month",
            "stepmode": "backward"
           },
           {
            "count": 6,
            "label": "6m",
            "step": "month",
            "stepmode": "backward"
           },
           {
            "count": 12,
            "label": "12m",
            "step": "month",
            "stepmode": "backward"
           },
           {
            "count": 1,
            "label": "YTD",
            "step": "year",
            "stepmode": "todate"
           },
           {
            "label": "All",
            "step": "all"
           }
          ]
         },
         "rangeslider": {
          "visible": false
         },
         "tickfont": {
          "size": 12
         }
        },
        "yaxis": {
         "tickfont": {
          "size": 12
         },
         "title": {
          "font": {
           "size": 14
          },
          "text": "Value: $ USD"
         }
        }
       }
      }
     },
     "metadata": {},
     "output_type": "display_data"
    }
   ],
   "source": [
    "chart_ptfvalue = go.Figure() # generating a figure that will be updated in the following lines\n",
    "\n",
    "chart_ptfvalue.add_trace(\n",
    "    go.Scatter(\n",
    "        x=plotlydf_portfval.date,\n",
    "        y=plotlydf_portfval.portf_value,\n",
    "        mode='lines',  # you can also use \"lines+markers\", or just \"markers\"\n",
    "        name='Portfolio Value',\n",
    "        hovertemplate = '$ %{y:,.0f}'\n",
    "    )\n",
    ")\n",
    "\n",
    "chart_ptfvalue.add_trace(\n",
    "    go.Scatter(\n",
    "        x=invested_df.date,\n",
    "        y=invested_df.alltime_cashflow,\n",
    "        fill='tozeroy',\n",
    "        fillcolor='rgba(255, 150, 20, 0.3)', # https://www.w3schools.com/css/css_colors_rgb.asp\n",
    "        line = dict(\n",
    "            color='orangered',\n",
    "            width=2,\n",
    "            dash='dash'),\n",
    "        mode='lines',  # you can also use \"lines+markers\", or just \"markers\"\n",
    "        name='Net Invested',\n",
    "        hovertemplate = '$ %{y:,.0f}'\n",
    "    )\n",
    ")\n",
    "\n",
    "\n",
    "chart_ptfvalue.update_layout(\n",
    "    margin = dict(t=50, b=50, l=25, r=25), # this will help you optimize the chart space\n",
    "    xaxis_tickfont_size=12,\n",
    "    yaxis=dict(\n",
    "        title='Value: $ USD',\n",
    "        titlefont_size=14,\n",
    "        tickfont_size=12,\n",
    "        ),\n",
    "    legend=dict(\n",
    "        yanchor=\"top\",\n",
    "        y=0.99,\n",
    "        xanchor=\"left\",\n",
    "        x=0.01),\n",
    "    showlegend=False,\n",
    "#     title='Global Portfolio Value (USD $)',\n",
    "    title_x=0.5, # title centered\n",
    "    paper_bgcolor=\"#272b30\",\n",
    "    plot_bgcolor=\"#272b30\"\n",
    ")\n",
    "\n",
    "\n",
    "# # # Time Series with Range Selector Buttons - https://plotly.com/python/time-series/\n",
    "chart_ptfvalue.update_xaxes(\n",
    "    rangeslider_visible=False,\n",
    "        rangeselector=dict(\n",
    "            buttons=list([\n",
    "                dict(count=7, label=\"1w\", step=\"day\", stepmode=\"backward\"),\n",
    "                dict(count=14, label=\"2w\", step=\"day\", stepmode=\"backward\"),\n",
    "                dict(count=1, label=\"1m\", step=\"month\", stepmode=\"backward\"),\n",
    "                dict(count=6, label=\"6m\", step=\"month\", stepmode=\"backward\"),\n",
    "                dict(count=12, label=\"12m\", step=\"month\", stepmode=\"backward\"),\n",
    "                dict(count=1, label=\"YTD\", step=\"year\", stepmode=\"todate\"),\n",
    "                dict(label='All', step=\"all\"),\n",
    "            ]),\n",
    "            bgcolor=\"#272b30\",\n",
    "            activecolor='tomato',\n",
    "#             y=1.22,\n",
    "#             x=0.25\n",
    "        )\n",
    ")\n",
    "\n",
    "chart_ptfvalue.update_layout(hovermode='x unified')\n",
    "chart_ptfvalue.layout.template = CHART_THEME\n",
    "chart_ptfvalue.layout.height=500\n",
    "\n",
    "chart_ptfvalue.show()"
   ]
  },
  {
   "cell_type": "code",
   "execution_count": 133,
   "metadata": {},
   "outputs": [
    {
     "data": {
      "text/html": [
       "<div>\n",
       "<style scoped>\n",
       "    .dataframe tbody tr th:only-of-type {\n",
       "        vertical-align: middle;\n",
       "    }\n",
       "\n",
       "    .dataframe tbody tr th {\n",
       "        vertical-align: top;\n",
       "    }\n",
       "\n",
       "    .dataframe thead th {\n",
       "        text-align: right;\n",
       "    }\n",
       "</style>\n",
       "<table border=\"1\" class=\"dataframe\">\n",
       "  <thead>\n",
       "    <tr style=\"text-align: right;\">\n",
       "      <th></th>\n",
       "      <th>date</th>\n",
       "      <th>portf_value</th>\n",
       "      <th>sp500_mktvalue</th>\n",
       "      <th>ptf_value_pctch</th>\n",
       "      <th>sp500_pctch</th>\n",
       "      <th>ptf_value_diff</th>\n",
       "      <th>sp500_diff</th>\n",
       "      <th>cashflow</th>\n",
       "      <th>alltime_cashflow</th>\n",
       "      <th>net_invested</th>\n",
       "      <th>net_value</th>\n",
       "      <th>ptf_growth</th>\n",
       "      <th>sp500_growth</th>\n",
       "      <th>adjusted_ptfchg</th>\n",
       "      <th>highvalue</th>\n",
       "      <th>drawdownpct</th>\n",
       "    </tr>\n",
       "  </thead>\n",
       "  <tbody>\n",
       "    <tr>\n",
       "      <th>0</th>\n",
       "      <td>2020-01-10</td>\n",
       "      <td>5163.46</td>\n",
       "      <td>3265.35</td>\n",
       "      <td>-0.55</td>\n",
       "      <td>-0.29</td>\n",
       "      <td>-28.65</td>\n",
       "      <td>-9.35</td>\n",
       "      <td>0.0</td>\n",
       "      <td>5357.00</td>\n",
       "      <td>0.00</td>\n",
       "      <td>5163.46</td>\n",
       "      <td>1.000000</td>\n",
       "      <td>1.000000</td>\n",
       "      <td>NaN</td>\n",
       "      <td>5163.46</td>\n",
       "      <td>0.00</td>\n",
       "    </tr>\n",
       "    <tr>\n",
       "      <th>1</th>\n",
       "      <td>2020-01-13</td>\n",
       "      <td>5255.01</td>\n",
       "      <td>3288.13</td>\n",
       "      <td>1.77</td>\n",
       "      <td>0.70</td>\n",
       "      <td>91.55</td>\n",
       "      <td>22.78</td>\n",
       "      <td>0.0</td>\n",
       "      <td>5357.00</td>\n",
       "      <td>0.00</td>\n",
       "      <td>5255.01</td>\n",
       "      <td>1.017730</td>\n",
       "      <td>1.006976</td>\n",
       "      <td>1.77</td>\n",
       "      <td>5255.01</td>\n",
       "      <td>0.00</td>\n",
       "    </tr>\n",
       "    <tr>\n",
       "      <th>2</th>\n",
       "      <td>2020-01-14</td>\n",
       "      <td>5237.21</td>\n",
       "      <td>3283.15</td>\n",
       "      <td>-0.34</td>\n",
       "      <td>-0.15</td>\n",
       "      <td>-17.80</td>\n",
       "      <td>-4.98</td>\n",
       "      <td>0.0</td>\n",
       "      <td>5357.00</td>\n",
       "      <td>0.00</td>\n",
       "      <td>5237.21</td>\n",
       "      <td>1.014283</td>\n",
       "      <td>1.005451</td>\n",
       "      <td>-0.34</td>\n",
       "      <td>5255.01</td>\n",
       "      <td>-0.34</td>\n",
       "    </tr>\n",
       "    <tr>\n",
       "      <th>3</th>\n",
       "      <td>2020-01-15</td>\n",
       "      <td>5207.94</td>\n",
       "      <td>3289.29</td>\n",
       "      <td>-0.56</td>\n",
       "      <td>0.19</td>\n",
       "      <td>-29.28</td>\n",
       "      <td>6.14</td>\n",
       "      <td>0.0</td>\n",
       "      <td>5357.00</td>\n",
       "      <td>0.00</td>\n",
       "      <td>5207.94</td>\n",
       "      <td>1.008614</td>\n",
       "      <td>1.007332</td>\n",
       "      <td>-0.56</td>\n",
       "      <td>5255.01</td>\n",
       "      <td>-0.90</td>\n",
       "    </tr>\n",
       "    <tr>\n",
       "      <th>4</th>\n",
       "      <td>2020-01-16</td>\n",
       "      <td>5241.90</td>\n",
       "      <td>3316.81</td>\n",
       "      <td>0.65</td>\n",
       "      <td>0.84</td>\n",
       "      <td>33.97</td>\n",
       "      <td>27.52</td>\n",
       "      <td>0.0</td>\n",
       "      <td>5357.00</td>\n",
       "      <td>0.00</td>\n",
       "      <td>5241.90</td>\n",
       "      <td>1.015191</td>\n",
       "      <td>1.015759</td>\n",
       "      <td>0.65</td>\n",
       "      <td>5255.01</td>\n",
       "      <td>-0.25</td>\n",
       "    </tr>\n",
       "    <tr>\n",
       "      <th>...</th>\n",
       "      <td>...</td>\n",
       "      <td>...</td>\n",
       "      <td>...</td>\n",
       "      <td>...</td>\n",
       "      <td>...</td>\n",
       "      <td>...</td>\n",
       "      <td>...</td>\n",
       "      <td>...</td>\n",
       "      <td>...</td>\n",
       "      <td>...</td>\n",
       "      <td>...</td>\n",
       "      <td>...</td>\n",
       "      <td>...</td>\n",
       "      <td>...</td>\n",
       "      <td>...</td>\n",
       "      <td>...</td>\n",
       "    </tr>\n",
       "    <tr>\n",
       "      <th>475</th>\n",
       "      <td>2021-11-29</td>\n",
       "      <td>102124.76</td>\n",
       "      <td>4655.27</td>\n",
       "      <td>1.92</td>\n",
       "      <td>1.32</td>\n",
       "      <td>1927.65</td>\n",
       "      <td>60.65</td>\n",
       "      <td>0.0</td>\n",
       "      <td>52827.31</td>\n",
       "      <td>47470.31</td>\n",
       "      <td>54654.45</td>\n",
       "      <td>10.584850</td>\n",
       "      <td>1.425657</td>\n",
       "      <td>3.66</td>\n",
       "      <td>56953.33</td>\n",
       "      <td>-4.04</td>\n",
       "    </tr>\n",
       "    <tr>\n",
       "      <th>476</th>\n",
       "      <td>2021-11-30</td>\n",
       "      <td>100229.42</td>\n",
       "      <td>4567.00</td>\n",
       "      <td>-1.86</td>\n",
       "      <td>-1.90</td>\n",
       "      <td>-1895.34</td>\n",
       "      <td>-88.27</td>\n",
       "      <td>0.0</td>\n",
       "      <td>52827.31</td>\n",
       "      <td>47470.31</td>\n",
       "      <td>52759.11</td>\n",
       "      <td>10.217782</td>\n",
       "      <td>1.398625</td>\n",
       "      <td>-3.47</td>\n",
       "      <td>56953.33</td>\n",
       "      <td>-7.36</td>\n",
       "    </tr>\n",
       "    <tr>\n",
       "      <th>477</th>\n",
       "      <td>2021-12-01</td>\n",
       "      <td>96975.07</td>\n",
       "      <td>4513.04</td>\n",
       "      <td>-3.25</td>\n",
       "      <td>-1.18</td>\n",
       "      <td>-3254.35</td>\n",
       "      <td>-53.96</td>\n",
       "      <td>0.0</td>\n",
       "      <td>52827.31</td>\n",
       "      <td>47470.31</td>\n",
       "      <td>49504.76</td>\n",
       "      <td>9.587517</td>\n",
       "      <td>1.382100</td>\n",
       "      <td>-6.17</td>\n",
       "      <td>56953.33</td>\n",
       "      <td>-13.08</td>\n",
       "    </tr>\n",
       "    <tr>\n",
       "      <th>478</th>\n",
       "      <td>2021-12-02</td>\n",
       "      <td>97704.87</td>\n",
       "      <td>4577.10</td>\n",
       "      <td>0.75</td>\n",
       "      <td>1.42</td>\n",
       "      <td>729.80</td>\n",
       "      <td>64.06</td>\n",
       "      <td>0.0</td>\n",
       "      <td>52827.31</td>\n",
       "      <td>47470.31</td>\n",
       "      <td>50234.56</td>\n",
       "      <td>9.728856</td>\n",
       "      <td>1.401718</td>\n",
       "      <td>1.47</td>\n",
       "      <td>56953.33</td>\n",
       "      <td>-11.80</td>\n",
       "    </tr>\n",
       "    <tr>\n",
       "      <th>479</th>\n",
       "      <td>2021-12-03</td>\n",
       "      <td>93969.89</td>\n",
       "      <td>4538.43</td>\n",
       "      <td>-3.82</td>\n",
       "      <td>-0.84</td>\n",
       "      <td>-3734.99</td>\n",
       "      <td>-38.67</td>\n",
       "      <td>0.0</td>\n",
       "      <td>52827.31</td>\n",
       "      <td>47470.31</td>\n",
       "      <td>46499.58</td>\n",
       "      <td>9.005508</td>\n",
       "      <td>1.389876</td>\n",
       "      <td>-7.44</td>\n",
       "      <td>56953.33</td>\n",
       "      <td>-18.35</td>\n",
       "    </tr>\n",
       "  </tbody>\n",
       "</table>\n",
       "<p>480 rows × 16 columns</p>\n",
       "</div>"
      ],
      "text/plain": [
       "          date  portf_value  sp500_mktvalue  ptf_value_pctch  sp500_pctch  \\\n",
       "0   2020-01-10      5163.46         3265.35            -0.55        -0.29   \n",
       "1   2020-01-13      5255.01         3288.13             1.77         0.70   \n",
       "2   2020-01-14      5237.21         3283.15            -0.34        -0.15   \n",
       "3   2020-01-15      5207.94         3289.29            -0.56         0.19   \n",
       "4   2020-01-16      5241.90         3316.81             0.65         0.84   \n",
       "..         ...          ...             ...              ...          ...   \n",
       "475 2021-11-29    102124.76         4655.27             1.92         1.32   \n",
       "476 2021-11-30    100229.42         4567.00            -1.86        -1.90   \n",
       "477 2021-12-01     96975.07         4513.04            -3.25        -1.18   \n",
       "478 2021-12-02     97704.87         4577.10             0.75         1.42   \n",
       "479 2021-12-03     93969.89         4538.43            -3.82        -0.84   \n",
       "\n",
       "     ptf_value_diff  sp500_diff  cashflow  alltime_cashflow  net_invested  \\\n",
       "0            -28.65       -9.35       0.0           5357.00          0.00   \n",
       "1             91.55       22.78       0.0           5357.00          0.00   \n",
       "2            -17.80       -4.98       0.0           5357.00          0.00   \n",
       "3            -29.28        6.14       0.0           5357.00          0.00   \n",
       "4             33.97       27.52       0.0           5357.00          0.00   \n",
       "..              ...         ...       ...               ...           ...   \n",
       "475         1927.65       60.65       0.0          52827.31      47470.31   \n",
       "476        -1895.34      -88.27       0.0          52827.31      47470.31   \n",
       "477        -3254.35      -53.96       0.0          52827.31      47470.31   \n",
       "478          729.80       64.06       0.0          52827.31      47470.31   \n",
       "479        -3734.99      -38.67       0.0          52827.31      47470.31   \n",
       "\n",
       "     net_value  ptf_growth  sp500_growth  adjusted_ptfchg  highvalue  \\\n",
       "0      5163.46    1.000000      1.000000              NaN    5163.46   \n",
       "1      5255.01    1.017730      1.006976             1.77    5255.01   \n",
       "2      5237.21    1.014283      1.005451            -0.34    5255.01   \n",
       "3      5207.94    1.008614      1.007332            -0.56    5255.01   \n",
       "4      5241.90    1.015191      1.015759             0.65    5255.01   \n",
       "..         ...         ...           ...              ...        ...   \n",
       "475   54654.45   10.584850      1.425657             3.66   56953.33   \n",
       "476   52759.11   10.217782      1.398625            -3.47   56953.33   \n",
       "477   49504.76    9.587517      1.382100            -6.17   56953.33   \n",
       "478   50234.56    9.728856      1.401718             1.47   56953.33   \n",
       "479   46499.58    9.005508      1.389876            -7.44   56953.33   \n",
       "\n",
       "     drawdownpct  \n",
       "0           0.00  \n",
       "1           0.00  \n",
       "2          -0.34  \n",
       "3          -0.90  \n",
       "4          -0.25  \n",
       "..           ...  \n",
       "475        -4.04  \n",
       "476        -7.36  \n",
       "477       -13.08  \n",
       "478       -11.80  \n",
       "479       -18.35  \n",
       "\n",
       "[480 rows x 16 columns]"
      ]
     },
     "execution_count": 133,
     "metadata": {},
     "output_type": "execute_result"
    }
   ],
   "source": [
    "plotlydf_portfval"
   ]
  },
  {
   "cell_type": "code",
   "execution_count": 134,
   "metadata": {},
   "outputs": [
    {
     "data": {
      "application/vnd.plotly.v1+json": {
       "config": {
        "plotlyServerURL": "https://plot.ly"
       },
       "data": [
        {
         "fill": "tozeroy",
         "fillcolor": "tomato",
         "line": {
          "color": "firebrick",
          "width": 2
         },
         "mode": "lines",
         "name": "Drawdown %",
         "type": "scatter",
         "x": [
          "2020-01-10T00:00:00",
          "2020-01-13T00:00:00",
          "2020-01-14T00:00:00",
          "2020-01-15T00:00:00",
          "2020-01-16T00:00:00",
          "2020-01-17T00:00:00",
          "2020-01-21T00:00:00",
          "2020-01-22T00:00:00",
          "2020-01-23T00:00:00",
          "2020-01-24T00:00:00",
          "2020-01-27T00:00:00",
          "2020-01-28T00:00:00",
          "2020-01-29T00:00:00",
          "2020-01-30T00:00:00",
          "2020-01-31T00:00:00",
          "2020-02-03T00:00:00",
          "2020-02-04T00:00:00",
          "2020-02-05T00:00:00",
          "2020-02-06T00:00:00",
          "2020-02-07T00:00:00",
          "2020-02-10T00:00:00",
          "2020-02-11T00:00:00",
          "2020-02-12T00:00:00",
          "2020-02-13T00:00:00",
          "2020-02-14T00:00:00",
          "2020-02-18T00:00:00",
          "2020-02-19T00:00:00",
          "2020-02-20T00:00:00",
          "2020-02-21T00:00:00",
          "2020-02-24T00:00:00",
          "2020-02-25T00:00:00",
          "2020-02-26T00:00:00",
          "2020-02-27T00:00:00",
          "2020-02-28T00:00:00",
          "2020-03-02T00:00:00",
          "2020-03-03T00:00:00",
          "2020-03-04T00:00:00",
          "2020-03-05T00:00:00",
          "2020-03-06T00:00:00",
          "2020-03-09T00:00:00",
          "2020-03-10T00:00:00",
          "2020-03-11T00:00:00",
          "2020-03-12T00:00:00",
          "2020-03-13T00:00:00",
          "2020-03-16T00:00:00",
          "2020-03-17T00:00:00",
          "2020-03-18T00:00:00",
          "2020-03-19T00:00:00",
          "2020-03-20T00:00:00",
          "2020-03-23T00:00:00",
          "2020-03-24T00:00:00",
          "2020-03-25T00:00:00",
          "2020-03-26T00:00:00",
          "2020-03-27T00:00:00",
          "2020-03-30T00:00:00",
          "2020-03-31T00:00:00",
          "2020-04-01T00:00:00",
          "2020-04-02T00:00:00",
          "2020-04-03T00:00:00",
          "2020-04-06T00:00:00",
          "2020-04-07T00:00:00",
          "2020-04-08T00:00:00",
          "2020-04-09T00:00:00",
          "2020-04-13T00:00:00",
          "2020-04-14T00:00:00",
          "2020-04-15T00:00:00",
          "2020-04-16T00:00:00",
          "2020-04-17T00:00:00",
          "2020-04-20T00:00:00",
          "2020-04-21T00:00:00",
          "2020-04-22T00:00:00",
          "2020-04-23T00:00:00",
          "2020-04-24T00:00:00",
          "2020-04-27T00:00:00",
          "2020-04-28T00:00:00",
          "2020-04-29T00:00:00",
          "2020-04-30T00:00:00",
          "2020-05-01T00:00:00",
          "2020-05-04T00:00:00",
          "2020-05-05T00:00:00",
          "2020-05-06T00:00:00",
          "2020-05-07T00:00:00",
          "2020-05-08T00:00:00",
          "2020-05-11T00:00:00",
          "2020-05-12T00:00:00",
          "2020-05-13T00:00:00",
          "2020-05-14T00:00:00",
          "2020-05-15T00:00:00",
          "2020-05-18T00:00:00",
          "2020-05-19T00:00:00",
          "2020-05-20T00:00:00",
          "2020-05-21T00:00:00",
          "2020-05-22T00:00:00",
          "2020-05-26T00:00:00",
          "2020-05-27T00:00:00",
          "2020-05-28T00:00:00",
          "2020-05-29T00:00:00",
          "2020-06-01T00:00:00",
          "2020-06-02T00:00:00",
          "2020-06-03T00:00:00",
          "2020-06-04T00:00:00",
          "2020-06-05T00:00:00",
          "2020-06-08T00:00:00",
          "2020-06-09T00:00:00",
          "2020-06-10T00:00:00",
          "2020-06-11T00:00:00",
          "2020-06-12T00:00:00",
          "2020-06-15T00:00:00",
          "2020-06-16T00:00:00",
          "2020-06-17T00:00:00",
          "2020-06-18T00:00:00",
          "2020-06-19T00:00:00",
          "2020-06-22T00:00:00",
          "2020-06-23T00:00:00",
          "2020-06-24T00:00:00",
          "2020-06-25T00:00:00",
          "2020-06-26T00:00:00",
          "2020-06-29T00:00:00",
          "2020-06-30T00:00:00",
          "2020-07-01T00:00:00",
          "2020-07-02T00:00:00",
          "2020-07-06T00:00:00",
          "2020-07-07T00:00:00",
          "2020-07-08T00:00:00",
          "2020-07-09T00:00:00",
          "2020-07-10T00:00:00",
          "2020-07-13T00:00:00",
          "2020-07-14T00:00:00",
          "2020-07-15T00:00:00",
          "2020-07-16T00:00:00",
          "2020-07-17T00:00:00",
          "2020-07-20T00:00:00",
          "2020-07-21T00:00:00",
          "2020-07-22T00:00:00",
          "2020-07-23T00:00:00",
          "2020-07-24T00:00:00",
          "2020-07-27T00:00:00",
          "2020-07-28T00:00:00",
          "2020-07-29T00:00:00",
          "2020-07-30T00:00:00",
          "2020-07-31T00:00:00",
          "2020-08-03T00:00:00",
          "2020-08-04T00:00:00",
          "2020-08-05T00:00:00",
          "2020-08-06T00:00:00",
          "2020-08-07T00:00:00",
          "2020-08-10T00:00:00",
          "2020-08-11T00:00:00",
          "2020-08-12T00:00:00",
          "2020-08-13T00:00:00",
          "2020-08-14T00:00:00",
          "2020-08-17T00:00:00",
          "2020-08-18T00:00:00",
          "2020-08-19T00:00:00",
          "2020-08-20T00:00:00",
          "2020-08-21T00:00:00",
          "2020-08-24T00:00:00",
          "2020-08-25T00:00:00",
          "2020-08-26T00:00:00",
          "2020-08-27T00:00:00",
          "2020-08-28T00:00:00",
          "2020-08-31T00:00:00",
          "2020-09-01T00:00:00",
          "2020-09-02T00:00:00",
          "2020-09-03T00:00:00",
          "2020-09-04T00:00:00",
          "2020-09-08T00:00:00",
          "2020-09-09T00:00:00",
          "2020-09-10T00:00:00",
          "2020-09-11T00:00:00",
          "2020-09-14T00:00:00",
          "2020-09-15T00:00:00",
          "2020-09-16T00:00:00",
          "2020-09-17T00:00:00",
          "2020-09-18T00:00:00",
          "2020-09-21T00:00:00",
          "2020-09-22T00:00:00",
          "2020-09-23T00:00:00",
          "2020-09-24T00:00:00",
          "2020-09-25T00:00:00",
          "2020-09-28T00:00:00",
          "2020-09-29T00:00:00",
          "2020-09-30T00:00:00",
          "2020-10-01T00:00:00",
          "2020-10-02T00:00:00",
          "2020-10-05T00:00:00",
          "2020-10-06T00:00:00",
          "2020-10-07T00:00:00",
          "2020-10-08T00:00:00",
          "2020-10-09T00:00:00",
          "2020-10-12T00:00:00",
          "2020-10-13T00:00:00",
          "2020-10-14T00:00:00",
          "2020-10-15T00:00:00",
          "2020-10-16T00:00:00",
          "2020-10-19T00:00:00",
          "2020-10-20T00:00:00",
          "2020-10-21T00:00:00",
          "2020-10-22T00:00:00",
          "2020-10-23T00:00:00",
          "2020-10-26T00:00:00",
          "2020-10-27T00:00:00",
          "2020-10-28T00:00:00",
          "2020-10-29T00:00:00",
          "2020-10-30T00:00:00",
          "2020-11-02T00:00:00",
          "2020-11-03T00:00:00",
          "2020-11-04T00:00:00",
          "2020-11-05T00:00:00",
          "2020-11-06T00:00:00",
          "2020-11-09T00:00:00",
          "2020-11-10T00:00:00",
          "2020-11-11T00:00:00",
          "2020-11-12T00:00:00",
          "2020-11-13T00:00:00",
          "2020-11-16T00:00:00",
          "2020-11-17T00:00:00",
          "2020-11-18T00:00:00",
          "2020-11-19T00:00:00",
          "2020-11-20T00:00:00",
          "2020-11-23T00:00:00",
          "2020-11-24T00:00:00",
          "2020-11-25T00:00:00",
          "2020-11-27T00:00:00",
          "2020-11-30T00:00:00",
          "2020-12-01T00:00:00",
          "2020-12-02T00:00:00",
          "2020-12-03T00:00:00",
          "2020-12-04T00:00:00",
          "2020-12-07T00:00:00",
          "2020-12-08T00:00:00",
          "2020-12-09T00:00:00",
          "2020-12-10T00:00:00",
          "2020-12-11T00:00:00",
          "2020-12-14T00:00:00",
          "2020-12-15T00:00:00",
          "2020-12-16T00:00:00",
          "2020-12-17T00:00:00",
          "2020-12-18T00:00:00",
          "2020-12-21T00:00:00",
          "2020-12-22T00:00:00",
          "2020-12-23T00:00:00",
          "2020-12-24T00:00:00",
          "2020-12-28T00:00:00",
          "2020-12-29T00:00:00",
          "2020-12-30T00:00:00",
          "2020-12-31T00:00:00",
          "2021-01-04T00:00:00",
          "2021-01-05T00:00:00",
          "2021-01-06T00:00:00",
          "2021-01-07T00:00:00",
          "2021-01-08T00:00:00",
          "2021-01-11T00:00:00",
          "2021-01-12T00:00:00",
          "2021-01-13T00:00:00",
          "2021-01-14T00:00:00",
          "2021-01-15T00:00:00",
          "2021-01-19T00:00:00",
          "2021-01-20T00:00:00",
          "2021-01-21T00:00:00",
          "2021-01-22T00:00:00",
          "2021-01-25T00:00:00",
          "2021-01-26T00:00:00",
          "2021-01-27T00:00:00",
          "2021-01-28T00:00:00",
          "2021-01-29T00:00:00",
          "2021-02-01T00:00:00",
          "2021-02-02T00:00:00",
          "2021-02-03T00:00:00",
          "2021-02-04T00:00:00",
          "2021-02-05T00:00:00",
          "2021-02-08T00:00:00",
          "2021-02-09T00:00:00",
          "2021-02-10T00:00:00",
          "2021-02-11T00:00:00",
          "2021-02-12T00:00:00",
          "2021-02-16T00:00:00",
          "2021-02-17T00:00:00",
          "2021-02-18T00:00:00",
          "2021-02-19T00:00:00",
          "2021-02-22T00:00:00",
          "2021-02-23T00:00:00",
          "2021-02-24T00:00:00",
          "2021-02-25T00:00:00",
          "2021-02-26T00:00:00",
          "2021-03-01T00:00:00",
          "2021-03-02T00:00:00",
          "2021-03-03T00:00:00",
          "2021-03-04T00:00:00",
          "2021-03-05T00:00:00",
          "2021-03-08T00:00:00",
          "2021-03-09T00:00:00",
          "2021-03-10T00:00:00",
          "2021-03-11T00:00:00",
          "2021-03-12T00:00:00",
          "2021-03-15T00:00:00",
          "2021-03-16T00:00:00",
          "2021-03-17T00:00:00",
          "2021-03-18T00:00:00",
          "2021-03-19T00:00:00",
          "2021-03-22T00:00:00",
          "2021-03-23T00:00:00",
          "2021-03-24T00:00:00",
          "2021-03-25T00:00:00",
          "2021-03-26T00:00:00",
          "2021-03-29T00:00:00",
          "2021-03-30T00:00:00",
          "2021-03-31T00:00:00",
          "2021-04-01T00:00:00",
          "2021-04-05T00:00:00",
          "2021-04-06T00:00:00",
          "2021-04-07T00:00:00",
          "2021-04-08T00:00:00",
          "2021-04-09T00:00:00",
          "2021-04-12T00:00:00",
          "2021-04-13T00:00:00",
          "2021-04-14T00:00:00",
          "2021-04-15T00:00:00",
          "2021-04-16T00:00:00",
          "2021-04-19T00:00:00",
          "2021-04-20T00:00:00",
          "2021-04-21T00:00:00",
          "2021-04-22T00:00:00",
          "2021-04-23T00:00:00",
          "2021-04-26T00:00:00",
          "2021-04-27T00:00:00",
          "2021-04-28T00:00:00",
          "2021-04-29T00:00:00",
          "2021-04-30T00:00:00",
          "2021-05-03T00:00:00",
          "2021-05-04T00:00:00",
          "2021-05-05T00:00:00",
          "2021-05-06T00:00:00",
          "2021-05-07T00:00:00",
          "2021-05-10T00:00:00",
          "2021-05-11T00:00:00",
          "2021-05-12T00:00:00",
          "2021-05-13T00:00:00",
          "2021-05-14T00:00:00",
          "2021-05-17T00:00:00",
          "2021-05-18T00:00:00",
          "2021-05-19T00:00:00",
          "2021-05-20T00:00:00",
          "2021-05-21T00:00:00",
          "2021-05-24T00:00:00",
          "2021-05-25T00:00:00",
          "2021-05-26T00:00:00",
          "2021-05-27T00:00:00",
          "2021-05-28T00:00:00",
          "2021-06-01T00:00:00",
          "2021-06-02T00:00:00",
          "2021-06-03T00:00:00",
          "2021-06-04T00:00:00",
          "2021-06-07T00:00:00",
          "2021-06-08T00:00:00",
          "2021-06-09T00:00:00",
          "2021-06-10T00:00:00",
          "2021-06-11T00:00:00",
          "2021-06-14T00:00:00",
          "2021-06-15T00:00:00",
          "2021-06-16T00:00:00",
          "2021-06-17T00:00:00",
          "2021-06-18T00:00:00",
          "2021-06-21T00:00:00",
          "2021-06-22T00:00:00",
          "2021-06-23T00:00:00",
          "2021-06-24T00:00:00",
          "2021-06-25T00:00:00",
          "2021-06-28T00:00:00",
          "2021-06-29T00:00:00",
          "2021-06-30T00:00:00",
          "2021-07-01T00:00:00",
          "2021-07-02T00:00:00",
          "2021-07-06T00:00:00",
          "2021-07-07T00:00:00",
          "2021-07-08T00:00:00",
          "2021-07-09T00:00:00",
          "2021-07-12T00:00:00",
          "2021-07-13T00:00:00",
          "2021-07-14T00:00:00",
          "2021-07-15T00:00:00",
          "2021-07-16T00:00:00",
          "2021-07-19T00:00:00",
          "2021-07-20T00:00:00",
          "2021-07-21T00:00:00",
          "2021-07-22T00:00:00",
          "2021-07-23T00:00:00",
          "2021-07-26T00:00:00",
          "2021-07-27T00:00:00",
          "2021-07-28T00:00:00",
          "2021-07-29T00:00:00",
          "2021-07-30T00:00:00",
          "2021-08-02T00:00:00",
          "2021-08-03T00:00:00",
          "2021-08-04T00:00:00",
          "2021-08-05T00:00:00",
          "2021-08-06T00:00:00",
          "2021-08-09T00:00:00",
          "2021-08-10T00:00:00",
          "2021-08-11T00:00:00",
          "2021-08-12T00:00:00",
          "2021-08-13T00:00:00",
          "2021-08-16T00:00:00",
          "2021-08-17T00:00:00",
          "2021-08-18T00:00:00",
          "2021-08-19T00:00:00",
          "2021-08-20T00:00:00",
          "2021-08-23T00:00:00",
          "2021-08-24T00:00:00",
          "2021-08-25T00:00:00",
          "2021-08-26T00:00:00",
          "2021-08-27T00:00:00",
          "2021-08-30T00:00:00",
          "2021-08-31T00:00:00",
          "2021-09-01T00:00:00",
          "2021-09-02T00:00:00",
          "2021-09-03T00:00:00",
          "2021-09-07T00:00:00",
          "2021-09-08T00:00:00",
          "2021-09-09T00:00:00",
          "2021-09-10T00:00:00",
          "2021-09-13T00:00:00",
          "2021-09-14T00:00:00",
          "2021-09-15T00:00:00",
          "2021-09-16T00:00:00",
          "2021-09-17T00:00:00",
          "2021-09-20T00:00:00",
          "2021-09-21T00:00:00",
          "2021-09-22T00:00:00",
          "2021-09-23T00:00:00",
          "2021-09-24T00:00:00",
          "2021-09-27T00:00:00",
          "2021-09-28T00:00:00",
          "2021-09-29T00:00:00",
          "2021-09-30T00:00:00",
          "2021-10-01T00:00:00",
          "2021-10-04T00:00:00",
          "2021-10-05T00:00:00",
          "2021-10-06T00:00:00",
          "2021-10-07T00:00:00",
          "2021-10-08T00:00:00",
          "2021-10-11T00:00:00",
          "2021-10-12T00:00:00",
          "2021-10-13T00:00:00",
          "2021-10-14T00:00:00",
          "2021-10-15T00:00:00",
          "2021-10-18T00:00:00",
          "2021-10-19T00:00:00",
          "2021-10-20T00:00:00",
          "2021-10-21T00:00:00",
          "2021-10-22T00:00:00",
          "2021-10-25T00:00:00",
          "2021-10-26T00:00:00",
          "2021-10-27T00:00:00",
          "2021-10-28T00:00:00",
          "2021-10-29T00:00:00",
          "2021-11-01T00:00:00",
          "2021-11-02T00:00:00",
          "2021-11-03T00:00:00",
          "2021-11-04T00:00:00",
          "2021-11-05T00:00:00",
          "2021-11-08T00:00:00",
          "2021-11-09T00:00:00",
          "2021-11-10T00:00:00",
          "2021-11-11T00:00:00",
          "2021-11-12T00:00:00",
          "2021-11-15T00:00:00",
          "2021-11-16T00:00:00",
          "2021-11-17T00:00:00",
          "2021-11-18T00:00:00",
          "2021-11-19T00:00:00",
          "2021-11-22T00:00:00",
          "2021-11-23T00:00:00",
          "2021-11-24T00:00:00",
          "2021-11-26T00:00:00",
          "2021-11-29T00:00:00",
          "2021-11-30T00:00:00",
          "2021-12-01T00:00:00",
          "2021-12-02T00:00:00",
          "2021-12-03T00:00:00"
         ],
         "y": [
          0,
          0,
          -0.33999999999999997,
          -0.8999999999999999,
          -0.25,
          0,
          -0.59,
          -1.47,
          0,
          0,
          -2.31,
          -3.04,
          -3.35,
          -2.7,
          -5.25,
          -4.79,
          -1.3599999999999999,
          -0.7000000000000001,
          0,
          -1.06,
          0,
          -0.08,
          0,
          -0.6799999999999999,
          -0.16999999999999998,
          0,
          0,
          -0.44,
          -3.74,
          -8.309999999999999,
          -12.559999999999999,
          -10.100000000000001,
          -15.06,
          -15.52,
          -9.27,
          -13.81,
          -7.85,
          -10.57,
          -12.280000000000001,
          -22.46,
          -15.7,
          -21.15,
          -33.83,
          -25.169999999999998,
          -40.22,
          -34.4,
          -37.11,
          -35.199999999999996,
          -41.6,
          -41.94,
          -32.06,
          -33.07,
          -26.85,
          -33.910000000000004,
          -28.599999999999998,
          -30.049999999999997,
          -35.89,
          -32.42,
          -35.55,
          -24.81,
          -24.73,
          -20.69,
          -19.98,
          -18.7,
          -13.71,
          -17.380000000000003,
          -13.87,
          -11.5,
          -14.430000000000001,
          -23.56,
          -14.680000000000001,
          -14.030000000000001,
          -10.25,
          -4.88,
          -7.829999999999999,
          0,
          -3.85,
          -14.979999999999999,
          -10.8,
          -10.16,
          -7.88,
          0,
          0,
          0,
          -6.75,
          -13.68,
          -8.790000000000001,
          -4.72,
          0,
          0,
          0,
          -3.19,
          -2.3800000000000003,
          -5.74,
          -4.9399999999999995,
          -5.88,
          0,
          0,
          0,
          0,
          -3.11,
          0,
          0,
          0,
          -2.87,
          -27.46,
          -21.68,
          -11.110000000000001,
          -6.04,
          -8.49,
          -3.52,
          -6.23,
          0,
          0,
          -9.030000000000001,
          -1.9800000000000002,
          -15.479999999999999,
          -8.51,
          -1.03,
          0,
          0,
          0,
          -0.44,
          0,
          0,
          0,
          -7.39,
          -0.53,
          0,
          -2.3,
          -1.47,
          0,
          -2.18,
          0,
          -6.81,
          -10.27,
          -4.03,
          -8.309999999999999,
          -2.82,
          -3.1300000000000003,
          -0.31,
          0,
          0,
          0,
          0,
          -3.0300000000000002,
          -3.64,
          -10.530000000000001,
          -3.95,
          -1.1900000000000002,
          -2.52,
          0,
          0,
          -1.66,
          0,
          0,
          0,
          0,
          0,
          0,
          0,
          0,
          0,
          0,
          -14.249999999999998,
          -19.64,
          -30.11,
          -21.59,
          -25.840000000000003,
          -28.38,
          -21.01,
          -17.419999999999998,
          -19.37,
          -22.93,
          -22.79,
          -23.52,
          -19.74,
          -28.999999999999996,
          -30.53,
          -21.3,
          -14.469999999999999,
          -14.26,
          -10.99,
          -4.279999999999999,
          -9.5,
          -2.65,
          -7.76,
          -1.95,
          -2.25,
          0,
          0,
          0,
          -0.84,
          -1.7000000000000002,
          -4.02,
          -7.22,
          -7.35,
          -9.9,
          -10.12,
          -9.5,
          -14.96,
          -14.39,
          -23.27,
          -19.36,
          -29.45,
          -26.21,
          -19.79,
          -11.72,
          -1.68,
          0,
          -7.199999999999999,
          -10.09,
          -2.74,
          -3.26,
          -1.53,
          0,
          0,
          -0.62,
          0,
          0,
          0,
          0,
          0,
          0,
          -0.24,
          -0.76,
          -0.13999999999999999,
          0,
          0,
          0,
          0,
          -7.31,
          -4.04,
          -4.64,
          -3.7699999999999996,
          -0.43,
          0,
          0,
          0,
          -0.22,
          0,
          -0.8699999999999999,
          -1.31,
          -3.54,
          -4.22,
          -2.08,
          -2.58,
          -4.06,
          -0.67,
          -0.48,
          0,
          0,
          -2.94,
          0,
          0,
          -0.44,
          -4.58,
          -2.34,
          -0.03,
          0,
          0,
          0,
          0,
          -5.3,
          -4.99,
          -10.15,
          -5.45,
          -1.7999999999999998,
          0,
          0,
          0,
          0,
          0,
          -0.77,
          -0.12,
          0,
          -1.77,
          -4.26,
          -6.94,
          -4.95,
          -11.77,
          -13.370000000000001,
          -10.17,
          -17.810000000000002,
          -16.03,
          -8.93,
          -12.690000000000001,
          -19.869999999999997,
          -25.41,
          -25.319999999999997,
          -28.78,
          -19.63,
          -18.73,
          -12.030000000000001,
          -12.42,
          -10.58,
          -12.690000000000001,
          -11.690000000000001,
          -17.849999999999998,
          -15.68,
          -13.48,
          -16.23,
          -23.5,
          -23.11,
          -23.56,
          -26.540000000000003,
          -25.019999999999996,
          -21.43,
          -19.54,
          -18.25,
          -17.299999999999997,
          -18.060000000000002,
          -15.32,
          -15.129999999999999,
          -15.989999999999998,
          -12.58,
          -15.27,
          -13.86,
          -13.850000000000001,
          -17.05,
          -19,
          -15.870000000000001,
          -17.8,
          -15.17,
          -12.790000000000001,
          -13.850000000000001,
          -13.98,
          -14.879999999999999,
          -16.439999999999998,
          -18.29,
          -21.44,
          -23.36,
          -23.64,
          -22.18,
          -27.66,
          -27.060000000000002,
          -32.21,
          -32.629999999999995,
          -28.29,
          -28.71,
          -27.98,
          -28.28,
          -24.9,
          -25.259999999999998,
          -22.31,
          -22.28,
          -20.080000000000002,
          -18.709999999999997,
          -18.72,
          -18.38,
          -17.97,
          -20.89,
          -17.380000000000003,
          -15.370000000000001,
          -14.729999999999999,
          -16.05,
          -14.97,
          -13.5,
          -13.200000000000001,
          -15.9,
          -15.57,
          -13.059999999999999,
          -13.819999999999999,
          -12.620000000000001,
          -9.629999999999999,
          -7.91,
          -5.74,
          -6.2,
          -2.92,
          -3.27,
          -3.27,
          -3.75,
          -3,
          -3.29,
          -5.47,
          -6.64,
          -4.78,
          -3.2800000000000002,
          -5.4,
          -7.8,
          -9.27,
          -11.51,
          -11.799999999999999,
          -8.81,
          -5.8500000000000005,
          -6.13,
          -4.49,
          -3.81,
          -6.279999999999999,
          -3.6799999999999997,
          -3.83,
          -5.76,
          -5.8500000000000005,
          -5.07,
          -3.9699999999999998,
          -3.38,
          -4.92,
          -3.1199999999999997,
          -3.54,
          -4.93,
          -3.81,
          -4.83,
          -7.03,
          -9.030000000000001,
          -10.6,
          -12.08,
          -10.08,
          -6.23,
          -4.71,
          -3.65,
          -5.4399999999999995,
          -3.2,
          -1.94,
          -1.8399999999999999,
          -1.32,
          -1.04,
          -0.58,
          -0.79,
          -3.4099999999999997,
          -2.74,
          -4.54,
          -4.54,
          -5.65,
          -4,
          -3.4099999999999997,
          -4.37,
          -9.39,
          -8.93,
          -6.49,
          -4.18,
          -4.58,
          -4.62,
          -10.639999999999999,
          -11.700000000000001,
          -12.07,
          -10.75,
          -15.09,
          -12.85,
          -11.87,
          -9.19,
          -9.950000000000001,
          -10.530000000000001,
          -9.43,
          -6.88,
          -4.46,
          -3.2099999999999995,
          -0.38999999999999996,
          0,
          -0.7100000000000001,
          0,
          -2.88,
          0,
          -0.44999999999999996,
          -1.94,
          0,
          0,
          0,
          -0.05,
          0,
          0,
          -2.5100000000000002,
          -0.09,
          -2.68,
          -6.0600000000000005,
          -4.34,
          -1.78,
          -2.36,
          -1.49,
          -2.7,
          -2.88,
          -1.6500000000000001,
          -3.65,
          -5.56,
          -4.09,
          -7.42,
          -4.04,
          -7.359999999999999,
          -13.08,
          -11.799999999999999,
          -18.35
         ]
        }
       ],
       "layout": {
        "height": 250,
        "margin": {
         "b": 30,
         "l": 25,
         "r": 25,
         "t": 45
        },
        "paper_bgcolor": "#272b30",
        "plot_bgcolor": "#272b30",
        "template": {
         "data": {
          "bar": [
           {
            "error_x": {
             "color": "#f2f5fa"
            },
            "error_y": {
             "color": "#f2f5fa"
            },
            "marker": {
             "line": {
              "color": "rgb(17,17,17)",
              "width": 0.5
             },
             "pattern": {
              "fillmode": "overlay",
              "size": 10,
              "solidity": 0.2
             }
            },
            "type": "bar"
           }
          ],
          "barpolar": [
           {
            "marker": {
             "line": {
              "color": "rgb(17,17,17)",
              "width": 0.5
             },
             "pattern": {
              "fillmode": "overlay",
              "size": 10,
              "solidity": 0.2
             }
            },
            "type": "barpolar"
           }
          ],
          "carpet": [
           {
            "aaxis": {
             "endlinecolor": "#A2B1C6",
             "gridcolor": "#506784",
             "linecolor": "#506784",
             "minorgridcolor": "#506784",
             "startlinecolor": "#A2B1C6"
            },
            "baxis": {
             "endlinecolor": "#A2B1C6",
             "gridcolor": "#506784",
             "linecolor": "#506784",
             "minorgridcolor": "#506784",
             "startlinecolor": "#A2B1C6"
            },
            "type": "carpet"
           }
          ],
          "choropleth": [
           {
            "colorbar": {
             "outlinewidth": 0,
             "ticks": ""
            },
            "type": "choropleth"
           }
          ],
          "contour": [
           {
            "colorbar": {
             "outlinewidth": 0,
             "ticks": ""
            },
            "colorscale": [
             [
              0,
              "#0d0887"
             ],
             [
              0.1111111111111111,
              "#46039f"
             ],
             [
              0.2222222222222222,
              "#7201a8"
             ],
             [
              0.3333333333333333,
              "#9c179e"
             ],
             [
              0.4444444444444444,
              "#bd3786"
             ],
             [
              0.5555555555555556,
              "#d8576b"
             ],
             [
              0.6666666666666666,
              "#ed7953"
             ],
             [
              0.7777777777777778,
              "#fb9f3a"
             ],
             [
              0.8888888888888888,
              "#fdca26"
             ],
             [
              1,
              "#f0f921"
             ]
            ],
            "type": "contour"
           }
          ],
          "contourcarpet": [
           {
            "colorbar": {
             "outlinewidth": 0,
             "ticks": ""
            },
            "type": "contourcarpet"
           }
          ],
          "heatmap": [
           {
            "colorbar": {
             "outlinewidth": 0,
             "ticks": ""
            },
            "colorscale": [
             [
              0,
              "#0d0887"
             ],
             [
              0.1111111111111111,
              "#46039f"
             ],
             [
              0.2222222222222222,
              "#7201a8"
             ],
             [
              0.3333333333333333,
              "#9c179e"
             ],
             [
              0.4444444444444444,
              "#bd3786"
             ],
             [
              0.5555555555555556,
              "#d8576b"
             ],
             [
              0.6666666666666666,
              "#ed7953"
             ],
             [
              0.7777777777777778,
              "#fb9f3a"
             ],
             [
              0.8888888888888888,
              "#fdca26"
             ],
             [
              1,
              "#f0f921"
             ]
            ],
            "type": "heatmap"
           }
          ],
          "heatmapgl": [
           {
            "colorbar": {
             "outlinewidth": 0,
             "ticks": ""
            },
            "colorscale": [
             [
              0,
              "#0d0887"
             ],
             [
              0.1111111111111111,
              "#46039f"
             ],
             [
              0.2222222222222222,
              "#7201a8"
             ],
             [
              0.3333333333333333,
              "#9c179e"
             ],
             [
              0.4444444444444444,
              "#bd3786"
             ],
             [
              0.5555555555555556,
              "#d8576b"
             ],
             [
              0.6666666666666666,
              "#ed7953"
             ],
             [
              0.7777777777777778,
              "#fb9f3a"
             ],
             [
              0.8888888888888888,
              "#fdca26"
             ],
             [
              1,
              "#f0f921"
             ]
            ],
            "type": "heatmapgl"
           }
          ],
          "histogram": [
           {
            "marker": {
             "pattern": {
              "fillmode": "overlay",
              "size": 10,
              "solidity": 0.2
             }
            },
            "type": "histogram"
           }
          ],
          "histogram2d": [
           {
            "colorbar": {
             "outlinewidth": 0,
             "ticks": ""
            },
            "colorscale": [
             [
              0,
              "#0d0887"
             ],
             [
              0.1111111111111111,
              "#46039f"
             ],
             [
              0.2222222222222222,
              "#7201a8"
             ],
             [
              0.3333333333333333,
              "#9c179e"
             ],
             [
              0.4444444444444444,
              "#bd3786"
             ],
             [
              0.5555555555555556,
              "#d8576b"
             ],
             [
              0.6666666666666666,
              "#ed7953"
             ],
             [
              0.7777777777777778,
              "#fb9f3a"
             ],
             [
              0.8888888888888888,
              "#fdca26"
             ],
             [
              1,
              "#f0f921"
             ]
            ],
            "type": "histogram2d"
           }
          ],
          "histogram2dcontour": [
           {
            "colorbar": {
             "outlinewidth": 0,
             "ticks": ""
            },
            "colorscale": [
             [
              0,
              "#0d0887"
             ],
             [
              0.1111111111111111,
              "#46039f"
             ],
             [
              0.2222222222222222,
              "#7201a8"
             ],
             [
              0.3333333333333333,
              "#9c179e"
             ],
             [
              0.4444444444444444,
              "#bd3786"
             ],
             [
              0.5555555555555556,
              "#d8576b"
             ],
             [
              0.6666666666666666,
              "#ed7953"
             ],
             [
              0.7777777777777778,
              "#fb9f3a"
             ],
             [
              0.8888888888888888,
              "#fdca26"
             ],
             [
              1,
              "#f0f921"
             ]
            ],
            "type": "histogram2dcontour"
           }
          ],
          "mesh3d": [
           {
            "colorbar": {
             "outlinewidth": 0,
             "ticks": ""
            },
            "type": "mesh3d"
           }
          ],
          "parcoords": [
           {
            "line": {
             "colorbar": {
              "outlinewidth": 0,
              "ticks": ""
             }
            },
            "type": "parcoords"
           }
          ],
          "pie": [
           {
            "automargin": true,
            "type": "pie"
           }
          ],
          "scatter": [
           {
            "marker": {
             "line": {
              "color": "#283442"
             }
            },
            "type": "scatter"
           }
          ],
          "scatter3d": [
           {
            "line": {
             "colorbar": {
              "outlinewidth": 0,
              "ticks": ""
             }
            },
            "marker": {
             "colorbar": {
              "outlinewidth": 0,
              "ticks": ""
             }
            },
            "type": "scatter3d"
           }
          ],
          "scattercarpet": [
           {
            "marker": {
             "colorbar": {
              "outlinewidth": 0,
              "ticks": ""
             }
            },
            "type": "scattercarpet"
           }
          ],
          "scattergeo": [
           {
            "marker": {
             "colorbar": {
              "outlinewidth": 0,
              "ticks": ""
             }
            },
            "type": "scattergeo"
           }
          ],
          "scattergl": [
           {
            "marker": {
             "line": {
              "color": "#283442"
             }
            },
            "type": "scattergl"
           }
          ],
          "scattermapbox": [
           {
            "marker": {
             "colorbar": {
              "outlinewidth": 0,
              "ticks": ""
             }
            },
            "type": "scattermapbox"
           }
          ],
          "scatterpolar": [
           {
            "marker": {
             "colorbar": {
              "outlinewidth": 0,
              "ticks": ""
             }
            },
            "type": "scatterpolar"
           }
          ],
          "scatterpolargl": [
           {
            "marker": {
             "colorbar": {
              "outlinewidth": 0,
              "ticks": ""
             }
            },
            "type": "scatterpolargl"
           }
          ],
          "scatterternary": [
           {
            "marker": {
             "colorbar": {
              "outlinewidth": 0,
              "ticks": ""
             }
            },
            "type": "scatterternary"
           }
          ],
          "surface": [
           {
            "colorbar": {
             "outlinewidth": 0,
             "ticks": ""
            },
            "colorscale": [
             [
              0,
              "#0d0887"
             ],
             [
              0.1111111111111111,
              "#46039f"
             ],
             [
              0.2222222222222222,
              "#7201a8"
             ],
             [
              0.3333333333333333,
              "#9c179e"
             ],
             [
              0.4444444444444444,
              "#bd3786"
             ],
             [
              0.5555555555555556,
              "#d8576b"
             ],
             [
              0.6666666666666666,
              "#ed7953"
             ],
             [
              0.7777777777777778,
              "#fb9f3a"
             ],
             [
              0.8888888888888888,
              "#fdca26"
             ],
             [
              1,
              "#f0f921"
             ]
            ],
            "type": "surface"
           }
          ],
          "table": [
           {
            "cells": {
             "fill": {
              "color": "#506784"
             },
             "line": {
              "color": "rgb(17,17,17)"
             }
            },
            "header": {
             "fill": {
              "color": "#2a3f5f"
             },
             "line": {
              "color": "rgb(17,17,17)"
             }
            },
            "type": "table"
           }
          ]
         },
         "layout": {
          "annotationdefaults": {
           "arrowcolor": "#f2f5fa",
           "arrowhead": 0,
           "arrowwidth": 1
          },
          "autotypenumbers": "strict",
          "coloraxis": {
           "colorbar": {
            "outlinewidth": 0,
            "ticks": ""
           }
          },
          "colorscale": {
           "diverging": [
            [
             0,
             "#8e0152"
            ],
            [
             0.1,
             "#c51b7d"
            ],
            [
             0.2,
             "#de77ae"
            ],
            [
             0.3,
             "#f1b6da"
            ],
            [
             0.4,
             "#fde0ef"
            ],
            [
             0.5,
             "#f7f7f7"
            ],
            [
             0.6,
             "#e6f5d0"
            ],
            [
             0.7,
             "#b8e186"
            ],
            [
             0.8,
             "#7fbc41"
            ],
            [
             0.9,
             "#4d9221"
            ],
            [
             1,
             "#276419"
            ]
           ],
           "sequential": [
            [
             0,
             "#0d0887"
            ],
            [
             0.1111111111111111,
             "#46039f"
            ],
            [
             0.2222222222222222,
             "#7201a8"
            ],
            [
             0.3333333333333333,
             "#9c179e"
            ],
            [
             0.4444444444444444,
             "#bd3786"
            ],
            [
             0.5555555555555556,
             "#d8576b"
            ],
            [
             0.6666666666666666,
             "#ed7953"
            ],
            [
             0.7777777777777778,
             "#fb9f3a"
            ],
            [
             0.8888888888888888,
             "#fdca26"
            ],
            [
             1,
             "#f0f921"
            ]
           ],
           "sequentialminus": [
            [
             0,
             "#0d0887"
            ],
            [
             0.1111111111111111,
             "#46039f"
            ],
            [
             0.2222222222222222,
             "#7201a8"
            ],
            [
             0.3333333333333333,
             "#9c179e"
            ],
            [
             0.4444444444444444,
             "#bd3786"
            ],
            [
             0.5555555555555556,
             "#d8576b"
            ],
            [
             0.6666666666666666,
             "#ed7953"
            ],
            [
             0.7777777777777778,
             "#fb9f3a"
            ],
            [
             0.8888888888888888,
             "#fdca26"
            ],
            [
             1,
             "#f0f921"
            ]
           ]
          },
          "colorway": [
           "#636efa",
           "#EF553B",
           "#00cc96",
           "#ab63fa",
           "#FFA15A",
           "#19d3f3",
           "#FF6692",
           "#B6E880",
           "#FF97FF",
           "#FECB52"
          ],
          "font": {
           "color": "#f2f5fa"
          },
          "geo": {
           "bgcolor": "rgb(17,17,17)",
           "lakecolor": "rgb(17,17,17)",
           "landcolor": "rgb(17,17,17)",
           "showlakes": true,
           "showland": true,
           "subunitcolor": "#506784"
          },
          "hoverlabel": {
           "align": "left"
          },
          "hovermode": "closest",
          "mapbox": {
           "style": "dark"
          },
          "paper_bgcolor": "rgb(17,17,17)",
          "plot_bgcolor": "rgb(17,17,17)",
          "polar": {
           "angularaxis": {
            "gridcolor": "#506784",
            "linecolor": "#506784",
            "ticks": ""
           },
           "bgcolor": "rgb(17,17,17)",
           "radialaxis": {
            "gridcolor": "#506784",
            "linecolor": "#506784",
            "ticks": ""
           }
          },
          "scene": {
           "xaxis": {
            "backgroundcolor": "rgb(17,17,17)",
            "gridcolor": "#506784",
            "gridwidth": 2,
            "linecolor": "#506784",
            "showbackground": true,
            "ticks": "",
            "zerolinecolor": "#C8D4E3"
           },
           "yaxis": {
            "backgroundcolor": "rgb(17,17,17)",
            "gridcolor": "#506784",
            "gridwidth": 2,
            "linecolor": "#506784",
            "showbackground": true,
            "ticks": "",
            "zerolinecolor": "#C8D4E3"
           },
           "zaxis": {
            "backgroundcolor": "rgb(17,17,17)",
            "gridcolor": "#506784",
            "gridwidth": 2,
            "linecolor": "#506784",
            "showbackground": true,
            "ticks": "",
            "zerolinecolor": "#C8D4E3"
           }
          },
          "shapedefaults": {
           "line": {
            "color": "#f2f5fa"
           }
          },
          "sliderdefaults": {
           "bgcolor": "#C8D4E3",
           "bordercolor": "rgb(17,17,17)",
           "borderwidth": 1,
           "tickwidth": 0
          },
          "ternary": {
           "aaxis": {
            "gridcolor": "#506784",
            "linecolor": "#506784",
            "ticks": ""
           },
           "baxis": {
            "gridcolor": "#506784",
            "linecolor": "#506784",
            "ticks": ""
           },
           "bgcolor": "rgb(17,17,17)",
           "caxis": {
            "gridcolor": "#506784",
            "linecolor": "#506784",
            "ticks": ""
           }
          },
          "title": {
           "x": 0.05
          },
          "updatemenudefaults": {
           "bgcolor": "#506784",
           "borderwidth": 0
          },
          "xaxis": {
           "automargin": true,
           "gridcolor": "#283442",
           "linecolor": "#506784",
           "ticks": "",
           "title": {
            "standoff": 15
           },
           "zerolinecolor": "#283442",
           "zerolinewidth": 2
          },
          "yaxis": {
           "automargin": true,
           "gridcolor": "#283442",
           "linecolor": "#506784",
           "ticks": "",
           "title": {
            "standoff": 15
           },
           "zerolinecolor": "#283442",
           "zerolinewidth": 2
          }
         }
        },
        "title": {
         "text": "Drawdown",
         "x": 0.5
        },
        "xaxis": {
         "rangeselector": {
          "activecolor": "tomato",
          "bgcolor": "#272b30",
          "buttons": [
           {
            "count": 7,
            "label": "1w",
            "step": "day",
            "stepmode": "backward"
           },
           {
            "count": 14,
            "label": "2w",
            "step": "day",
            "stepmode": "backward"
           },
           {
            "count": 1,
            "label": "1m",
            "step": "month",
            "stepmode": "backward"
           },
           {
            "count": 6,
            "label": "6m",
            "step": "month",
            "stepmode": "backward"
           },
           {
            "count": 12,
            "label": "12m",
            "step": "month",
            "stepmode": "backward"
           },
           {
            "count": 1,
            "label": "YTD",
            "step": "year",
            "stepmode": "todate"
           },
           {
            "label": "All",
            "step": "all"
           }
          ]
         },
         "rangeslider": {
          "visible": false
         }
        },
        "yaxis": {
         "tickfont": {
          "size": 12
         },
         "title": {
          "font": {
           "size": 14
          },
          "text": "%"
         }
        }
       }
      }
     },
     "metadata": {},
     "output_type": "display_data"
    }
   ],
   "source": [
    "drawdown_chart = go.Figure()  # generating a figure that will be updated in the following lines\n",
    "drawdown_chart.add_trace(\n",
    "    go.Scatter(\n",
    "        x=plotlydf_portfval.date,\n",
    "        y=plotlydf_portfval.drawdownpct,\n",
    "        fill='tozeroy',\n",
    "        fillcolor='tomato',\n",
    "        line = dict(\n",
    "            color='firebrick',\n",
    "            width=2),\n",
    "        mode='lines',  # you can also use \"lines+markers\", or just \"markers\"\n",
    "        name='Drawdown %'))\n",
    "\n",
    "drawdown_chart.update_layout(\n",
    "    margin = dict(t=45, b=30, l=25, r=25),\n",
    "    yaxis=dict(\n",
    "        title='%',\n",
    "        titlefont_size=14,\n",
    "        tickfont_size=12,\n",
    "        ),\n",
    "    title='Drawdown',\n",
    "    title_x=0.5,\n",
    "    paper_bgcolor=\"#272b30\",\n",
    "    plot_bgcolor=\"#272b30\"\n",
    ")\n",
    "\n",
    "drawdown_chart.update_xaxes(\n",
    "    rangeslider_visible=False,\n",
    "        rangeselector=dict(\n",
    "            buttons=list([\n",
    "                dict(count=7, label=\"1w\", step=\"day\", stepmode=\"backward\"),\n",
    "                dict(count=14, label=\"2w\", step=\"day\", stepmode=\"backward\"),\n",
    "                dict(count=1, label=\"1m\", step=\"month\", stepmode=\"backward\"),\n",
    "                dict(count=6, label=\"6m\", step=\"month\", stepmode=\"backward\"),\n",
    "                dict(count=12, label=\"12m\", step=\"month\", stepmode=\"backward\"),\n",
    "                dict(count=1, label=\"YTD\", step=\"year\", stepmode=\"todate\"),\n",
    "                dict(label='All', step=\"all\"),\n",
    "            ]),\n",
    "            bgcolor=\"#272b30\",\n",
    "            activecolor='tomato',\n",
    "#             y=1.02,\n",
    "#             x=0.05\n",
    "        )\n",
    ")\n",
    "\n",
    "drawdown_chart.layout.template = CHART_THEME\n",
    "drawdown_chart.layout.height=250\n",
    "\n",
    "drawdown_chart.show()"
   ]
  },
  {
   "cell_type": "code",
   "execution_count": 74,
   "metadata": {},
   "outputs": [
    {
     "data": {
      "application/vnd.plotly.v1+json": {
       "config": {
        "plotlyServerURL": "https://plot.ly"
       },
       "data": [
        {
         "name": "Drawdown %",
         "type": "bar",
         "x": [
          "2020-01-10T00:00:00",
          "2020-01-13T00:00:00",
          "2020-01-14T00:00:00",
          "2020-01-15T00:00:00",
          "2020-01-16T00:00:00",
          "2020-01-17T00:00:00",
          "2020-01-21T00:00:00",
          "2020-01-22T00:00:00",
          "2020-01-23T00:00:00",
          "2020-01-24T00:00:00",
          "2020-01-27T00:00:00",
          "2020-01-28T00:00:00",
          "2020-01-29T00:00:00",
          "2020-01-30T00:00:00",
          "2020-01-31T00:00:00",
          "2020-02-03T00:00:00",
          "2020-02-04T00:00:00",
          "2020-02-05T00:00:00",
          "2020-02-06T00:00:00",
          "2020-02-07T00:00:00",
          "2020-02-10T00:00:00",
          "2020-02-11T00:00:00",
          "2020-02-12T00:00:00",
          "2020-02-13T00:00:00",
          "2020-02-14T00:00:00",
          "2020-02-18T00:00:00",
          "2020-02-19T00:00:00",
          "2020-02-20T00:00:00",
          "2020-02-21T00:00:00",
          "2020-02-24T00:00:00",
          "2020-02-25T00:00:00",
          "2020-02-26T00:00:00",
          "2020-02-27T00:00:00",
          "2020-02-28T00:00:00",
          "2020-03-02T00:00:00",
          "2020-03-03T00:00:00",
          "2020-03-04T00:00:00",
          "2020-03-05T00:00:00",
          "2020-03-06T00:00:00",
          "2020-03-09T00:00:00",
          "2020-03-10T00:00:00",
          "2020-03-11T00:00:00",
          "2020-03-12T00:00:00",
          "2020-03-13T00:00:00",
          "2020-03-16T00:00:00",
          "2020-03-17T00:00:00",
          "2020-03-18T00:00:00",
          "2020-03-19T00:00:00",
          "2020-03-20T00:00:00",
          "2020-03-23T00:00:00",
          "2020-03-24T00:00:00",
          "2020-03-25T00:00:00",
          "2020-03-26T00:00:00",
          "2020-03-27T00:00:00",
          "2020-03-30T00:00:00",
          "2020-03-31T00:00:00",
          "2020-04-01T00:00:00",
          "2020-04-02T00:00:00",
          "2020-04-03T00:00:00",
          "2020-04-06T00:00:00",
          "2020-04-07T00:00:00",
          "2020-04-08T00:00:00",
          "2020-04-09T00:00:00",
          "2020-04-13T00:00:00",
          "2020-04-14T00:00:00",
          "2020-04-15T00:00:00",
          "2020-04-16T00:00:00",
          "2020-04-17T00:00:00",
          "2020-04-20T00:00:00",
          "2020-04-21T00:00:00",
          "2020-04-22T00:00:00",
          "2020-04-23T00:00:00",
          "2020-04-24T00:00:00",
          "2020-04-27T00:00:00",
          "2020-04-28T00:00:00",
          "2020-04-29T00:00:00",
          "2020-04-30T00:00:00",
          "2020-05-01T00:00:00",
          "2020-05-04T00:00:00",
          "2020-05-05T00:00:00",
          "2020-05-06T00:00:00",
          "2020-05-07T00:00:00",
          "2020-05-08T00:00:00",
          "2020-05-11T00:00:00",
          "2020-05-12T00:00:00",
          "2020-05-13T00:00:00",
          "2020-05-14T00:00:00",
          "2020-05-15T00:00:00",
          "2020-05-18T00:00:00",
          "2020-05-19T00:00:00",
          "2020-05-20T00:00:00",
          "2020-05-21T00:00:00",
          "2020-05-22T00:00:00",
          "2020-05-26T00:00:00",
          "2020-05-27T00:00:00",
          "2020-05-28T00:00:00",
          "2020-05-29T00:00:00",
          "2020-06-01T00:00:00",
          "2020-06-02T00:00:00",
          "2020-06-03T00:00:00",
          "2020-06-04T00:00:00",
          "2020-06-05T00:00:00",
          "2020-06-08T00:00:00",
          "2020-06-09T00:00:00",
          "2020-06-10T00:00:00",
          "2020-06-11T00:00:00",
          "2020-06-12T00:00:00",
          "2020-06-15T00:00:00",
          "2020-06-16T00:00:00",
          "2020-06-17T00:00:00",
          "2020-06-18T00:00:00",
          "2020-06-19T00:00:00",
          "2020-06-22T00:00:00",
          "2020-06-23T00:00:00",
          "2020-06-24T00:00:00",
          "2020-06-25T00:00:00",
          "2020-06-26T00:00:00",
          "2020-06-29T00:00:00",
          "2020-06-30T00:00:00",
          "2020-07-01T00:00:00",
          "2020-07-02T00:00:00",
          "2020-07-06T00:00:00",
          "2020-07-07T00:00:00",
          "2020-07-08T00:00:00",
          "2020-07-09T00:00:00",
          "2020-07-10T00:00:00",
          "2020-07-13T00:00:00",
          "2020-07-14T00:00:00",
          "2020-07-15T00:00:00",
          "2020-07-16T00:00:00",
          "2020-07-17T00:00:00",
          "2020-07-20T00:00:00",
          "2020-07-21T00:00:00",
          "2020-07-22T00:00:00",
          "2020-07-23T00:00:00",
          "2020-07-24T00:00:00",
          "2020-07-27T00:00:00",
          "2020-07-28T00:00:00",
          "2020-07-29T00:00:00",
          "2020-07-30T00:00:00",
          "2020-07-31T00:00:00",
          "2020-08-03T00:00:00",
          "2020-08-04T00:00:00",
          "2020-08-05T00:00:00",
          "2020-08-06T00:00:00",
          "2020-08-07T00:00:00",
          "2020-08-10T00:00:00",
          "2020-08-11T00:00:00",
          "2020-08-12T00:00:00",
          "2020-08-13T00:00:00",
          "2020-08-14T00:00:00",
          "2020-08-17T00:00:00",
          "2020-08-18T00:00:00",
          "2020-08-19T00:00:00",
          "2020-08-20T00:00:00",
          "2020-08-21T00:00:00",
          "2020-08-24T00:00:00",
          "2020-08-25T00:00:00",
          "2020-08-26T00:00:00",
          "2020-08-27T00:00:00",
          "2020-08-28T00:00:00",
          "2020-08-31T00:00:00",
          "2020-09-01T00:00:00",
          "2020-09-02T00:00:00",
          "2020-09-03T00:00:00",
          "2020-09-04T00:00:00",
          "2020-09-08T00:00:00",
          "2020-09-09T00:00:00",
          "2020-09-10T00:00:00",
          "2020-09-11T00:00:00",
          "2020-09-14T00:00:00",
          "2020-09-15T00:00:00",
          "2020-09-16T00:00:00",
          "2020-09-17T00:00:00",
          "2020-09-18T00:00:00",
          "2020-09-21T00:00:00",
          "2020-09-22T00:00:00",
          "2020-09-23T00:00:00",
          "2020-09-24T00:00:00",
          "2020-09-25T00:00:00",
          "2020-09-28T00:00:00",
          "2020-09-29T00:00:00",
          "2020-09-30T00:00:00",
          "2020-10-01T00:00:00",
          "2020-10-02T00:00:00",
          "2020-10-05T00:00:00",
          "2020-10-06T00:00:00",
          "2020-10-07T00:00:00",
          "2020-10-08T00:00:00",
          "2020-10-09T00:00:00",
          "2020-10-12T00:00:00",
          "2020-10-13T00:00:00",
          "2020-10-14T00:00:00",
          "2020-10-15T00:00:00",
          "2020-10-16T00:00:00",
          "2020-10-19T00:00:00",
          "2020-10-20T00:00:00",
          "2020-10-21T00:00:00",
          "2020-10-22T00:00:00",
          "2020-10-23T00:00:00",
          "2020-10-26T00:00:00",
          "2020-10-27T00:00:00",
          "2020-10-28T00:00:00",
          "2020-10-29T00:00:00",
          "2020-10-30T00:00:00",
          "2020-11-02T00:00:00",
          "2020-11-03T00:00:00",
          "2020-11-04T00:00:00",
          "2020-11-05T00:00:00",
          "2020-11-06T00:00:00",
          "2020-11-09T00:00:00",
          "2020-11-10T00:00:00",
          "2020-11-11T00:00:00",
          "2020-11-12T00:00:00",
          "2020-11-13T00:00:00",
          "2020-11-16T00:00:00",
          "2020-11-17T00:00:00",
          "2020-11-18T00:00:00",
          "2020-11-19T00:00:00",
          "2020-11-20T00:00:00",
          "2020-11-23T00:00:00",
          "2020-11-24T00:00:00",
          "2020-11-25T00:00:00",
          "2020-11-27T00:00:00",
          "2020-11-30T00:00:00",
          "2020-12-01T00:00:00",
          "2020-12-02T00:00:00",
          "2020-12-03T00:00:00",
          "2020-12-04T00:00:00",
          "2020-12-07T00:00:00",
          "2020-12-08T00:00:00",
          "2020-12-09T00:00:00",
          "2020-12-10T00:00:00",
          "2020-12-11T00:00:00",
          "2020-12-14T00:00:00",
          "2020-12-15T00:00:00",
          "2020-12-16T00:00:00",
          "2020-12-17T00:00:00",
          "2020-12-18T00:00:00",
          "2020-12-21T00:00:00",
          "2020-12-22T00:00:00",
          "2020-12-23T00:00:00",
          "2020-12-24T00:00:00",
          "2020-12-28T00:00:00",
          "2020-12-29T00:00:00",
          "2020-12-30T00:00:00",
          "2020-12-31T00:00:00",
          "2021-01-04T00:00:00",
          "2021-01-05T00:00:00",
          "2021-01-06T00:00:00",
          "2021-01-07T00:00:00",
          "2021-01-08T00:00:00",
          "2021-01-11T00:00:00",
          "2021-01-12T00:00:00",
          "2021-01-13T00:00:00",
          "2021-01-14T00:00:00",
          "2021-01-15T00:00:00",
          "2021-01-19T00:00:00",
          "2021-01-20T00:00:00",
          "2021-01-21T00:00:00",
          "2021-01-22T00:00:00",
          "2021-01-25T00:00:00",
          "2021-01-26T00:00:00",
          "2021-01-27T00:00:00",
          "2021-01-28T00:00:00",
          "2021-01-29T00:00:00",
          "2021-02-01T00:00:00",
          "2021-02-02T00:00:00",
          "2021-02-03T00:00:00",
          "2021-02-04T00:00:00",
          "2021-02-05T00:00:00",
          "2021-02-08T00:00:00",
          "2021-02-09T00:00:00",
          "2021-02-10T00:00:00",
          "2021-02-11T00:00:00",
          "2021-02-12T00:00:00",
          "2021-02-16T00:00:00",
          "2021-02-17T00:00:00",
          "2021-02-18T00:00:00",
          "2021-02-19T00:00:00",
          "2021-02-22T00:00:00",
          "2021-02-23T00:00:00",
          "2021-02-24T00:00:00",
          "2021-02-25T00:00:00",
          "2021-02-26T00:00:00",
          "2021-03-01T00:00:00",
          "2021-03-02T00:00:00",
          "2021-03-03T00:00:00",
          "2021-03-04T00:00:00",
          "2021-03-05T00:00:00",
          "2021-03-08T00:00:00",
          "2021-03-09T00:00:00",
          "2021-03-10T00:00:00",
          "2021-03-11T00:00:00",
          "2021-03-12T00:00:00",
          "2021-03-15T00:00:00",
          "2021-03-16T00:00:00",
          "2021-03-17T00:00:00",
          "2021-03-18T00:00:00",
          "2021-03-19T00:00:00",
          "2021-03-22T00:00:00",
          "2021-03-23T00:00:00",
          "2021-03-24T00:00:00",
          "2021-03-25T00:00:00",
          "2021-03-26T00:00:00",
          "2021-03-29T00:00:00",
          "2021-03-30T00:00:00",
          "2021-03-31T00:00:00",
          "2021-04-01T00:00:00",
          "2021-04-05T00:00:00",
          "2021-04-06T00:00:00",
          "2021-04-07T00:00:00",
          "2021-04-08T00:00:00",
          "2021-04-09T00:00:00",
          "2021-04-12T00:00:00",
          "2021-04-13T00:00:00",
          "2021-04-14T00:00:00",
          "2021-04-15T00:00:00",
          "2021-04-16T00:00:00",
          "2021-04-19T00:00:00",
          "2021-04-20T00:00:00",
          "2021-04-21T00:00:00",
          "2021-04-22T00:00:00",
          "2021-04-23T00:00:00",
          "2021-04-26T00:00:00",
          "2021-04-27T00:00:00",
          "2021-04-28T00:00:00",
          "2021-04-29T00:00:00",
          "2021-04-30T00:00:00",
          "2021-05-03T00:00:00",
          "2021-05-04T00:00:00",
          "2021-05-05T00:00:00",
          "2021-05-06T00:00:00",
          "2021-05-07T00:00:00",
          "2021-05-10T00:00:00",
          "2021-05-11T00:00:00",
          "2021-05-12T00:00:00",
          "2021-05-13T00:00:00",
          "2021-05-14T00:00:00",
          "2021-05-17T00:00:00",
          "2021-05-18T00:00:00",
          "2021-05-19T00:00:00",
          "2021-05-20T00:00:00",
          "2021-05-21T00:00:00",
          "2021-05-24T00:00:00",
          "2021-05-25T00:00:00",
          "2021-05-26T00:00:00",
          "2021-05-27T00:00:00",
          "2021-05-28T00:00:00",
          "2021-06-01T00:00:00",
          "2021-06-02T00:00:00",
          "2021-06-03T00:00:00",
          "2021-06-04T00:00:00",
          "2021-06-07T00:00:00",
          "2021-06-08T00:00:00",
          "2021-06-09T00:00:00",
          "2021-06-10T00:00:00",
          "2021-06-11T00:00:00",
          "2021-06-14T00:00:00",
          "2021-06-15T00:00:00",
          "2021-06-16T00:00:00",
          "2021-06-17T00:00:00",
          "2021-06-18T00:00:00",
          "2021-06-21T00:00:00",
          "2021-06-22T00:00:00",
          "2021-06-23T00:00:00",
          "2021-06-24T00:00:00",
          "2021-06-25T00:00:00",
          "2021-06-28T00:00:00",
          "2021-06-29T00:00:00",
          "2021-06-30T00:00:00",
          "2021-07-01T00:00:00",
          "2021-07-02T00:00:00",
          "2021-07-06T00:00:00",
          "2021-07-07T00:00:00",
          "2021-07-08T00:00:00",
          "2021-07-09T00:00:00",
          "2021-07-12T00:00:00",
          "2021-07-13T00:00:00",
          "2021-07-14T00:00:00",
          "2021-07-15T00:00:00",
          "2021-07-16T00:00:00",
          "2021-07-19T00:00:00",
          "2021-07-20T00:00:00",
          "2021-07-21T00:00:00",
          "2021-07-22T00:00:00",
          "2021-07-23T00:00:00",
          "2021-07-26T00:00:00",
          "2021-07-27T00:00:00",
          "2021-07-28T00:00:00",
          "2021-07-29T00:00:00",
          "2021-07-30T00:00:00",
          "2021-08-02T00:00:00",
          "2021-08-03T00:00:00",
          "2021-08-04T00:00:00",
          "2021-08-05T00:00:00",
          "2021-08-06T00:00:00",
          "2021-08-09T00:00:00",
          "2021-08-10T00:00:00",
          "2021-08-11T00:00:00",
          "2021-08-12T00:00:00",
          "2021-08-13T00:00:00",
          "2021-08-16T00:00:00",
          "2021-08-17T00:00:00",
          "2021-08-18T00:00:00",
          "2021-08-19T00:00:00",
          "2021-08-20T00:00:00",
          "2021-08-23T00:00:00",
          "2021-08-24T00:00:00",
          "2021-08-25T00:00:00",
          "2021-08-26T00:00:00",
          "2021-08-27T00:00:00",
          "2021-08-30T00:00:00",
          "2021-08-31T00:00:00",
          "2021-09-01T00:00:00",
          "2021-09-02T00:00:00",
          "2021-09-03T00:00:00",
          "2021-09-07T00:00:00",
          "2021-09-08T00:00:00",
          "2021-09-09T00:00:00",
          "2021-09-10T00:00:00",
          "2021-09-13T00:00:00",
          "2021-09-14T00:00:00",
          "2021-09-15T00:00:00",
          "2021-09-16T00:00:00",
          "2021-09-17T00:00:00",
          "2021-09-20T00:00:00",
          "2021-09-21T00:00:00",
          "2021-09-22T00:00:00",
          "2021-09-23T00:00:00",
          "2021-09-24T00:00:00",
          "2021-09-27T00:00:00",
          "2021-09-28T00:00:00",
          "2021-09-29T00:00:00",
          "2021-09-30T00:00:00",
          "2021-10-01T00:00:00",
          "2021-10-04T00:00:00",
          "2021-10-05T00:00:00",
          "2021-10-06T00:00:00",
          "2021-10-07T00:00:00",
          "2021-10-08T00:00:00",
          "2021-10-11T00:00:00",
          "2021-10-12T00:00:00",
          "2021-10-13T00:00:00",
          "2021-10-14T00:00:00",
          "2021-10-15T00:00:00",
          "2021-10-18T00:00:00",
          "2021-10-19T00:00:00",
          "2021-10-20T00:00:00",
          "2021-10-21T00:00:00",
          "2021-10-22T00:00:00",
          "2021-10-25T00:00:00",
          "2021-10-26T00:00:00",
          "2021-10-27T00:00:00",
          "2021-10-28T00:00:00",
          "2021-10-29T00:00:00",
          "2021-11-01T00:00:00",
          "2021-11-02T00:00:00",
          "2021-11-03T00:00:00",
          "2021-11-04T00:00:00",
          "2021-11-05T00:00:00",
          "2021-11-08T00:00:00",
          "2021-11-09T00:00:00",
          "2021-11-10T00:00:00",
          "2021-11-11T00:00:00",
          "2021-11-12T00:00:00",
          "2021-11-15T00:00:00",
          "2021-11-16T00:00:00",
          "2021-11-17T00:00:00",
          "2021-11-18T00:00:00",
          "2021-11-19T00:00:00",
          "2021-11-22T00:00:00",
          "2021-11-23T00:00:00",
          "2021-11-24T00:00:00",
          "2021-11-26T00:00:00",
          "2021-11-29T00:00:00",
          "2021-11-30T00:00:00",
          "2021-12-01T00:00:00",
          "2021-12-02T00:00:00",
          "2021-12-03T00:00:00"
         ],
         "xperiod": "M1",
         "y": [
          null,
          null,
          null,
          null,
          null,
          null,
          null,
          null,
          null,
          null,
          null,
          null,
          null,
          null,
          null,
          1463.53,
          null,
          null,
          null,
          null,
          704.88,
          null,
          null,
          null,
          null,
          null,
          null,
          null,
          null,
          null,
          null,
          null,
          null,
          null,
          null,
          null,
          null,
          null,
          null,
          null,
          null,
          null,
          null,
          570.13,
          null,
          null,
          null,
          null,
          656.28,
          null,
          null,
          null,
          1650.28,
          null,
          1090.32,
          null,
          null,
          null,
          null,
          null,
          null,
          null,
          null,
          null,
          5003.9,
          null,
          null,
          -1516.43,
          null,
          null,
          1408.84,
          null,
          2633.35,
          null,
          1037.88,
          null,
          881.88,
          null,
          null,
          2693.95,
          null,
          null,
          null,
          null,
          null,
          null,
          null,
          966,
          null,
          null,
          null,
          null,
          4297.76,
          733,
          2388.15,
          null,
          493.24,
          633.24,
          null,
          1597.15,
          null,
          1655.83,
          2385.04,
          null,
          852.36,
          null,
          2894.86,
          null,
          74.20000000000002,
          null,
          null,
          null,
          null,
          null,
          null,
          null,
          -59.92000000000007,
          null,
          null,
          null,
          null,
          null,
          null,
          null,
          null,
          null,
          null,
          null,
          null,
          null,
          null,
          null,
          null,
          null,
          null,
          -1207.32,
          null,
          null,
          null,
          910.32,
          null,
          null,
          1520.04,
          null,
          null,
          null,
          null,
          null,
          null,
          null,
          null,
          null,
          null,
          1731.22,
          null,
          null,
          747.5,
          null,
          null,
          1705.4,
          null,
          null,
          null,
          1147.77,
          2941.56,
          2392.4700000000003,
          null,
          null,
          null,
          null,
          null,
          null,
          null,
          null,
          null,
          null,
          null,
          null,
          null,
          null,
          null,
          null,
          null,
          null,
          null,
          null,
          null,
          null,
          null,
          null,
          -2298.6,
          1562.16,
          null,
          null,
          null,
          null,
          null,
          null,
          null,
          null,
          null,
          null,
          null,
          null,
          null,
          null,
          null,
          1752.26,
          null,
          null,
          null,
          null,
          null,
          null,
          -890.2,
          null,
          588.24,
          null,
          null,
          null,
          null,
          null,
          null,
          null,
          null,
          null,
          null,
          null,
          null,
          null,
          1705.46,
          null,
          null,
          null,
          null,
          null,
          null,
          null,
          null,
          null,
          null,
          null,
          null,
          null,
          null,
          727.74,
          null,
          null,
          null,
          null,
          null,
          null,
          null,
          null,
          null,
          null,
          null,
          null,
          null,
          null,
          null,
          null,
          null,
          null,
          null,
          null,
          null,
          null,
          null,
          null,
          null,
          null,
          null,
          null,
          null,
          null,
          null,
          -1897.1,
          -684.9,
          -988.88,
          null,
          -40.64000000000004,
          null,
          null,
          null,
          null,
          null,
          null,
          237.6,
          -743,
          null,
          null,
          null,
          null,
          null,
          null,
          null,
          null,
          null,
          null,
          null,
          null,
          null,
          null,
          null,
          null,
          null,
          null,
          null,
          null,
          null,
          null,
          null,
          null,
          null,
          null,
          null,
          null,
          null,
          null,
          null,
          null,
          null,
          null,
          null,
          null,
          null,
          null,
          null,
          null,
          null,
          null,
          -1199.55,
          null,
          null,
          null,
          null,
          null,
          null,
          1455,
          null,
          null,
          null,
          null,
          null,
          null,
          null,
          null,
          null,
          null,
          null,
          null,
          null,
          null,
          null,
          null,
          null,
          null,
          null,
          null,
          null,
          null,
          null,
          null,
          null,
          null,
          null,
          null,
          null,
          null,
          null,
          null,
          null,
          null,
          null,
          null,
          null,
          null,
          null,
          null,
          null,
          null,
          null,
          null,
          null,
          null,
          null,
          null,
          null,
          null,
          null,
          1007.61,
          null,
          null,
          806.25,
          null,
          null,
          null,
          null,
          null,
          null,
          null,
          null,
          null,
          null,
          null,
          null,
          null,
          null,
          null,
          null,
          null,
          null,
          null,
          null,
          null,
          null,
          null,
          null,
          null,
          null,
          null,
          null,
          null,
          null,
          null,
          null,
          null,
          null,
          null,
          null,
          null,
          null,
          null,
          null,
          null,
          null,
          928.8,
          null,
          null,
          null,
          null,
          null,
          775.8,
          null,
          null,
          null,
          null,
          null,
          null,
          null,
          518.25,
          -3078,
          null,
          null,
          null,
          null,
          null,
          null,
          null,
          null,
          null,
          -1852.65,
          null,
          null,
          null,
          null,
          null,
          null,
          null,
          null,
          null,
          null,
          null,
          null,
          null,
          null,
          null,
          null,
          null
         ]
        }
       ],
       "layout": {
        "height": 250,
        "margin": {
         "b": 30,
         "l": 25,
         "r": 25,
         "t": 50
        },
        "paper_bgcolor": "#272b30",
        "plot_bgcolor": "#272b30",
        "template": {
         "data": {
          "bar": [
           {
            "error_x": {
             "color": "#f2f5fa"
            },
            "error_y": {
             "color": "#f2f5fa"
            },
            "marker": {
             "line": {
              "color": "rgb(17,17,17)",
              "width": 0.5
             },
             "pattern": {
              "fillmode": "overlay",
              "size": 10,
              "solidity": 0.2
             }
            },
            "type": "bar"
           }
          ],
          "barpolar": [
           {
            "marker": {
             "line": {
              "color": "rgb(17,17,17)",
              "width": 0.5
             },
             "pattern": {
              "fillmode": "overlay",
              "size": 10,
              "solidity": 0.2
             }
            },
            "type": "barpolar"
           }
          ],
          "carpet": [
           {
            "aaxis": {
             "endlinecolor": "#A2B1C6",
             "gridcolor": "#506784",
             "linecolor": "#506784",
             "minorgridcolor": "#506784",
             "startlinecolor": "#A2B1C6"
            },
            "baxis": {
             "endlinecolor": "#A2B1C6",
             "gridcolor": "#506784",
             "linecolor": "#506784",
             "minorgridcolor": "#506784",
             "startlinecolor": "#A2B1C6"
            },
            "type": "carpet"
           }
          ],
          "choropleth": [
           {
            "colorbar": {
             "outlinewidth": 0,
             "ticks": ""
            },
            "type": "choropleth"
           }
          ],
          "contour": [
           {
            "colorbar": {
             "outlinewidth": 0,
             "ticks": ""
            },
            "colorscale": [
             [
              0,
              "#0d0887"
             ],
             [
              0.1111111111111111,
              "#46039f"
             ],
             [
              0.2222222222222222,
              "#7201a8"
             ],
             [
              0.3333333333333333,
              "#9c179e"
             ],
             [
              0.4444444444444444,
              "#bd3786"
             ],
             [
              0.5555555555555556,
              "#d8576b"
             ],
             [
              0.6666666666666666,
              "#ed7953"
             ],
             [
              0.7777777777777778,
              "#fb9f3a"
             ],
             [
              0.8888888888888888,
              "#fdca26"
             ],
             [
              1,
              "#f0f921"
             ]
            ],
            "type": "contour"
           }
          ],
          "contourcarpet": [
           {
            "colorbar": {
             "outlinewidth": 0,
             "ticks": ""
            },
            "type": "contourcarpet"
           }
          ],
          "heatmap": [
           {
            "colorbar": {
             "outlinewidth": 0,
             "ticks": ""
            },
            "colorscale": [
             [
              0,
              "#0d0887"
             ],
             [
              0.1111111111111111,
              "#46039f"
             ],
             [
              0.2222222222222222,
              "#7201a8"
             ],
             [
              0.3333333333333333,
              "#9c179e"
             ],
             [
              0.4444444444444444,
              "#bd3786"
             ],
             [
              0.5555555555555556,
              "#d8576b"
             ],
             [
              0.6666666666666666,
              "#ed7953"
             ],
             [
              0.7777777777777778,
              "#fb9f3a"
             ],
             [
              0.8888888888888888,
              "#fdca26"
             ],
             [
              1,
              "#f0f921"
             ]
            ],
            "type": "heatmap"
           }
          ],
          "heatmapgl": [
           {
            "colorbar": {
             "outlinewidth": 0,
             "ticks": ""
            },
            "colorscale": [
             [
              0,
              "#0d0887"
             ],
             [
              0.1111111111111111,
              "#46039f"
             ],
             [
              0.2222222222222222,
              "#7201a8"
             ],
             [
              0.3333333333333333,
              "#9c179e"
             ],
             [
              0.4444444444444444,
              "#bd3786"
             ],
             [
              0.5555555555555556,
              "#d8576b"
             ],
             [
              0.6666666666666666,
              "#ed7953"
             ],
             [
              0.7777777777777778,
              "#fb9f3a"
             ],
             [
              0.8888888888888888,
              "#fdca26"
             ],
             [
              1,
              "#f0f921"
             ]
            ],
            "type": "heatmapgl"
           }
          ],
          "histogram": [
           {
            "marker": {
             "pattern": {
              "fillmode": "overlay",
              "size": 10,
              "solidity": 0.2
             }
            },
            "type": "histogram"
           }
          ],
          "histogram2d": [
           {
            "colorbar": {
             "outlinewidth": 0,
             "ticks": ""
            },
            "colorscale": [
             [
              0,
              "#0d0887"
             ],
             [
              0.1111111111111111,
              "#46039f"
             ],
             [
              0.2222222222222222,
              "#7201a8"
             ],
             [
              0.3333333333333333,
              "#9c179e"
             ],
             [
              0.4444444444444444,
              "#bd3786"
             ],
             [
              0.5555555555555556,
              "#d8576b"
             ],
             [
              0.6666666666666666,
              "#ed7953"
             ],
             [
              0.7777777777777778,
              "#fb9f3a"
             ],
             [
              0.8888888888888888,
              "#fdca26"
             ],
             [
              1,
              "#f0f921"
             ]
            ],
            "type": "histogram2d"
           }
          ],
          "histogram2dcontour": [
           {
            "colorbar": {
             "outlinewidth": 0,
             "ticks": ""
            },
            "colorscale": [
             [
              0,
              "#0d0887"
             ],
             [
              0.1111111111111111,
              "#46039f"
             ],
             [
              0.2222222222222222,
              "#7201a8"
             ],
             [
              0.3333333333333333,
              "#9c179e"
             ],
             [
              0.4444444444444444,
              "#bd3786"
             ],
             [
              0.5555555555555556,
              "#d8576b"
             ],
             [
              0.6666666666666666,
              "#ed7953"
             ],
             [
              0.7777777777777778,
              "#fb9f3a"
             ],
             [
              0.8888888888888888,
              "#fdca26"
             ],
             [
              1,
              "#f0f921"
             ]
            ],
            "type": "histogram2dcontour"
           }
          ],
          "mesh3d": [
           {
            "colorbar": {
             "outlinewidth": 0,
             "ticks": ""
            },
            "type": "mesh3d"
           }
          ],
          "parcoords": [
           {
            "line": {
             "colorbar": {
              "outlinewidth": 0,
              "ticks": ""
             }
            },
            "type": "parcoords"
           }
          ],
          "pie": [
           {
            "automargin": true,
            "type": "pie"
           }
          ],
          "scatter": [
           {
            "marker": {
             "line": {
              "color": "#283442"
             }
            },
            "type": "scatter"
           }
          ],
          "scatter3d": [
           {
            "line": {
             "colorbar": {
              "outlinewidth": 0,
              "ticks": ""
             }
            },
            "marker": {
             "colorbar": {
              "outlinewidth": 0,
              "ticks": ""
             }
            },
            "type": "scatter3d"
           }
          ],
          "scattercarpet": [
           {
            "marker": {
             "colorbar": {
              "outlinewidth": 0,
              "ticks": ""
             }
            },
            "type": "scattercarpet"
           }
          ],
          "scattergeo": [
           {
            "marker": {
             "colorbar": {
              "outlinewidth": 0,
              "ticks": ""
             }
            },
            "type": "scattergeo"
           }
          ],
          "scattergl": [
           {
            "marker": {
             "line": {
              "color": "#283442"
             }
            },
            "type": "scattergl"
           }
          ],
          "scattermapbox": [
           {
            "marker": {
             "colorbar": {
              "outlinewidth": 0,
              "ticks": ""
             }
            },
            "type": "scattermapbox"
           }
          ],
          "scatterpolar": [
           {
            "marker": {
             "colorbar": {
              "outlinewidth": 0,
              "ticks": ""
             }
            },
            "type": "scatterpolar"
           }
          ],
          "scatterpolargl": [
           {
            "marker": {
             "colorbar": {
              "outlinewidth": 0,
              "ticks": ""
             }
            },
            "type": "scatterpolargl"
           }
          ],
          "scatterternary": [
           {
            "marker": {
             "colorbar": {
              "outlinewidth": 0,
              "ticks": ""
             }
            },
            "type": "scatterternary"
           }
          ],
          "surface": [
           {
            "colorbar": {
             "outlinewidth": 0,
             "ticks": ""
            },
            "colorscale": [
             [
              0,
              "#0d0887"
             ],
             [
              0.1111111111111111,
              "#46039f"
             ],
             [
              0.2222222222222222,
              "#7201a8"
             ],
             [
              0.3333333333333333,
              "#9c179e"
             ],
             [
              0.4444444444444444,
              "#bd3786"
             ],
             [
              0.5555555555555556,
              "#d8576b"
             ],
             [
              0.6666666666666666,
              "#ed7953"
             ],
             [
              0.7777777777777778,
              "#fb9f3a"
             ],
             [
              0.8888888888888888,
              "#fdca26"
             ],
             [
              1,
              "#f0f921"
             ]
            ],
            "type": "surface"
           }
          ],
          "table": [
           {
            "cells": {
             "fill": {
              "color": "#506784"
             },
             "line": {
              "color": "rgb(17,17,17)"
             }
            },
            "header": {
             "fill": {
              "color": "#2a3f5f"
             },
             "line": {
              "color": "rgb(17,17,17)"
             }
            },
            "type": "table"
           }
          ]
         },
         "layout": {
          "annotationdefaults": {
           "arrowcolor": "#f2f5fa",
           "arrowhead": 0,
           "arrowwidth": 1
          },
          "autotypenumbers": "strict",
          "coloraxis": {
           "colorbar": {
            "outlinewidth": 0,
            "ticks": ""
           }
          },
          "colorscale": {
           "diverging": [
            [
             0,
             "#8e0152"
            ],
            [
             0.1,
             "#c51b7d"
            ],
            [
             0.2,
             "#de77ae"
            ],
            [
             0.3,
             "#f1b6da"
            ],
            [
             0.4,
             "#fde0ef"
            ],
            [
             0.5,
             "#f7f7f7"
            ],
            [
             0.6,
             "#e6f5d0"
            ],
            [
             0.7,
             "#b8e186"
            ],
            [
             0.8,
             "#7fbc41"
            ],
            [
             0.9,
             "#4d9221"
            ],
            [
             1,
             "#276419"
            ]
           ],
           "sequential": [
            [
             0,
             "#0d0887"
            ],
            [
             0.1111111111111111,
             "#46039f"
            ],
            [
             0.2222222222222222,
             "#7201a8"
            ],
            [
             0.3333333333333333,
             "#9c179e"
            ],
            [
             0.4444444444444444,
             "#bd3786"
            ],
            [
             0.5555555555555556,
             "#d8576b"
            ],
            [
             0.6666666666666666,
             "#ed7953"
            ],
            [
             0.7777777777777778,
             "#fb9f3a"
            ],
            [
             0.8888888888888888,
             "#fdca26"
            ],
            [
             1,
             "#f0f921"
            ]
           ],
           "sequentialminus": [
            [
             0,
             "#0d0887"
            ],
            [
             0.1111111111111111,
             "#46039f"
            ],
            [
             0.2222222222222222,
             "#7201a8"
            ],
            [
             0.3333333333333333,
             "#9c179e"
            ],
            [
             0.4444444444444444,
             "#bd3786"
            ],
            [
             0.5555555555555556,
             "#d8576b"
            ],
            [
             0.6666666666666666,
             "#ed7953"
            ],
            [
             0.7777777777777778,
             "#fb9f3a"
            ],
            [
             0.8888888888888888,
             "#fdca26"
            ],
            [
             1,
             "#f0f921"
            ]
           ]
          },
          "colorway": [
           "#636efa",
           "#EF553B",
           "#00cc96",
           "#ab63fa",
           "#FFA15A",
           "#19d3f3",
           "#FF6692",
           "#B6E880",
           "#FF97FF",
           "#FECB52"
          ],
          "font": {
           "color": "#f2f5fa"
          },
          "geo": {
           "bgcolor": "rgb(17,17,17)",
           "lakecolor": "rgb(17,17,17)",
           "landcolor": "rgb(17,17,17)",
           "showlakes": true,
           "showland": true,
           "subunitcolor": "#506784"
          },
          "hoverlabel": {
           "align": "left"
          },
          "hovermode": "closest",
          "mapbox": {
           "style": "dark"
          },
          "paper_bgcolor": "rgb(17,17,17)",
          "plot_bgcolor": "rgb(17,17,17)",
          "polar": {
           "angularaxis": {
            "gridcolor": "#506784",
            "linecolor": "#506784",
            "ticks": ""
           },
           "bgcolor": "rgb(17,17,17)",
           "radialaxis": {
            "gridcolor": "#506784",
            "linecolor": "#506784",
            "ticks": ""
           }
          },
          "scene": {
           "xaxis": {
            "backgroundcolor": "rgb(17,17,17)",
            "gridcolor": "#506784",
            "gridwidth": 2,
            "linecolor": "#506784",
            "showbackground": true,
            "ticks": "",
            "zerolinecolor": "#C8D4E3"
           },
           "yaxis": {
            "backgroundcolor": "rgb(17,17,17)",
            "gridcolor": "#506784",
            "gridwidth": 2,
            "linecolor": "#506784",
            "showbackground": true,
            "ticks": "",
            "zerolinecolor": "#C8D4E3"
           },
           "zaxis": {
            "backgroundcolor": "rgb(17,17,17)",
            "gridcolor": "#506784",
            "gridwidth": 2,
            "linecolor": "#506784",
            "showbackground": true,
            "ticks": "",
            "zerolinecolor": "#C8D4E3"
           }
          },
          "shapedefaults": {
           "line": {
            "color": "#f2f5fa"
           }
          },
          "sliderdefaults": {
           "bgcolor": "#C8D4E3",
           "bordercolor": "rgb(17,17,17)",
           "borderwidth": 1,
           "tickwidth": 0
          },
          "ternary": {
           "aaxis": {
            "gridcolor": "#506784",
            "linecolor": "#506784",
            "ticks": ""
           },
           "baxis": {
            "gridcolor": "#506784",
            "linecolor": "#506784",
            "ticks": ""
           },
           "bgcolor": "rgb(17,17,17)",
           "caxis": {
            "gridcolor": "#506784",
            "linecolor": "#506784",
            "ticks": ""
           }
          },
          "title": {
           "x": 0.05
          },
          "updatemenudefaults": {
           "bgcolor": "#506784",
           "borderwidth": 0
          },
          "xaxis": {
           "automargin": true,
           "gridcolor": "#283442",
           "linecolor": "#506784",
           "ticks": "",
           "title": {
            "standoff": 15
           },
           "zerolinecolor": "#283442",
           "zerolinewidth": 2
          },
          "yaxis": {
           "automargin": true,
           "gridcolor": "#283442",
           "linecolor": "#506784",
           "ticks": "",
           "title": {
            "standoff": 15
           },
           "zerolinecolor": "#283442",
           "zerolinewidth": 2
          }
         }
        },
        "title": {
         "text": "Monthly Buy & Sell Orders",
         "x": 0.5
        },
        "xaxis": {
         "rangeselector": {
          "activecolor": "tomato",
          "bgcolor": "#272b30",
          "buttons": [
           {
            "count": 7,
            "label": "1w",
            "step": "day",
            "stepmode": "backward"
           },
           {
            "count": 14,
            "label": "2w",
            "step": "day",
            "stepmode": "backward"
           },
           {
            "count": 1,
            "label": "1m",
            "step": "month",
            "stepmode": "backward"
           },
           {
            "count": 6,
            "label": "6m",
            "step": "month",
            "stepmode": "backward"
           },
           {
            "count": 12,
            "label": "12m",
            "step": "month",
            "stepmode": "backward"
           },
           {
            "count": 1,
            "label": "YTD",
            "step": "year",
            "stepmode": "todate"
           },
           {
            "label": "All",
            "step": "all"
           }
          ]
         },
         "rangeslider": {
          "visible": false
         }
        },
        "yaxis": {
         "tickfont": {
          "size": 12
         },
         "title": {
          "font": {
           "size": 14
          },
          "text": "$ Value"
         }
        }
       }
      }
     },
     "metadata": {},
     "output_type": "display_data"
    }
   ],
   "source": [
    "portfolio_cashflow = go.Figure()  # generating a figure that will be updated in the following lines\n",
    "portfolio_cashflow.add_trace(\n",
    "    go.Bar(\n",
    "        x=plotlydf_portfval.date,\n",
    "        y=plotlydf_portfval.cashflow.replace(0,np.nan),\n",
    "        name='Drawdown %',\n",
    "        xperiod=\"M1\",\n",
    "    )\n",
    ")\n",
    "\n",
    "portfolio_cashflow.update_layout(\n",
    "    margin = dict(t=50, b=30, l=25, r=25),\n",
    "    yaxis=dict(\n",
    "        title='$ Value',\n",
    "        titlefont_size=14,\n",
    "        tickfont_size=12,\n",
    "        ),\n",
    "    title='Monthly Buy & Sell Orders',\n",
    "    title_x=0.5,\n",
    "    paper_bgcolor=\"#272b30\",\n",
    "    plot_bgcolor=\"#272b30\"\n",
    ")\n",
    "\n",
    "portfolio_cashflow.update_xaxes(\n",
    "    rangeslider_visible=False,\n",
    "        rangeselector=dict(\n",
    "            buttons=list([\n",
    "                dict(count=7, label=\"1w\", step=\"day\", stepmode=\"backward\"),\n",
    "                dict(count=14, label=\"2w\", step=\"day\", stepmode=\"backward\"),\n",
    "                dict(count=1, label=\"1m\", step=\"month\", stepmode=\"backward\"),\n",
    "                dict(count=6, label=\"6m\", step=\"month\", stepmode=\"backward\"),\n",
    "                dict(count=12, label=\"12m\", step=\"month\", stepmode=\"backward\"),\n",
    "                dict(count=1, label=\"YTD\", step=\"year\", stepmode=\"todate\"),\n",
    "                dict(label='All', step=\"all\"),\n",
    "            ]),\n",
    "            bgcolor=\"#272b30\",\n",
    "            activecolor='tomato',\n",
    "        )\n",
    ")\n",
    "\n",
    "portfolio_cashflow.layout.template = CHART_THEME\n",
    "portfolio_cashflow.layout.height=250\n",
    "portfolio_cashflow.show()"
   ]
  },
  {
   "cell_type": "code",
   "execution_count": null,
   "metadata": {},
   "outputs": [],
   "source": []
  },
  {
   "cell_type": "markdown",
   "metadata": {},
   "source": [
    "### Comparing S&P500 performance with Portfolio Value"
   ]
  },
  {
   "cell_type": "markdown",
   "metadata": {},
   "source": [
    "<div class=\"alert alert-block alert-danger\">\n",
    "<b></b><br>Comparing our portfolio value with the S&P500 is tricky if you have a lot of buy and sell orders, because it causes an <b>\"artificial\" impact on the net value of the portfolio</b>. If you still want to use it, here's the code!\n",
    "</div>"
   ]
  },
  {
   "cell_type": "code",
   "execution_count": 135,
   "metadata": {},
   "outputs": [
    {
     "data": {
      "text/html": [
       "<div>\n",
       "<style scoped>\n",
       "    .dataframe tbody tr th:only-of-type {\n",
       "        vertical-align: middle;\n",
       "    }\n",
       "\n",
       "    .dataframe tbody tr th {\n",
       "        vertical-align: top;\n",
       "    }\n",
       "\n",
       "    .dataframe thead th {\n",
       "        text-align: right;\n",
       "    }\n",
       "</style>\n",
       "<table border=\"1\" class=\"dataframe\">\n",
       "  <thead>\n",
       "    <tr style=\"text-align: right;\">\n",
       "      <th></th>\n",
       "      <th>timeperiod</th>\n",
       "      <th>net_value</th>\n",
       "      <th>sp500_mktvalue</th>\n",
       "    </tr>\n",
       "  </thead>\n",
       "  <tbody>\n",
       "    <tr>\n",
       "      <th>0</th>\n",
       "      <td>2020 - 01</td>\n",
       "      <td>NaN</td>\n",
       "      <td>NaN</td>\n",
       "    </tr>\n",
       "    <tr>\n",
       "      <th>1</th>\n",
       "      <td>2020 - 02</td>\n",
       "      <td>-6.836947</td>\n",
       "      <td>-8.411047</td>\n",
       "    </tr>\n",
       "    <tr>\n",
       "      <th>2</th>\n",
       "      <td>2020 - 03</td>\n",
       "      <td>-17.200087</td>\n",
       "      <td>-12.511932</td>\n",
       "    </tr>\n",
       "    <tr>\n",
       "      <th>3</th>\n",
       "      <td>2020 - 04</td>\n",
       "      <td>44.666310</td>\n",
       "      <td>12.684410</td>\n",
       "    </tr>\n",
       "    <tr>\n",
       "      <th>4</th>\n",
       "      <td>2020 - 05</td>\n",
       "      <td>31.054796</td>\n",
       "      <td>4.528178</td>\n",
       "    </tr>\n",
       "  </tbody>\n",
       "</table>\n",
       "</div>"
      ],
      "text/plain": [
       "  timeperiod  net_value  sp500_mktvalue\n",
       "0  2020 - 01        NaN             NaN\n",
       "1  2020 - 02  -6.836947       -8.411047\n",
       "2  2020 - 03 -17.200087      -12.511932\n",
       "3  2020 - 04  44.666310       12.684410\n",
       "4  2020 - 05  31.054796        4.528178"
      ]
     },
     "execution_count": 135,
     "metadata": {},
     "output_type": "execute_result"
    }
   ],
   "source": [
    "df = plotlydf_portfval[['date', 'net_value', 'sp500_mktvalue']].copy()\n",
    "df['month'] = df.date.dt.month_name()\n",
    "df['weekday'] = df.date.dt.day_name()\n",
    "df['year'] = df.date.dt.year\n",
    "df['weeknumber'] = df.date.dt.isocalendar().week\n",
    "df['timeperiod'] = df.year.astype(str) + ' - ' + df.date.dt.month.astype(str).str.zfill(2)\n",
    "sp = df.reset_index().groupby('timeperiod').last()['sp500_mktvalue'].pct_change()*100\n",
    "ptf = df.reset_index().groupby('timeperiod').last()['net_value'].pct_change()*100\n",
    "plotlydf_growth_compare = pd.merge(ptf, sp, on='timeperiod').reset_index()\n",
    "plotlydf_growth_compare.head()"
   ]
  },
  {
   "cell_type": "code",
   "execution_count": 136,
   "metadata": {},
   "outputs": [
    {
     "data": {
      "application/vnd.plotly.v1+json": {
       "config": {
        "plotlyServerURL": "https://plot.ly"
       },
       "data": [
        {
         "name": "Portfolio",
         "type": "bar",
         "x": [
          "2020 - 01",
          "2020 - 02",
          "2020 - 03",
          "2020 - 04",
          "2020 - 05",
          "2020 - 06",
          "2020 - 07",
          "2020 - 08",
          "2020 - 09",
          "2020 - 10",
          "2020 - 11",
          "2020 - 12",
          "2021 - 01",
          "2021 - 02",
          "2021 - 03",
          "2021 - 04",
          "2021 - 05",
          "2021 - 06",
          "2021 - 07",
          "2021 - 08",
          "2021 - 09",
          "2021 - 10",
          "2021 - 11",
          "2021 - 12"
         ],
         "y": [
          null,
          -6.84,
          -17.2,
          44.67,
          31.05,
          38.51,
          45.11,
          51.65,
          -6.01,
          -15.89,
          81.18,
          11.37,
          14.89,
          4.85,
          -6.43,
          6.35,
          -2.73,
          19.01,
          -2.57,
          4.16,
          -10.42,
          19.2,
          -1.6,
          -11.86
         ]
        },
        {
         "name": "S&P 500",
         "type": "bar",
         "x": [
          "2020 - 01",
          "2020 - 02",
          "2020 - 03",
          "2020 - 04",
          "2020 - 05",
          "2020 - 06",
          "2020 - 07",
          "2020 - 08",
          "2020 - 09",
          "2020 - 10",
          "2020 - 11",
          "2020 - 12",
          "2021 - 01",
          "2021 - 02",
          "2021 - 03",
          "2021 - 04",
          "2021 - 05",
          "2021 - 06",
          "2021 - 07",
          "2021 - 08",
          "2021 - 09",
          "2021 - 10",
          "2021 - 11",
          "2021 - 12"
         ],
         "y": [
          null,
          -8.41,
          -12.51,
          12.68,
          4.53,
          1.84,
          5.51,
          7.01,
          -3.92,
          -2.77,
          10.75,
          3.71,
          -1.11,
          2.61,
          4.24,
          5.24,
          0.55,
          2.22,
          2.27,
          2.9,
          -4.76,
          6.91,
          -0.83,
          -0.63
         ]
        }
       ],
       "layout": {
        "barmode": "group",
        "height": 300,
        "legend": {
         "x": 0.99,
         "xanchor": "right",
         "y": 0.99,
         "yanchor": "top"
        },
        "margin": {
         "b": 50,
         "l": 25,
         "r": 25,
         "t": 50
        },
        "paper_bgcolor": "#272b30",
        "plot_bgcolor": "#272b30",
        "template": {
         "data": {
          "bar": [
           {
            "error_x": {
             "color": "#f2f5fa"
            },
            "error_y": {
             "color": "#f2f5fa"
            },
            "marker": {
             "line": {
              "color": "rgb(17,17,17)",
              "width": 0.5
             },
             "pattern": {
              "fillmode": "overlay",
              "size": 10,
              "solidity": 0.2
             }
            },
            "type": "bar"
           }
          ],
          "barpolar": [
           {
            "marker": {
             "line": {
              "color": "rgb(17,17,17)",
              "width": 0.5
             },
             "pattern": {
              "fillmode": "overlay",
              "size": 10,
              "solidity": 0.2
             }
            },
            "type": "barpolar"
           }
          ],
          "carpet": [
           {
            "aaxis": {
             "endlinecolor": "#A2B1C6",
             "gridcolor": "#506784",
             "linecolor": "#506784",
             "minorgridcolor": "#506784",
             "startlinecolor": "#A2B1C6"
            },
            "baxis": {
             "endlinecolor": "#A2B1C6",
             "gridcolor": "#506784",
             "linecolor": "#506784",
             "minorgridcolor": "#506784",
             "startlinecolor": "#A2B1C6"
            },
            "type": "carpet"
           }
          ],
          "choropleth": [
           {
            "colorbar": {
             "outlinewidth": 0,
             "ticks": ""
            },
            "type": "choropleth"
           }
          ],
          "contour": [
           {
            "colorbar": {
             "outlinewidth": 0,
             "ticks": ""
            },
            "colorscale": [
             [
              0,
              "#0d0887"
             ],
             [
              0.1111111111111111,
              "#46039f"
             ],
             [
              0.2222222222222222,
              "#7201a8"
             ],
             [
              0.3333333333333333,
              "#9c179e"
             ],
             [
              0.4444444444444444,
              "#bd3786"
             ],
             [
              0.5555555555555556,
              "#d8576b"
             ],
             [
              0.6666666666666666,
              "#ed7953"
             ],
             [
              0.7777777777777778,
              "#fb9f3a"
             ],
             [
              0.8888888888888888,
              "#fdca26"
             ],
             [
              1,
              "#f0f921"
             ]
            ],
            "type": "contour"
           }
          ],
          "contourcarpet": [
           {
            "colorbar": {
             "outlinewidth": 0,
             "ticks": ""
            },
            "type": "contourcarpet"
           }
          ],
          "heatmap": [
           {
            "colorbar": {
             "outlinewidth": 0,
             "ticks": ""
            },
            "colorscale": [
             [
              0,
              "#0d0887"
             ],
             [
              0.1111111111111111,
              "#46039f"
             ],
             [
              0.2222222222222222,
              "#7201a8"
             ],
             [
              0.3333333333333333,
              "#9c179e"
             ],
             [
              0.4444444444444444,
              "#bd3786"
             ],
             [
              0.5555555555555556,
              "#d8576b"
             ],
             [
              0.6666666666666666,
              "#ed7953"
             ],
             [
              0.7777777777777778,
              "#fb9f3a"
             ],
             [
              0.8888888888888888,
              "#fdca26"
             ],
             [
              1,
              "#f0f921"
             ]
            ],
            "type": "heatmap"
           }
          ],
          "heatmapgl": [
           {
            "colorbar": {
             "outlinewidth": 0,
             "ticks": ""
            },
            "colorscale": [
             [
              0,
              "#0d0887"
             ],
             [
              0.1111111111111111,
              "#46039f"
             ],
             [
              0.2222222222222222,
              "#7201a8"
             ],
             [
              0.3333333333333333,
              "#9c179e"
             ],
             [
              0.4444444444444444,
              "#bd3786"
             ],
             [
              0.5555555555555556,
              "#d8576b"
             ],
             [
              0.6666666666666666,
              "#ed7953"
             ],
             [
              0.7777777777777778,
              "#fb9f3a"
             ],
             [
              0.8888888888888888,
              "#fdca26"
             ],
             [
              1,
              "#f0f921"
             ]
            ],
            "type": "heatmapgl"
           }
          ],
          "histogram": [
           {
            "marker": {
             "pattern": {
              "fillmode": "overlay",
              "size": 10,
              "solidity": 0.2
             }
            },
            "type": "histogram"
           }
          ],
          "histogram2d": [
           {
            "colorbar": {
             "outlinewidth": 0,
             "ticks": ""
            },
            "colorscale": [
             [
              0,
              "#0d0887"
             ],
             [
              0.1111111111111111,
              "#46039f"
             ],
             [
              0.2222222222222222,
              "#7201a8"
             ],
             [
              0.3333333333333333,
              "#9c179e"
             ],
             [
              0.4444444444444444,
              "#bd3786"
             ],
             [
              0.5555555555555556,
              "#d8576b"
             ],
             [
              0.6666666666666666,
              "#ed7953"
             ],
             [
              0.7777777777777778,
              "#fb9f3a"
             ],
             [
              0.8888888888888888,
              "#fdca26"
             ],
             [
              1,
              "#f0f921"
             ]
            ],
            "type": "histogram2d"
           }
          ],
          "histogram2dcontour": [
           {
            "colorbar": {
             "outlinewidth": 0,
             "ticks": ""
            },
            "colorscale": [
             [
              0,
              "#0d0887"
             ],
             [
              0.1111111111111111,
              "#46039f"
             ],
             [
              0.2222222222222222,
              "#7201a8"
             ],
             [
              0.3333333333333333,
              "#9c179e"
             ],
             [
              0.4444444444444444,
              "#bd3786"
             ],
             [
              0.5555555555555556,
              "#d8576b"
             ],
             [
              0.6666666666666666,
              "#ed7953"
             ],
             [
              0.7777777777777778,
              "#fb9f3a"
             ],
             [
              0.8888888888888888,
              "#fdca26"
             ],
             [
              1,
              "#f0f921"
             ]
            ],
            "type": "histogram2dcontour"
           }
          ],
          "mesh3d": [
           {
            "colorbar": {
             "outlinewidth": 0,
             "ticks": ""
            },
            "type": "mesh3d"
           }
          ],
          "parcoords": [
           {
            "line": {
             "colorbar": {
              "outlinewidth": 0,
              "ticks": ""
             }
            },
            "type": "parcoords"
           }
          ],
          "pie": [
           {
            "automargin": true,
            "type": "pie"
           }
          ],
          "scatter": [
           {
            "marker": {
             "line": {
              "color": "#283442"
             }
            },
            "type": "scatter"
           }
          ],
          "scatter3d": [
           {
            "line": {
             "colorbar": {
              "outlinewidth": 0,
              "ticks": ""
             }
            },
            "marker": {
             "colorbar": {
              "outlinewidth": 0,
              "ticks": ""
             }
            },
            "type": "scatter3d"
           }
          ],
          "scattercarpet": [
           {
            "marker": {
             "colorbar": {
              "outlinewidth": 0,
              "ticks": ""
             }
            },
            "type": "scattercarpet"
           }
          ],
          "scattergeo": [
           {
            "marker": {
             "colorbar": {
              "outlinewidth": 0,
              "ticks": ""
             }
            },
            "type": "scattergeo"
           }
          ],
          "scattergl": [
           {
            "marker": {
             "line": {
              "color": "#283442"
             }
            },
            "type": "scattergl"
           }
          ],
          "scattermapbox": [
           {
            "marker": {
             "colorbar": {
              "outlinewidth": 0,
              "ticks": ""
             }
            },
            "type": "scattermapbox"
           }
          ],
          "scatterpolar": [
           {
            "marker": {
             "colorbar": {
              "outlinewidth": 0,
              "ticks": ""
             }
            },
            "type": "scatterpolar"
           }
          ],
          "scatterpolargl": [
           {
            "marker": {
             "colorbar": {
              "outlinewidth": 0,
              "ticks": ""
             }
            },
            "type": "scatterpolargl"
           }
          ],
          "scatterternary": [
           {
            "marker": {
             "colorbar": {
              "outlinewidth": 0,
              "ticks": ""
             }
            },
            "type": "scatterternary"
           }
          ],
          "surface": [
           {
            "colorbar": {
             "outlinewidth": 0,
             "ticks": ""
            },
            "colorscale": [
             [
              0,
              "#0d0887"
             ],
             [
              0.1111111111111111,
              "#46039f"
             ],
             [
              0.2222222222222222,
              "#7201a8"
             ],
             [
              0.3333333333333333,
              "#9c179e"
             ],
             [
              0.4444444444444444,
              "#bd3786"
             ],
             [
              0.5555555555555556,
              "#d8576b"
             ],
             [
              0.6666666666666666,
              "#ed7953"
             ],
             [
              0.7777777777777778,
              "#fb9f3a"
             ],
             [
              0.8888888888888888,
              "#fdca26"
             ],
             [
              1,
              "#f0f921"
             ]
            ],
            "type": "surface"
           }
          ],
          "table": [
           {
            "cells": {
             "fill": {
              "color": "#506784"
             },
             "line": {
              "color": "rgb(17,17,17)"
             }
            },
            "header": {
             "fill": {
              "color": "#2a3f5f"
             },
             "line": {
              "color": "rgb(17,17,17)"
             }
            },
            "type": "table"
           }
          ]
         },
         "layout": {
          "annotationdefaults": {
           "arrowcolor": "#f2f5fa",
           "arrowhead": 0,
           "arrowwidth": 1
          },
          "autotypenumbers": "strict",
          "coloraxis": {
           "colorbar": {
            "outlinewidth": 0,
            "ticks": ""
           }
          },
          "colorscale": {
           "diverging": [
            [
             0,
             "#8e0152"
            ],
            [
             0.1,
             "#c51b7d"
            ],
            [
             0.2,
             "#de77ae"
            ],
            [
             0.3,
             "#f1b6da"
            ],
            [
             0.4,
             "#fde0ef"
            ],
            [
             0.5,
             "#f7f7f7"
            ],
            [
             0.6,
             "#e6f5d0"
            ],
            [
             0.7,
             "#b8e186"
            ],
            [
             0.8,
             "#7fbc41"
            ],
            [
             0.9,
             "#4d9221"
            ],
            [
             1,
             "#276419"
            ]
           ],
           "sequential": [
            [
             0,
             "#0d0887"
            ],
            [
             0.1111111111111111,
             "#46039f"
            ],
            [
             0.2222222222222222,
             "#7201a8"
            ],
            [
             0.3333333333333333,
             "#9c179e"
            ],
            [
             0.4444444444444444,
             "#bd3786"
            ],
            [
             0.5555555555555556,
             "#d8576b"
            ],
            [
             0.6666666666666666,
             "#ed7953"
            ],
            [
             0.7777777777777778,
             "#fb9f3a"
            ],
            [
             0.8888888888888888,
             "#fdca26"
            ],
            [
             1,
             "#f0f921"
            ]
           ],
           "sequentialminus": [
            [
             0,
             "#0d0887"
            ],
            [
             0.1111111111111111,
             "#46039f"
            ],
            [
             0.2222222222222222,
             "#7201a8"
            ],
            [
             0.3333333333333333,
             "#9c179e"
            ],
            [
             0.4444444444444444,
             "#bd3786"
            ],
            [
             0.5555555555555556,
             "#d8576b"
            ],
            [
             0.6666666666666666,
             "#ed7953"
            ],
            [
             0.7777777777777778,
             "#fb9f3a"
            ],
            [
             0.8888888888888888,
             "#fdca26"
            ],
            [
             1,
             "#f0f921"
            ]
           ]
          },
          "colorway": [
           "#636efa",
           "#EF553B",
           "#00cc96",
           "#ab63fa",
           "#FFA15A",
           "#19d3f3",
           "#FF6692",
           "#B6E880",
           "#FF97FF",
           "#FECB52"
          ],
          "font": {
           "color": "#f2f5fa"
          },
          "geo": {
           "bgcolor": "rgb(17,17,17)",
           "lakecolor": "rgb(17,17,17)",
           "landcolor": "rgb(17,17,17)",
           "showlakes": true,
           "showland": true,
           "subunitcolor": "#506784"
          },
          "hoverlabel": {
           "align": "left"
          },
          "hovermode": "closest",
          "mapbox": {
           "style": "dark"
          },
          "paper_bgcolor": "rgb(17,17,17)",
          "plot_bgcolor": "rgb(17,17,17)",
          "polar": {
           "angularaxis": {
            "gridcolor": "#506784",
            "linecolor": "#506784",
            "ticks": ""
           },
           "bgcolor": "rgb(17,17,17)",
           "radialaxis": {
            "gridcolor": "#506784",
            "linecolor": "#506784",
            "ticks": ""
           }
          },
          "scene": {
           "xaxis": {
            "backgroundcolor": "rgb(17,17,17)",
            "gridcolor": "#506784",
            "gridwidth": 2,
            "linecolor": "#506784",
            "showbackground": true,
            "ticks": "",
            "zerolinecolor": "#C8D4E3"
           },
           "yaxis": {
            "backgroundcolor": "rgb(17,17,17)",
            "gridcolor": "#506784",
            "gridwidth": 2,
            "linecolor": "#506784",
            "showbackground": true,
            "ticks": "",
            "zerolinecolor": "#C8D4E3"
           },
           "zaxis": {
            "backgroundcolor": "rgb(17,17,17)",
            "gridcolor": "#506784",
            "gridwidth": 2,
            "linecolor": "#506784",
            "showbackground": true,
            "ticks": "",
            "zerolinecolor": "#C8D4E3"
           }
          },
          "shapedefaults": {
           "line": {
            "color": "#f2f5fa"
           }
          },
          "sliderdefaults": {
           "bgcolor": "#C8D4E3",
           "bordercolor": "rgb(17,17,17)",
           "borderwidth": 1,
           "tickwidth": 0
          },
          "ternary": {
           "aaxis": {
            "gridcolor": "#506784",
            "linecolor": "#506784",
            "ticks": ""
           },
           "baxis": {
            "gridcolor": "#506784",
            "linecolor": "#506784",
            "ticks": ""
           },
           "bgcolor": "rgb(17,17,17)",
           "caxis": {
            "gridcolor": "#506784",
            "linecolor": "#506784",
            "ticks": ""
           }
          },
          "title": {
           "x": 0.05
          },
          "updatemenudefaults": {
           "bgcolor": "#506784",
           "borderwidth": 0
          },
          "xaxis": {
           "automargin": true,
           "gridcolor": "#283442",
           "linecolor": "#506784",
           "ticks": "",
           "title": {
            "standoff": 15
           },
           "zerolinecolor": "#283442",
           "zerolinewidth": 2
          },
          "yaxis": {
           "automargin": true,
           "gridcolor": "#283442",
           "linecolor": "#506784",
           "ticks": "",
           "title": {
            "standoff": 15
           },
           "zerolinecolor": "#283442",
           "zerolinewidth": 2
          }
         }
        },
        "xaxis": {
         "tickfont": {
          "size": 12
         }
        },
        "yaxis": {
         "tickfont": {
          "size": 12
         },
         "title": {
          "font": {
           "size": 13
          },
          "text": "% change"
         }
        }
       }
      }
     },
     "metadata": {},
     "output_type": "display_data"
    }
   ],
   "source": [
    "fig_growth2 = go.Figure()\n",
    "fig_growth2.layout.template = CHART_THEME\n",
    "fig_growth2.add_trace(go.Bar(\n",
    "    x=plotlydf_growth_compare.timeperiod,\n",
    "    y=plotlydf_growth_compare.net_value.round(2),\n",
    "    name='Portfolio'\n",
    "))\n",
    "fig_growth2.add_trace(go.Bar(\n",
    "    x=plotlydf_growth_compare.timeperiod,\n",
    "    y=plotlydf_growth_compare.sp500_mktvalue.round(2),\n",
    "    name='S&P 500',\n",
    "))\n",
    "fig_growth2.update_layout(barmode='group')\n",
    "fig_growth2.layout.height=300\n",
    "fig_growth2.update_layout(margin = dict(t=50, b=50, l=25, r=25))\n",
    "fig_growth2.update_layout(\n",
    "    xaxis_tickfont_size=12,\n",
    "    yaxis=dict(\n",
    "        title='% change',\n",
    "        titlefont_size=13,\n",
    "        tickfont_size=12,\n",
    "        ))\n",
    "\n",
    "fig_growth2.update_layout(legend=dict(\n",
    "    yanchor=\"top\",\n",
    "    y=0.99,\n",
    "    xanchor=\"right\",\n",
    "    x=0.99))\n",
    "fig_growth2.update_layout(paper_bgcolor=\"#272b30\", plot_bgcolor=\"#272b30\")\n",
    "fig_growth2.show()"
   ]
  },
  {
   "cell_type": "code",
   "execution_count": null,
   "metadata": {},
   "outputs": [],
   "source": []
  },
  {
   "cell_type": "markdown",
   "metadata": {},
   "source": [
    "## Candlestick Charts"
   ]
  },
  {
   "cell_type": "code",
   "execution_count": 137,
   "metadata": {},
   "outputs": [],
   "source": [
    "# https://plotly.com/python/candlestick-charts/"
   ]
  },
  {
   "cell_type": "code",
   "execution_count": 138,
   "metadata": {},
   "outputs": [],
   "source": [
    "t = 'AMZN'\n",
    "t_candles = pd.read_csv('../outputs/price_hist/{}_price_hist.csv'.format(t))"
   ]
  },
  {
   "cell_type": "code",
   "execution_count": 139,
   "metadata": {},
   "outputs": [
    {
     "data": {
      "application/vnd.plotly.v1+json": {
       "config": {
        "plotlyServerURL": "https://plot.ly"
       },
       "data": [
        {
         "close": [
          1898.010009765625,
          1874.969970703125,
          1902.8800048828125,
          1906.8599853515625,
          1891.969970703125,
          1901.050048828125,
          1883.1600341796875,
          1891.300048828125,
          1869.43994140625,
          1862.02001953125,
          1877.93994140625,
          1864.719970703125,
          1892,
          1887.4599609375,
          1884.5799560546875,
          1861.6400146484373,
          1828.3399658203125,
          1853.25,
          1858,
          1870.6800537109373,
          2008.719970703125,
          2004.199951171875,
          2049.669921875,
          2039.8699951171875,
          2050.22998046875,
          2079.280029296875,
          2133.909912109375,
          2150.800048828125,
          2160,
          2149.8701171875,
          2134.8701171875,
          2155.669921875,
          2170.219970703125,
          2153.10009765625,
          2095.969970703125,
          2009.2900390625,
          1972.739990234375,
          1979.5899658203125,
          1884.300048828125,
          1883.75,
          1953.949951171875,
          1908.989990234375,
          1975.8299560546875,
          1924.030029296875,
          1901.0899658203125,
          1800.6099853515625,
          1891.8199462890625,
          1820.8599853515625,
          1676.6099853515625,
          1785,
          1689.1500244140625,
          1807.8399658203125,
          1830,
          1880.9300537109373,
          1846.0899658203125,
          1902.8299560546875,
          1940.0999755859373,
          1885.8399658203125,
          1955.489990234375,
          1900.0999755859373,
          1963.949951171875,
          1949.719970703125,
          1907.699951171875,
          1918.8299560546875,
          1906.5899658203125,
          1997.5899658203125,
          2011.5999755859373,
          2043,
          2042.760009765625,
          2168.8701171875,
          2283.320068359375,
          2307.679931640625,
          2408.18994140625,
          2375,
          2393.610107421875,
          2328.1201171875,
          2363.489990234375,
          2399.449951171875,
          2410.219970703125,
          2376,
          2314.080078125,
          2372.7099609375,
          2474,
          2286.0400390625,
          2315.989990234375,
          2317.800048828125,
          2351.260009765625,
          2367.610107421875,
          2379.610107421875,
          2409,
          2356.949951171875,
          2367.919921875,
          2388.85009765625,
          2409.780029296875,
          2426.260009765625,
          2449.330078125,
          2497.93994140625,
          2446.739990234375,
          2436.8798828125,
          2421.860107421875,
          2410.389892578125,
          2401.10009765625,
          2442.3701171875,
          2471.0400390625,
          2472.409912109375,
          2478.39990234375,
          2460.60009765625,
          2483,
          2524.06005859375,
          2600.860107421875,
          2647.449951171875,
          2557.9599609375,
          2545.02001953125,
          2572.679931640625,
          2615.27001953125,
          2640.97998046875,
          2653.97998046875,
          2675.010009765625,
          2713.820068359375,
          2764.409912109375,
          2734.39990234375,
          2754.580078125,
          2692.8701171875,
          2680.3798828125,
          2758.820068359375,
          2878.699951171875,
          2890.300048828125,
          3057.0400390625,
          3000.1201171875,
          3081.110107421875,
          3182.6298828125,
          3200,
          3104,
          3084,
          3008.8701171875,
          2999.89990234375,
          2961.969970703125,
          3196.840087890625,
          3138.2900390625,
          3099.909912109375,
          2986.550048828125,
          3008.909912109375,
          3055.2099609375,
          3000.330078125,
          3033.530029296875,
          3051.8798828125,
          3164.679931640625,
          3111.889892578125,
          3138.830078125,
          3205.030029296875,
          3225,
          3167.4599609375,
          3148.159912109375,
          3080.669921875,
          3162.239990234375,
          3161.02001953125,
          3148.02001953125,
          3182.409912109375,
          3312.489990234375,
          3260.47998046875,
          3297.3701171875,
          3284.719970703125,
          3307.4599609375,
          3346.489990234375,
          3441.85009765625,
          3400,
          3401.800048828125,
          3450.9599609375,
          3499.1201171875,
          3531.449951171875,
          3368,
          3294.6201171875,
          3149.840087890625,
          3268.610107421875,
          3175.110107421875,
          3116.219970703125,
          3102.969970703125,
          3156.1298828125,
          3078.10009765625,
          3008.72998046875,
          2954.909912109375,
          2960.469970703125,
          3128.989990234375,
          2999.860107421875,
          3019.7900390625,
          3095.1298828125,
          3174.050048828125,
          3144.8798828125,
          3148.72998046875,
          3221.260009765625,
          3125,
          3199.199951171875,
          3099.9599609375,
          3195.68994140625,
          3190.550048828125,
          3286.64990234375,
          3442.929931640625,
          3443.6298828125,
          3363.7099609375,
          3338.64990234375,
          3272.7099609375,
          3207.2099609375,
          3217.010009765625,
          3184.93994140625,
          3176.39990234375,
          3204.39990234375,
          3207.0400390625,
          3286.330078125,
          3162.780029296875,
          3211.010009765625,
          3036.14990234375,
          3004.47998046875,
          3048.409912109375,
          3241.159912109375,
          3322,
          3311.3701171875,
          3143.739990234375,
          3035.02001953125,
          3137.389892578125,
          3110.280029296875,
          3128.81005859375,
          3131.06005859375,
          3135.659912109375,
          3105.4599609375,
          3117.02001953125,
          3099.39990234375,
          3098.389892578125,
          3118.06005859375,
          3185.070068359375,
          3195.340087890625,
          3168.0400390625,
          3220.080078125,
          3203.530029296875,
          3186.72998046875,
          3162.580078125,
          3158,
          3177.2900390625,
          3104.199951171875,
          3101.489990234375,
          3116.419921875,
          3156.969970703125,
          3165.1201171875,
          3240.9599609375,
          3236.080078125,
          3201.64990234375,
          3206.179931640625,
          3206.52001953125,
          3185.27001953125,
          3172.68994140625,
          3283.9599609375,
          3322,
          3285.85009765625,
          3256.929931640625,
          3186.6298828125,
          3218.510009765625,
          3138.3798828125,
          3162.159912109375,
          3182.699951171875,
          3114.2099609375,
          3120.830078125,
          3165.889892578125,
          3127.469970703125,
          3104.25,
          3120.760009765625,
          3263.3798828125,
          3306.989990234375,
          3292.22998046875,
          3294,
          3326.1298828125,
          3232.580078125,
          3237.6201171875,
          3206.199951171875,
          3342.8798828125,
          3380,
          3312.530029296875,
          3331,
          3352.14990234375,
          3322.93994140625,
          3305,
          3286.580078125,
          3262.1298828125,
          3277.7099609375,
          3268.949951171875,
          3308.639892578125,
          3328.22998046875,
          3249.89990234375,
          3180.739990234375,
          3194.5,
          3159.530029296875,
          3057.159912109375,
          3092.929931640625,
          3146.139892578125,
          3094.530029296875,
          3005,
          2977.570068359375,
          3000.4599609375,
          2951.949951171875,
          3062.85009765625,
          3057.639892578125,
          3113.590087890625,
          3089.489990234375,
          3081.679931640625,
          3091.860107421875,
          3135.72998046875,
          3027.989990234375,
          3074.9599609375,
          3110.8701171875,
          3137.5,
          3087.070068359375,
          3046.260009765625,
          3052.030029296875,
          3075.72998046875,
          3055.2900390625,
          3094.080078125,
          3161,
          3226.72998046875,
          3223.820068359375,
          3279.389892578125,
          3299.300048828125,
          3372.199951171875,
          3379.389892578125,
          3400,
          3333,
          3379.090087890625,
          3399.43994140625,
          3372.010009765625,
          3334.68994140625,
          3362.02001953125,
          3309.0400390625,
          3340.8798828125,
          3409,
          3417.429931640625,
          3458.5,
          3471.31005859375,
          3467.419921875,
          3386.489990234375,
          3311.8701171875,
          3270.5400390625,
          3306.3701171875,
          3291.610107421875,
          3190.489990234375,
          3223.909912109375,
          3151.93994140625,
          3161.469970703125,
          3222.89990234375,
          3270.389892578125,
          3232.280029296875,
          3231.800048828125,
          3247.679931640625,
          3203.080078125,
          3244.989990234375,
          3259.050048828125,
          3265.159912109375,
          3230.110107421875,
          3223.070068359375,
          3218.64990234375,
          3233.989990234375,
          3187.010009765625,
          3206.219970703125,
          3198.010009765625,
          3264.110107421875,
          3281.14990234375,
          3349.64990234375,
          3346.830078125,
          3383.8701171875,
          3383.1298828125,
          3415.25,
          3489.239990234375,
          3486.89990234375,
          3453.9599609375,
          3505.43994140625,
          3503.820068359375,
          3449.080078125,
          3401.4599609375,
          3443.889892578125,
          3448.139892578125,
          3440.159912109375,
          3432.969970703125,
          3510.97998046875,
          3675.739990234375,
          3696.580078125,
          3731.409912109375,
          3719.340087890625,
          3718.550048828125,
          3677.360107421875,
          3681.679931640625,
          3631.199951171875,
          3573.6298828125,
          3549.590087890625,
          3573.18994140625,
          3585.199951171875,
          3638.030029296875,
          3656.639892578125,
          3699.820068359375,
          3626.389892578125,
          3630.320068359375,
          3599.919921875,
          3327.590087890625,
          3331.47998046875,
          3366.239990234375,
          3354.719970703125,
          3375.989990234375,
          3344.93994140625,
          3341.8701171875,
          3320.679931640625,
          3292.110107421875,
          3303.5,
          3293.969970703125,
          3298.989990234375,
          3241.9599609375,
          3201.219970703125,
          3187.75,
          3199.949951171875,
          3265.8701171875,
          3305.780029296875,
          3299.179931640625,
          3316,
          3349.6298828125,
          3421.570068359375,
          3470.7900390625,
          3479,
          3463.1201171875,
          3478.050048828125,
          3509.2900390625,
          3525.5,
          3484.159912109375,
          3469.14990234375,
          3457.169921875,
          3450,
          3475.7900390625,
          3488.239990234375,
          3462.52001953125,
          3355.72998046875,
          3343.6298828125,
          3380.050048828125,
          3416,
          3425.52001953125,
          3405.800048828125,
          3315.9599609375,
          3301.1201171875,
          3285.0400390625,
          3283.260009765625,
          3189.780029296875,
          3221,
          3262.010009765625,
          3302.429931640625,
          3288.6201171875,
          3246.300048828125,
          3247.330078125,
          3284.280029296875,
          3299.860107421875,
          3409.02001953125,
          3446.739990234375,
          3444.14990234375,
          3415.06005859375,
          3435.010009765625,
          3335.550048828125,
          3320.3701171875,
          3376.070068359375,
          3392.489990234375,
          3446.570068359375,
          3372.429931640625,
          3318.110107421875,
          3312.75,
          3384,
          3477,
          3518.989990234375,
          3488.97998046875,
          3576.22998046875,
          3482.050048828125,
          3472.5,
          3525.14990234375,
          3545.679931640625,
          3540.699951171875,
          3549,
          3696.06005859375,
          3676.570068359375,
          3572.570068359375,
          3580.0400390625,
          3580.409912109375,
          3504.56005859375,
          3561.570068359375,
          3507.070068359375,
          3443.719970703125,
          3437.360107421875,
          3389.7900390625,
          3427.3701171875,
          3523.2900390625,
          3523.159912109375,
          3483.419921875,
          3444.239990234375,
          3391.35009765625,
          3381.830078125,
          3466.300048828125,
          3377.419921875,
          3400.35009765625,
          3341.580078125,
          3408.340087890625,
          3420.739990234375,
          3421.3701171875,
          3393.389892578125,
          3413.219970703125,
          3384.02001953125,
          3372.889892578125,
          3334.340087890625,
          3408.090087890625,
          3350.43994140625,
          3287.139892578125,
          3265.080078125,
          3251.080078125,
          3229.719970703125,
          3307.239990234375,
          3304.139892578125,
          3224.280029296875,
          3242.760009765625,
          3178.35009765625,
          3125.97998046875,
          3033.35009765625,
          2852.860107421875,
          2890.8798828125,
          2799.719970703125,
          2777.449951171875,
          2792.75,
          2879.56005859375,
          2991.469970703125,
          3023.8701171875,
          3012.25,
          2776.909912109375,
          3152.7900390625,
          3158.7099609375,
          3228.27001953125,
          3223.7900390625,
          3180.070068359375,
          3065.8701171875,
          3103.340087890625,
          3130.2099609375,
          3162.010009765625,
          3093.050048828125,
          3052.030029296875,
          3003.949951171875,
          2896.5400390625,
          3027.159912109375,
          3075.77001953125
         ],
         "high": [
          1898.010009765625,
          1886.199951171875,
          1903.68994140625,
          1913.8900146484373,
          1911,
          1917.8199462890625,
          1906.93994140625,
          1898,
          1887.1099853515625,
          1878.8599853515625,
          1885.5899658203125,
          1886.6400146484373,
          1894.27001953125,
          1902.5,
          1889.97998046875,
          1894.989990234375,
          1841,
          1858.1099853515625,
          1874.75,
          1872.8699951171875,
          2055.719970703125,
          2048.5,
          2059.800048828125,
          2071.02001953125,
          2056.300048828125,
          2098.530029296875,
          2135.60009765625,
          2185.949951171875,
          2180.25,
          2170.280029296875,
          2159.0400390625,
          2166.070068359375,
          2185.10009765625,
          2176.7900390625,
          2144.550048828125,
          2039.300048828125,
          2034.5999755859373,
          2014.6700439453125,
          1975,
          1889.760009765625,
          1954.510009765625,
          1996.3299560546875,
          1978,
          1960.719970703125,
          1910.8699951171875,
          1862.77001953125,
          1894.27001953125,
          1871.3199462890625,
          1765,
          1786.31005859375,
          1759.449951171875,
          1857.780029296875,
          1841.6600341796875,
          1945,
          1957,
          1919.4000244140625,
          1955,
          1950.260009765625,
          1956.489990234375,
          1939.7900390625,
          1973.6300048828125,
          1993.02001953125,
          1944.9599609375,
          1927.530029296875,
          1926.3299560546875,
          1998.52001953125,
          2035.719970703125,
          2044,
          2053,
          2180,
          2292,
          2333.3701171875,
          2461,
          2400,
          2444.97998046875,
          2428.31005859375,
          2394,
          2424.219970703125,
          2420.429931640625,
          2444.8798828125,
          2373.5,
          2391.889892578125,
          2475,
          2362.43994140625,
          2326.97998046875,
          2351,
          2357.449951171875,
          2376,
          2387.239990234375,
          2419.669921875,
          2419,
          2407.699951171875,
          2391.3701171875,
          2411,
          2433,
          2485,
          2500.010009765625,
          2525.449951171875,
          2469.85009765625,
          2462,
          2413.580078125,
          2436.969970703125,
          2442.3701171875,
          2476.929931640625,
          2473.530029296875,
          2488,
          2507.5400390625,
          2488.64990234375,
          2530,
          2626.429931640625,
          2722.35009765625,
          2671.3798828125,
          2621.47998046875,
          2584,
          2620,
          2655,
          2659.639892578125,
          2697.429931640625,
          2715,
          2783.110107421875,
          2796,
          2756.22998046875,
          2782.570068359375,
          2696.800048828125,
          2769.6298828125,
          2895,
          2955.56005859375,
          3059.8798828125,
          3069.550048828125,
          3083.969970703125,
          3193.8798828125,
          3215,
          3344.2900390625,
          3127.3798828125,
          3098.35009765625,
          3032,
          3024,
          3201.360107421875,
          3240.580078125,
          3150,
          3098.27001953125,
          3031.580078125,
          3098,
          3077.090087890625,
          3039.159912109375,
          3092,
          3246.820068359375,
          3184,
          3167.239990234375,
          3213.590087890625,
          3247.469970703125,
          3240.81005859375,
          3172.510009765625,
          3159.219970703125,
          3174.389892578125,
          3217.52001953125,
          3178.239990234375,
          3194.969970703125,
          3320,
          3315.89990234375,
          3312.6201171875,
          3314.39990234375,
          3380.320068359375,
          3357.39990234375,
          3451.739990234375,
          3453,
          3433.3701171875,
          3495,
          3513.8701171875,
          3552.25,
          3488.409912109375,
          3381.5,
          3250.85009765625,
          3303.179931640625,
          3349.889892578125,
          3217.340087890625,
          3187.389892578125,
          3175.02001953125,
          3187.239990234375,
          3029.429931640625,
          3037.800048828125,
          2962,
          3133.989990234375,
          3127,
          3069.300048828125,
          3101.5400390625,
          3175.0400390625,
          3188.260009765625,
          3212.8798828125,
          3224,
          3195.800048828125,
          3202.530029296875,
          3182,
          3200,
          3233.2900390625,
          3288.989990234375,
          3496.239990234375,
          3492.3798828125,
          3464.8798828125,
          3355.8798828125,
          3399.659912109375,
          3329,
          3266,
          3233.8798828125,
          3198.75,
          3205.330078125,
          3282.97998046875,
          3291.659912109375,
          3264.02001953125,
          3257.25,
          3167,
          3079.7099609375,
          3074.89990234375,
          3244.85009765625,
          3366.800048828125,
          3322,
          3289,
          3114,
          3139.14990234375,
          3175.8798828125,
          3141.719970703125,
          3142.699951171875,
          3189.25,
          3140,
          3125,
          3132.889892578125,
          3139.75,
          3134.25,
          3198,
          3216.18994140625,
          3228.389892578125,
          3248.949951171875,
          3232,
          3228.639892578125,
          3198.2099609375,
          3180.760009765625,
          3184.1298828125,
          3174.429931640625,
          3142.10009765625,
          3118.669921875,
          3190.469970703125,
          3188.5,
          3247,
          3263.510009765625,
          3249.419921875,
          3226.969970703125,
          3222,
          3210.1298828125,
          3202,
          3304,
          3350.64990234375,
          3342.10009765625,
          3282.919921875,
          3272,
          3223.3798828125,
          3197.510009765625,
          3208.5400390625,
          3190.639892578125,
          3156.3798828125,
          3142.139892578125,
          3189.949951171875,
          3178,
          3142.550048828125,
          3145,
          3279.800048828125,
          3348.550048828125,
          3321.909912109375,
          3363.889892578125,
          3338,
          3346.52001953125,
          3301.679931640625,
          3236.989990234375,
          3350.260009765625,
          3427.739990234375,
          3434,
          3347,
          3377,
          3365,
          3338,
          3317.949951171875,
          3292,
          3280.25,
          3308.300048828125,
          3320.909912109375,
          3338,
          3333.5,
          3232.320068359375,
          3204.72998046875,
          3171.22998046875,
          3178.260009765625,
          3122.43994140625,
          3149.56005859375,
          3163.52001953125,
          3107.780029296875,
          3058.1298828125,
          3009,
          3064.590087890625,
          3090.9599609375,
          3116.4599609375,
          3131.780029296875,
          3098.97998046875,
          3082.239990234375,
          3128.909912109375,
          3173.050048828125,
          3116.6298828125,
          3077.2900390625,
          3126.580078125,
          3182,
          3160.31005859375,
          3109.780029296875,
          3056.659912109375,
          3091.25,
          3073,
          3119.330078125,
          3162.43994140625,
          3235.9599609375,
          3247.31005859375,
          3303.610107421875,
          3324.5,
          3372.199951171875,
          3395.0400390625,
          3432,
          3404.1298828125,
          3397,
          3406.800048828125,
          3435.929931640625,
          3382.989990234375,
          3362.860107421875,
          3372.8701171875,
          3375,
          3428.449951171875,
          3460,
          3489.8798828125,
          3514.449951171875,
          3554,
          3486.64990234375,
          3367.97998046875,
          3354.699951171875,
          3314.39990234375,
          3330.889892578125,
          3283,
          3238,
          3207.93994140625,
          3203.840087890625,
          3228.860107421875,
          3292.75,
          3312,
          3234.75,
          3259.679931640625,
          3256.68994140625,
          3257.949951171875,
          3279.820068359375,
          3295.72998046875,
          3260.360107421875,
          3247.989990234375,
          3250.97998046875,
          3235,
          3214.43994140625,
          3221,
          3208,
          3279.530029296875,
          3297.580078125,
          3351,
          3366.580078125,
          3385,
          3396.989990234375,
          3426.35009765625,
          3497.199951171875,
          3507,
          3482,
          3523.780029296875,
          3521,
          3524.860107421875,
          3464.820068359375,
          3448,
          3456.030029296875,
          3471.60009765625,
          3457,
          3511.719970703125,
          3685.47998046875,
          3734.199951171875,
          3759.989990234375,
          3748,
          3757.2900390625,
          3773.080078125,
          3717.659912109375,
          3695.39990234375,
          3646.06005859375,
          3550.2099609375,
          3592,
          3586.449951171875,
          3640.02001953125,
          3666.110107421875,
          3712.080078125,
          3698.5,
          3658.419921875,
          3637.949951171875,
          3368.139892578125,
          3358.919921875,
          3391,
          3388.8798828125,
          3389,
          3375,
          3354.8798828125,
          3358,
          3337.699951171875,
          3314.510009765625,
          3306.070068359375,
          3300,
          3280.489990234375,
          3254.10009765625,
          3233,
          3207.81005859375,
          3280.89990234375,
          3315.489990234375,
          3321,
          3332,
          3352.320068359375,
          3445,
          3472.580078125,
          3527,
          3511.9599609375,
          3482.669921875,
          3528.090087890625,
          3545.6298828125,
          3549.989990234375,
          3508.449951171875,
          3497.9599609375,
          3486.81005859375,
          3485.419921875,
          3492.550048828125,
          3497.409912109375,
          3419,
          3379.699951171875,
          3389,
          3428.9599609375,
          3429.260009765625,
          3415.570068359375,
          3369.18994140625,
          3351.300048828125,
          3327.85009765625,
          3309.169921875,
          3279.989990234375,
          3260.72998046875,
          3264.340087890625,
          3325.75,
          3321.429931640625,
          3292.590087890625,
          3267.530029296875,
          3288.3798828125,
          3312.60009765625,
          3410.419921875,
          3449.169921875,
          3454.68994140625,
          3462.860107421875,
          3440.280029296875,
          3429.840087890625,
          3347.800048828125,
          3416.1201171875,
          3437,
          3479,
          3374.820068359375,
          3375.860107421875,
          3331.1201171875,
          3394.919921875,
          3498.6298828125,
          3566.25,
          3579,
          3593.77001953125,
          3605.449951171875,
          3543.239990234375,
          3540.72998046875,
          3593.8798828125,
          3576.5,
          3587.25,
          3704.199951171875,
          3762.14990234375,
          3713.4599609375,
          3621.050048828125,
          3613.639892578125,
          3633.5,
          3596,
          3585.77001953125,
          3559.8798828125,
          3492.699951171875,
          3469.8701171875,
          3473.909912109375,
          3549.989990234375,
          3543.60009765625,
          3539.389892578125,
          3518.5400390625,
          3442,
          3389.97998046875,
          3472,
          3483.320068359375,
          3417.969970703125,
          3357.489990234375,
          3414.330078125,
          3441,
          3439.5,
          3458.860107421875,
          3443.52001953125,
          3424.239990234375,
          3417.760009765625,
          3387,
          3414.070068359375,
          3428,
          3342.530029296875,
          3296,
          3304.8701171875,
          3233.22998046875,
          3327,
          3337.56005859375,
          3324.429931640625,
          3245,
          3194.68994140625,
          3185,
          3160,
          3018,
          2898.89990234375,
          2872,
          2903.699951171875,
          2884.8701171875,
          2879.9599609375,
          3007.2099609375,
          3034.159912109375,
          3101.5,
          2884.949951171875,
          3224,
          3253.820068359375,
          3235.85009765625,
          3276.68994140625,
          3214.330078125,
          3180,
          3168.969970703125,
          3160.139892578125,
          3176.679931640625,
          3206.97998046875,
          3109.989990234375,
          3059.64990234375,
          3035.260009765625,
          3034.97998046875,
          3079.800048828125
         ],
         "low": [
          1864.1500244140625,
          1864.5,
          1860,
          1892.0400390625,
          1886.43994140625,
          1895.800048828125,
          1880,
          1880.800048828125,
          1858.550048828125,
          1855.0899658203125,
          1866.02001953125,
          1857.25,
          1860,
          1883.3399658203125,
          1872.760009765625,
          1847.43994140625,
          1815.3399658203125,
          1830.02001953125,
          1855.02001953125,
          1850.6099853515625,
          2002.27001953125,
          2000.25,
          2015.3699951171875,
          2032,
          2024.800048828125,
          2038.0999755859373,
          2084.9599609375,
          2136,
          2155.2900390625,
          2142,
          2125.889892578125,
          2124.110107421875,
          2161.1201171875,
          2127.449951171875,
          2088,
          1987.969970703125,
          1958.4200439453125,
          1960.449951171875,
          1882.760009765625,
          1811.1300048828125,
          1870,
          1888.0899658203125,
          1922,
          1910,
          1869.5,
          1761.2900390625,
          1818.1700439453125,
          1801.5,
          1675,
          1680.6199951171875,
          1626.030029296875,
          1689.239990234375,
          1745,
          1832.6500244140625,
          1820.72998046875,
          1812,
          1900.3399658203125,
          1885.780029296875,
          1889.2900390625,
          1899.9200439453125,
          1912.3399658203125,
          1944.010009765625,
          1893,
          1890,
          1889.1500244140625,
          1930.02001953125,
          1997.6199951171875,
          2011.1500244140625,
          2017.6600341796875,
          2038,
          2186.2099609375,
          2245,
          2335,
          2316.02001953125,
          2386.050048828125,
          2279.659912109375,
          2351,
          2382.080078125,
          2382,
          2363,
          2306,
          2310,
          2396.010009765625,
          2258.18994140625,
          2256.3798828125,
          2307.1298828125,
          2320,
          2343.110107421875,
          2357,
          2372.110107421875,
          2355,
          2337.800048828125,
          2353.2099609375,
          2356.3701171875,
          2384.010009765625,
          2428.969970703125,
          2467.27001953125,
          2442.5400390625,
          2430.1298828125,
          2414.06005859375,
          2330,
          2378.22998046875,
          2398.199951171875,
          2444.169921875,
          2445.31005859375,
          2461.169921875,
          2450.010009765625,
          2437.1298828125,
          2487.340087890625,
          2525,
          2626.260009765625,
          2536.22998046875,
          2503.35009765625,
          2508,
          2576,
          2631.820068359375,
          2636.110107421875,
          2659,
          2669,
          2718.0400390625,
          2721,
          2712.139892578125,
          2688,
          2630.080078125,
          2675.030029296875,
          2754,
          2871.10009765625,
          2930,
          2990,
          3012.429931640625,
          3074,
          3135.699951171875,
          3068.389892578125,
          2950,
          2973.179931640625,
          2918.22998046875,
          2948.449951171875,
          2994.02001953125,
          3105.719970703125,
          3065.260009765625,
          2970,
          2888,
          3015.77001953125,
          2995.760009765625,
          2996.77001953125,
          3005,
          3151,
          3104,
          3101.2099609375,
          3127.300048828125,
          3165.429931640625,
          3140.669921875,
          3101.52001953125,
          3073,
          3101.419921875,
          3155,
          3120,
          3154.179931640625,
          3205.820068359375,
          3256,
          3238,
          3275.389892578125,
          3257.56005859375,
          3267,
          3344.570068359375,
          3378,
          3386.5,
          3405,
          3467,
          3486.68994140625,
          3303,
          3111.1298828125,
          3130,
          3185,
          3170.550048828125,
          3083.97998046875,
          3096,
          3108.919921875,
          3074.14990234375,
          2972.550048828125,
          2905.5400390625,
          2871,
          3000.199951171875,
          2992.3798828125,
          2965,
          2999,
          3117.169921875,
          3132.5400390625,
          3133.989990234375,
          3172,
          3123,
          3140.85009765625,
          3090,
          3132.389892578125,
          3174.989990234375,
          3197.830078125,
          3339.550048828125,
          3424.219970703125,
          3340,
          3280,
          3160,
          3192.739990234375,
          3192.010009765625,
          3160,
          3121.93994140625,
          3140,
          3153.300048828125,
          3211.300048828125,
          3162.469970703125,
          3164,
          3019,
          2950.1201171875,
          2980.97998046875,
          3139.72998046875,
          3288.8798828125,
          3232,
          3112.110107421875,
          3019.47998046875,
          3050,
          3086.050048828125,
          3085.389892578125,
          3072.68994140625,
          3135.260009765625,
          3105.10009765625,
          3080.919921875,
          3098.050048828125,
          3065.4599609375,
          3086.260009765625,
          3140.260009765625,
          3190.050048828125,
          3125.550048828125,
          3157.179931640625,
          3173.260009765625,
          3181.31005859375,
          3158.760009765625,
          3141.68994140625,
          3120.02001953125,
          3088,
          3076,
          3072.820068359375,
          3126,
          3130.489990234375,
          3163.679931640625,
          3221,
          3171.60009765625,
          3166,
          3180.080078125,
          3184.169921875,
          3169,
          3172.68994140625,
          3281.219970703125,
          3282.469970703125,
          3241.199951171875,
          3144.02001953125,
          3165.06005859375,
          3131.159912109375,
          3155,
          3142.199951171875,
          3110,
          3086,
          3122.080078125,
          3120.590087890625,
          3095.169921875,
          3096,
          3175,
          3289.570068359375,
          3283.159912109375,
          3243.14990234375,
          3282.8701171875,
          3207.080078125,
          3228.68994140625,
          3184.550048828125,
          3235.030029296875,
          3361.1298828125,
          3308.6201171875,
          3277.75,
          3302.7099609375,
          3304,
          3297.840087890625,
          3254,
          3248.06005859375,
          3233.31005859375,
          3253.590087890625,
          3259.5,
          3273.93994140625,
          3245.75,
          3172.260009765625,
          3093.60009765625,
          3125.3798828125,
          3047.760009765625,
          3036.699951171875,
          3097.989990234375,
          3087.1201171875,
          2995,
          2945.429931640625,
          2881,
          2951.31005859375,
          3005.14990234375,
          3030.050048828125,
          3082.929931640625,
          3045.5,
          3032.090087890625,
          3075.860107421875,
          3070.219970703125,
          3025,
          3016.6298828125,
          3060.050048828125,
          3120.85009765625,
          3085.14990234375,
          3037.139892578125,
          2996,
          3028.449951171875,
          3034,
          3062.5,
          3115.550048828125,
          3161.239990234375,
          3217.0400390625,
          3223.64990234375,
          3292,
          3288.89990234375,
          3351.14990234375,
          3395.6298828125,
          3326,
          3352,
          3355.590087890625,
          3360.159912109375,
          3316,
          3303.81005859375,
          3301.449951171875,
          3308.5,
          3330.93994140625,
          3398.010009765625,
          3425,
          3435,
          3462.5,
          3372.699951171875,
          3272.1298828125,
          3264.360107421875,
          3247.199951171875,
          3289.070068359375,
          3190,
          3127.3701171875,
          3133.10009765625,
          3133,
          3183,
          3234.590087890625,
          3230.3701171875,
          3184,
          3236.179931640625,
          3197.010009765625,
          3210.5,
          3213.760009765625,
          3258.510009765625,
          3230.0400390625,
          3219.699951171875,
          3209.06005859375,
          3208,
          3184.030029296875,
          3198.81005859375,
          3172.199951171875,
          3218.010009765625,
          3270.699951171875,
          3281.14990234375,
          3333.449951171875,
          3335.5,
          3363.110107421875,
          3360.530029296875,
          3401,
          3473.7099609375,
          3434,
          3456.090087890625,
          3483.199951171875,
          3430.85009765625,
          3394.179931640625,
          3413.510009765625,
          3423.030029296875,
          3435,
          3409.419921875,
          3436.919921875,
          3529,
          3678.909912109375,
          3621.1201171875,
          3693.39990234375,
          3696.7900390625,
          3671.320068359375,
          3660.830078125,
          3620.919921875,
          3570.4599609375,
          3499.159912109375,
          3518,
          3543.639892578125,
          3582.27001953125,
          3622.0400390625,
          3647.25,
          3586.14990234375,
          3601,
          3580.010009765625,
          3306.97998046875,
          3317,
          3299.77001953125,
          3345.56005859375,
          3340.919921875,
          3329.0400390625,
          3328.52001953125,
          3315,
          3277.7900390625,
          3269.669921875,
          3283,
          3211.1298828125,
          3225.679931640625,
          3200,
          3182.4599609375,
          3175.760009765625,
          3210.010009765625,
          3274.580078125,
          3286.14990234375,
          3296,
          3313.75,
          3355.219970703125,
          3395.590087890625,
          3475.239990234375,
          3455,
          3436.43994140625,
          3476.93994140625,
          3495.669921875,
          3480.3701171875,
          3462.909912109375,
          3438,
          3437.7099609375,
          3402.010009765625,
          3446.139892578125,
          3452.1298828125,
          3305.010009765625,
          3332.389892578125,
          3341.050048828125,
          3380.050048828125,
          3393.39990234375,
          3339.610107421875,
          3290.10009765625,
          3297.8701171875,
          3273.989990234375,
          3255.93994140625,
          3176.25,
          3202.4599609375,
          3198.6201171875,
          3283.06005859375,
          3288.199951171875,
          3238.10009765625,
          3236.280029296875,
          3261.090087890625,
          3290.780029296875,
          3304,
          3385.10009765625,
          3422,
          3400.3701171875,
          3403,
          3331.300048828125,
          3297.699951171875,
          3343.97998046875,
          3371.449951171875,
          3386,
          3273.320068359375,
          3292.02001953125,
          3283.550048828125,
          3297.52001953125,
          3365,
          3476.97998046875,
          3487.860107421875,
          3501.429931640625,
          3463.090087890625,
          3467.469970703125,
          3447.050048828125,
          3525.81005859375,
          3525.14990234375,
          3545.35009765625,
          3561,
          3675.719970703125,
          3567.5,
          3527.7099609375,
          3536.85009765625,
          3504.14990234375,
          3531.5,
          3492.010009765625,
          3441.60009765625,
          3423.75,
          3338.60009765625,
          3338.68994140625,
          3466.68994140625,
          3495.010009765625,
          3482.7900390625,
          3410,
          3382.60009765625,
          3328.800048828125,
          3303.89990234375,
          3363.2099609375,
          3312.27001953125,
          3312,
          3312.949951171875,
          3370.010009765625,
          3403,
          3384.31005859375,
          3382.7099609375,
          3372.010009765625,
          3370.47998046875,
          3331.169921875,
          3323.2099609375,
          3326.989990234375,
          3287.139892578125,
          3238.739990234375,
          3240.6201171875,
          3126.090087890625,
          3214.030029296875,
          3288.340087890625,
          3221.820068359375,
          3196.010009765625,
          3153.2900390625,
          3125,
          3027.02001953125,
          2841.409912109375,
          2707.0400390625,
          2762.89990234375,
          2746.3701171875,
          2787,
          2758.590087890625,
          2886.010009765625,
          2952.550048828125,
          2977.27001953125,
          2766.659912109375,
          3012.159912109375,
          3145,
          3111.010009765625,
          3205,
          3155,
          3054.679931640625,
          3033,
          3092.75,
          3094.68994140625,
          3090,
          3017.860107421875,
          2969.7099609375,
          2893.02001953125,
          2790,
          2984.27001953125
         ],
         "name": "OHLC",
         "open": [
          1875,
          1864.5,
          1860,
          1904.5,
          1898.0400390625,
          1909.8900146484373,
          1905.3699951171875,
          1891.31005859375,
          1885.8800048828125,
          1872.25,
          1882.989990234375,
          1885.8900146484373,
          1865,
          1896.0899658203125,
          1885.1099853515625,
          1891.3699951171875,
          1820,
          1840.5,
          1864,
          1858,
          2051.469970703125,
          2010.5999755859373,
          2029.8800048828125,
          2071.02001953125,
          2041.02001953125,
          2041.989990234375,
          2085.010009765625,
          2150.89990234375,
          2163.199951171875,
          2144.989990234375,
          2155.679931640625,
          2125.02001953125,
          2167.800048828125,
          2173.070068359375,
          2142.14990234375,
          2003.1800537109373,
          2026.4200439453125,
          1970.280029296875,
          1934.3800048828125,
          1814.6300048828125,
          1906.489990234375,
          1975.3699951171875,
          1946.5699462890625,
          1933,
          1875,
          1773.8599853515625,
          1870.8800048828125,
          1857.8499755859373,
          1721.97998046875,
          1755,
          1641.510009765625,
          1775.469970703125,
          1750,
          1860,
          1926.31005859375,
          1827.75,
          1951.5,
          1920.68994140625,
          1902,
          1930.8599853515625,
          1922.8299560546875,
          1964.3499755859373,
          1932.969970703125,
          1901.6400146484373,
          1911.1500244140625,
          1936,
          2017.1099853515625,
          2021,
          2044.300048828125,
          2040,
          2200.469970703125,
          2257.679931640625,
          2346,
          2372.330078125,
          2389.949951171875,
          2416.610107421875,
          2369,
          2399.97998046875,
          2417,
          2443.199951171875,
          2372.10009765625,
          2330.010009765625,
          2419.840087890625,
          2336.800048828125,
          2256.3798828125,
          2340,
          2329.43994140625,
          2374.780029296875,
          2372.139892578125,
          2374.699951171875,
          2411.85009765625,
          2366.800048828125,
          2361.010009765625,
          2368.52001953125,
          2404.35009765625,
          2429.830078125,
          2477.8701171875,
          2500,
          2455.010009765625,
          2458,
          2404.989990234375,
          2384.330078125,
          2415.93994140625,
          2448,
          2467,
          2468.010009765625,
          2477.429931640625,
          2444.510009765625,
          2500.199951171875,
          2529.43994140625,
          2645,
          2603.5,
          2601.2099609375,
          2526.60009765625,
          2620,
          2647.5,
          2647.010009765625,
          2678.080078125,
          2684.5,
          2726.02001953125,
          2780,
          2739.550048828125,
          2775.06005859375,
          2690.010009765625,
          2685.070068359375,
          2757.989990234375,
          2912.010009765625,
          2934.969970703125,
          3058.550048828125,
          3022.610107421875,
          3115.989990234375,
          3191.760009765625,
          3251.06005859375,
          3089,
          3080.22998046875,
          2971.06005859375,
          3009,
          3000.199951171875,
          3232.489990234375,
          3125,
          3098.27001953125,
          2930,
          3062,
          3054.27001953125,
          3030.989990234375,
          3014,
          3244,
          3180.510009765625,
          3101.2099609375,
          3143.77001953125,
          3194.360107421875,
          3224.010009765625,
          3170.31005859375,
          3113.199951171875,
          3108,
          3182.989990234375,
          3178.179931640625,
          3173.1201171875,
          3212,
          3303.010009765625,
          3252,
          3295,
          3310.14990234375,
          3294.989990234375,
          3351.110107421875,
          3450.050048828125,
          3423,
          3408.989990234375,
          3489.580078125,
          3547,
          3485,
          3318,
          3144,
          3202.989990234375,
          3307.219970703125,
          3208.68994140625,
          3172.93994140625,
          3136.159912109375,
          3179.989990234375,
          3009.25,
          3031.739990234375,
          2906.5,
          3033.840087890625,
          3120.429931640625,
          2977.7900390625,
          3054.860107421875,
          3148.85009765625,
          3175.389892578125,
          3141.139892578125,
          3208,
          3153.6298828125,
          3145.840087890625,
          3165,
          3135,
          3224.989990234375,
          3210,
          3349.93994140625,
          3467.989990234375,
          3447,
          3292.010009765625,
          3363.22998046875,
          3299.610107421875,
          3222.280029296875,
          3212.5,
          3189.8701171875,
          3191,
          3198.739990234375,
          3224.93994140625,
          3249.300048828125,
          3201.27001953125,
          3157.75,
          3061.739990234375,
          3018.530029296875,
          3159.989990234375,
          3319.969970703125,
          3304.639892578125,
          3231.030029296875,
          3095.02001953125,
          3061.780029296875,
          3159.949951171875,
          3122,
          3093.199951171875,
          3183.5400390625,
          3134,
          3105.31005859375,
          3117.02001953125,
          3116.699951171875,
          3100.5,
          3141.8701171875,
          3211.260009765625,
          3208.47998046875,
          3188.5,
          3221.64990234375,
          3205.4599609375,
          3198.2099609375,
          3156.47998046875,
          3158.89990234375,
          3167.889892578125,
          3088.989990234375,
          3096.659912109375,
          3143,
          3181.010009765625,
          3176.010009765625,
          3250,
          3243.989990234375,
          3200.010009765625,
          3202.840087890625,
          3205,
          3193.89990234375,
          3194,
          3309.93994140625,
          3341,
          3275,
          3270,
          3166.010009765625,
          3146.47998046875,
          3157,
          3180,
          3148.010009765625,
          3120,
          3128.43994140625,
          3167.52001953125,
          3123.02001953125,
          3107,
          3181.989990234375,
          3293,
          3304.31005859375,
          3328.5,
          3296.360107421875,
          3341.489990234375,
          3235.0400390625,
          3230,
          3242.360107421875,
          3380,
          3425.010009765625,
          3330,
          3319,
          3358.5,
          3312.489990234375,
          3314,
          3292,
          3250,
          3254.050048828125,
          3263.60009765625,
          3282.419921875,
          3328.22998046875,
          3208.1298828125,
          3127.030029296875,
          3166.75,
          3136.739990234375,
          3095.199951171875,
          3127.889892578125,
          3143.469970703125,
          3081.179931640625,
          3012,
          3005,
          3015,
          3017.989990234375,
          3098.449951171875,
          3104.010009765625,
          3075,
          3074.570068359375,
          3104.969970703125,
          3073.219970703125,
          3101,
          3029.22998046875,
          3067.85009765625,
          3127,
          3151.0400390625,
          3072.989990234375,
          3044.06005859375,
          3055.43994140625,
          3070.010009765625,
          3064.06005859375,
          3117.93994140625,
          3173,
          3223.75,
          3233.800048828125,
          3310.89990234375,
          3304.699951171875,
          3355.2099609375,
          3400.85009765625,
          3404.0400390625,
          3371,
          3380,
          3390.330078125,
          3373.60009765625,
          3316,
          3371.679931640625,
          3319.10009765625,
          3348,
          3443.469970703125,
          3434.800048828125,
          3505.10009765625,
          3525.1201171875,
          3484.72998046875,
          3356.18994140625,
          3338.860107421875,
          3270,
          3319.090087890625,
          3282.320068359375,
          3136.280029296875,
          3185,
          3185.469970703125,
          3185.56005859375,
          3245.929931640625,
          3292.580078125,
          3195,
          3244.39990234375,
          3250,
          3215.5,
          3266.669921875,
          3274.590087890625,
          3256,
          3242,
          3243.5,
          3223.10009765625,
          3204.22998046875,
          3212,
          3197.330078125,
          3222.610107421875,
          3272.8701171875,
          3282.010009765625,
          3349.64990234375,
          3346.830078125,
          3384,
          3392,
          3403.179931640625,
          3479.989990234375,
          3476.419921875,
          3458.06005859375,
          3505,
          3507.639892578125,
          3464,
          3416,
          3438.820068359375,
          3441.06005859375,
          3434.610107421875,
          3451.639892578125,
          3530.110107421875,
          3717.3798828125,
          3643.56005859375,
          3722.52001953125,
          3744,
          3702.10009765625,
          3708.85009765625,
          3694.199951171875,
          3633.31005859375,
          3532.580078125,
          3567.320068359375,
          3576.3798828125,
          3587.22998046875,
          3640,
          3673.169921875,
          3698.5,
          3633.780029296875,
          3627.75,
          3347.949951171875,
          3353.10009765625,
          3340.719970703125,
          3379.35009765625,
          3356.219970703125,
          3375,
          3343.610107421875,
          3345.010009765625,
          3331.449951171875,
          3290,
          3305.669921875,
          3283,
          3277.5,
          3241.989990234375,
          3194.02001953125,
          3203.8701171875,
          3211.89990234375,
          3280,
          3309.8701171875,
          3299,
          3333.22998046875,
          3357.429931640625,
          3424.800048828125,
          3496.39990234375,
          3494.760009765625,
          3452,
          3478,
          3511.64990234375,
          3526.02001953125,
          3501.830078125,
          3482.800048828125,
          3475.550048828125,
          3442.52001953125,
          3459.9599609375,
          3488.409912109375,
          3396,
          3375,
          3351,
          3380.050048828125,
          3402.010009765625,
          3371.5,
          3357.7099609375,
          3322.110107421875,
          3316,
          3289.010009765625,
          3279.389892578125,
          3204.5,
          3213.530029296875,
          3291.5400390625,
          3317,
          3275,
          3257,
          3269.7099609375,
          3302.449951171875,
          3311.419921875,
          3388.360107421875,
          3434.2900390625,
          3452.659912109375,
          3414.25,
          3421,
          3335,
          3349.510009765625,
          3388,
          3402.10009765625,
          3300.02001953125,
          3361.800048828125,
          3315.010009765625,
          3309,
          3370,
          3477,
          3523.239990234375,
          3515.25,
          3563.8701171875,
          3513,
          3485,
          3537,
          3539,
          3564.719970703125,
          3566.35009765625,
          3712.68994140625,
          3676.3798828125,
          3585.0400390625,
          3562.669921875,
          3602.10009765625,
          3547.639892578125,
          3563.5,
          3545,
          3460,
          3455,
          3393,
          3492,
          3523.010009765625,
          3515,
          3508.340087890625,
          3440,
          3351,
          3371.9599609375,
          3467.3701171875,
          3354.2099609375,
          3337,
          3357.010009765625,
          3385.39990234375,
          3408.56005859375,
          3420.739990234375,
          3403.64990234375,
          3416.800048828125,
          3394,
          3379.1201171875,
          3351,
          3408.760009765625,
          3337.659912109375,
          3269.010009765625,
          3276.780029296875,
          3211.7099609375,
          3230,
          3331.5,
          3305.010009765625,
          3203,
          3182.10009765625,
          3175.239990234375,
          3135.320068359375,
          2999,
          2780,
          2844.85009765625,
          2895,
          2816,
          2817.2099609375,
          2895,
          3000,
          3101.010009765625,
          2834.75,
          3112.1298828125,
          3170.39990234375,
          3135.010009765625,
          3257.469970703125,
          3167,
          3162.68994140625,
          3035.02001953125,
          3152.110107421875,
          3115.81005859375,
          3162.919921875,
          3109.989990234375,
          3009.570068359375,
          3033.010009765625,
          2796.75,
          3011
         ],
         "showlegend": false,
         "type": "candlestick",
         "x": [
          "2020-01-02",
          "2020-01-03",
          "2020-01-06",
          "2020-01-07",
          "2020-01-08",
          "2020-01-09",
          "2020-01-10",
          "2020-01-13",
          "2020-01-14",
          "2020-01-15",
          "2020-01-16",
          "2020-01-17",
          "2020-01-21",
          "2020-01-22",
          "2020-01-23",
          "2020-01-24",
          "2020-01-27",
          "2020-01-28",
          "2020-01-29",
          "2020-01-30",
          "2020-01-31",
          "2020-02-03",
          "2020-02-04",
          "2020-02-05",
          "2020-02-06",
          "2020-02-07",
          "2020-02-10",
          "2020-02-11",
          "2020-02-12",
          "2020-02-13",
          "2020-02-14",
          "2020-02-18",
          "2020-02-19",
          "2020-02-20",
          "2020-02-21",
          "2020-02-24",
          "2020-02-25",
          "2020-02-26",
          "2020-02-27",
          "2020-02-28",
          "2020-03-02",
          "2020-03-03",
          "2020-03-04",
          "2020-03-05",
          "2020-03-06",
          "2020-03-09",
          "2020-03-10",
          "2020-03-11",
          "2020-03-12",
          "2020-03-13",
          "2020-03-16",
          "2020-03-17",
          "2020-03-18",
          "2020-03-19",
          "2020-03-20",
          "2020-03-23",
          "2020-03-24",
          "2020-03-25",
          "2020-03-26",
          "2020-03-27",
          "2020-03-30",
          "2020-03-31",
          "2020-04-01",
          "2020-04-02",
          "2020-04-03",
          "2020-04-06",
          "2020-04-07",
          "2020-04-08",
          "2020-04-09",
          "2020-04-13",
          "2020-04-14",
          "2020-04-15",
          "2020-04-16",
          "2020-04-17",
          "2020-04-20",
          "2020-04-21",
          "2020-04-22",
          "2020-04-23",
          "2020-04-24",
          "2020-04-27",
          "2020-04-28",
          "2020-04-29",
          "2020-04-30",
          "2020-05-01",
          "2020-05-04",
          "2020-05-05",
          "2020-05-06",
          "2020-05-07",
          "2020-05-08",
          "2020-05-11",
          "2020-05-12",
          "2020-05-13",
          "2020-05-14",
          "2020-05-15",
          "2020-05-18",
          "2020-05-19",
          "2020-05-20",
          "2020-05-21",
          "2020-05-22",
          "2020-05-26",
          "2020-05-27",
          "2020-05-28",
          "2020-05-29",
          "2020-06-01",
          "2020-06-02",
          "2020-06-03",
          "2020-06-04",
          "2020-06-05",
          "2020-06-08",
          "2020-06-09",
          "2020-06-10",
          "2020-06-11",
          "2020-06-12",
          "2020-06-15",
          "2020-06-16",
          "2020-06-17",
          "2020-06-18",
          "2020-06-19",
          "2020-06-22",
          "2020-06-23",
          "2020-06-24",
          "2020-06-25",
          "2020-06-26",
          "2020-06-29",
          "2020-06-30",
          "2020-07-01",
          "2020-07-02",
          "2020-07-06",
          "2020-07-07",
          "2020-07-08",
          "2020-07-09",
          "2020-07-10",
          "2020-07-13",
          "2020-07-14",
          "2020-07-15",
          "2020-07-16",
          "2020-07-17",
          "2020-07-20",
          "2020-07-21",
          "2020-07-22",
          "2020-07-23",
          "2020-07-24",
          "2020-07-27",
          "2020-07-28",
          "2020-07-29",
          "2020-07-30",
          "2020-07-31",
          "2020-08-03",
          "2020-08-04",
          "2020-08-05",
          "2020-08-06",
          "2020-08-07",
          "2020-08-10",
          "2020-08-11",
          "2020-08-12",
          "2020-08-13",
          "2020-08-14",
          "2020-08-17",
          "2020-08-18",
          "2020-08-19",
          "2020-08-20",
          "2020-08-21",
          "2020-08-24",
          "2020-08-25",
          "2020-08-26",
          "2020-08-27",
          "2020-08-28",
          "2020-08-31",
          "2020-09-01",
          "2020-09-02",
          "2020-09-03",
          "2020-09-04",
          "2020-09-08",
          "2020-09-09",
          "2020-09-10",
          "2020-09-11",
          "2020-09-14",
          "2020-09-15",
          "2020-09-16",
          "2020-09-17",
          "2020-09-18",
          "2020-09-21",
          "2020-09-22",
          "2020-09-23",
          "2020-09-24",
          "2020-09-25",
          "2020-09-28",
          "2020-09-29",
          "2020-09-30",
          "2020-10-01",
          "2020-10-02",
          "2020-10-05",
          "2020-10-06",
          "2020-10-07",
          "2020-10-08",
          "2020-10-09",
          "2020-10-12",
          "2020-10-13",
          "2020-10-14",
          "2020-10-15",
          "2020-10-16",
          "2020-10-19",
          "2020-10-20",
          "2020-10-21",
          "2020-10-22",
          "2020-10-23",
          "2020-10-26",
          "2020-10-27",
          "2020-10-28",
          "2020-10-29",
          "2020-10-30",
          "2020-11-02",
          "2020-11-03",
          "2020-11-04",
          "2020-11-05",
          "2020-11-06",
          "2020-11-09",
          "2020-11-10",
          "2020-11-11",
          "2020-11-12",
          "2020-11-13",
          "2020-11-16",
          "2020-11-17",
          "2020-11-18",
          "2020-11-19",
          "2020-11-20",
          "2020-11-23",
          "2020-11-24",
          "2020-11-25",
          "2020-11-27",
          "2020-11-30",
          "2020-12-01",
          "2020-12-02",
          "2020-12-03",
          "2020-12-04",
          "2020-12-07",
          "2020-12-08",
          "2020-12-09",
          "2020-12-10",
          "2020-12-11",
          "2020-12-14",
          "2020-12-15",
          "2020-12-16",
          "2020-12-17",
          "2020-12-18",
          "2020-12-21",
          "2020-12-22",
          "2020-12-23",
          "2020-12-24",
          "2020-12-28",
          "2020-12-29",
          "2020-12-30",
          "2020-12-31",
          "2021-01-04",
          "2021-01-05",
          "2021-01-06",
          "2021-01-07",
          "2021-01-08",
          "2021-01-11",
          "2021-01-12",
          "2021-01-13",
          "2021-01-14",
          "2021-01-15",
          "2021-01-19",
          "2021-01-20",
          "2021-01-21",
          "2021-01-22",
          "2021-01-25",
          "2021-01-26",
          "2021-01-27",
          "2021-01-28",
          "2021-01-29",
          "2021-02-01",
          "2021-02-02",
          "2021-02-03",
          "2021-02-04",
          "2021-02-05",
          "2021-02-08",
          "2021-02-09",
          "2021-02-10",
          "2021-02-11",
          "2021-02-12",
          "2021-02-16",
          "2021-02-17",
          "2021-02-18",
          "2021-02-19",
          "2021-02-22",
          "2021-02-23",
          "2021-02-24",
          "2021-02-25",
          "2021-02-26",
          "2021-03-01",
          "2021-03-02",
          "2021-03-03",
          "2021-03-04",
          "2021-03-05",
          "2021-03-08",
          "2021-03-09",
          "2021-03-10",
          "2021-03-11",
          "2021-03-12",
          "2021-03-15",
          "2021-03-16",
          "2021-03-17",
          "2021-03-18",
          "2021-03-19",
          "2021-03-22",
          "2021-03-23",
          "2021-03-24",
          "2021-03-25",
          "2021-03-26",
          "2021-03-29",
          "2021-03-30",
          "2021-03-31",
          "2021-04-01",
          "2021-04-05",
          "2021-04-06",
          "2021-04-07",
          "2021-04-08",
          "2021-04-09",
          "2021-04-12",
          "2021-04-13",
          "2021-04-14",
          "2021-04-15",
          "2021-04-16",
          "2021-04-19",
          "2021-04-20",
          "2021-04-21",
          "2021-04-22",
          "2021-04-23",
          "2021-04-26",
          "2021-04-27",
          "2021-04-28",
          "2021-04-29",
          "2021-04-30",
          "2021-05-03",
          "2021-05-04",
          "2021-05-05",
          "2021-05-06",
          "2021-05-07",
          "2021-05-10",
          "2021-05-11",
          "2021-05-12",
          "2021-05-13",
          "2021-05-14",
          "2021-05-17",
          "2021-05-18",
          "2021-05-19",
          "2021-05-20",
          "2021-05-21",
          "2021-05-24",
          "2021-05-25",
          "2021-05-26",
          "2021-05-27",
          "2021-05-28",
          "2021-06-01",
          "2021-06-02",
          "2021-06-03",
          "2021-06-04",
          "2021-06-07",
          "2021-06-08",
          "2021-06-09",
          "2021-06-10",
          "2021-06-11",
          "2021-06-14",
          "2021-06-15",
          "2021-06-16",
          "2021-06-17",
          "2021-06-18",
          "2021-06-21",
          "2021-06-22",
          "2021-06-23",
          "2021-06-24",
          "2021-06-25",
          "2021-06-28",
          "2021-06-29",
          "2021-06-30",
          "2021-07-01",
          "2021-07-02",
          "2021-07-06",
          "2021-07-07",
          "2021-07-08",
          "2021-07-09",
          "2021-07-12",
          "2021-07-13",
          "2021-07-14",
          "2021-07-15",
          "2021-07-16",
          "2021-07-19",
          "2021-07-20",
          "2021-07-21",
          "2021-07-22",
          "2021-07-23",
          "2021-07-26",
          "2021-07-27",
          "2021-07-28",
          "2021-07-29",
          "2021-07-30",
          "2021-08-02",
          "2021-08-03",
          "2021-08-04",
          "2021-08-05",
          "2021-08-06",
          "2021-08-09",
          "2021-08-10",
          "2021-08-11",
          "2021-08-12",
          "2021-08-13",
          "2021-08-16",
          "2021-08-17",
          "2021-08-18",
          "2021-08-19",
          "2021-08-20",
          "2021-08-23",
          "2021-08-24",
          "2021-08-25",
          "2021-08-26",
          "2021-08-27",
          "2021-08-30",
          "2021-08-31",
          "2021-09-01",
          "2021-09-02",
          "2021-09-03",
          "2021-09-07",
          "2021-09-08",
          "2021-09-09",
          "2021-09-10",
          "2021-09-13",
          "2021-09-14",
          "2021-09-15",
          "2021-09-16",
          "2021-09-17",
          "2021-09-20",
          "2021-09-21",
          "2021-09-22",
          "2021-09-23",
          "2021-09-24",
          "2021-09-27",
          "2021-09-28",
          "2021-09-29",
          "2021-09-30",
          "2021-10-01",
          "2021-10-04",
          "2021-10-05",
          "2021-10-06",
          "2021-10-07",
          "2021-10-08",
          "2021-10-11",
          "2021-10-12",
          "2021-10-13",
          "2021-10-14",
          "2021-10-15",
          "2021-10-18",
          "2021-10-19",
          "2021-10-20",
          "2021-10-21",
          "2021-10-22",
          "2021-10-25",
          "2021-10-26",
          "2021-10-27",
          "2021-10-28",
          "2021-10-29",
          "2021-11-01",
          "2021-11-02",
          "2021-11-03",
          "2021-11-04",
          "2021-11-05",
          "2021-11-08",
          "2021-11-09",
          "2021-11-10",
          "2021-11-11",
          "2021-11-12",
          "2021-11-15",
          "2021-11-16",
          "2021-11-17",
          "2021-11-18",
          "2021-11-19",
          "2021-11-22",
          "2021-11-23",
          "2021-11-24",
          "2021-11-26",
          "2021-11-29",
          "2021-11-30",
          "2021-12-01",
          "2021-12-02",
          "2021-12-03",
          "2021-12-06",
          "2021-12-07",
          "2021-12-08",
          "2021-12-09",
          "2021-12-10",
          "2021-12-13",
          "2021-12-14",
          "2021-12-15",
          "2021-12-16",
          "2021-12-17",
          "2021-12-20",
          "2021-12-21",
          "2021-12-22",
          "2021-12-23",
          "2021-12-27",
          "2021-12-28",
          "2021-12-29",
          "2021-12-30",
          "2021-12-31",
          "2022-01-03",
          "2022-01-04",
          "2022-01-05",
          "2022-01-06",
          "2022-01-07",
          "2022-01-10",
          "2022-01-11",
          "2022-01-12",
          "2022-01-13",
          "2022-01-14",
          "2022-01-18",
          "2022-01-19",
          "2022-01-20",
          "2022-01-21",
          "2022-01-24",
          "2022-01-25",
          "2022-01-26",
          "2022-01-27",
          "2022-01-28",
          "2022-01-31",
          "2022-02-01",
          "2022-02-02",
          "2022-02-03",
          "2022-02-04",
          "2022-02-07",
          "2022-02-08",
          "2022-02-09",
          "2022-02-10",
          "2022-02-11",
          "2022-02-14",
          "2022-02-15",
          "2022-02-16",
          "2022-02-17",
          "2022-02-18",
          "2022-02-22",
          "2022-02-23",
          "2022-02-24",
          "2022-02-25"
         ],
         "xaxis": "x",
         "yaxis": "y"
        },
        {
         "marker": {
          "color": "rgba(63, 255, 56, 0.6)",
          "line": {
           "color": "black",
           "width": 1
          },
          "size": 12
         },
         "mode": "markers",
         "name": "Buy Orders",
         "showlegend": false,
         "type": "scatter",
         "x": [
          "2020-04-24T00:00:00",
          "2020-05-27T00:00:00",
          "2021-07-30T00:00:00"
         ],
         "y": [
          2410.88,
          2388.15,
          3358.69
         ]
        },
        {
         "marker": {
          "color": "rgba(255, 13, 17, 0.6)",
          "line": {
           "color": "black",
           "width": 1
          },
          "size": 12
         },
         "mode": "markers",
         "name": "Sell Orders",
         "showlegend": false,
         "type": "scatter",
         "x": [],
         "y": []
        },
        {
         "showlegend": false,
         "type": "bar",
         "x": [
          "2020-01-02",
          "2020-01-03",
          "2020-01-06",
          "2020-01-07",
          "2020-01-08",
          "2020-01-09",
          "2020-01-10",
          "2020-01-13",
          "2020-01-14",
          "2020-01-15",
          "2020-01-16",
          "2020-01-17",
          "2020-01-21",
          "2020-01-22",
          "2020-01-23",
          "2020-01-24",
          "2020-01-27",
          "2020-01-28",
          "2020-01-29",
          "2020-01-30",
          "2020-01-31",
          "2020-02-03",
          "2020-02-04",
          "2020-02-05",
          "2020-02-06",
          "2020-02-07",
          "2020-02-10",
          "2020-02-11",
          "2020-02-12",
          "2020-02-13",
          "2020-02-14",
          "2020-02-18",
          "2020-02-19",
          "2020-02-20",
          "2020-02-21",
          "2020-02-24",
          "2020-02-25",
          "2020-02-26",
          "2020-02-27",
          "2020-02-28",
          "2020-03-02",
          "2020-03-03",
          "2020-03-04",
          "2020-03-05",
          "2020-03-06",
          "2020-03-09",
          "2020-03-10",
          "2020-03-11",
          "2020-03-12",
          "2020-03-13",
          "2020-03-16",
          "2020-03-17",
          "2020-03-18",
          "2020-03-19",
          "2020-03-20",
          "2020-03-23",
          "2020-03-24",
          "2020-03-25",
          "2020-03-26",
          "2020-03-27",
          "2020-03-30",
          "2020-03-31",
          "2020-04-01",
          "2020-04-02",
          "2020-04-03",
          "2020-04-06",
          "2020-04-07",
          "2020-04-08",
          "2020-04-09",
          "2020-04-13",
          "2020-04-14",
          "2020-04-15",
          "2020-04-16",
          "2020-04-17",
          "2020-04-20",
          "2020-04-21",
          "2020-04-22",
          "2020-04-23",
          "2020-04-24",
          "2020-04-27",
          "2020-04-28",
          "2020-04-29",
          "2020-04-30",
          "2020-05-01",
          "2020-05-04",
          "2020-05-05",
          "2020-05-06",
          "2020-05-07",
          "2020-05-08",
          "2020-05-11",
          "2020-05-12",
          "2020-05-13",
          "2020-05-14",
          "2020-05-15",
          "2020-05-18",
          "2020-05-19",
          "2020-05-20",
          "2020-05-21",
          "2020-05-22",
          "2020-05-26",
          "2020-05-27",
          "2020-05-28",
          "2020-05-29",
          "2020-06-01",
          "2020-06-02",
          "2020-06-03",
          "2020-06-04",
          "2020-06-05",
          "2020-06-08",
          "2020-06-09",
          "2020-06-10",
          "2020-06-11",
          "2020-06-12",
          "2020-06-15",
          "2020-06-16",
          "2020-06-17",
          "2020-06-18",
          "2020-06-19",
          "2020-06-22",
          "2020-06-23",
          "2020-06-24",
          "2020-06-25",
          "2020-06-26",
          "2020-06-29",
          "2020-06-30",
          "2020-07-01",
          "2020-07-02",
          "2020-07-06",
          "2020-07-07",
          "2020-07-08",
          "2020-07-09",
          "2020-07-10",
          "2020-07-13",
          "2020-07-14",
          "2020-07-15",
          "2020-07-16",
          "2020-07-17",
          "2020-07-20",
          "2020-07-21",
          "2020-07-22",
          "2020-07-23",
          "2020-07-24",
          "2020-07-27",
          "2020-07-28",
          "2020-07-29",
          "2020-07-30",
          "2020-07-31",
          "2020-08-03",
          "2020-08-04",
          "2020-08-05",
          "2020-08-06",
          "2020-08-07",
          "2020-08-10",
          "2020-08-11",
          "2020-08-12",
          "2020-08-13",
          "2020-08-14",
          "2020-08-17",
          "2020-08-18",
          "2020-08-19",
          "2020-08-20",
          "2020-08-21",
          "2020-08-24",
          "2020-08-25",
          "2020-08-26",
          "2020-08-27",
          "2020-08-28",
          "2020-08-31",
          "2020-09-01",
          "2020-09-02",
          "2020-09-03",
          "2020-09-04",
          "2020-09-08",
          "2020-09-09",
          "2020-09-10",
          "2020-09-11",
          "2020-09-14",
          "2020-09-15",
          "2020-09-16",
          "2020-09-17",
          "2020-09-18",
          "2020-09-21",
          "2020-09-22",
          "2020-09-23",
          "2020-09-24",
          "2020-09-25",
          "2020-09-28",
          "2020-09-29",
          "2020-09-30",
          "2020-10-01",
          "2020-10-02",
          "2020-10-05",
          "2020-10-06",
          "2020-10-07",
          "2020-10-08",
          "2020-10-09",
          "2020-10-12",
          "2020-10-13",
          "2020-10-14",
          "2020-10-15",
          "2020-10-16",
          "2020-10-19",
          "2020-10-20",
          "2020-10-21",
          "2020-10-22",
          "2020-10-23",
          "2020-10-26",
          "2020-10-27",
          "2020-10-28",
          "2020-10-29",
          "2020-10-30",
          "2020-11-02",
          "2020-11-03",
          "2020-11-04",
          "2020-11-05",
          "2020-11-06",
          "2020-11-09",
          "2020-11-10",
          "2020-11-11",
          "2020-11-12",
          "2020-11-13",
          "2020-11-16",
          "2020-11-17",
          "2020-11-18",
          "2020-11-19",
          "2020-11-20",
          "2020-11-23",
          "2020-11-24",
          "2020-11-25",
          "2020-11-27",
          "2020-11-30",
          "2020-12-01",
          "2020-12-02",
          "2020-12-03",
          "2020-12-04",
          "2020-12-07",
          "2020-12-08",
          "2020-12-09",
          "2020-12-10",
          "2020-12-11",
          "2020-12-14",
          "2020-12-15",
          "2020-12-16",
          "2020-12-17",
          "2020-12-18",
          "2020-12-21",
          "2020-12-22",
          "2020-12-23",
          "2020-12-24",
          "2020-12-28",
          "2020-12-29",
          "2020-12-30",
          "2020-12-31",
          "2021-01-04",
          "2021-01-05",
          "2021-01-06",
          "2021-01-07",
          "2021-01-08",
          "2021-01-11",
          "2021-01-12",
          "2021-01-13",
          "2021-01-14",
          "2021-01-15",
          "2021-01-19",
          "2021-01-20",
          "2021-01-21",
          "2021-01-22",
          "2021-01-25",
          "2021-01-26",
          "2021-01-27",
          "2021-01-28",
          "2021-01-29",
          "2021-02-01",
          "2021-02-02",
          "2021-02-03",
          "2021-02-04",
          "2021-02-05",
          "2021-02-08",
          "2021-02-09",
          "2021-02-10",
          "2021-02-11",
          "2021-02-12",
          "2021-02-16",
          "2021-02-17",
          "2021-02-18",
          "2021-02-19",
          "2021-02-22",
          "2021-02-23",
          "2021-02-24",
          "2021-02-25",
          "2021-02-26",
          "2021-03-01",
          "2021-03-02",
          "2021-03-03",
          "2021-03-04",
          "2021-03-05",
          "2021-03-08",
          "2021-03-09",
          "2021-03-10",
          "2021-03-11",
          "2021-03-12",
          "2021-03-15",
          "2021-03-16",
          "2021-03-17",
          "2021-03-18",
          "2021-03-19",
          "2021-03-22",
          "2021-03-23",
          "2021-03-24",
          "2021-03-25",
          "2021-03-26",
          "2021-03-29",
          "2021-03-30",
          "2021-03-31",
          "2021-04-01",
          "2021-04-05",
          "2021-04-06",
          "2021-04-07",
          "2021-04-08",
          "2021-04-09",
          "2021-04-12",
          "2021-04-13",
          "2021-04-14",
          "2021-04-15",
          "2021-04-16",
          "2021-04-19",
          "2021-04-20",
          "2021-04-21",
          "2021-04-22",
          "2021-04-23",
          "2021-04-26",
          "2021-04-27",
          "2021-04-28",
          "2021-04-29",
          "2021-04-30",
          "2021-05-03",
          "2021-05-04",
          "2021-05-05",
          "2021-05-06",
          "2021-05-07",
          "2021-05-10",
          "2021-05-11",
          "2021-05-12",
          "2021-05-13",
          "2021-05-14",
          "2021-05-17",
          "2021-05-18",
          "2021-05-19",
          "2021-05-20",
          "2021-05-21",
          "2021-05-24",
          "2021-05-25",
          "2021-05-26",
          "2021-05-27",
          "2021-05-28",
          "2021-06-01",
          "2021-06-02",
          "2021-06-03",
          "2021-06-04",
          "2021-06-07",
          "2021-06-08",
          "2021-06-09",
          "2021-06-10",
          "2021-06-11",
          "2021-06-14",
          "2021-06-15",
          "2021-06-16",
          "2021-06-17",
          "2021-06-18",
          "2021-06-21",
          "2021-06-22",
          "2021-06-23",
          "2021-06-24",
          "2021-06-25",
          "2021-06-28",
          "2021-06-29",
          "2021-06-30",
          "2021-07-01",
          "2021-07-02",
          "2021-07-06",
          "2021-07-07",
          "2021-07-08",
          "2021-07-09",
          "2021-07-12",
          "2021-07-13",
          "2021-07-14",
          "2021-07-15",
          "2021-07-16",
          "2021-07-19",
          "2021-07-20",
          "2021-07-21",
          "2021-07-22",
          "2021-07-23",
          "2021-07-26",
          "2021-07-27",
          "2021-07-28",
          "2021-07-29",
          "2021-07-30",
          "2021-08-02",
          "2021-08-03",
          "2021-08-04",
          "2021-08-05",
          "2021-08-06",
          "2021-08-09",
          "2021-08-10",
          "2021-08-11",
          "2021-08-12",
          "2021-08-13",
          "2021-08-16",
          "2021-08-17",
          "2021-08-18",
          "2021-08-19",
          "2021-08-20",
          "2021-08-23",
          "2021-08-24",
          "2021-08-25",
          "2021-08-26",
          "2021-08-27",
          "2021-08-30",
          "2021-08-31",
          "2021-09-01",
          "2021-09-02",
          "2021-09-03",
          "2021-09-07",
          "2021-09-08",
          "2021-09-09",
          "2021-09-10",
          "2021-09-13",
          "2021-09-14",
          "2021-09-15",
          "2021-09-16",
          "2021-09-17",
          "2021-09-20",
          "2021-09-21",
          "2021-09-22",
          "2021-09-23",
          "2021-09-24",
          "2021-09-27",
          "2021-09-28",
          "2021-09-29",
          "2021-09-30",
          "2021-10-01",
          "2021-10-04",
          "2021-10-05",
          "2021-10-06",
          "2021-10-07",
          "2021-10-08",
          "2021-10-11",
          "2021-10-12",
          "2021-10-13",
          "2021-10-14",
          "2021-10-15",
          "2021-10-18",
          "2021-10-19",
          "2021-10-20",
          "2021-10-21",
          "2021-10-22",
          "2021-10-25",
          "2021-10-26",
          "2021-10-27",
          "2021-10-28",
          "2021-10-29",
          "2021-11-01",
          "2021-11-02",
          "2021-11-03",
          "2021-11-04",
          "2021-11-05",
          "2021-11-08",
          "2021-11-09",
          "2021-11-10",
          "2021-11-11",
          "2021-11-12",
          "2021-11-15",
          "2021-11-16",
          "2021-11-17",
          "2021-11-18",
          "2021-11-19",
          "2021-11-22",
          "2021-11-23",
          "2021-11-24",
          "2021-11-26",
          "2021-11-29",
          "2021-11-30",
          "2021-12-01",
          "2021-12-02",
          "2021-12-03",
          "2021-12-06",
          "2021-12-07",
          "2021-12-08",
          "2021-12-09",
          "2021-12-10",
          "2021-12-13",
          "2021-12-14",
          "2021-12-15",
          "2021-12-16",
          "2021-12-17",
          "2021-12-20",
          "2021-12-21",
          "2021-12-22",
          "2021-12-23",
          "2021-12-27",
          "2021-12-28",
          "2021-12-29",
          "2021-12-30",
          "2021-12-31",
          "2022-01-03",
          "2022-01-04",
          "2022-01-05",
          "2022-01-06",
          "2022-01-07",
          "2022-01-10",
          "2022-01-11",
          "2022-01-12",
          "2022-01-13",
          "2022-01-14",
          "2022-01-18",
          "2022-01-19",
          "2022-01-20",
          "2022-01-21",
          "2022-01-24",
          "2022-01-25",
          "2022-01-26",
          "2022-01-27",
          "2022-01-28",
          "2022-01-31",
          "2022-02-01",
          "2022-02-02",
          "2022-02-03",
          "2022-02-04",
          "2022-02-07",
          "2022-02-08",
          "2022-02-09",
          "2022-02-10",
          "2022-02-11",
          "2022-02-14",
          "2022-02-15",
          "2022-02-16",
          "2022-02-17",
          "2022-02-18",
          "2022-02-22",
          "2022-02-23",
          "2022-02-24",
          "2022-02-25"
         ],
         "xaxis": "x2",
         "y": [
          4029000,
          3764400,
          4061800,
          4044900,
          3508000,
          3167300,
          2853700,
          2780800,
          3440900,
          2896600,
          2659500,
          3997300,
          3707800,
          3216300,
          2484600,
          3766200,
          3528500,
          2808000,
          2088000,
          6327400,
          15567300,
          5891700,
          5289300,
          4376200,
          3183000,
          5095300,
          5056200,
          5746000,
          3334300,
          3031800,
          2606200,
          2945600,
          2561200,
          3131300,
          4646300,
          6547000,
          6219100,
          5224600,
          8144000,
          9481000,
          6761700,
          7534500,
          4772900,
          4748200,
          5273600,
          7813200,
          7133300,
          5624800,
          11346200,
          8809700,
          8917300,
          10917100,
          9645200,
          10399900,
          9817900,
          7808500,
          7147100,
          6479100,
          6221300,
          5387900,
          6126100,
          5123600,
          4121900,
          4336000,
          3609900,
          5773200,
          5114000,
          3977300,
          4646500,
          6716700,
          8087200,
          6866600,
          12038200,
          7930000,
          5770700,
          7476700,
          4212200,
          5066600,
          3824900,
          5645600,
          5269400,
          4591600,
          9534600,
          9772600,
          4865900,
          3242500,
          3117800,
          3396400,
          3206600,
          3259200,
          3074900,
          4782900,
          3648100,
          4235000,
          4357200,
          4320500,
          3998100,
          5114400,
          2867100,
          3568200,
          5056900,
          3190200,
          3509900,
          2928900,
          2529900,
          2671000,
          2948700,
          3306400,
          3970700,
          5176000,
          4946000,
          5800100,
          5436100,
          3865100,
          3585600,
          2959300,
          2487800,
          5777000,
          3208800,
          4231700,
          4526600,
          2968700,
          6500800,
          4223400,
          3769700,
          6363400,
          6593400,
          6880600,
          5257500,
          5037600,
          6388700,
          5486000,
          7720400,
          7231900,
          5788900,
          6394200,
          4761300,
          7598200,
          6121300,
          4104200,
          5656900,
          5632400,
          4170500,
          3126700,
          2974100,
          6128300,
          8085500,
          5074700,
          4694300,
          3916500,
          3940600,
          3936100,
          3167300,
          3718100,
          3522100,
          3149000,
          2751700,
          2691200,
          5346000,
          4185100,
          3332500,
          3575900,
          4666300,
          3992800,
          6508700,
          4264800,
          2897000,
          4185900,
          3432200,
          3931500,
          8161100,
          8781800,
          6094200,
          5188700,
          5330700,
          5094000,
          4529600,
          4021500,
          4512200,
          6449100,
          8892600,
          6117900,
          6948800,
          5652700,
          5529400,
          4615200,
          4224200,
          3495800,
          4896100,
          4971900,
          5613100,
          3775300,
          5086900,
          4309400,
          3174100,
          4907900,
          8364200,
          5744700,
          5812700,
          5223400,
          6474400,
          5223600,
          4509700,
          4592700,
          4212000,
          3466700,
          5901200,
          4291000,
          5588300,
          6596500,
          8386400,
          7257400,
          4897900,
          6839000,
          5789300,
          4647300,
          7190400,
          6591000,
          4366900,
          4362000,
          3756200,
          3808700,
          3444700,
          2916800,
          3010300,
          3374400,
          4708900,
          3602100,
          3790400,
          2392900,
          4063900,
          4537000,
          3129300,
          2892000,
          2913600,
          2751300,
          3286300,
          4100800,
          3030200,
          3064700,
          4155800,
          3319500,
          4427600,
          3474300,
          5995700,
          3836800,
          2369400,
          2093800,
          1451900,
          5686800,
          4872900,
          3209300,
          2957200,
          4411400,
          2655500,
          4394800,
          3514500,
          3537700,
          3683400,
          3514600,
          3321200,
          3070900,
          4244000,
          3305100,
          5309800,
          4936100,
          2821900,
          3749800,
          2955200,
          4660200,
          3149200,
          4293600,
          4160200,
          7098600,
          7088800,
          3670700,
          3620800,
          3257400,
          2203500,
          3151600,
          2301400,
          2335300,
          2574700,
          3297500,
          3027400,
          4305200,
          3515700,
          4677200,
          3011300,
          4533800,
          4275900,
          2729100,
          2595800,
          3988700,
          5481600,
          5388600,
          4185000,
          4030000,
          3012500,
          2776400,
          2421900,
          2913600,
          2538800,
          3118600,
          3649600,
          4625400,
          2902200,
          3817300,
          2959000,
          3563500,
          3312900,
          2746000,
          2337600,
          3093900,
          2940300,
          3334900,
          2537800,
          3346200,
          2812100,
          4341500,
          3281800,
          3315800,
          3145200,
          3233600,
          3186000,
          2725400,
          2623000,
          2211200,
          2580600,
          3192800,
          4880700,
          3827100,
          4631900,
          7682400,
          7009300,
          5875500,
          5439400,
          3711300,
          4447700,
          4710300,
          5838600,
          4619800,
          4936400,
          3350900,
          3325000,
          3723900,
          2828400,
          2679700,
          2633200,
          4104900,
          2422800,
          3261100,
          2384000,
          2561200,
          2329800,
          2430000,
          2014500,
          2398300,
          2249700,
          2215800,
          3416700,
          2455500,
          3476500,
          2817400,
          2569700,
          2426200,
          4202800,
          5136500,
          5247700,
          3277100,
          3345100,
          2813300,
          3832000,
          3941000,
          2242800,
          2098400,
          2404000,
          2037100,
          3169400,
          6744800,
          5328100,
          5180600,
          3748200,
          2571600,
          3845900,
          3296600,
          3185300,
          4043700,
          3784600,
          3255700,
          2319000,
          3265400,
          2436300,
          2900100,
          4131900,
          2999400,
          5520000,
          9957100,
          3353900,
          4157300,
          2183900,
          2433500,
          2635300,
          2148200,
          2412600,
          2947200,
          2314100,
          2052800,
          3319700,
          3387900,
          2804300,
          3782900,
          3341200,
          3268100,
          2551800,
          1680300,
          2098800,
          2391300,
          3192200,
          4356400,
          3629900,
          2923700,
          2575700,
          2737900,
          3053400,
          2719200,
          2393300,
          2569000,
          1936900,
          2957500,
          2583600,
          4616600,
          4669100,
          2780900,
          2411400,
          2379400,
          2116200,
          3634500,
          4430800,
          2562300,
          2842400,
          2835600,
          4523100,
          3269200,
          2533000,
          2409100,
          1995500,
          2034200,
          1819600,
          2420100,
          2109500,
          5175100,
          3174100,
          2386100,
          2139800,
          1881400,
          3139100,
          2226000,
          2698300,
          2702200,
          5708700,
          6469500,
          3608900,
          2627600,
          3397200,
          5353000,
          4993500,
          3074000,
          4294900,
          4027400,
          2264400,
          2688500,
          2929700,
          2217100,
          2560300,
          5703500,
          4936700,
          4842200,
          3690200,
          2328000,
          2991300,
          3265600,
          4001100,
          3745800,
          3236300,
          4032600,
          3443000,
          3320500,
          2262700,
          2303100,
          3031400,
          3108500,
          2798800,
          3789700,
          3043800,
          4277100,
          2868600,
          2797800,
          2751800,
          1839400,
          2934400,
          2731900,
          1787700,
          1879200,
          2391500,
          3176000,
          3536300,
          3215100,
          2597900,
          2329300,
          4389900,
          3140300,
          2501500,
          2609400,
          2295800,
          3364600,
          2662100,
          3598700,
          8198600,
          7781200,
          4541200,
          4780100,
          3875800,
          3719600,
          3915400,
          2961000,
          4366500,
          11276600,
          12640500,
          5131200,
          3802000,
          3439300,
          3413400,
          3851600,
          4161500,
          2848500,
          2635200,
          3201600,
          3168200,
          3306400,
          3212200,
          5039300,
          3117000
         ],
         "yaxis": "y2"
        }
       ],
       "layout": {
        "annotations": [
         {
          "bgcolor": "black",
          "font": {
           "size": 12
          },
          "opacity": 0.3,
          "showarrow": false,
          "text": "Average Price: $ 2564.77<br>Result: 32.17 %",
          "x": 0.05,
          "xanchor": "left",
          "xref": "paper",
          "y": 2308.293,
          "yanchor": "bottom",
          "yref": "y"
         },
         {
          "bgcolor": "black",
          "font": {
           "size": 12
          },
          "opacity": 0.3,
          "showarrow": false,
          "text": "Average Price: $ 2564.77<br>Result: 32.17 %",
          "x": 0.05,
          "xanchor": "left",
          "xref": "paper",
          "y": 2308.293,
          "yanchor": "bottom",
          "yref": "y"
         }
        ],
        "margin": {
         "b": 50,
         "l": 25,
         "r": 25,
         "t": 50
        },
        "paper_bgcolor": "#272b30",
        "plot_bgcolor": "#272b30",
        "shapes": [
         {
          "line": {
           "width": 1
          },
          "x0": 0,
          "x1": 1,
          "xref": "paper",
          "y0": 2564.77,
          "y1": 2564.77,
          "yref": "y"
         }
        ],
        "template": {
         "data": {
          "bar": [
           {
            "error_x": {
             "color": "#f2f5fa"
            },
            "error_y": {
             "color": "#f2f5fa"
            },
            "marker": {
             "line": {
              "color": "rgb(17,17,17)",
              "width": 0.5
             },
             "pattern": {
              "fillmode": "overlay",
              "size": 10,
              "solidity": 0.2
             }
            },
            "type": "bar"
           }
          ],
          "barpolar": [
           {
            "marker": {
             "line": {
              "color": "rgb(17,17,17)",
              "width": 0.5
             },
             "pattern": {
              "fillmode": "overlay",
              "size": 10,
              "solidity": 0.2
             }
            },
            "type": "barpolar"
           }
          ],
          "carpet": [
           {
            "aaxis": {
             "endlinecolor": "#A2B1C6",
             "gridcolor": "#506784",
             "linecolor": "#506784",
             "minorgridcolor": "#506784",
             "startlinecolor": "#A2B1C6"
            },
            "baxis": {
             "endlinecolor": "#A2B1C6",
             "gridcolor": "#506784",
             "linecolor": "#506784",
             "minorgridcolor": "#506784",
             "startlinecolor": "#A2B1C6"
            },
            "type": "carpet"
           }
          ],
          "choropleth": [
           {
            "colorbar": {
             "outlinewidth": 0,
             "ticks": ""
            },
            "type": "choropleth"
           }
          ],
          "contour": [
           {
            "colorbar": {
             "outlinewidth": 0,
             "ticks": ""
            },
            "colorscale": [
             [
              0,
              "#0d0887"
             ],
             [
              0.1111111111111111,
              "#46039f"
             ],
             [
              0.2222222222222222,
              "#7201a8"
             ],
             [
              0.3333333333333333,
              "#9c179e"
             ],
             [
              0.4444444444444444,
              "#bd3786"
             ],
             [
              0.5555555555555556,
              "#d8576b"
             ],
             [
              0.6666666666666666,
              "#ed7953"
             ],
             [
              0.7777777777777778,
              "#fb9f3a"
             ],
             [
              0.8888888888888888,
              "#fdca26"
             ],
             [
              1,
              "#f0f921"
             ]
            ],
            "type": "contour"
           }
          ],
          "contourcarpet": [
           {
            "colorbar": {
             "outlinewidth": 0,
             "ticks": ""
            },
            "type": "contourcarpet"
           }
          ],
          "heatmap": [
           {
            "colorbar": {
             "outlinewidth": 0,
             "ticks": ""
            },
            "colorscale": [
             [
              0,
              "#0d0887"
             ],
             [
              0.1111111111111111,
              "#46039f"
             ],
             [
              0.2222222222222222,
              "#7201a8"
             ],
             [
              0.3333333333333333,
              "#9c179e"
             ],
             [
              0.4444444444444444,
              "#bd3786"
             ],
             [
              0.5555555555555556,
              "#d8576b"
             ],
             [
              0.6666666666666666,
              "#ed7953"
             ],
             [
              0.7777777777777778,
              "#fb9f3a"
             ],
             [
              0.8888888888888888,
              "#fdca26"
             ],
             [
              1,
              "#f0f921"
             ]
            ],
            "type": "heatmap"
           }
          ],
          "heatmapgl": [
           {
            "colorbar": {
             "outlinewidth": 0,
             "ticks": ""
            },
            "colorscale": [
             [
              0,
              "#0d0887"
             ],
             [
              0.1111111111111111,
              "#46039f"
             ],
             [
              0.2222222222222222,
              "#7201a8"
             ],
             [
              0.3333333333333333,
              "#9c179e"
             ],
             [
              0.4444444444444444,
              "#bd3786"
             ],
             [
              0.5555555555555556,
              "#d8576b"
             ],
             [
              0.6666666666666666,
              "#ed7953"
             ],
             [
              0.7777777777777778,
              "#fb9f3a"
             ],
             [
              0.8888888888888888,
              "#fdca26"
             ],
             [
              1,
              "#f0f921"
             ]
            ],
            "type": "heatmapgl"
           }
          ],
          "histogram": [
           {
            "marker": {
             "pattern": {
              "fillmode": "overlay",
              "size": 10,
              "solidity": 0.2
             }
            },
            "type": "histogram"
           }
          ],
          "histogram2d": [
           {
            "colorbar": {
             "outlinewidth": 0,
             "ticks": ""
            },
            "colorscale": [
             [
              0,
              "#0d0887"
             ],
             [
              0.1111111111111111,
              "#46039f"
             ],
             [
              0.2222222222222222,
              "#7201a8"
             ],
             [
              0.3333333333333333,
              "#9c179e"
             ],
             [
              0.4444444444444444,
              "#bd3786"
             ],
             [
              0.5555555555555556,
              "#d8576b"
             ],
             [
              0.6666666666666666,
              "#ed7953"
             ],
             [
              0.7777777777777778,
              "#fb9f3a"
             ],
             [
              0.8888888888888888,
              "#fdca26"
             ],
             [
              1,
              "#f0f921"
             ]
            ],
            "type": "histogram2d"
           }
          ],
          "histogram2dcontour": [
           {
            "colorbar": {
             "outlinewidth": 0,
             "ticks": ""
            },
            "colorscale": [
             [
              0,
              "#0d0887"
             ],
             [
              0.1111111111111111,
              "#46039f"
             ],
             [
              0.2222222222222222,
              "#7201a8"
             ],
             [
              0.3333333333333333,
              "#9c179e"
             ],
             [
              0.4444444444444444,
              "#bd3786"
             ],
             [
              0.5555555555555556,
              "#d8576b"
             ],
             [
              0.6666666666666666,
              "#ed7953"
             ],
             [
              0.7777777777777778,
              "#fb9f3a"
             ],
             [
              0.8888888888888888,
              "#fdca26"
             ],
             [
              1,
              "#f0f921"
             ]
            ],
            "type": "histogram2dcontour"
           }
          ],
          "mesh3d": [
           {
            "colorbar": {
             "outlinewidth": 0,
             "ticks": ""
            },
            "type": "mesh3d"
           }
          ],
          "parcoords": [
           {
            "line": {
             "colorbar": {
              "outlinewidth": 0,
              "ticks": ""
             }
            },
            "type": "parcoords"
           }
          ],
          "pie": [
           {
            "automargin": true,
            "type": "pie"
           }
          ],
          "scatter": [
           {
            "marker": {
             "line": {
              "color": "#283442"
             }
            },
            "type": "scatter"
           }
          ],
          "scatter3d": [
           {
            "line": {
             "colorbar": {
              "outlinewidth": 0,
              "ticks": ""
             }
            },
            "marker": {
             "colorbar": {
              "outlinewidth": 0,
              "ticks": ""
             }
            },
            "type": "scatter3d"
           }
          ],
          "scattercarpet": [
           {
            "marker": {
             "colorbar": {
              "outlinewidth": 0,
              "ticks": ""
             }
            },
            "type": "scattercarpet"
           }
          ],
          "scattergeo": [
           {
            "marker": {
             "colorbar": {
              "outlinewidth": 0,
              "ticks": ""
             }
            },
            "type": "scattergeo"
           }
          ],
          "scattergl": [
           {
            "marker": {
             "line": {
              "color": "#283442"
             }
            },
            "type": "scattergl"
           }
          ],
          "scattermapbox": [
           {
            "marker": {
             "colorbar": {
              "outlinewidth": 0,
              "ticks": ""
             }
            },
            "type": "scattermapbox"
           }
          ],
          "scatterpolar": [
           {
            "marker": {
             "colorbar": {
              "outlinewidth": 0,
              "ticks": ""
             }
            },
            "type": "scatterpolar"
           }
          ],
          "scatterpolargl": [
           {
            "marker": {
             "colorbar": {
              "outlinewidth": 0,
              "ticks": ""
             }
            },
            "type": "scatterpolargl"
           }
          ],
          "scatterternary": [
           {
            "marker": {
             "colorbar": {
              "outlinewidth": 0,
              "ticks": ""
             }
            },
            "type": "scatterternary"
           }
          ],
          "surface": [
           {
            "colorbar": {
             "outlinewidth": 0,
             "ticks": ""
            },
            "colorscale": [
             [
              0,
              "#0d0887"
             ],
             [
              0.1111111111111111,
              "#46039f"
             ],
             [
              0.2222222222222222,
              "#7201a8"
             ],
             [
              0.3333333333333333,
              "#9c179e"
             ],
             [
              0.4444444444444444,
              "#bd3786"
             ],
             [
              0.5555555555555556,
              "#d8576b"
             ],
             [
              0.6666666666666666,
              "#ed7953"
             ],
             [
              0.7777777777777778,
              "#fb9f3a"
             ],
             [
              0.8888888888888888,
              "#fdca26"
             ],
             [
              1,
              "#f0f921"
             ]
            ],
            "type": "surface"
           }
          ],
          "table": [
           {
            "cells": {
             "fill": {
              "color": "#506784"
             },
             "line": {
              "color": "rgb(17,17,17)"
             }
            },
            "header": {
             "fill": {
              "color": "#2a3f5f"
             },
             "line": {
              "color": "rgb(17,17,17)"
             }
            },
            "type": "table"
           }
          ]
         },
         "layout": {
          "annotationdefaults": {
           "arrowcolor": "#f2f5fa",
           "arrowhead": 0,
           "arrowwidth": 1
          },
          "autotypenumbers": "strict",
          "coloraxis": {
           "colorbar": {
            "outlinewidth": 0,
            "ticks": ""
           }
          },
          "colorscale": {
           "diverging": [
            [
             0,
             "#8e0152"
            ],
            [
             0.1,
             "#c51b7d"
            ],
            [
             0.2,
             "#de77ae"
            ],
            [
             0.3,
             "#f1b6da"
            ],
            [
             0.4,
             "#fde0ef"
            ],
            [
             0.5,
             "#f7f7f7"
            ],
            [
             0.6,
             "#e6f5d0"
            ],
            [
             0.7,
             "#b8e186"
            ],
            [
             0.8,
             "#7fbc41"
            ],
            [
             0.9,
             "#4d9221"
            ],
            [
             1,
             "#276419"
            ]
           ],
           "sequential": [
            [
             0,
             "#0d0887"
            ],
            [
             0.1111111111111111,
             "#46039f"
            ],
            [
             0.2222222222222222,
             "#7201a8"
            ],
            [
             0.3333333333333333,
             "#9c179e"
            ],
            [
             0.4444444444444444,
             "#bd3786"
            ],
            [
             0.5555555555555556,
             "#d8576b"
            ],
            [
             0.6666666666666666,
             "#ed7953"
            ],
            [
             0.7777777777777778,
             "#fb9f3a"
            ],
            [
             0.8888888888888888,
             "#fdca26"
            ],
            [
             1,
             "#f0f921"
            ]
           ],
           "sequentialminus": [
            [
             0,
             "#0d0887"
            ],
            [
             0.1111111111111111,
             "#46039f"
            ],
            [
             0.2222222222222222,
             "#7201a8"
            ],
            [
             0.3333333333333333,
             "#9c179e"
            ],
            [
             0.4444444444444444,
             "#bd3786"
            ],
            [
             0.5555555555555556,
             "#d8576b"
            ],
            [
             0.6666666666666666,
             "#ed7953"
            ],
            [
             0.7777777777777778,
             "#fb9f3a"
            ],
            [
             0.8888888888888888,
             "#fdca26"
            ],
            [
             1,
             "#f0f921"
            ]
           ]
          },
          "colorway": [
           "#636efa",
           "#EF553B",
           "#00cc96",
           "#ab63fa",
           "#FFA15A",
           "#19d3f3",
           "#FF6692",
           "#B6E880",
           "#FF97FF",
           "#FECB52"
          ],
          "font": {
           "color": "#f2f5fa"
          },
          "geo": {
           "bgcolor": "rgb(17,17,17)",
           "lakecolor": "rgb(17,17,17)",
           "landcolor": "rgb(17,17,17)",
           "showlakes": true,
           "showland": true,
           "subunitcolor": "#506784"
          },
          "hoverlabel": {
           "align": "left"
          },
          "hovermode": "closest",
          "mapbox": {
           "style": "dark"
          },
          "paper_bgcolor": "rgb(17,17,17)",
          "plot_bgcolor": "rgb(17,17,17)",
          "polar": {
           "angularaxis": {
            "gridcolor": "#506784",
            "linecolor": "#506784",
            "ticks": ""
           },
           "bgcolor": "rgb(17,17,17)",
           "radialaxis": {
            "gridcolor": "#506784",
            "linecolor": "#506784",
            "ticks": ""
           }
          },
          "scene": {
           "xaxis": {
            "backgroundcolor": "rgb(17,17,17)",
            "gridcolor": "#506784",
            "gridwidth": 2,
            "linecolor": "#506784",
            "showbackground": true,
            "ticks": "",
            "zerolinecolor": "#C8D4E3"
           },
           "yaxis": {
            "backgroundcolor": "rgb(17,17,17)",
            "gridcolor": "#506784",
            "gridwidth": 2,
            "linecolor": "#506784",
            "showbackground": true,
            "ticks": "",
            "zerolinecolor": "#C8D4E3"
           },
           "zaxis": {
            "backgroundcolor": "rgb(17,17,17)",
            "gridcolor": "#506784",
            "gridwidth": 2,
            "linecolor": "#506784",
            "showbackground": true,
            "ticks": "",
            "zerolinecolor": "#C8D4E3"
           }
          },
          "shapedefaults": {
           "line": {
            "color": "#f2f5fa"
           }
          },
          "sliderdefaults": {
           "bgcolor": "#C8D4E3",
           "bordercolor": "rgb(17,17,17)",
           "borderwidth": 1,
           "tickwidth": 0
          },
          "ternary": {
           "aaxis": {
            "gridcolor": "#506784",
            "linecolor": "#506784",
            "ticks": ""
           },
           "baxis": {
            "gridcolor": "#506784",
            "linecolor": "#506784",
            "ticks": ""
           },
           "bgcolor": "rgb(17,17,17)",
           "caxis": {
            "gridcolor": "#506784",
            "linecolor": "#506784",
            "ticks": ""
           }
          },
          "title": {
           "x": 0.05
          },
          "updatemenudefaults": {
           "bgcolor": "#506784",
           "borderwidth": 0
          },
          "xaxis": {
           "automargin": true,
           "gridcolor": "#283442",
           "linecolor": "#506784",
           "ticks": "",
           "title": {
            "standoff": 15
           },
           "zerolinecolor": "#283442",
           "zerolinewidth": 2
          },
          "yaxis": {
           "automargin": true,
           "gridcolor": "#283442",
           "linecolor": "#506784",
           "ticks": "",
           "title": {
            "standoff": 15
           },
           "zerolinecolor": "#283442",
           "zerolinewidth": 2
          }
         }
        },
        "xaxis": {
         "anchor": "y",
         "domain": [
          0,
          1
         ],
         "matches": "x2",
         "rangeslider": {
          "visible": false
         },
         "showticklabels": false
        },
        "xaxis2": {
         "anchor": "y2",
         "domain": [
          0,
          1
         ]
        },
        "yaxis": {
         "anchor": "x",
         "domain": [
          0.24555555555555558,
          1
         ],
         "title": {
          "text": "Price $"
         }
        },
        "yaxis2": {
         "anchor": "x2",
         "domain": [
          0,
          0.21555555555555558
         ]
        }
       }
      }
     },
     "metadata": {},
     "output_type": "display_data"
    }
   ],
   "source": [
    "# Create subplots and mention plot grid size\n",
    "fig_main = make_subplots(rows=2, cols=1, shared_xaxes=True, \n",
    "               vertical_spacing=0.03, subplot_titles=('OHLC', 'Volume'), \n",
    "               row_width=[0.2, 0.7])\n",
    "fig_main.layout.template = CHART_THEME\n",
    "# Plot OHLC on 1st row\n",
    "fig_main.add_trace(go.Candlestick(x=t_candles[\"date\"], open=t_candles[\"open\"], high=t_candles[\"high\"],\n",
    "                low=t_candles['low'], close=t_candles['close'], name=\"OHLC\", showlegend=False), \n",
    "                row=1, col=1\n",
    ")\n",
    "\n",
    "tx_df = all_transactions[all_transactions.ticker==t]\n",
    "\n",
    "fig_main.add_trace(go.Scatter(\n",
    "    x=tx_df[tx_df.type=='Buy'].date,\n",
    "    y=tx_df[tx_df.type=='Buy'].price,\n",
    "    mode='markers',\n",
    "    name='Buy Orders',\n",
    "    marker=dict(\n",
    "        color='rgba(63, 255, 56, 0.6)',\n",
    "        size=12,\n",
    "        line=dict(\n",
    "            color='black',\n",
    "            width=1\n",
    "        )), showlegend=False))\n",
    "\n",
    "fig_main.add_trace(go.Scatter(\n",
    "    x=tx_df[tx_df.type=='Sell'].date,\n",
    "    y=tx_df[tx_df.type=='Sell'].price,\n",
    "    mode='markers',\n",
    "    name='Sell Orders',\n",
    "    marker=dict(\n",
    "            color='rgba(255, 13, 17, 0.6)',\n",
    "            size=12,\n",
    "            line=dict(\n",
    "                color='black',\n",
    "                width=1\n",
    "            )), showlegend=False))\n",
    "\n",
    "avg_price_df = current_positions.set_index('ticker')\n",
    "avg_price = avg_price_df.loc[t].avg_price\n",
    "res = round((avg_price_df.loc[t].price/avg_price-1)*100, 2)\n",
    "\n",
    "fig_main.update_layout(\n",
    "    yaxis_title='Price $',\n",
    "    shapes = [dict(\n",
    "        x0=0, x1=1, y0=avg_price, y1=avg_price, xref='paper', yref='y',\n",
    "        line_width=1)],\n",
    "    annotations=[dict(\n",
    "        x=0.05, y=avg_price*0.90, xref='paper', yref='y',\n",
    "        showarrow=False, xanchor='left', bgcolor=\"black\",\n",
    "        opacity=0.30, text='Average Price: $ {}<br>Result: {} %'.format(avg_price, res), font={'size':12})]\n",
    ")\n",
    "\n",
    "# Bar trace for volumes on 2nd row without legend\n",
    "fig_main.add_trace(go.Bar(x=t_candles['date'], y=t_candles['volume'], showlegend=False), row=2, col=1)\n",
    "\n",
    "# Do not show OHLC's rangeslider plot \n",
    "fig_main.update(layout_xaxis_rangeslider_visible=False)\n",
    "fig_main.update_layout(margin = dict(t=50, b=50, l=25, r=25))\n",
    "fig_main.update_layout(paper_bgcolor=\"#272b30\", plot_bgcolor=\"#272b30\")\n",
    "\n",
    "fig_main.show()"
   ]
  },
  {
   "cell_type": "code",
   "execution_count": null,
   "metadata": {},
   "outputs": [],
   "source": []
  },
  {
   "cell_type": "code",
   "execution_count": null,
   "metadata": {},
   "outputs": [],
   "source": []
  },
  {
   "cell_type": "markdown",
   "metadata": {},
   "source": [
    "### Setting up the tables for the ticker page\n",
    "\n",
    "\n",
    "- using a dictionary to help us use it dinamycally in Dash later"
   ]
  },
  {
   "cell_type": "code",
   "execution_count": 140,
   "metadata": {},
   "outputs": [],
   "source": [
    "tables_df = current_positions.copy()\n",
    "tables_df.columns = ['Ticker', 'Company', 'Sector', 'Industry', 'P/E', 'Perf Week', 'Perf Month', 'Perf Quart',\n",
    "             'Perf Half', 'Perf Year', 'Perf YTD', 'Volatility Week', 'Volatility Month', 'Recom', 'ATR',\n",
    "             'SMA20', 'SMA50', 'SMA200', '52W High', '52W Low', 'RSI', 'Insider Own', 'Insider Trans',\n",
    "             'Inst Own', 'Inst Trans', 'Float Short', 'Short Ratio', 'Dividend', 'LTDebt/Eq', 'Debt/Eq', \n",
    "             'Cumulative Units', 'Cumulative Cost ($)', 'Realized G/L ($)', 'Open Cashflow ($)',\n",
    "             'Price ($)', 'Current Value ($)', 'Average Cost', 'Weight (%)', 'Unrealized ($)', 'Unrealized (%)']"
   ]
  },
  {
   "cell_type": "code",
   "execution_count": 141,
   "metadata": {},
   "outputs": [],
   "source": [
    "table_dict = {}\n",
    "for tick in tables_df.Ticker:\n",
    "    table = tables_df[tables_df.Ticker==tick].T.reset_index()\n",
    "    table.columns = ['indicator', tick]\n",
    "    table_dict[tick] = table"
   ]
  },
  {
   "cell_type": "code",
   "execution_count": 142,
   "metadata": {},
   "outputs": [
    {
     "data": {
      "text/html": [
       "<div>\n",
       "<style scoped>\n",
       "    .dataframe tbody tr th:only-of-type {\n",
       "        vertical-align: middle;\n",
       "    }\n",
       "\n",
       "    .dataframe tbody tr th {\n",
       "        vertical-align: top;\n",
       "    }\n",
       "\n",
       "    .dataframe thead th {\n",
       "        text-align: right;\n",
       "    }\n",
       "</style>\n",
       "<table border=\"1\" class=\"dataframe\">\n",
       "  <thead>\n",
       "    <tr style=\"text-align: right;\">\n",
       "      <th></th>\n",
       "      <th>indicator</th>\n",
       "      <th>AAPL</th>\n",
       "    </tr>\n",
       "  </thead>\n",
       "  <tbody>\n",
       "    <tr>\n",
       "      <th>34</th>\n",
       "      <td>Price ($)</td>\n",
       "      <td>161.84</td>\n",
       "    </tr>\n",
       "    <tr>\n",
       "      <th>35</th>\n",
       "      <td>Current Value ($)</td>\n",
       "      <td>5826.24</td>\n",
       "    </tr>\n",
       "    <tr>\n",
       "      <th>37</th>\n",
       "      <td>Weight (%)</td>\n",
       "      <td>6.2</td>\n",
       "    </tr>\n",
       "    <tr>\n",
       "      <th>31</th>\n",
       "      <td>Cumulative Cost ($)</td>\n",
       "      <td>2735.88</td>\n",
       "    </tr>\n",
       "    <tr>\n",
       "      <th>36</th>\n",
       "      <td>Average Cost</td>\n",
       "      <td>76.0</td>\n",
       "    </tr>\n",
       "    <tr>\n",
       "      <th>39</th>\n",
       "      <td>Unrealized (%)</td>\n",
       "      <td>112.96</td>\n",
       "    </tr>\n",
       "    <tr>\n",
       "      <th>38</th>\n",
       "      <td>Unrealized ($)</td>\n",
       "      <td>3090.36</td>\n",
       "    </tr>\n",
       "    <tr>\n",
       "      <th>33</th>\n",
       "      <td>Open Cashflow ($)</td>\n",
       "      <td>-2735.88</td>\n",
       "    </tr>\n",
       "    <tr>\n",
       "      <th>32</th>\n",
       "      <td>Realized G/L ($)</td>\n",
       "      <td>0.0</td>\n",
       "    </tr>\n",
       "  </tbody>\n",
       "</table>\n",
       "</div>"
      ],
      "text/plain": [
       "              indicator     AAPL\n",
       "34            Price ($)   161.84\n",
       "35    Current Value ($)  5826.24\n",
       "37           Weight (%)      6.2\n",
       "31  Cumulative Cost ($)  2735.88\n",
       "36         Average Cost     76.0\n",
       "39       Unrealized (%)   112.96\n",
       "38       Unrealized ($)  3090.36\n",
       "33    Open Cashflow ($) -2735.88\n",
       "32     Realized G/L ($)      0.0"
      ]
     },
     "execution_count": 142,
     "metadata": {},
     "output_type": "execute_result"
    }
   ],
   "source": [
    "table_dict['AAPL'].iloc[[34,35,37,31,36,39,38,33,32],]"
   ]
  },
  {
   "cell_type": "code",
   "execution_count": null,
   "metadata": {},
   "outputs": [],
   "source": []
  },
  {
   "cell_type": "markdown",
   "metadata": {},
   "source": [
    "## Data Tables and Dash\n",
    "- Quick Demo!"
   ]
  },
  {
   "cell_type": "code",
   "execution_count": 143,
   "metadata": {},
   "outputs": [
    {
     "data": {
      "text/plain": [
       "[{'Ticker': 'TSLA',\n",
       "  'Company': 'Tesla, Inc.',\n",
       "  'Sector': 'Consumer Cyclical',\n",
       "  'Industry': 'Auto Manufacturers',\n",
       "  'P/E': 329.32,\n",
       "  'Perf Week': -6.19,\n",
       "  'Perf Month': -16.38,\n",
       "  'Perf Quart': 38.36,\n",
       "  'Perf Half': 67.73,\n",
       "  'Perf Year': 71.05,\n",
       "  'Perf YTD': 43.83,\n",
       "  'Volatility Week': 6.05,\n",
       "  'Volatility Month': 5.97,\n",
       "  'Recom': 2.6,\n",
       "  'ATR': 66.23,\n",
       "  'SMA20': -8.23,\n",
       "  'SMA50': 3.97,\n",
       "  'SMA200': 35.53,\n",
       "  '52W High': -18.38,\n",
       "  '52W Low': 88.14,\n",
       "  'RSI': 44.2,\n",
       "  'Insider Own': 0.2,\n",
       "  'Insider Trans': -73.19,\n",
       "  'Inst Own': 42.5,\n",
       "  'Inst Trans': 4.67,\n",
       "  'Float Short': 3.17,\n",
       "  'Short Ratio': 1.02,\n",
       "  'Dividend': 0.0,\n",
       "  'LTDebt/Eq': 0.24,\n",
       "  'Debt/Eq': 0.3,\n",
       "  'Cumulative Units': 8.46,\n",
       "  'Cumulative Cost ($)': 2158.92,\n",
       "  'Realized G/L ($)': 2312.43,\n",
       "  'Open Cashflow ($)': 153.51,\n",
       "  'Price ($)': 1014.97,\n",
       "  'Current Value ($)': 8586.65,\n",
       "  'Average Cost': 255.19,\n",
       "  'Weight (%)': 9.14,\n",
       "  'Unrealized ($)': 6427.73,\n",
       "  'Unrealized (%)': 297.73},\n",
       " {'Ticker': 'AAPL',\n",
       "  'Company': 'Apple Inc.',\n",
       "  'Sector': 'Technology',\n",
       "  'Industry': 'Consumer Electronics',\n",
       "  'P/E': 28.86,\n",
       "  'Perf Week': 3.21,\n",
       "  'Perf Month': 6.83,\n",
       "  'Perf Quart': 4.89,\n",
       "  'Perf Half': 28.55,\n",
       "  'Perf Year': 31.64,\n",
       "  'Perf YTD': 21.97,\n",
       "  'Volatility Week': 3.17,\n",
       "  'Volatility Month': 2.2,\n",
       "  'Recom': 1.9,\n",
       "  'ATR': 3.95,\n",
       "  'SMA20': 3.83,\n",
       "  'SMA50': 8.04,\n",
       "  'SMA200': 16.59,\n",
       "  '52W High': -4.97,\n",
       "  '52W Low': 39.27,\n",
       "  'RSI': 62.03,\n",
       "  'Insider Own': 0.07,\n",
       "  'Insider Trans': -20.62,\n",
       "  'Inst Own': 58.8,\n",
       "  'Inst Trans': -0.55,\n",
       "  'Float Short': 0.61,\n",
       "  'Short Ratio': 1.21,\n",
       "  'Dividend': 0.54,\n",
       "  'LTDebt/Eq': 1.73,\n",
       "  'Debt/Eq': 1.98,\n",
       "  'Cumulative Units': 36.0,\n",
       "  'Cumulative Cost ($)': 2735.88,\n",
       "  'Realized G/L ($)': 0.0,\n",
       "  'Open Cashflow ($)': -2735.88,\n",
       "  'Price ($)': 161.84,\n",
       "  'Current Value ($)': 5826.24,\n",
       "  'Average Cost': 76.0,\n",
       "  'Weight (%)': 6.2,\n",
       "  'Unrealized ($)': 3090.36,\n",
       "  'Unrealized (%)': 112.96},\n",
       " {'Ticker': 'AMZN',\n",
       "  'Company': 'Amazon.com, Inc.',\n",
       "  'Sector': 'Consumer Cyclical',\n",
       "  'Industry': 'Internet Retail',\n",
       "  'P/E': 66.28,\n",
       "  'Perf Week': -3.27,\n",
       "  'Perf Month': 0.17,\n",
       "  'Perf Quart': -2.54,\n",
       "  'Perf Half': 6.0,\n",
       "  'Perf Year': 6.37,\n",
       "  'Perf YTD': 4.08,\n",
       "  'Volatility Week': 2.78,\n",
       "  'Volatility Month': 2.77,\n",
       "  'Recom': 1.7,\n",
       "  'ATR': 98.89,\n",
       "  'SMA20': -4.16,\n",
       "  'SMA50': -0.84,\n",
       "  'SMA200': 1.12,\n",
       "  '52W High': -10.16,\n",
       "  '52W Low': 17.66,\n",
       "  'RSI': 41.78,\n",
       "  'Insider Own': 9.9,\n",
       "  'Insider Trans': -1.97,\n",
       "  'Inst Own': 59.3,\n",
       "  'Inst Trans': -0.52,\n",
       "  'Float Short': 0.96,\n",
       "  'Short Ratio': 1.32,\n",
       "  'Dividend': 0.0,\n",
       "  'LTDebt/Eq': 0.55,\n",
       "  'Debt/Eq': 0.55,\n",
       "  'Cumulative Units': 1.7,\n",
       "  'Cumulative Cost ($)': 4360.11,\n",
       "  'Realized G/L ($)': 0.0,\n",
       "  'Open Cashflow ($)': -4360.11,\n",
       "  'Price ($)': 3389.79,\n",
       "  'Current Value ($)': 5762.64,\n",
       "  'Average Cost': 2564.77,\n",
       "  'Weight (%)': 6.13,\n",
       "  'Unrealized ($)': 1402.53,\n",
       "  'Unrealized (%)': 32.17},\n",
       " {'Ticker': 'GOOGL',\n",
       "  'Company': 'Alphabet Inc.',\n",
       "  'Sector': 'Communication Services',\n",
       "  'Industry': 'Internet Content & Information',\n",
       "  'P/E': 27.35,\n",
       "  'Perf Week': -0.13,\n",
       "  'Perf Month': -3.14,\n",
       "  'Perf Quart': -1.21,\n",
       "  'Perf Half': 18.22,\n",
       "  'Perf Year': 55.89,\n",
       "  'Perf YTD': 62.04,\n",
       "  'Volatility Week': 2.78,\n",
       "  'Volatility Month': 1.95,\n",
       "  'Recom': 1.7,\n",
       "  'ATR': 67.39,\n",
       "  'SMA20': -3.08,\n",
       "  'SMA50': -0.51,\n",
       "  'SMA200': 12.05,\n",
       "  '52W High': -5.94,\n",
       "  '52W Low': 67.65,\n",
       "  'RSI': 44.17,\n",
       "  'Insider Own': 0.15,\n",
       "  'Insider Trans': 0.0,\n",
       "  'Inst Own': 79.8,\n",
       "  'Inst Trans': -0.38,\n",
       "  'Float Short': 0.41,\n",
       "  'Short Ratio': 1.67,\n",
       "  'Dividend': 0.0,\n",
       "  'LTDebt/Eq': 0.06,\n",
       "  'Debt/Eq': 0.06,\n",
       "  'Cumulative Units': 1.84,\n",
       "  'Cumulative Cost ($)': 2790.14,\n",
       "  'Realized G/L ($)': 0.0,\n",
       "  'Open Cashflow ($)': -2790.14,\n",
       "  'Price ($)': 2840.03,\n",
       "  'Current Value ($)': 5225.66,\n",
       "  'Average Cost': 1516.38,\n",
       "  'Weight (%)': 5.56,\n",
       "  'Unrealized ($)': 2435.52,\n",
       "  'Unrealized (%)': 87.29},\n",
       " {'Ticker': 'NVDA',\n",
       "  'Company': 'NVIDIA Corporation',\n",
       "  'Sector': 'Technology',\n",
       "  'Industry': 'Semiconductors',\n",
       "  'P/E': 94.76,\n",
       "  'Perf Week': -2.57,\n",
       "  'Perf Month': 15.4,\n",
       "  'Perf Quart': 34.37,\n",
       "  'Perf Half': 74.2,\n",
       "  'Perf Year': 129.12,\n",
       "  'Perf YTD': 135.11,\n",
       "  'Volatility Week': 5.27,\n",
       "  'Volatility Month': 5.68,\n",
       "  'Recom': 2.0,\n",
       "  'ATR': 16.66,\n",
       "  'SMA20': -1.45,\n",
       "  'SMA50': 18.58,\n",
       "  'SMA200': 57.97,\n",
       "  '52W High': -11.41,\n",
       "  '52W Low': 165.36,\n",
       "  'RSI': 54.16,\n",
       "  'Insider Own': 0.3,\n",
       "  'Insider Trans': -15.69,\n",
       "  'Inst Own': 66.9,\n",
       "  'Inst Trans': 0.44,\n",
       "  'Float Short': 1.01,\n",
       "  'Short Ratio': 0.71,\n",
       "  'Dividend': 0.05,\n",
       "  'LTDebt/Eq': 0.46,\n",
       "  'Debt/Eq': 0.46,\n",
       "  'Cumulative Units': 14.0,\n",
       "  'Cumulative Cost ($)': 1030.75,\n",
       "  'Realized G/L ($)': 0.0,\n",
       "  'Open Cashflow ($)': -1030.75,\n",
       "  'Price ($)': 306.93,\n",
       "  'Current Value ($)': 4297.02,\n",
       "  'Average Cost': 73.62,\n",
       "  'Weight (%)': 4.57,\n",
       "  'Unrealized ($)': 3266.27,\n",
       "  'Unrealized (%)': 316.88},\n",
       " {'Ticker': 'MSFT',\n",
       "  'Company': 'Microsoft Corporation',\n",
       "  'Sector': 'Technology',\n",
       "  'Industry': 'Software - Infrastructure',\n",
       "  'P/E': 36.11,\n",
       "  'Perf Week': -2.02,\n",
       "  'Perf Month': -3.29,\n",
       "  'Perf Quart': 7.26,\n",
       "  'Perf Half': 27.26,\n",
       "  'Perf Year': 50.77,\n",
       "  'Perf YTD': 45.23,\n",
       "  'Volatility Week': 2.66,\n",
       "  'Volatility Month': 1.8,\n",
       "  'Recom': 1.6,\n",
       "  'ATR': 7.06,\n",
       "  'SMA20': -3.81,\n",
       "  'SMA50': 2.03,\n",
       "  'SMA200': 16.4,\n",
       "  '52W High': -7.62,\n",
       "  '52W Low': 54.47,\n",
       "  'RSI': 42.47,\n",
       "  'Insider Own': 0.07,\n",
       "  'Insider Trans': -12.98,\n",
       "  'Inst Own': 71.9,\n",
       "  'Inst Trans': 0.09,\n",
       "  'Float Short': 0.55,\n",
       "  'Short Ratio': 1.67,\n",
       "  'Dividend': 0.77,\n",
       "  'LTDebt/Eq': 0.41,\n",
       "  'Debt/Eq': 0.44,\n",
       "  'Cumulative Units': 12.0,\n",
       "  'Cumulative Cost ($)': 2033.66,\n",
       "  'Realized G/L ($)': 0.0,\n",
       "  'Open Cashflow ($)': -2033.66,\n",
       "  'Price ($)': 323.01,\n",
       "  'Current Value ($)': 3876.12,\n",
       "  'Average Cost': 169.47,\n",
       "  'Weight (%)': 4.12,\n",
       "  'Unrealized ($)': 1842.46,\n",
       "  'Unrealized (%)': 90.6},\n",
       " {'Ticker': 'AMD',\n",
       "  'Company': 'Advanced Micro Devices, Inc.',\n",
       "  'Sector': 'Technology',\n",
       "  'Industry': 'Semiconductors',\n",
       "  'P/E': 44.59,\n",
       "  'Perf Week': -6.98,\n",
       "  'Perf Month': 10.33,\n",
       "  'Perf Quart': 31.01,\n",
       "  'Perf Half': 77.03,\n",
       "  'Perf Year': 56.01,\n",
       "  'Perf YTD': 57.03,\n",
       "  'Volatility Week': 6.04,\n",
       "  'Volatility Month': 5.49,\n",
       "  'Recom': 2.3,\n",
       "  'ATR': 7.76,\n",
       "  'SMA20': -4.07,\n",
       "  'SMA50': 13.02,\n",
       "  'SMA200': 46.07,\n",
       "  '52W High': -12.43,\n",
       "  '52W Low': 98.63,\n",
       "  'RSI': 50.21,\n",
       "  'Insider Own': 0.5,\n",
       "  'Insider Trans': -18.32,\n",
       "  'Inst Own': 70.5,\n",
       "  'Inst Trans': 0.96,\n",
       "  'Float Short': 6.28,\n",
       "  'Short Ratio': 1.48,\n",
       "  'Dividend': 0.0,\n",
       "  'LTDebt/Eq': 0.0,\n",
       "  'Debt/Eq': 0.04,\n",
       "  'Cumulative Units': 24.0,\n",
       "  'Cumulative Cost ($)': 1296.0,\n",
       "  'Realized G/L ($)': 0.0,\n",
       "  'Open Cashflow ($)': -1296.0,\n",
       "  'Price ($)': 144.01,\n",
       "  'Current Value ($)': 3456.24,\n",
       "  'Average Cost': 54.0,\n",
       "  'Weight (%)': 3.68,\n",
       "  'Unrealized ($)': 2160.24,\n",
       "  'Unrealized (%)': 166.69},\n",
       " {'Ticker': 'TTD',\n",
       "  'Company': 'The Trade Desk, Inc.',\n",
       "  'Sector': 'Technology',\n",
       "  'Industry': 'Software - Application',\n",
       "  'P/E': 158.14,\n",
       "  'Perf Week': -13.92,\n",
       "  'Perf Month': 16.69,\n",
       "  'Perf Quart': 14.46,\n",
       "  'Perf Half': 49.22,\n",
       "  'Perf Year': 0.89,\n",
       "  'Perf YTD': 11.75,\n",
       "  'Volatility Week': 8.06,\n",
       "  'Volatility Month': 7.4,\n",
       "  'Recom': 2.3,\n",
       "  'ATR': 6.8,\n",
       "  'SMA20': -8.8,\n",
       "  'SMA50': 6.84,\n",
       "  'SMA200': 20.57,\n",
       "  '52W High': -21.54,\n",
       "  '52W Low': 91.63,\n",
       "  'RSI': 45.45,\n",
       "  'Insider Own': 0.4,\n",
       "  'Insider Trans': -15.81,\n",
       "  'Inst Own': 67.8,\n",
       "  'Inst Trans': 0.92,\n",
       "  'Float Short': 2.9,\n",
       "  'Short Ratio': 2.58,\n",
       "  'Dividend': 0.0,\n",
       "  'LTDebt/Eq': 0.0,\n",
       "  'Debt/Eq': 0.0,\n",
       "  'Cumulative Units': 30.0,\n",
       "  'Cumulative Cost ($)': 914.1,\n",
       "  'Realized G/L ($)': 0.0,\n",
       "  'Open Cashflow ($)': -914.1,\n",
       "  'Price ($)': 89.51,\n",
       "  'Current Value ($)': 2685.3,\n",
       "  'Average Cost': 30.47,\n",
       "  'Weight (%)': 2.86,\n",
       "  'Unrealized ($)': 1771.2,\n",
       "  'Unrealized (%)': 193.76},\n",
       " {'Ticker': 'FB',\n",
       "  'Company': 'Meta Platforms, Inc.',\n",
       "  'Sector': 'Communication Services',\n",
       "  'Industry': 'Internet Content & Information',\n",
       "  'P/E': 21.93,\n",
       "  'Perf Week': -7.89,\n",
       "  'Perf Month': -7.47,\n",
       "  'Perf Quart': -18.45,\n",
       "  'Perf Half': -8.84,\n",
       "  'Perf Year': 8.87,\n",
       "  'Perf YTD': 12.33,\n",
       "  'Volatility Week': 3.82,\n",
       "  'Volatility Month': 2.74,\n",
       "  'Recom': 1.9,\n",
       "  'ATR': 10.85,\n",
       "  'SMA20': -8.38,\n",
       "  'SMA50': -7.92,\n",
       "  'SMA200': -6.67,\n",
       "  '52W High': -20.16,\n",
       "  '52W Low': 25.44,\n",
       "  'RSI': 33.59,\n",
       "  'Insider Own': 0.6,\n",
       "  'Insider Trans': -33.57,\n",
       "  'Inst Own': 80.1,\n",
       "  'Inst Trans': -1.12,\n",
       "  'Float Short': 1.0,\n",
       "  'Short Ratio': 1.06,\n",
       "  'Dividend': 0.0,\n",
       "  'LTDebt/Eq': 0.0,\n",
       "  'Debt/Eq': 0.0,\n",
       "  'Cumulative Units': 7.8,\n",
       "  'Cumulative Cost ($)': 1408.84,\n",
       "  'Realized G/L ($)': 0.0,\n",
       "  'Open Cashflow ($)': -1408.84,\n",
       "  'Price ($)': 306.84,\n",
       "  'Current Value ($)': 2393.35,\n",
       "  'Average Cost': 180.62,\n",
       "  'Weight (%)': 2.55,\n",
       "  'Unrealized ($)': 984.51,\n",
       "  'Unrealized (%)': 69.88},\n",
       " {'Ticker': 'PYPL',\n",
       "  'Company': 'PayPal Holdings, Inc.',\n",
       "  'Sector': 'Financial',\n",
       "  'Industry': 'Credit Services',\n",
       "  'P/E': 44.29,\n",
       "  'Perf Week': -2.06,\n",
       "  'Perf Month': -20.16,\n",
       "  'Perf Quart': -36.39,\n",
       "  'Perf Half': -29.42,\n",
       "  'Perf Year': -14.27,\n",
       "  'Perf YTD': -21.46,\n",
       "  'Volatility Week': 4.95,\n",
       "  'Volatility Month': 3.84,\n",
       "  'Recom': 1.9,\n",
       "  'ATR': 8.11,\n",
       "  'SMA20': -8.61,\n",
       "  'SMA50': -21.24,\n",
       "  'SMA200': -29.4,\n",
       "  '52W High': -40.7,\n",
       "  '52W Low': 2.67,\n",
       "  'RSI': 29.53,\n",
       "  'Insider Own': 0.13,\n",
       "  'Insider Trans': -6.59,\n",
       "  'Inst Own': 81.9,\n",
       "  'Inst Trans': -0.59,\n",
       "  'Float Short': 1.41,\n",
       "  'Short Ratio': 1.25,\n",
       "  'Dividend': 0.0,\n",
       "  'LTDebt/Eq': 0.36,\n",
       "  'Debt/Eq': 0.36,\n",
       "  'Cumulative Units': 12.0,\n",
       "  'Cumulative Cost ($)': 1319.88,\n",
       "  'Realized G/L ($)': 0.0,\n",
       "  'Open Cashflow ($)': -1319.88,\n",
       "  'Price ($)': 183.93,\n",
       "  'Current Value ($)': 2207.16,\n",
       "  'Average Cost': 109.99,\n",
       "  'Weight (%)': 2.35,\n",
       "  'Unrealized ($)': 887.28,\n",
       "  'Unrealized (%)': 67.22},\n",
       " {'Ticker': 'MO',\n",
       "  'Company': 'Altria Group, Inc.',\n",
       "  'Sector': 'Consumer Defensive',\n",
       "  'Industry': 'Tobacco',\n",
       "  'P/E': 29.42,\n",
       "  'Perf Week': 0.41,\n",
       "  'Perf Month': -2.31,\n",
       "  'Perf Quart': -13.83,\n",
       "  'Perf Half': -13.01,\n",
       "  'Perf Year': 8.66,\n",
       "  'Perf YTD': 7.12,\n",
       "  'Volatility Week': 1.59,\n",
       "  'Volatility Month': 1.39,\n",
       "  'Recom': 2.4,\n",
       "  'ATR': 0.79,\n",
       "  'SMA20': -0.64,\n",
       "  'SMA50': -4.37,\n",
       "  'SMA200': -8.33,\n",
       "  '52W High': -16.49,\n",
       "  '52W Low': 10.01,\n",
       "  'RSI': 44.24,\n",
       "  'Insider Own': 0.1,\n",
       "  'Insider Trans': 0.0,\n",
       "  'Inst Own': 60.1,\n",
       "  'Inst Trans': -1.08,\n",
       "  'Float Short': 0.6,\n",
       "  'Short Ratio': 1.5,\n",
       "  'Dividend': 8.2,\n",
       "  'LTDebt/Eq': 0.0,\n",
       "  'Debt/Eq': 0.0,\n",
       "  'Cumulative Units': 50.0,\n",
       "  'Cumulative Cost ($)': 2113.6,\n",
       "  'Realized G/L ($)': 0.0,\n",
       "  'Open Cashflow ($)': -2113.6,\n",
       "  'Price ($)': 43.92,\n",
       "  'Current Value ($)': 2196.0,\n",
       "  'Average Cost': 42.27,\n",
       "  'Weight (%)': 2.34,\n",
       "  'Unrealized ($)': 82.4,\n",
       "  'Unrealized (%)': 3.9},\n",
       " {'Ticker': 'MMM',\n",
       "  'Company': '3M Company',\n",
       "  'Sector': 'Industrials',\n",
       "  'Industry': 'Specialty Industrial Machinery',\n",
       "  'P/E': 16.95,\n",
       "  'Perf Week': -1.67,\n",
       "  'Perf Month': -5.29,\n",
       "  'Perf Quart': -11.21,\n",
       "  'Perf Half': -15.28,\n",
       "  'Perf Year': 0.44,\n",
       "  'Perf YTD': -1.26,\n",
       "  'Volatility Week': 2.15,\n",
       "  'Volatility Month': 1.77,\n",
       "  'Recom': 3.1,\n",
       "  'ATR': 3.31,\n",
       "  'SMA20': -3.56,\n",
       "  'SMA50': -3.79,\n",
       "  'SMA200': -9.68,\n",
       "  '52W High': -17.4,\n",
       "  '52W Low': 5.64,\n",
       "  'RSI': 36.85,\n",
       "  'Insider Own': 0.12,\n",
       "  'Insider Trans': -3.01,\n",
       "  'Inst Own': 68.6,\n",
       "  'Inst Trans': -0.69,\n",
       "  'Float Short': 1.54,\n",
       "  'Short Ratio': 3.37,\n",
       "  'Dividend': 3.43,\n",
       "  'LTDebt/Eq': 1.12,\n",
       "  'Debt/Eq': 1.26,\n",
       "  'Cumulative Units': 12.0,\n",
       "  'Cumulative Cost ($)': 2171.4,\n",
       "  'Realized G/L ($)': 0.0,\n",
       "  'Open Cashflow ($)': -2171.4,\n",
       "  'Price ($)': 172.59,\n",
       "  'Current Value ($)': 2071.08,\n",
       "  'Average Cost': 180.95,\n",
       "  'Weight (%)': 2.2,\n",
       "  'Unrealized ($)': -100.32,\n",
       "  'Unrealized (%)': -4.62},\n",
       " {'Ticker': 'CVX',\n",
       "  'Company': 'Chevron Corporation',\n",
       "  'Sector': 'Energy',\n",
       "  'Industry': 'Oil & Gas Integrated',\n",
       "  'P/E': 22.19,\n",
       "  'Perf Week': -0.09,\n",
       "  'Perf Month': 1.24,\n",
       "  'Perf Quart': 17.36,\n",
       "  'Perf Half': 6.18,\n",
       "  'Perf Year': 27.41,\n",
       "  'Perf YTD': 35.48,\n",
       "  'Volatility Week': 3.02,\n",
       "  'Volatility Month': 1.9,\n",
       "  'Recom': 2.3,\n",
       "  'ATR': 2.57,\n",
       "  'SMA20': -0.28,\n",
       "  'SMA50': 3.1,\n",
       "  'SMA200': 8.87,\n",
       "  '52W High': -3.11,\n",
       "  '52W Low': 36.97,\n",
       "  'RSI': 52.5,\n",
       "  'Insider Own': 0.04,\n",
       "  'Insider Trans': -36.12,\n",
       "  'Inst Own': 67.4,\n",
       "  'Inst Trans': -0.93,\n",
       "  'Float Short': 0.93,\n",
       "  'Short Ratio': 1.62,\n",
       "  'Dividend': 4.68,\n",
       "  'LTDebt/Eq': 0.27,\n",
       "  'Debt/Eq': 0.27,\n",
       "  'Cumulative Units': 18.0,\n",
       "  'Cumulative Cost ($)': 1607.32,\n",
       "  'Realized G/L ($)': 0.0,\n",
       "  'Open Cashflow ($)': -1607.32,\n",
       "  'Price ($)': 114.41,\n",
       "  'Current Value ($)': 2059.38,\n",
       "  'Average Cost': 89.3,\n",
       "  'Weight (%)': 2.19,\n",
       "  'Unrealized ($)': 452.06,\n",
       "  'Unrealized (%)': 28.13},\n",
       " {'Ticker': 'PLUG',\n",
       "  'Company': 'Plug Power Inc.',\n",
       "  'Sector': 'Industrials',\n",
       "  'Industry': 'Electrical Equipment & Parts',\n",
       "  'P/E': 0.0,\n",
       "  'Perf Week': -16.87,\n",
       "  'Perf Month': -16.43,\n",
       "  'Perf Quart': 26.74,\n",
       "  'Perf Half': 1.86,\n",
       "  'Perf Year': 40.29,\n",
       "  'Perf YTD': -1.33,\n",
       "  'Volatility Week': 9.46,\n",
       "  'Volatility Month': 8.06,\n",
       "  'Recom': 2.1,\n",
       "  'ATR': 3.2,\n",
       "  'SMA20': -18.56,\n",
       "  'SMA50': -4.71,\n",
       "  'SMA200': 5.31,\n",
       "  '52W High': -55.68,\n",
       "  '52W Low': 81.16,\n",
       "  'RSI': 37.59,\n",
       "  'Insider Own': 0.7,\n",
       "  'Insider Trans': -0.16,\n",
       "  'Inst Own': 52.8,\n",
       "  'Inst Trans': 4.48,\n",
       "  'Float Short': 9.38,\n",
       "  'Short Ratio': 2.1,\n",
       "  'Dividend': 0.0,\n",
       "  'LTDebt/Eq': 0.11,\n",
       "  'Debt/Eq': 0.12,\n",
       "  'Cumulative Units': 55.0,\n",
       "  'Cumulative Cost ($)': 921.47,\n",
       "  'Realized G/L ($)': 2122.52,\n",
       "  'Open Cashflow ($)': 1201.05,\n",
       "  'Price ($)': 33.46,\n",
       "  'Current Value ($)': 1840.3,\n",
       "  'Average Cost': 16.75,\n",
       "  'Weight (%)': 1.96,\n",
       "  'Unrealized ($)': 918.83,\n",
       "  'Unrealized (%)': 99.71},\n",
       " {'Ticker': 'NFLX',\n",
       "  'Company': 'Netflix, Inc.',\n",
       "  'Sector': 'Communication Services',\n",
       "  'Industry': 'Entertainment',\n",
       "  'P/E': 55.23,\n",
       "  'Perf Week': -9.54,\n",
       "  'Perf Month': -12.52,\n",
       "  'Perf Quart': 1.96,\n",
       "  'Perf Half': 21.73,\n",
       "  'Perf Year': 21.03,\n",
       "  'Perf YTD': 11.36,\n",
       "  'Volatility Week': 4.08,\n",
       "  'Volatility Month': 2.91,\n",
       "  'Recom': 2.1,\n",
       "  'ATR': 19.22,\n",
       "  'SMA20': -8.8,\n",
       "  'SMA50': -6.82,\n",
       "  'SMA200': 8.16,\n",
       "  '52W High': -14.1,\n",
       "  '52W Low': 25.83,\n",
       "  'RSI': 32.0,\n",
       "  'Insider Own': 1.49,\n",
       "  'Insider Trans': -2.63,\n",
       "  'Inst Own': 83.1,\n",
       "  'Inst Trans': 1.36,\n",
       "  'Float Short': 2.13,\n",
       "  'Short Ratio': 2.43,\n",
       "  'Dividend': 0.0,\n",
       "  'LTDebt/Eq': 0.97,\n",
       "  'Debt/Eq': 1.01,\n",
       "  'Cumulative Units': 3.0,\n",
       "  'Cumulative Cost ($)': 1520.04,\n",
       "  'Realized G/L ($)': 305.03,\n",
       "  'Open Cashflow ($)': -1215.01,\n",
       "  'Price ($)': 602.13,\n",
       "  'Current Value ($)': 1806.39,\n",
       "  'Average Cost': 506.68,\n",
       "  'Weight (%)': 1.92,\n",
       "  'Unrealized ($)': 286.35,\n",
       "  'Unrealized (%)': 18.84},\n",
       " {'Ticker': 'INTC',\n",
       "  'Company': 'Intel Corporation',\n",
       "  'Sector': 'Technology',\n",
       "  'Industry': 'Semiconductors',\n",
       "  'P/E': 9.56,\n",
       "  'Perf Week': 0.96,\n",
       "  'Perf Month': -2.26,\n",
       "  'Perf Quart': -7.96,\n",
       "  'Perf Half': -13.73,\n",
       "  'Perf Year': -3.41,\n",
       "  'Perf YTD': -1.14,\n",
       "  'Volatility Week': 3.16,\n",
       "  'Volatility Month': 2.21,\n",
       "  'Recom': 2.8,\n",
       "  'ATR': 1.18,\n",
       "  'SMA20': -1.57,\n",
       "  'SMA50': -4.44,\n",
       "  'SMA200': -12.33,\n",
       "  '52W High': -28.09,\n",
       "  '52W Low': 8.86,\n",
       "  'RSI': 44.27,\n",
       "  'Insider Own': 0.07,\n",
       "  'Insider Trans': 3.02,\n",
       "  'Inst Own': 65.1,\n",
       "  'Inst Trans': -0.03,\n",
       "  'Float Short': 1.7,\n",
       "  'Short Ratio': 2.49,\n",
       "  'Dividend': 2.82,\n",
       "  'LTDebt/Eq': 0.4,\n",
       "  'Debt/Eq': 0.45,\n",
       "  'Cumulative Units': 36.0,\n",
       "  'Cumulative Cost ($)': 2043.0,\n",
       "  'Realized G/L ($)': 0.0,\n",
       "  'Open Cashflow ($)': -2043.0,\n",
       "  'Price ($)': 49.25,\n",
       "  'Current Value ($)': 1773.0,\n",
       "  'Average Cost': 56.75,\n",
       "  'Weight (%)': 1.89,\n",
       "  'Unrealized ($)': -270.0,\n",
       "  'Unrealized (%)': -13.22},\n",
       " {'Ticker': 'JPM',\n",
       "  'Company': 'JPMorgan Chase & Co.',\n",
       "  'Sector': 'Financial',\n",
       "  'Industry': 'Banks - Diversified',\n",
       "  'P/E': 10.01,\n",
       "  'Perf Week': -2.25,\n",
       "  'Perf Month': -7.18,\n",
       "  'Perf Quart': -0.75,\n",
       "  'Perf Half': -4.45,\n",
       "  'Perf Year': 30.56,\n",
       "  'Perf YTD': 24.57,\n",
       "  'Volatility Week': 2.76,\n",
       "  'Volatility Month': 1.81,\n",
       "  'Recom': 2.3,\n",
       "  'ATR': 3.7,\n",
       "  'SMA20': -3.96,\n",
       "  'SMA50': -4.95,\n",
       "  'SMA200': -0.09,\n",
       "  '52W High': -8.48,\n",
       "  '52W Low': 34.02,\n",
       "  'RSI': 38.19,\n",
       "  'Insider Own': 0.1,\n",
       "  'Insider Trans': 0.0,\n",
       "  'Inst Own': 72.0,\n",
       "  'Inst Trans': -1.13,\n",
       "  'Float Short': 0.6,\n",
       "  'Short Ratio': 1.63,\n",
       "  'Dividend': 2.27,\n",
       "  'LTDebt/Eq': 1.17,\n",
       "  'Debt/Eq': 1.17,\n",
       "  'Cumulative Units': 11.0,\n",
       "  'Cumulative Cost ($)': 1072.81,\n",
       "  'Realized G/L ($)': 0.0,\n",
       "  'Open Cashflow ($)': -1072.81,\n",
       "  'Price ($)': 158.29,\n",
       "  'Current Value ($)': 1741.19,\n",
       "  'Average Cost': 97.53,\n",
       "  'Weight (%)': 1.85,\n",
       "  'Unrealized ($)': 668.38,\n",
       "  'Unrealized (%)': 62.3},\n",
       " {'Ticker': 'FDX',\n",
       "  'Company': 'FedEx Corporation',\n",
       "  'Sector': 'Industrials',\n",
       "  'Industry': 'Integrated Freight & Logistics',\n",
       "  'P/E': 13.48,\n",
       "  'Perf Week': 1.13,\n",
       "  'Perf Month': 0.34,\n",
       "  'Perf Quart': -9.47,\n",
       "  'Perf Half': -20.6,\n",
       "  'Perf Year': -17.72,\n",
       "  'Perf YTD': -7.23,\n",
       "  'Volatility Week': 3.39,\n",
       "  'Volatility Month': 2.32,\n",
       "  'Recom': 1.9,\n",
       "  'ATR': 6.07,\n",
       "  'SMA20': -1.49,\n",
       "  'SMA50': 2.6,\n",
       "  'SMA200': -11.02,\n",
       "  '52W High': -24.71,\n",
       "  '52W Low': 11.32,\n",
       "  'RSI': 50.32,\n",
       "  'Insider Own': 0.1,\n",
       "  'Insider Trans': -10.74,\n",
       "  'Inst Own': 72.5,\n",
       "  'Inst Trans': -3.98,\n",
       "  'Float Short': 1.42,\n",
       "  'Short Ratio': 1.17,\n",
       "  'Dividend': 1.25,\n",
       "  'LTDebt/Eq': 0.85,\n",
       "  'Debt/Eq': 0.85,\n",
       "  'Cumulative Units': 7.2,\n",
       "  'Cumulative Cost ($)': 1639.22,\n",
       "  'Realized G/L ($)': 0.0,\n",
       "  'Open Cashflow ($)': -1639.22,\n",
       "  'Price ($)': 240.84,\n",
       "  'Current Value ($)': 1734.05,\n",
       "  'Average Cost': 227.67,\n",
       "  'Weight (%)': 1.85,\n",
       "  'Unrealized ($)': 94.83,\n",
       "  'Unrealized (%)': 5.78},\n",
       " {'Ticker': 'SHOP',\n",
       "  'Company': 'Shopify Inc.',\n",
       "  'Sector': 'Technology',\n",
       "  'Industry': 'Software - Application',\n",
       "  'P/E': 52.56,\n",
       "  'Perf Week': -10.57,\n",
       "  'Perf Month': -5.71,\n",
       "  'Perf Quart': -9.28,\n",
       "  'Perf Half': 14.58,\n",
       "  'Perf Year': 32.68,\n",
       "  'Perf YTD': 24.56,\n",
       "  'Volatility Week': 6.02,\n",
       "  'Volatility Month': 5.0,\n",
       "  'Recom': 2.1,\n",
       "  'ATR': 81.16,\n",
       "  'SMA20': -10.48,\n",
       "  'SMA50': -4.64,\n",
       "  'SMA200': 3.25,\n",
       "  '52W High': -20.02,\n",
       "  '52W Low': 40.28,\n",
       "  'RSI': 38.11,\n",
       "  'Insider Own': 0.29,\n",
       "  'Insider Trans': 0.0,\n",
       "  'Inst Own': 70.7,\n",
       "  'Inst Trans': 0.12,\n",
       "  'Float Short': 1.6,\n",
       "  'Short Ratio': 1.84,\n",
       "  'Dividend': 0.0,\n",
       "  'LTDebt/Eq': 0.08,\n",
       "  'Debt/Eq': 0.08,\n",
       "  'Cumulative Units': 1.2,\n",
       "  'Cumulative Cost ($)': 967.59,\n",
       "  'Realized G/L ($)': 32.34,\n",
       "  'Open Cashflow ($)': -935.25,\n",
       "  'Price ($)': 1410.0,\n",
       "  'Current Value ($)': 1692.0,\n",
       "  'Average Cost': 806.33,\n",
       "  'Weight (%)': 1.8,\n",
       "  'Unrealized ($)': 724.41,\n",
       "  'Unrealized (%)': 74.87},\n",
       " {'Ticker': 'DOCU',\n",
       "  'Company': 'DocuSign, Inc.',\n",
       "  'Sector': 'Technology',\n",
       "  'Industry': 'Software - Application',\n",
       "  'P/E': 0.0,\n",
       "  'Perf Week': -45.88,\n",
       "  'Perf Month': -52.3,\n",
       "  'Perf Quart': -56.43,\n",
       "  'Perf Half': -43.94,\n",
       "  'Perf Year': -41.52,\n",
       "  'Perf YTD': -39.23,\n",
       "  'Volatility Week': 7.59,\n",
       "  'Volatility Month': 4.76,\n",
       "  'Recom': 1.8,\n",
       "  'ATR': 16.94,\n",
       "  'SMA20': -47.51,\n",
       "  'SMA50': -48.78,\n",
       "  'SMA200': -46.4,\n",
       "  '52W High': -57.08,\n",
       "  '52W Low': -24.74,\n",
       "  'RSI': 13.59,\n",
       "  'Insider Own': 1.1,\n",
       "  'Insider Trans': -9.83,\n",
       "  'Inst Own': 78.3,\n",
       "  'Inst Trans': 0.64,\n",
       "  'Float Short': 3.26,\n",
       "  'Short Ratio': 2.75,\n",
       "  'Dividend': 0.0,\n",
       "  'LTDebt/Eq': 3.45,\n",
       "  'Debt/Eq': 3.46,\n",
       "  'Cumulative Units': 12.0,\n",
       "  'Cumulative Cost ($)': 2941.56,\n",
       "  'Realized G/L ($)': 0.0,\n",
       "  'Open Cashflow ($)': -2941.56,\n",
       "  'Price ($)': 135.09,\n",
       "  'Current Value ($)': 1621.08,\n",
       "  'Average Cost': 245.13,\n",
       "  'Weight (%)': 1.73,\n",
       "  'Unrealized ($)': -1320.48,\n",
       "  'Unrealized (%)': -44.89},\n",
       " {'Ticker': 'PLL',\n",
       "  'Company': 'Piedmont Lithium Inc.',\n",
       "  'Sector': 'Basic Materials',\n",
       "  'Industry': 'Other Industrial Metals & Mining',\n",
       "  'P/E': 0.0,\n",
       "  'Perf Week': -7.7,\n",
       "  'Perf Month': -16.7,\n",
       "  'Perf Quart': -10.51,\n",
       "  'Perf Half': -22.26,\n",
       "  'Perf Year': 108.97,\n",
       "  'Perf YTD': 102.67,\n",
       "  'Volatility Week': 8.27,\n",
       "  'Volatility Month': 6.16,\n",
       "  'Recom': 1.9,\n",
       "  'ATR': 3.8,\n",
       "  'SMA20': -11.79,\n",
       "  'SMA50': -9.28,\n",
       "  'SMA200': -14.76,\n",
       "  '52W High': -39.52,\n",
       "  '52W Low': 122.49,\n",
       "  'RSI': 39.68,\n",
       "  'Insider Own': 3.57,\n",
       "  'Insider Trans': -6.19,\n",
       "  'Inst Own': 15.97,\n",
       "  'Inst Trans': 0.0,\n",
       "  'Float Short': 0.0,\n",
       "  'Short Ratio': 2.13,\n",
       "  'Dividend': 0.0,\n",
       "  'LTDebt/Eq': 0.0,\n",
       "  'Debt/Eq': 0.0,\n",
       "  'Cumulative Units': 30.0,\n",
       "  'Cumulative Cost ($)': 931.3,\n",
       "  'Realized G/L ($)': 0.0,\n",
       "  'Open Cashflow ($)': -931.3,\n",
       "  'Price ($)': 53.81,\n",
       "  'Current Value ($)': 1614.3,\n",
       "  'Average Cost': 31.04,\n",
       "  'Weight (%)': 1.72,\n",
       "  'Unrealized ($)': 683.0,\n",
       "  'Unrealized (%)': 73.34},\n",
       " {'Ticker': 'DIS',\n",
       "  'Company': 'The Walt Disney Company',\n",
       "  'Sector': 'Communication Services',\n",
       "  'Industry': 'Entertainment',\n",
       "  'P/E': 132.21,\n",
       "  'Perf Week': -1.28,\n",
       "  'Perf Month': -14.03,\n",
       "  'Perf Quart': -19.22,\n",
       "  'Perf Half': -17.39,\n",
       "  'Perf Year': -4.58,\n",
       "  'Perf YTD': -19.3,\n",
       "  'Volatility Week': 3.41,\n",
       "  'Volatility Month': 2.38,\n",
       "  'Recom': 1.9,\n",
       "  'ATR': 4.08,\n",
       "  'SMA20': -7.6,\n",
       "  'SMA50': -12.47,\n",
       "  'SMA200': -17.86,\n",
       "  '52W High': -27.98,\n",
       "  '52W Low': 2.94,\n",
       "  'RSI': 29.38,\n",
       "  'Insider Own': 0.1,\n",
       "  'Insider Trans': -0.81,\n",
       "  'Inst Own': 66.6,\n",
       "  'Inst Trans': 0.16,\n",
       "  'Float Short': 1.23,\n",
       "  'Short Ratio': 1.92,\n",
       "  'Dividend': 0.0,\n",
       "  'LTDebt/Eq': 0.55,\n",
       "  'Debt/Eq': 0.61,\n",
       "  'Cumulative Units': 11.04,\n",
       "  'Cumulative Cost ($)': 1180.84,\n",
       "  'Realized G/L ($)': 0.0,\n",
       "  'Open Cashflow ($)': -1180.84,\n",
       "  'Price ($)': 146.22,\n",
       "  'Current Value ($)': 1614.27,\n",
       "  'Average Cost': 106.96,\n",
       "  'Weight (%)': 1.72,\n",
       "  'Unrealized ($)': 433.43,\n",
       "  'Unrealized (%)': 36.71},\n",
       " {'Ticker': 'MGM',\n",
       "  'Company': 'MGM Resorts International',\n",
       "  'Sector': 'Consumer Cyclical',\n",
       "  'Industry': 'Resorts & Casinos',\n",
       "  'P/E': 30.85,\n",
       "  'Perf Week': -4.01,\n",
       "  'Perf Month': -17.52,\n",
       "  'Perf Quart': -5.57,\n",
       "  'Perf Half': -7.46,\n",
       "  'Perf Year': 34.3,\n",
       "  'Perf YTD': 27.48,\n",
       "  'Volatility Week': 6.4,\n",
       "  'Volatility Month': 4.41,\n",
       "  'Recom': 2.5,\n",
       "  'ATR': 2.01,\n",
       "  'SMA20': -9.5,\n",
       "  'SMA50': -11.92,\n",
       "  'SMA200': -3.67,\n",
       "  '52W High': -21.5,\n",
       "  '52W Low': 44.42,\n",
       "  'RSI': 36.69,\n",
       "  'Insider Own': 0.5,\n",
       "  'Insider Trans': -7.94,\n",
       "  'Inst Own': 67.0,\n",
       "  'Inst Trans': -0.68,\n",
       "  'Float Short': 2.82,\n",
       "  'Short Ratio': 1.65,\n",
       "  'Dividend': 0.02,\n",
       "  'LTDebt/Eq': 1.71,\n",
       "  'Debt/Eq': 1.87,\n",
       "  'Cumulative Units': 40.0,\n",
       "  'Cumulative Cost ($)': 924.8,\n",
       "  'Realized G/L ($)': 0.0,\n",
       "  'Open Cashflow ($)': -924.8,\n",
       "  'Price ($)': 40.17,\n",
       "  'Current Value ($)': 1606.8,\n",
       "  'Average Cost': 23.12,\n",
       "  'Weight (%)': 1.71,\n",
       "  'Unrealized ($)': 682.0,\n",
       "  'Unrealized (%)': 73.75},\n",
       " {'Ticker': 'RIOT',\n",
       "  'Company': 'Riot Blockchain, Inc.',\n",
       "  'Sector': 'Technology',\n",
       "  'Industry': 'Software - Application',\n",
       "  'P/E': 135.09,\n",
       "  'Perf Week': -17.98,\n",
       "  'Perf Month': -12.58,\n",
       "  'Perf Quart': -16.82,\n",
       "  'Perf Half': -0.62,\n",
       "  'Perf Year': 196.48,\n",
       "  'Perf YTD': 68.57,\n",
       "  'Volatility Week': 16.14,\n",
       "  'Volatility Month': 12.21,\n",
       "  'Recom': 1.5,\n",
       "  'ATR': 4.13,\n",
       "  'SMA20': -21.52,\n",
       "  'SMA50': -8.34,\n",
       "  'SMA200': -21.07,\n",
       "  '52W High': -63.97,\n",
       "  '52W Low': 242.58,\n",
       "  'RSI': 40.41,\n",
       "  'Insider Own': 6.2,\n",
       "  'Insider Trans': -41.16,\n",
       "  'Inst Own': 28.8,\n",
       "  'Inst Trans': 14.73,\n",
       "  'Float Short': 14.9,\n",
       "  'Short Ratio': 0.99,\n",
       "  'Dividend': 0.0,\n",
       "  'LTDebt/Eq': 0.0,\n",
       "  'Debt/Eq': 0.0,\n",
       "  'Cumulative Units': 55.0,\n",
       "  'Cumulative Cost ($)': 1582.05,\n",
       "  'Realized G/L ($)': 0.0,\n",
       "  'Open Cashflow ($)': -1582.05,\n",
       "  'Price ($)': 28.64,\n",
       "  'Current Value ($)': 1575.2,\n",
       "  'Average Cost': 28.76,\n",
       "  'Weight (%)': 1.68,\n",
       "  'Unrealized ($)': -6.85,\n",
       "  'Unrealized (%)': -0.43},\n",
       " {'Ticker': 'BA',\n",
       "  'Company': 'The Boeing Company',\n",
       "  'Sector': 'Industrials',\n",
       "  'Industry': 'Aerospace & Defense',\n",
       "  'P/E': 0.0,\n",
       "  'Perf Week': -0.36,\n",
       "  'Perf Month': -6.98,\n",
       "  'Perf Quart': -9.02,\n",
       "  'Perf Half': -21.44,\n",
       "  'Perf Year': -16.32,\n",
       "  'Perf YTD': -7.27,\n",
       "  'Volatility Week': 4.39,\n",
       "  'Volatility Month': 3.21,\n",
       "  'Recom': 2.3,\n",
       "  'ATR': 8.06,\n",
       "  'SMA20': -7.3,\n",
       "  'SMA50': -8.38,\n",
       "  'SMA200': -13.57,\n",
       "  '52W High': -28.75,\n",
       "  '52W Low': 5.58,\n",
       "  'RSI': 40.11,\n",
       "  'Insider Own': 0.09,\n",
       "  'Insider Trans': -0.17,\n",
       "  'Inst Own': 53.4,\n",
       "  'Inst Trans': -1.82,\n",
       "  'Float Short': 1.34,\n",
       "  'Short Ratio': 0.82,\n",
       "  'Dividend': 0.0,\n",
       "  'LTDebt/Eq': 0.0,\n",
       "  'Debt/Eq': 0.0,\n",
       "  'Cumulative Units': 7.8,\n",
       "  'Cumulative Cost ($)': 1644.36,\n",
       "  'Realized G/L ($)': 0.0,\n",
       "  'Open Cashflow ($)': -1644.36,\n",
       "  'Price ($)': 198.49,\n",
       "  'Current Value ($)': 1548.22,\n",
       "  'Average Cost': 210.82,\n",
       "  'Weight (%)': 1.65,\n",
       "  'Unrealized ($)': -96.14,\n",
       "  'Unrealized (%)': -5.85},\n",
       " {'Ticker': 'STOR',\n",
       "  'Company': 'STORE Capital Corporation',\n",
       "  'Sector': 'Real Estate',\n",
       "  'Industry': 'REIT - Diversified',\n",
       "  'P/E': 35.64,\n",
       "  'Perf Week': -0.76,\n",
       "  'Perf Month': -6.41,\n",
       "  'Perf Quart': -8.87,\n",
       "  'Perf Half': -8.75,\n",
       "  'Perf Year': 0.09,\n",
       "  'Perf YTD': -3.3,\n",
       "  'Volatility Week': 3.27,\n",
       "  'Volatility Month': 2.28,\n",
       "  'Recom': 2.4,\n",
       "  'ATR': 0.84,\n",
       "  'SMA20': -3.18,\n",
       "  'SMA50': -2.87,\n",
       "  'SMA200': -4.98,\n",
       "  '52W High': -11.5,\n",
       "  '52W Low': 9.46,\n",
       "  'RSI': 42.72,\n",
       "  'Insider Own': 0.2,\n",
       "  'Insider Trans': -0.9,\n",
       "  'Inst Own': 86.3,\n",
       "  'Inst Trans': -1.4,\n",
       "  'Float Short': 1.81,\n",
       "  'Short Ratio': 3.78,\n",
       "  'Dividend': 4.69,\n",
       "  'LTDebt/Eq': 0.79,\n",
       "  'Debt/Eq': 0.79,\n",
       "  'Cumulative Units': 47.0,\n",
       "  'Cumulative Cost ($)': 1252.65,\n",
       "  'Realized G/L ($)': 0.0,\n",
       "  'Open Cashflow ($)': -1252.65,\n",
       "  'Price ($)': 32.86,\n",
       "  'Current Value ($)': 1544.42,\n",
       "  'Average Cost': 26.65,\n",
       "  'Weight (%)': 1.64,\n",
       "  'Unrealized ($)': 291.77,\n",
       "  'Unrealized (%)': 23.29},\n",
       " {'Ticker': 'MRNA',\n",
       "  'Company': 'Moderna, Inc.',\n",
       "  'Sector': 'Healthcare',\n",
       "  'Industry': 'Biotechnology',\n",
       "  'P/E': 18.84,\n",
       "  'Perf Week': -6.95,\n",
       "  'Perf Month': -11.33,\n",
       "  'Perf Quart': -26.39,\n",
       "  'Perf Half': 39.69,\n",
       "  'Perf Year': 95.04,\n",
       "  'Perf YTD': 193.6,\n",
       "  'Volatility Week': 7.98,\n",
       "  'Volatility Month': 6.98,\n",
       "  'Recom': 2.7,\n",
       "  'ATR': 26.33,\n",
       "  'SMA20': 13.38,\n",
       "  'SMA50': -2.88,\n",
       "  'SMA200': 17.31,\n",
       "  '52W High': -38.35,\n",
       "  '52W Low': 198.77,\n",
       "  'RSI': 51.76,\n",
       "  'Insider Own': 1.9,\n",
       "  'Insider Trans': -15.21,\n",
       "  'Inst Own': 61.2,\n",
       "  'Inst Trans': 5.86,\n",
       "  'Float Short': 3.97,\n",
       "  'Short Ratio': 1.06,\n",
       "  'Dividend': 0.0,\n",
       "  'LTDebt/Eq': 0.02,\n",
       "  'Debt/Eq': 0.05,\n",
       "  'Cumulative Units': 5.0,\n",
       "  'Cumulative Cost ($)': 335.8,\n",
       "  'Realized G/L ($)': 695.85,\n",
       "  'Open Cashflow ($)': 360.05,\n",
       "  'Price ($)': 306.72,\n",
       "  'Current Value ($)': 1533.6,\n",
       "  'Average Cost': 67.16,\n",
       "  'Weight (%)': 1.63,\n",
       "  'Unrealized ($)': 1197.8,\n",
       "  'Unrealized (%)': 356.7},\n",
       " {'Ticker': 'RUN',\n",
       "  'Company': 'Sunrun Inc.',\n",
       "  'Sector': 'Technology',\n",
       "  'Industry': 'Solar',\n",
       "  'P/E': 0.0,\n",
       "  'Perf Week': -15.74,\n",
       "  'Perf Month': -31.49,\n",
       "  'Perf Quart': -12.27,\n",
       "  'Perf Half': -8.18,\n",
       "  'Perf Year': -31.4,\n",
       "  'Perf YTD': -42.42,\n",
       "  'Volatility Week': 7.98,\n",
       "  'Volatility Month': 6.4,\n",
       "  'Recom': 1.8,\n",
       "  'ATR': 3.31,\n",
       "  'SMA20': -24.25,\n",
       "  'SMA50': -20.67,\n",
       "  'SMA200': -20.39,\n",
       "  '52W High': -60.42,\n",
       "  '52W Low': 6.76,\n",
       "  'RSI': 26.91,\n",
       "  'Insider Own': 1.7,\n",
       "  'Insider Trans': -8.65,\n",
       "  'Inst Own': 98.6,\n",
       "  'Inst Trans': 3.24,\n",
       "  'Float Short': 16.49,\n",
       "  'Short Ratio': 6.33,\n",
       "  'Dividend': 0.0,\n",
       "  'LTDebt/Eq': 0.92,\n",
       "  'Debt/Eq': 0.99,\n",
       "  'Cumulative Units': 36.0,\n",
       "  'Cumulative Cost ($)': 2284.32,\n",
       "  'Realized G/L ($)': 2456.16,\n",
       "  'Open Cashflow ($)': 171.84,\n",
       "  'Price ($)': 39.95,\n",
       "  'Current Value ($)': 1438.2,\n",
       "  'Average Cost': 63.45,\n",
       "  'Weight (%)': 1.53,\n",
       "  'Unrealized ($)': -846.12,\n",
       "  'Unrealized (%)': -37.04},\n",
       " {'Ticker': 'VIAC',\n",
       "  'Company': 'ViacomCBS Inc.',\n",
       "  'Sector': 'Communication Services',\n",
       "  'Industry': 'Entertainment',\n",
       "  'P/E': 6.56,\n",
       "  'Perf Week': -4.72,\n",
       "  'Perf Month': -17.26,\n",
       "  'Perf Quart': -24.73,\n",
       "  'Perf Half': -25.56,\n",
       "  'Perf Year': -15.07,\n",
       "  'Perf YTD': -16.61,\n",
       "  'Volatility Week': 4.99,\n",
       "  'Volatility Month': 3.57,\n",
       "  'Recom': 2.5,\n",
       "  'ATR': 1.24,\n",
       "  'SMA20': -8.42,\n",
       "  'SMA50': -15.58,\n",
       "  'SMA200': -30.7,\n",
       "  '52W High': -69.53,\n",
       "  '52W Low': 7.51,\n",
       "  'RSI': 31.85,\n",
       "  'Insider Own': 0.2,\n",
       "  'Insider Trans': 2.84,\n",
       "  'Inst Own': 69.4,\n",
       "  'Inst Trans': -1.29,\n",
       "  'Float Short': 7.77,\n",
       "  'Short Ratio': 4.31,\n",
       "  'Dividend': 3.09,\n",
       "  'LTDebt/Eq': 0.86,\n",
       "  'Debt/Eq': 0.86,\n",
       "  'Cumulative Units': 45.0,\n",
       "  'Cumulative Cost ($)': 706.95,\n",
       "  'Realized G/L ($)': 729.3,\n",
       "  'Open Cashflow ($)': 22.35,\n",
       "  'Price ($)': 31.07,\n",
       "  'Current Value ($)': 1398.15,\n",
       "  'Average Cost': 15.71,\n",
       "  'Weight (%)': 1.49,\n",
       "  'Unrealized ($)': 691.2,\n",
       "  'Unrealized (%)': 97.77},\n",
       " {'Ticker': 'WMT',\n",
       "  'Company': 'Walmart Inc.',\n",
       "  'Sector': 'Consumer Defensive',\n",
       "  'Industry': 'Discount Stores',\n",
       "  'P/E': 48.15,\n",
       "  'Perf Week': -5.1,\n",
       "  'Perf Month': -8.44,\n",
       "  'Perf Quart': -7.87,\n",
       "  'Perf Half': -2.41,\n",
       "  'Perf Year': -7.9,\n",
       "  'Perf YTD': -4.61,\n",
       "  'Volatility Week': 2.17,\n",
       "  'Volatility Month': 1.71,\n",
       "  'Recom': 2.0,\n",
       "  'ATR': 2.44,\n",
       "  'SMA20': -5.19,\n",
       "  'SMA50': -4.43,\n",
       "  'SMA200': -2.63,\n",
       "  '52W High': -9.87,\n",
       "  '52W Low': 8.89,\n",
       "  'RSI': 34.73,\n",
       "  'Insider Own': 0.8,\n",
       "  'Insider Trans': -79.51,\n",
       "  'Inst Own': 31.9,\n",
       "  'Inst Trans': 1.23,\n",
       "  'Float Short': 0.97,\n",
       "  'Short Ratio': 1.81,\n",
       "  'Dividend': 1.6,\n",
       "  'LTDebt/Eq': 0.49,\n",
       "  'Debt/Eq': 0.52,\n",
       "  'Cumulative Units': 10.0,\n",
       "  'Cumulative Cost ($)': 1242.34,\n",
       "  'Realized G/L ($)': 0.0,\n",
       "  'Open Cashflow ($)': -1242.34,\n",
       "  'Price ($)': 137.51,\n",
       "  'Current Value ($)': 1375.1,\n",
       "  'Average Cost': 124.23,\n",
       "  'Weight (%)': 1.46,\n",
       "  'Unrealized ($)': 132.76,\n",
       "  'Unrealized (%)': 10.69},\n",
       " {'Ticker': 'MCD',\n",
       "  'Company': \"McDonald's Corporation\",\n",
       "  'Sector': 'Consumer Cyclical',\n",
       "  'Industry': 'Restaurants',\n",
       "  'P/E': 25.74,\n",
       "  'Perf Week': -0.27,\n",
       "  'Perf Month': -0.43,\n",
       "  'Perf Quart': 4.4,\n",
       "  'Perf Half': 7.61,\n",
       "  'Perf Year': 17.88,\n",
       "  'Perf YTD': 16.19,\n",
       "  'Volatility Week': 1.77,\n",
       "  'Volatility Month': 1.38,\n",
       "  'Recom': 2.0,\n",
       "  'ATR': 4.24,\n",
       "  'SMA20': -0.97,\n",
       "  'SMA50': 0.85,\n",
       "  'SMA200': 5.89,\n",
       "  '52W High': -3.28,\n",
       "  '52W Low': 22.99,\n",
       "  'RSI': 49.87,\n",
       "  'Insider Own': 0.05,\n",
       "  'Insider Trans': -14.6,\n",
       "  'Inst Own': 69.3,\n",
       "  'Inst Trans': 0.73,\n",
       "  'Float Short': 0.77,\n",
       "  'Short Ratio': 2.17,\n",
       "  'Dividend': 2.07,\n",
       "  'LTDebt/Eq': 0.0,\n",
       "  'Debt/Eq': 0.0,\n",
       "  'Cumulative Units': 5.5,\n",
       "  'Cumulative Cost ($)': 1075.5,\n",
       "  'Realized G/L ($)': 0.0,\n",
       "  'Open Cashflow ($)': -1075.5,\n",
       "  'Price ($)': 249.33,\n",
       "  'Current Value ($)': 1371.32,\n",
       "  'Average Cost': 195.55,\n",
       "  'Weight (%)': 1.46,\n",
       "  'Unrealized ($)': 295.82,\n",
       "  'Unrealized (%)': 27.5},\n",
       " {'Ticker': 'JNJ',\n",
       "  'Company': 'Johnson & Johnson',\n",
       "  'Sector': 'Healthcare',\n",
       "  'Industry': 'Drug Manufacturers - General',\n",
       "  'P/E': 23.82,\n",
       "  'Perf Week': 0.11,\n",
       "  'Perf Month': -3.44,\n",
       "  'Perf Quart': -8.95,\n",
       "  'Perf Half': -3.31,\n",
       "  'Perf Year': 6.97,\n",
       "  'Perf YTD': 1.27,\n",
       "  'Volatility Week': 1.74,\n",
       "  'Volatility Month': 1.41,\n",
       "  'Recom': 2.1,\n",
       "  'ATR': 2.62,\n",
       "  'SMA20': -1.35,\n",
       "  'SMA50': -1.61,\n",
       "  'SMA200': -3.76,\n",
       "  '52W High': -11.42,\n",
       "  '52W Low': 7.92,\n",
       "  'RSI': 45.04,\n",
       "  'Insider Own': 0.08,\n",
       "  'Insider Trans': 0.0,\n",
       "  'Inst Own': 70.0,\n",
       "  'Inst Trans': 0.82,\n",
       "  'Float Short': 0.57,\n",
       "  'Short Ratio': 2.13,\n",
       "  'Dividend': 2.66,\n",
       "  'LTDebt/Eq': 0.43,\n",
       "  'Debt/Eq': 0.48,\n",
       "  'Cumulative Units': 8.4,\n",
       "  'Cumulative Cost ($)': 1090.32,\n",
       "  'Realized G/L ($)': 0.0,\n",
       "  'Open Cashflow ($)': -1090.32,\n",
       "  'Price ($)': 159.38,\n",
       "  'Current Value ($)': 1338.79,\n",
       "  'Average Cost': 129.8,\n",
       "  'Weight (%)': 1.42,\n",
       "  'Unrealized ($)': 248.47,\n",
       "  'Unrealized (%)': 22.79},\n",
       " {'Ticker': 'FVRR',\n",
       "  'Company': 'Fiverr International Ltd.',\n",
       "  'Sector': 'Consumer Cyclical',\n",
       "  'Industry': 'Internet Retail',\n",
       "  'P/E': 0.0,\n",
       "  'Perf Week': -15.49,\n",
       "  'Perf Month': -24.5,\n",
       "  'Perf Quart': -32.2,\n",
       "  'Perf Half': -38.98,\n",
       "  'Perf Year': -39.76,\n",
       "  'Perf YTD': -36.09,\n",
       "  'Volatility Week': 7.88,\n",
       "  'Volatility Month': 6.42,\n",
       "  'Recom': 1.9,\n",
       "  'ATR': 10.0,\n",
       "  'SMA20': -22.14,\n",
       "  'SMA50': -28.37,\n",
       "  'SMA200': -38.31,\n",
       "  '52W High': -62.89,\n",
       "  '52W Low': -2.0,\n",
       "  'RSI': 26.8,\n",
       "  'Insider Own': 18.08,\n",
       "  'Insider Trans': 0.0,\n",
       "  'Inst Own': 54.4,\n",
       "  'Inst Trans': 12.78,\n",
       "  'Float Short': 9.18,\n",
       "  'Short Ratio': 3.42,\n",
       "  'Dividend': 0.0,\n",
       "  'LTDebt/Eq': 1.06,\n",
       "  'Debt/Eq': 1.06,\n",
       "  'Cumulative Units': 10.0,\n",
       "  'Cumulative Cost ($)': 609.0,\n",
       "  'Realized G/L ($)': 610.85,\n",
       "  'Open Cashflow ($)': 1.85,\n",
       "  'Price ($)': 124.69,\n",
       "  'Current Value ($)': 1246.9,\n",
       "  'Average Cost': 60.9,\n",
       "  'Weight (%)': 1.33,\n",
       "  'Unrealized ($)': 637.9,\n",
       "  'Unrealized (%)': 104.75},\n",
       " {'Ticker': 'IBM',\n",
       "  'Company': 'International Business Machines Corporation',\n",
       "  'Sector': 'Technology',\n",
       "  'Industry': 'Information Technology Services',\n",
       "  'P/E': 23.0,\n",
       "  'Perf Week': 2.62,\n",
       "  'Perf Month': -2.13,\n",
       "  'Perf Quart': -10.86,\n",
       "  'Perf Half': -15.94,\n",
       "  'Perf Year': 0.65,\n",
       "  'Perf YTD': -1.16,\n",
       "  'Volatility Week': 1.77,\n",
       "  'Volatility Month': 1.73,\n",
       "  'Recom': 2.6,\n",
       "  'ATR': 2.2,\n",
       "  'SMA20': 0.18,\n",
       "  'SMA50': -5.38,\n",
       "  'SMA200': -9.12,\n",
       "  '52W High': -18.6,\n",
       "  '52W Low': 6.01,\n",
       "  'RSI': 45.79,\n",
       "  'Insider Own': 0.1,\n",
       "  'Insider Trans': 0.0,\n",
       "  'Inst Own': 57.9,\n",
       "  'Inst Trans': 0.41,\n",
       "  'Float Short': 2.7,\n",
       "  'Short Ratio': 4.27,\n",
       "  'Dividend': 5.52,\n",
       "  'LTDebt/Eq': 2.11,\n",
       "  'Debt/Eq': 2.45,\n",
       "  'Cumulative Units': 9.6,\n",
       "  'Cumulative Cost ($)': 1193.09,\n",
       "  'Realized G/L ($)': 0.0,\n",
       "  'Open Cashflow ($)': -1193.09,\n",
       "  'Price ($)': 118.84,\n",
       "  'Current Value ($)': 1140.86,\n",
       "  'Average Cost': 124.28,\n",
       "  'Weight (%)': 1.21,\n",
       "  'Unrealized ($)': -52.23,\n",
       "  'Unrealized (%)': -4.38},\n",
       " {'Ticker': 'ZI',\n",
       "  'Company': 'ZoomInfo Technologies Inc.',\n",
       "  'Sector': 'Technology',\n",
       "  'Industry': 'Software - Application',\n",
       "  'P/E': 836.91,\n",
       "  'Perf Week': -18.71,\n",
       "  'Perf Month': -18.53,\n",
       "  'Perf Quart': -14.2,\n",
       "  'Perf Half': 27.12,\n",
       "  'Perf Year': 24.91,\n",
       "  'Perf YTD': 18.0,\n",
       "  'Volatility Week': 9.98,\n",
       "  'Volatility Month': 5.43,\n",
       "  'Recom': 2.0,\n",
       "  'ATR': 4.05,\n",
       "  'SMA20': -20.46,\n",
       "  'SMA50': -16.4,\n",
       "  'SMA200': 0.92,\n",
       "  '52W High': -28.12,\n",
       "  '52W Low': 50.32,\n",
       "  'RSI': 31.23,\n",
       "  'Insider Own': 10.9,\n",
       "  'Insider Trans': -87.31,\n",
       "  'Inst Own': 71.6,\n",
       "  'Inst Trans': 89.02,\n",
       "  'Float Short': 3.24,\n",
       "  'Short Ratio': 1.67,\n",
       "  'Dividend': 0.0,\n",
       "  'LTDebt/Eq': 0.69,\n",
       "  'Debt/Eq': 0.0,\n",
       "  'Cumulative Units': 20.0,\n",
       "  'Cumulative Cost ($)': 760.6,\n",
       "  'Realized G/L ($)': 0.0,\n",
       "  'Open Cashflow ($)': -760.6,\n",
       "  'Price ($)': 56.91,\n",
       "  'Current Value ($)': 1138.2,\n",
       "  'Average Cost': 38.03,\n",
       "  'Weight (%)': 1.21,\n",
       "  'Unrealized ($)': 377.6,\n",
       "  'Unrealized (%)': 49.65},\n",
       " {'Ticker': 'NWS',\n",
       "  'Company': 'News Corporation',\n",
       "  'Sector': 'Communication Services',\n",
       "  'Industry': 'Broadcasting',\n",
       "  'P/E': 0.0,\n",
       "  'Perf Week': 1.2,\n",
       "  'Perf Month': -4.58,\n",
       "  'Perf Quart': -1.17,\n",
       "  'Perf Half': -10.22,\n",
       "  'Perf Year': 17.77,\n",
       "  'Perf YTD': 23.07,\n",
       "  'Volatility Week': 3.23,\n",
       "  'Volatility Month': 2.95,\n",
       "  'Recom': 0.0,\n",
       "  'ATR': 0.7,\n",
       "  'SMA20': -4.47,\n",
       "  'SMA50': -6.37,\n",
       "  'SMA200': -7.68,\n",
       "  '52W High': -16.56,\n",
       "  '52W Low': 28.27,\n",
       "  'RSI': 41.14,\n",
       "  'Insider Own': 39.44,\n",
       "  'Insider Trans': -0.01,\n",
       "  'Inst Own': 37.55,\n",
       "  'Inst Trans': 0.0,\n",
       "  'Float Short': 0.15,\n",
       "  'Short Ratio': 1.01,\n",
       "  'Dividend': 0.91,\n",
       "  'LTDebt/Eq': 0.0,\n",
       "  'Debt/Eq': 0.0,\n",
       "  'Cumulative Units': 50.0,\n",
       "  'Cumulative Cost ($)': 454.0,\n",
       "  'Realized G/L ($)': 412.5,\n",
       "  'Open Cashflow ($)': -41.5,\n",
       "  'Price ($)': 21.87,\n",
       "  'Current Value ($)': 1093.5,\n",
       "  'Average Cost': 9.08,\n",
       "  'Weight (%)': 1.16,\n",
       "  'Unrealized ($)': 639.5,\n",
       "  'Unrealized (%)': 140.86},\n",
       " {'Ticker': 'CVS',\n",
       "  'Company': 'CVS Health Corporation',\n",
       "  'Sector': 'Healthcare',\n",
       "  'Industry': 'Healthcare Plans',\n",
       "  'P/E': 15.86,\n",
       "  'Perf Week': -0.71,\n",
       "  'Perf Month': -5.68,\n",
       "  'Perf Quart': 3.89,\n",
       "  'Perf Half': 5.26,\n",
       "  'Perf Year': 25.3,\n",
       "  'Perf YTD': 33.05,\n",
       "  'Volatility Week': 2.36,\n",
       "  'Volatility Month': 2.07,\n",
       "  'Recom': 2.0,\n",
       "  'ATR': 2.0,\n",
       "  'SMA20': -1.99,\n",
       "  'SMA50': 2.28,\n",
       "  'SMA200': 9.85,\n",
       "  '52W High': -5.9,\n",
       "  '52W Low': 35.51,\n",
       "  'RSI': 49.27,\n",
       "  'Insider Own': 0.1,\n",
       "  'Insider Trans': -19.5,\n",
       "  'Inst Own': 78.9,\n",
       "  'Inst Trans': 0.09,\n",
       "  'Float Short': 1.12,\n",
       "  'Short Ratio': 2.73,\n",
       "  'Dividend': 2.2,\n",
       "  'LTDebt/Eq': 0.76,\n",
       "  'Debt/Eq': 0.79,\n",
       "  'Cumulative Units': 12.0,\n",
       "  'Cumulative Cost ($)': 656.28,\n",
       "  'Realized G/L ($)': 0.0,\n",
       "  'Open Cashflow ($)': -656.28,\n",
       "  'Price ($)': 90.87,\n",
       "  'Current Value ($)': 1090.44,\n",
       "  'Average Cost': 54.69,\n",
       "  'Weight (%)': 1.16,\n",
       "  'Unrealized ($)': 434.16,\n",
       "  'Unrealized (%)': 66.15},\n",
       " {'Ticker': 'ZEN',\n",
       "  'Company': 'Zendesk, Inc.',\n",
       "  'Sector': 'Technology',\n",
       "  'Industry': 'Software - Application',\n",
       "  'P/E': 0.0,\n",
       "  'Perf Week': 2.77,\n",
       "  'Perf Month': -6.9,\n",
       "  'Perf Quart': -22.55,\n",
       "  'Perf Half': -28.35,\n",
       "  'Perf Year': -28.28,\n",
       "  'Perf YTD': -32.31,\n",
       "  'Volatility Week': 7.29,\n",
       "  'Volatility Month': 4.32,\n",
       "  'Recom': 1.6,\n",
       "  'ATR': 5.44,\n",
       "  'SMA20': -2.48,\n",
       "  'SMA50': -12.57,\n",
       "  'SMA200': -25.36,\n",
       "  '52W High': -41.85,\n",
       "  '52W Low': 7.04,\n",
       "  'RSI': 40.64,\n",
       "  'Insider Own': 1.0,\n",
       "  'Insider Trans': -22.74,\n",
       "  'Inst Own': 96.8,\n",
       "  'Inst Trans': -0.95,\n",
       "  'Float Short': 7.16,\n",
       "  'Short Ratio': 3.25,\n",
       "  'Dividend': 0.0,\n",
       "  'LTDebt/Eq': 2.07,\n",
       "  'Debt/Eq': 2.36,\n",
       "  'Cumulative Units': 10.0,\n",
       "  'Cumulative Cost ($)': 811.8,\n",
       "  'Realized G/L ($)': 0.0,\n",
       "  'Open Cashflow ($)': -811.8,\n",
       "  'Price ($)': 96.88,\n",
       "  'Current Value ($)': 968.8,\n",
       "  'Average Cost': 81.18,\n",
       "  'Weight (%)': 1.03,\n",
       "  'Unrealized ($)': 157.0,\n",
       "  'Unrealized (%)': 19.34},\n",
       " {'Ticker': 'NIO',\n",
       "  'Company': 'NIO Inc.',\n",
       "  'Sector': 'Consumer Cyclical',\n",
       "  'Industry': 'Auto Manufacturers',\n",
       "  'P/E': 0.0,\n",
       "  'Perf Week': -19.6,\n",
       "  'Perf Month': -22.53,\n",
       "  'Perf Quart': -20.36,\n",
       "  'Perf Half': -26.4,\n",
       "  'Perf Year': -29.11,\n",
       "  'Perf YTD': -34.04,\n",
       "  'Volatility Week': 9.53,\n",
       "  'Volatility Month': 6.08,\n",
       "  'Recom': 2.0,\n",
       "  'ATR': 2.68,\n",
       "  'SMA20': -20.68,\n",
       "  'SMA50': -17.02,\n",
       "  'SMA200': -20.83,\n",
       "  '52W High': -52.01,\n",
       "  '52W Low': 4.69,\n",
       "  'RSI': 29.93,\n",
       "  'Insider Own': 0.52,\n",
       "  'Insider Trans': 0.0,\n",
       "  'Inst Own': 38.6,\n",
       "  'Inst Trans': 1.62,\n",
       "  'Float Short': 5.28,\n",
       "  'Short Ratio': 1.42,\n",
       "  'Dividend': 0.0,\n",
       "  'LTDebt/Eq': 0.4,\n",
       "  'Debt/Eq': 0.69,\n",
       "  'Cumulative Units': 30.0,\n",
       "  'Cumulative Cost ($)': 846.78,\n",
       "  'Realized G/L ($)': 769.68,\n",
       "  'Open Cashflow ($)': -77.1,\n",
       "  'Price ($)': 32.15,\n",
       "  'Current Value ($)': 964.5,\n",
       "  'Average Cost': 28.23,\n",
       "  'Weight (%)': 1.03,\n",
       "  'Unrealized ($)': 117.72,\n",
       "  'Unrealized (%)': 13.9},\n",
       " {'Ticker': 'TWTR',\n",
       "  'Company': 'Twitter, Inc.',\n",
       "  'Sector': 'Communication Services',\n",
       "  'Industry': 'Internet Content & Information',\n",
       "  'P/E': 0.0,\n",
       "  'Perf Week': -10.62,\n",
       "  'Perf Month': -22.85,\n",
       "  'Perf Quart': -34.94,\n",
       "  'Perf Half': -29.45,\n",
       "  'Perf Year': -11.97,\n",
       "  'Perf YTD': -22.31,\n",
       "  'Volatility Week': 7.66,\n",
       "  'Volatility Month': 4.18,\n",
       "  'Recom': 2.8,\n",
       "  'ATR': 2.22,\n",
       "  'SMA20': -14.84,\n",
       "  'SMA50': -25.55,\n",
       "  'SMA200': -32.59,\n",
       "  '52W High': -47.9,\n",
       "  '52W Low': 0.77,\n",
       "  'RSI': 17.29,\n",
       "  'Insider Own': 0.2,\n",
       "  'Insider Trans': -11.02,\n",
       "  'Inst Own': 79.9,\n",
       "  'Inst Trans': -0.67,\n",
       "  'Float Short': 3.02,\n",
       "  'Short Ratio': 1.54,\n",
       "  'Dividend': 0.0,\n",
       "  'LTDebt/Eq': 0.59,\n",
       "  'Debt/Eq': 0.59,\n",
       "  'Cumulative Units': 22.5,\n",
       "  'Cumulative Cost ($)': 750.52,\n",
       "  'Realized G/L ($)': 538.57,\n",
       "  'Open Cashflow ($)': -211.96,\n",
       "  'Price ($)': 42.07,\n",
       "  'Current Value ($)': 946.57,\n",
       "  'Average Cost': 33.36,\n",
       "  'Weight (%)': 1.01,\n",
       "  'Unrealized ($)': 196.05,\n",
       "  'Unrealized (%)': 26.12},\n",
       " {'Ticker': 'SYF',\n",
       "  'Company': 'Synchrony Financial',\n",
       "  'Sector': 'Financial',\n",
       "  'Industry': 'Credit Services',\n",
       "  'P/E': 6.39,\n",
       "  'Perf Week': -5.03,\n",
       "  'Perf Month': -6.06,\n",
       "  'Perf Quart': -4.43,\n",
       "  'Perf Half': -10.25,\n",
       "  'Perf Year': 39.97,\n",
       "  'Perf YTD': 30.45,\n",
       "  'Volatility Week': 4.57,\n",
       "  'Volatility Month': 2.92,\n",
       "  'Recom': 2.1,\n",
       "  'ATR': 1.63,\n",
       "  'SMA20': -6.3,\n",
       "  'SMA50': -7.55,\n",
       "  'SMA200': -2.63,\n",
       "  '52W High': -13.74,\n",
       "  '52W Low': 43.11,\n",
       "  'RSI': 38.48,\n",
       "  'Insider Own': 0.3,\n",
       "  'Insider Trans': -19.38,\n",
       "  'Inst Own': 98.5,\n",
       "  'Inst Trans': -3.07,\n",
       "  'Float Short': 2.68,\n",
       "  'Short Ratio': 2.87,\n",
       "  'Dividend': 1.94,\n",
       "  'LTDebt/Eq': 0.97,\n",
       "  'Debt/Eq': 0.97,\n",
       "  'Cumulative Units': 20.0,\n",
       "  'Cumulative Cost ($)': 465.9,\n",
       "  'Realized G/L ($)': 0.0,\n",
       "  'Open Cashflow ($)': -465.9,\n",
       "  'Price ($)': 45.28,\n",
       "  'Current Value ($)': 905.6,\n",
       "  'Average Cost': 23.3,\n",
       "  'Weight (%)': 0.96,\n",
       "  'Unrealized ($)': 439.7,\n",
       "  'Unrealized (%)': 94.38},\n",
       " {'Ticker': 'PTON',\n",
       "  'Company': 'Peloton Interactive, Inc.',\n",
       "  'Sector': 'Consumer Cyclical',\n",
       "  'Industry': 'Leisure',\n",
       "  'P/E': 0.0,\n",
       "  'Perf Week': -6.16,\n",
       "  'Perf Month': -51.56,\n",
       "  'Perf Quart': -55.81,\n",
       "  'Perf Half': -60.33,\n",
       "  'Perf Year': -62.52,\n",
       "  'Perf YTD': -71.3,\n",
       "  'Volatility Week': 8.03,\n",
       "  'Volatility Month': 7.94,\n",
       "  'Recom': 2.0,\n",
       "  'ATR': 4.67,\n",
       "  'SMA20': -12.31,\n",
       "  'SMA50': -40.48,\n",
       "  'SMA200': -56.81,\n",
       "  '52W High': -74.55,\n",
       "  '52W Low': 5.88,\n",
       "  'RSI': 30.5,\n",
       "  'Insider Own': 0.6,\n",
       "  'Insider Trans': 48.23,\n",
       "  'Inst Own': 78.5,\n",
       "  'Inst Trans': 4.57,\n",
       "  'Float Short': 7.51,\n",
       "  'Short Ratio': 1.73,\n",
       "  'Dividend': 0.0,\n",
       "  'LTDebt/Eq': 0.56,\n",
       "  'Debt/Eq': 0.56,\n",
       "  'Cumulative Units': 20.0,\n",
       "  'Cumulative Cost ($)': 938.1,\n",
       "  'Realized G/L ($)': 39.25,\n",
       "  'Open Cashflow ($)': -898.85,\n",
       "  'Price ($)': 43.55,\n",
       "  'Current Value ($)': 871.0,\n",
       "  'Average Cost': 46.9,\n",
       "  'Weight (%)': 0.93,\n",
       "  'Unrealized ($)': -67.1,\n",
       "  'Unrealized (%)': -7.15},\n",
       " {'Ticker': 'DKNG',\n",
       "  'Company': 'DraftKings Inc.',\n",
       "  'Sector': 'Consumer Cyclical',\n",
       "  'Industry': 'Gambling',\n",
       "  'P/E': 0.0,\n",
       "  'Perf Week': -21.28,\n",
       "  'Perf Month': -39.43,\n",
       "  'Perf Quart': -53.51,\n",
       "  'Perf Half': -46.98,\n",
       "  'Perf Year': -43.33,\n",
       "  'Perf YTD': -39.07,\n",
       "  'Volatility Week': 8.95,\n",
       "  'Volatility Month': 6.35,\n",
       "  'Recom': 2.0,\n",
       "  'ATR': 2.28,\n",
       "  'SMA20': -25.68,\n",
       "  'SMA50': -36.28,\n",
       "  'SMA200': -46.1,\n",
       "  '52W High': -61.86,\n",
       "  '52W Low': -6.71,\n",
       "  'RSI': 16.37,\n",
       "  'Insider Own': 6.6,\n",
       "  'Insider Trans': -14.26,\n",
       "  'Inst Own': 61.9,\n",
       "  'Inst Trans': 0.92,\n",
       "  'Float Short': 9.78,\n",
       "  'Short Ratio': 2.59,\n",
       "  'Dividend': 0.0,\n",
       "  'LTDebt/Eq': 0.68,\n",
       "  'Debt/Eq': 0.68,\n",
       "  'Cumulative Units': 27.5,\n",
       "  'Cumulative Cost ($)': 1080.3,\n",
       "  'Realized G/L ($)': 0.0,\n",
       "  'Open Cashflow ($)': -1080.3,\n",
       "  'Price ($)': 28.37,\n",
       "  'Current Value ($)': 780.18,\n",
       "  'Average Cost': 39.28,\n",
       "  'Weight (%)': 0.83,\n",
       "  'Unrealized ($)': -300.12,\n",
       "  'Unrealized (%)': -27.78},\n",
       " {'Ticker': 'CSCO',\n",
       "  'Company': 'Cisco Systems, Inc.',\n",
       "  'Sector': 'Technology',\n",
       "  'Industry': 'Communication Equipment',\n",
       "  'P/E': 20.9,\n",
       "  'Perf Week': 2.85,\n",
       "  'Perf Month': -2.46,\n",
       "  'Perf Quart': -5.37,\n",
       "  'Perf Half': 4.28,\n",
       "  'Perf Year': 27.48,\n",
       "  'Perf YTD': 25.65,\n",
       "  'Volatility Week': 2.53,\n",
       "  'Volatility Month': 2.15,\n",
       "  'Recom': 2.3,\n",
       "  'ATR': 1.33,\n",
       "  'SMA20': 0.43,\n",
       "  'SMA50': 0.9,\n",
       "  'SMA200': 4.58,\n",
       "  '52W High': -6.7,\n",
       "  '52W Low': 29.71,\n",
       "  'RSI': 52.68,\n",
       "  'Insider Own': 0.06,\n",
       "  'Insider Trans': -7.36,\n",
       "  'Inst Own': 75.1,\n",
       "  'Inst Trans': 0.19,\n",
       "  'Float Short': 0.94,\n",
       "  'Short Ratio': 2.08,\n",
       "  'Dividend': 2.63,\n",
       "  'LTDebt/Eq': 0.22,\n",
       "  'Debt/Eq': 0.28,\n",
       "  'Cumulative Units': 12.0,\n",
       "  'Cumulative Cost ($)': 469.44,\n",
       "  'Realized G/L ($)': 0.0,\n",
       "  'Open Cashflow ($)': -469.44,\n",
       "  'Price ($)': 56.23,\n",
       "  'Current Value ($)': 674.76,\n",
       "  'Average Cost': 39.12,\n",
       "  'Weight (%)': 0.72,\n",
       "  'Unrealized ($)': 205.32,\n",
       "  'Unrealized (%)': 43.74},\n",
       " {'Ticker': 'PLTR',\n",
       "  'Company': 'Palantir Technologies Inc.',\n",
       "  'Sector': 'Technology',\n",
       "  'Industry': 'Software - Infrastructure',\n",
       "  'P/E': 0.0,\n",
       "  'Perf Week': -9.75,\n",
       "  'Perf Month': -27.34,\n",
       "  'Perf Quart': -28.75,\n",
       "  'Perf Half': -22.4,\n",
       "  'Perf Year': -21.02,\n",
       "  'Perf YTD': -19.41,\n",
       "  'Volatility Week': 5.73,\n",
       "  'Volatility Month': 4.71,\n",
       "  'Recom': 3.3,\n",
       "  'ATR': 1.08,\n",
       "  'SMA20': -15.25,\n",
       "  'SMA50': -20.67,\n",
       "  'SMA200': -20.38,\n",
       "  '52W High': -57.82,\n",
       "  '52W Low': 11.29,\n",
       "  'RSI': 27.46,\n",
       "  'Insider Own': 1.2,\n",
       "  'Insider Trans': -54.76,\n",
       "  'Inst Own': 32.0,\n",
       "  'Inst Trans': 33.07,\n",
       "  'Float Short': 4.9,\n",
       "  'Short Ratio': 1.81,\n",
       "  'Dividend': 0.0,\n",
       "  'LTDebt/Eq': 0.0,\n",
       "  'Debt/Eq': 0.0,\n",
       "  'Cumulative Units': 32.0,\n",
       "  'Cumulative Cost ($)': 846.34,\n",
       "  'Realized G/L ($)': 0.0,\n",
       "  'Open Cashflow ($)': -846.34,\n",
       "  'Price ($)': 18.98,\n",
       "  'Current Value ($)': 607.36,\n",
       "  'Average Cost': 26.45,\n",
       "  'Weight (%)': 0.65,\n",
       "  'Unrealized ($)': -238.98,\n",
       "  'Unrealized (%)': -28.24},\n",
       " {'Ticker': 'NKLA',\n",
       "  'Company': 'Nikola Corporation',\n",
       "  'Sector': 'Consumer Cyclical',\n",
       "  'Industry': 'Auto Manufacturers',\n",
       "  'P/E': 0.0,\n",
       "  'Perf Week': -9.66,\n",
       "  'Perf Month': -25.65,\n",
       "  'Perf Quart': -9.66,\n",
       "  'Perf Half': -46.46,\n",
       "  'Perf Year': -50.21,\n",
       "  'Perf YTD': -38.07,\n",
       "  'Volatility Week': 7.65,\n",
       "  'Volatility Month': 8.43,\n",
       "  'Recom': 2.7,\n",
       "  'ATR': 0.94,\n",
       "  'SMA20': -23.43,\n",
       "  'SMA50': -18.65,\n",
       "  'SMA200': -27.71,\n",
       "  '52W High': -68.91,\n",
       "  '52W Low': 4.77,\n",
       "  'RSI': 34.4,\n",
       "  'Insider Own': 0.1,\n",
       "  'Insider Trans': -98.61,\n",
       "  'Inst Own': 26.2,\n",
       "  'Inst Trans': 12.82,\n",
       "  'Float Short': 23.67,\n",
       "  'Short Ratio': 4.58,\n",
       "  'Dividend': 0.0,\n",
       "  'LTDebt/Eq': 0.0,\n",
       "  'Debt/Eq': 0.04,\n",
       "  'Cumulative Units': 50.0,\n",
       "  'Cumulative Cost ($)': 1697.04,\n",
       "  'Realized G/L ($)': -2.07,\n",
       "  'Open Cashflow ($)': -1699.11,\n",
       "  'Price ($)': 9.45,\n",
       "  'Current Value ($)': 472.5,\n",
       "  'Average Cost': 33.94,\n",
       "  'Weight (%)': 0.5,\n",
       "  'Unrealized ($)': -1224.54,\n",
       "  'Unrealized (%)': -72.16},\n",
       " {'Ticker': 'PAYS',\n",
       "  'Company': 'PaySign, Inc.',\n",
       "  'Sector': 'Industrials',\n",
       "  'Industry': 'Specialty Business Services',\n",
       "  'P/E': 0.0,\n",
       "  'Perf Week': -11.73,\n",
       "  'Perf Month': -37.55,\n",
       "  'Perf Quart': -29.67,\n",
       "  'Perf Half': -49.42,\n",
       "  'Perf Year': -63.19,\n",
       "  'Perf YTD': -62.72,\n",
       "  'Volatility Week': 6.81,\n",
       "  'Volatility Month': 7.39,\n",
       "  'Recom': 2.0,\n",
       "  'ATR': 0.15,\n",
       "  'SMA20': -19.22,\n",
       "  'SMA50': -28.98,\n",
       "  'SMA200': -45.5,\n",
       "  '52W High': -69.6,\n",
       "  '52W Low': -1.14,\n",
       "  'RSI': 30.46,\n",
       "  'Insider Own': 37.8,\n",
       "  'Insider Trans': -0.91,\n",
       "  'Inst Own': 18.0,\n",
       "  'Inst Trans': -7.93,\n",
       "  'Float Short': 1.87,\n",
       "  'Short Ratio': 1.4,\n",
       "  'Dividend': 0.0,\n",
       "  'LTDebt/Eq': 0.0,\n",
       "  'Debt/Eq': 0.0,\n",
       "  'Cumulative Units': 150.0,\n",
       "  'Cumulative Cost ($)': 973.0,\n",
       "  'Realized G/L ($)': 0.0,\n",
       "  'Open Cashflow ($)': -973.0,\n",
       "  'Price ($)': 1.73,\n",
       "  'Current Value ($)': 259.5,\n",
       "  'Average Cost': 6.49,\n",
       "  'Weight (%)': 0.28,\n",
       "  'Unrealized ($)': -713.5,\n",
       "  'Unrealized (%)': -73.33}]"
      ]
     },
     "execution_count": 143,
     "metadata": {},
     "output_type": "execute_result"
    }
   ],
   "source": [
    "datatabletotal = tables_df.to_dict('records')\n",
    "cols_total = [{\"name\": i, \"id\": i} for i in tables_df.columns[:10]]\n",
    "datatabletotal"
   ]
  },
  {
   "cell_type": "code",
   "execution_count": 144,
   "metadata": {},
   "outputs": [],
   "source": [
    "tableview_table = dash_table.DataTable(\n",
    "    id='total-table',\n",
    "    columns=cols_total,\n",
    "    data=datatabletotal,\n",
    "    filter_action=\"native\",\n",
    "    sort_action=\"native\",\n",
    "    fixed_columns={\n",
    "        'headers': True,\n",
    "        'data': 2\n",
    "    },\n",
    "    style_table={\n",
    "        'minWidth': '100%',\n",
    "        'overflowX': 'auto'\n",
    "    },\n",
    "    style_header={\n",
    "        'backgroundColor': 'rgb(30, 30, 30)',\n",
    "        'color': 'white'\n",
    "    },\n",
    "    style_data={\n",
    "        'backgroundColor': 'rgb(50, 50, 50)',\n",
    "        'color': 'white'\n",
    "    },\n",
    "    style_data_conditional=[\n",
    "        {\n",
    "            'if': {'row_index': 'odd'},\n",
    "            'backgroundColor': 'rgb(80, 80, 80)',\n",
    "        },\n",
    "        {\n",
    "           'if': {'column_id': 'Ticker'},\n",
    "           'width': '25px',\n",
    "           'textAlign': 'left',\n",
    "           'fontWeight' : 'bold'\n",
    "       },\n",
    "       {\n",
    "           'if': {'column_id': 'Company'},\n",
    "           'width': '140px',\n",
    "           'textAlign': 'left',\n",
    "       }\n",
    "    ],\n",
    ")\n"
   ]
  },
  {
   "cell_type": "code",
   "execution_count": 145,
   "metadata": {},
   "outputs": [
    {
     "name": "stdout",
     "output_type": "stream",
     "text": [
      "Requirement already satisfied: jupyter-dash in /Users/anh/anaconda3/envs/dash/lib/python3.10/site-packages (0.4.2)\n",
      "Requirement already satisfied: dash in /Users/anh/anaconda3/envs/dash/lib/python3.10/site-packages (from jupyter-dash) (2.14.1)\n",
      "Requirement already satisfied: requests in /Users/anh/anaconda3/envs/dash/lib/python3.10/site-packages (from jupyter-dash) (2.31.0)\n",
      "Requirement already satisfied: flask in /Users/anh/anaconda3/envs/dash/lib/python3.10/site-packages (from jupyter-dash) (3.0.0)\n",
      "Requirement already satisfied: retrying in /Users/anh/anaconda3/envs/dash/lib/python3.10/site-packages (from jupyter-dash) (1.3.4)\n",
      "Requirement already satisfied: ipython in /Users/anh/anaconda3/envs/dash/lib/python3.10/site-packages (from jupyter-dash) (8.18.1)\n",
      "Requirement already satisfied: ipykernel in /Users/anh/anaconda3/envs/dash/lib/python3.10/site-packages (from jupyter-dash) (6.26.0)\n",
      "Requirement already satisfied: ansi2html in /Users/anh/anaconda3/envs/dash/lib/python3.10/site-packages (from jupyter-dash) (1.8.0)\n",
      "Requirement already satisfied: nest-asyncio in /Users/anh/anaconda3/envs/dash/lib/python3.10/site-packages (from jupyter-dash) (1.5.8)\n",
      "Requirement already satisfied: Werkzeug<3.1 in /Users/anh/anaconda3/envs/dash/lib/python3.10/site-packages (from dash->jupyter-dash) (3.0.1)\n",
      "Requirement already satisfied: plotly>=5.0.0 in /Users/anh/anaconda3/envs/dash/lib/python3.10/site-packages (from dash->jupyter-dash) (5.18.0)\n",
      "Requirement already satisfied: dash-html-components==2.0.0 in /Users/anh/anaconda3/envs/dash/lib/python3.10/site-packages (from dash->jupyter-dash) (2.0.0)\n",
      "Requirement already satisfied: dash-core-components==2.0.0 in /Users/anh/anaconda3/envs/dash/lib/python3.10/site-packages (from dash->jupyter-dash) (2.0.0)\n",
      "Requirement already satisfied: dash-table==5.0.0 in /Users/anh/anaconda3/envs/dash/lib/python3.10/site-packages (from dash->jupyter-dash) (5.0.0)\n",
      "Requirement already satisfied: typing-extensions>=4.1.1 in /Users/anh/anaconda3/envs/dash/lib/python3.10/site-packages (from dash->jupyter-dash) (4.8.0)\n",
      "Requirement already satisfied: setuptools in /Users/anh/anaconda3/envs/dash/lib/python3.10/site-packages (from dash->jupyter-dash) (68.0.0)\n",
      "Requirement already satisfied: importlib-metadata in /Users/anh/anaconda3/envs/dash/lib/python3.10/site-packages (from dash->jupyter-dash) (6.8.0)\n",
      "Requirement already satisfied: Jinja2>=3.1.2 in /Users/anh/anaconda3/envs/dash/lib/python3.10/site-packages (from flask->jupyter-dash) (3.1.2)\n",
      "Requirement already satisfied: itsdangerous>=2.1.2 in /Users/anh/anaconda3/envs/dash/lib/python3.10/site-packages (from flask->jupyter-dash) (2.1.2)\n",
      "Requirement already satisfied: click>=8.1.3 in /Users/anh/anaconda3/envs/dash/lib/python3.10/site-packages (from flask->jupyter-dash) (8.1.7)\n",
      "Requirement already satisfied: blinker>=1.6.2 in /Users/anh/anaconda3/envs/dash/lib/python3.10/site-packages (from flask->jupyter-dash) (1.7.0)\n",
      "Requirement already satisfied: appnope in /Users/anh/anaconda3/envs/dash/lib/python3.10/site-packages (from ipykernel->jupyter-dash) (0.1.3)\n",
      "Requirement already satisfied: comm>=0.1.1 in /Users/anh/anaconda3/envs/dash/lib/python3.10/site-packages (from ipykernel->jupyter-dash) (0.1.4)\n",
      "Requirement already satisfied: debugpy>=1.6.5 in /Users/anh/anaconda3/envs/dash/lib/python3.10/site-packages (from ipykernel->jupyter-dash) (1.6.7)\n",
      "Requirement already satisfied: jupyter-client>=6.1.12 in /Users/anh/anaconda3/envs/dash/lib/python3.10/site-packages (from ipykernel->jupyter-dash) (8.6.0)\n",
      "Requirement already satisfied: jupyter-core!=5.0.*,>=4.12 in /Users/anh/anaconda3/envs/dash/lib/python3.10/site-packages (from ipykernel->jupyter-dash) (5.5.0)\n",
      "Requirement already satisfied: matplotlib-inline>=0.1 in /Users/anh/anaconda3/envs/dash/lib/python3.10/site-packages (from ipykernel->jupyter-dash) (0.1.6)\n",
      "Requirement already satisfied: packaging in /Users/anh/anaconda3/envs/dash/lib/python3.10/site-packages (from ipykernel->jupyter-dash) (23.2)\n",
      "Requirement already satisfied: psutil in /Users/anh/anaconda3/envs/dash/lib/python3.10/site-packages (from ipykernel->jupyter-dash) (5.9.0)\n",
      "Requirement already satisfied: pyzmq>=20 in /Users/anh/anaconda3/envs/dash/lib/python3.10/site-packages (from ipykernel->jupyter-dash) (25.1.0)\n",
      "Requirement already satisfied: tornado>=6.1 in /Users/anh/anaconda3/envs/dash/lib/python3.10/site-packages (from ipykernel->jupyter-dash) (6.3.3)\n",
      "Requirement already satisfied: traitlets>=5.4.0 in /Users/anh/anaconda3/envs/dash/lib/python3.10/site-packages (from ipykernel->jupyter-dash) (5.14.0)\n",
      "Requirement already satisfied: decorator in /Users/anh/anaconda3/envs/dash/lib/python3.10/site-packages (from ipython->jupyter-dash) (5.1.1)\n",
      "Requirement already satisfied: jedi>=0.16 in /Users/anh/anaconda3/envs/dash/lib/python3.10/site-packages (from ipython->jupyter-dash) (0.19.1)\n",
      "Requirement already satisfied: prompt-toolkit<3.1.0,>=3.0.41 in /Users/anh/anaconda3/envs/dash/lib/python3.10/site-packages (from ipython->jupyter-dash) (3.0.41)\n",
      "Requirement already satisfied: pygments>=2.4.0 in /Users/anh/anaconda3/envs/dash/lib/python3.10/site-packages (from ipython->jupyter-dash) (2.17.2)\n",
      "Requirement already satisfied: stack-data in /Users/anh/anaconda3/envs/dash/lib/python3.10/site-packages (from ipython->jupyter-dash) (0.6.2)\n",
      "Requirement already satisfied: exceptiongroup in /Users/anh/anaconda3/envs/dash/lib/python3.10/site-packages (from ipython->jupyter-dash) (1.2.0)\n",
      "Requirement already satisfied: pexpect>4.3 in /Users/anh/anaconda3/envs/dash/lib/python3.10/site-packages (from ipython->jupyter-dash) (4.8.0)\n",
      "Requirement already satisfied: charset-normalizer<4,>=2 in /Users/anh/anaconda3/envs/dash/lib/python3.10/site-packages (from requests->jupyter-dash) (3.3.2)\n",
      "Requirement already satisfied: idna<4,>=2.5 in /Users/anh/anaconda3/envs/dash/lib/python3.10/site-packages (from requests->jupyter-dash) (3.6)\n",
      "Requirement already satisfied: urllib3<3,>=1.21.1 in /Users/anh/anaconda3/envs/dash/lib/python3.10/site-packages (from requests->jupyter-dash) (2.1.0)\n",
      "Requirement already satisfied: certifi>=2017.4.17 in /Users/anh/anaconda3/envs/dash/lib/python3.10/site-packages (from requests->jupyter-dash) (2023.11.17)\n",
      "Requirement already satisfied: six>=1.7.0 in /Users/anh/anaconda3/envs/dash/lib/python3.10/site-packages (from retrying->jupyter-dash) (1.16.0)\n",
      "Requirement already satisfied: parso<0.9.0,>=0.8.3 in /Users/anh/anaconda3/envs/dash/lib/python3.10/site-packages (from jedi>=0.16->ipython->jupyter-dash) (0.8.3)\n",
      "Requirement already satisfied: MarkupSafe>=2.0 in /Users/anh/anaconda3/envs/dash/lib/python3.10/site-packages (from Jinja2>=3.1.2->flask->jupyter-dash) (2.1.3)\n",
      "Requirement already satisfied: python-dateutil>=2.8.2 in /Users/anh/anaconda3/envs/dash/lib/python3.10/site-packages (from jupyter-client>=6.1.12->ipykernel->jupyter-dash) (2.8.2)\n",
      "Requirement already satisfied: platformdirs>=2.5 in /Users/anh/anaconda3/envs/dash/lib/python3.10/site-packages (from jupyter-core!=5.0.*,>=4.12->ipykernel->jupyter-dash) (4.1.0)\n",
      "Requirement already satisfied: ptyprocess>=0.5 in /Users/anh/anaconda3/envs/dash/lib/python3.10/site-packages (from pexpect>4.3->ipython->jupyter-dash) (0.7.0)\n",
      "Requirement already satisfied: tenacity>=6.2.0 in /Users/anh/anaconda3/envs/dash/lib/python3.10/site-packages (from plotly>=5.0.0->dash->jupyter-dash) (8.2.3)\n",
      "Requirement already satisfied: wcwidth in /Users/anh/anaconda3/envs/dash/lib/python3.10/site-packages (from prompt-toolkit<3.1.0,>=3.0.41->ipython->jupyter-dash) (0.2.12)\n",
      "Requirement already satisfied: zipp>=0.5 in /Users/anh/anaconda3/envs/dash/lib/python3.10/site-packages (from importlib-metadata->dash->jupyter-dash) (3.17.0)\n",
      "Requirement already satisfied: executing>=1.2.0 in /Users/anh/anaconda3/envs/dash/lib/python3.10/site-packages (from stack-data->ipython->jupyter-dash) (2.0.1)\n",
      "Requirement already satisfied: asttokens>=2.1.0 in /Users/anh/anaconda3/envs/dash/lib/python3.10/site-packages (from stack-data->ipython->jupyter-dash) (2.4.1)\n",
      "Requirement already satisfied: pure-eval in /Users/anh/anaconda3/envs/dash/lib/python3.10/site-packages (from stack-data->ipython->jupyter-dash) (0.2.2)\n"
     ]
    }
   ],
   "source": [
    "! pip install jupyter-dash --upgrade"
   ]
  },
  {
   "cell_type": "code",
   "execution_count": 150,
   "metadata": {},
   "outputs": [],
   "source": [
    "from dash import Dash"
   ]
  },
  {
   "cell_type": "code",
   "execution_count": 152,
   "metadata": {},
   "outputs": [
    {
     "data": {
      "text/html": [
       "\n",
       "        <iframe\n",
       "            width=\"100%\"\n",
       "            height=\"650\"\n",
       "            src=\"http://127.0.0.1:8058/\"\n",
       "            frameborder=\"0\"\n",
       "            allowfullscreen\n",
       "            \n",
       "        ></iframe>\n",
       "        "
      ],
      "text/plain": [
       "<IPython.lib.display.IFrame at 0x150be78e0>"
      ]
     },
     "metadata": {},
     "output_type": "display_data"
    }
   ],
   "source": [
    "app = Dash(__name__, external_stylesheets=[dbc.themes.SLATE], suppress_callback_exceptions=True)\n",
    "\n",
    "app.layout = tableview_table\n",
    "if __name__ == \"__main__\":\n",
    "    app.run_server(debug=True, port=8058)"
   ]
  },
  {
   "cell_type": "code",
   "execution_count": 153,
   "metadata": {},
   "outputs": [
    {
     "ename": "AttributeError",
     "evalue": "'Dash' object has no attribute '_terminate_server_for_port'",
     "output_type": "error",
     "traceback": [
      "\u001b[0;31m---------------------------------------------------------------------------\u001b[0m",
      "\u001b[0;31mAttributeError\u001b[0m                            Traceback (most recent call last)",
      "\u001b[1;32m/Users/anh/Downloads/Dashboard Course Zip/jupyter notebooks/Notebook C - Combining Plotly and Dash.ipynb Cell 44\u001b[0m line \u001b[0;36m1\n\u001b[0;32m----> <a href='vscode-notebook-cell:/Users/anh/Downloads/Dashboard%20Course%20Zip/jupyter%20notebooks/Notebook%20C%20-%20Combining%20Plotly%20and%20Dash.ipynb#X55sZmlsZQ%3D%3D?line=0'>1</a>\u001b[0m app\u001b[39m.\u001b[39;49m_terminate_server_for_port(\u001b[39m\"\u001b[39m\u001b[39mlocalhost\u001b[39m\u001b[39m\"\u001b[39m,\u001b[39m8058\u001b[39m)\n",
      "\u001b[0;31mAttributeError\u001b[0m: 'Dash' object has no attribute '_terminate_server_for_port'"
     ]
    }
   ],
   "source": [
    "app._terminate_server_for_port(\"localhost\",8058)\n"
   ]
  },
  {
   "cell_type": "code",
   "execution_count": null,
   "metadata": {},
   "outputs": [],
   "source": []
  },
  {
   "cell_type": "markdown",
   "metadata": {},
   "source": [
    "## Calculating the KPI's for our indicators"
   ]
  },
  {
   "cell_type": "code",
   "execution_count": 154,
   "metadata": {},
   "outputs": [
    {
     "name": "stderr",
     "output_type": "stream",
     "text": [
      "/var/folders/z3/b5316dvd1psddj2gngyct7jw0000gn/T/ipykernel_2446/114864730.py:5: FutureWarning:\n",
      "\n",
      "Series.__getitem__ treating keys as positions is deprecated. In a future version, integer keys will always be treated as labels (consistent with DataFrame behavior). To access a value by position, use `ser.iloc[pos]`\n",
      "\n",
      "/var/folders/z3/b5316dvd1psddj2gngyct7jw0000gn/T/ipykernel_2446/114864730.py:6: FutureWarning:\n",
      "\n",
      "Series.__getitem__ treating keys as positions is deprecated. In a future version, integer keys will always be treated as labels (consistent with DataFrame behavior). To access a value by position, use `ser.iloc[pos]`\n",
      "\n",
      "/var/folders/z3/b5316dvd1psddj2gngyct7jw0000gn/T/ipykernel_2446/114864730.py:7: FutureWarning:\n",
      "\n",
      "Series.__getitem__ treating keys as positions is deprecated. In a future version, integer keys will always be treated as labels (consistent with DataFrame behavior). To access a value by position, use `ser.iloc[pos]`\n",
      "\n",
      "/var/folders/z3/b5316dvd1psddj2gngyct7jw0000gn/T/ipykernel_2446/114864730.py:8: FutureWarning:\n",
      "\n",
      "Series.__getitem__ treating keys as positions is deprecated. In a future version, integer keys will always be treated as labels (consistent with DataFrame behavior). To access a value by position, use `ser.iloc[pos]`\n",
      "\n"
     ]
    }
   ],
   "source": [
    "kpi_portfolio7d_abs = portf_allvalues.tail(7).ptf_value_diff.sum().round(2)\n",
    "kpi_portfolio15d_abs = portf_allvalues.tail(15).ptf_value_diff.sum().round(2)\n",
    "kpi_portfolio30d_abs = portf_allvalues.tail(30).ptf_value_diff.sum().round(2)\n",
    "kpi_portfolio200d_abs = portf_allvalues.tail(200).ptf_value_diff.sum().round(2)\n",
    "kpi_portfolio7d_pct = round(kpi_portfolio7d_abs/portf_allvalues.tail(7).portf_value[0]*100,2)\n",
    "kpi_portfolio15d_pct = round(kpi_portfolio15d_abs/portf_allvalues.tail(15).portf_value[0]*100,2)\n",
    "kpi_portfolio30d_pct = round(kpi_portfolio30d_abs/portf_allvalues.tail(30).portf_value[0]*100,2)\n",
    "kpi_portfolio200d_pct = round(kpi_portfolio200d_abs/portf_allvalues.tail(200).portf_value[0]*100,2)"
   ]
  },
  {
   "cell_type": "code",
   "execution_count": 157,
   "metadata": {},
   "outputs": [],
   "source": [
    "kpi_sp500_7d_abs = portf_allvalues.tail(7).sp500_diff.sum().round(2)\n",
    "kpi_sp500_15d_abs = portf_allvalues.tail(15).sp500_diff.sum().round(2)\n",
    "kpi_sp500_30d_abs = portf_allvalues.tail(30).sp500_diff.sum().round(2)\n",
    "kpi_sp500_200d_abs = portf_allvalues.tail(200).sp500_diff.sum().round(2)\n",
    "kpi_sp500_7d_pct = round(kpi_sp500_7d_abs/portf_allvalues.tail(7).sp500_mktvalue.iloc[0]*100,2)\n",
    "kpi_sp500_15d_pct = round(kpi_sp500_15d_abs/portf_allvalues.tail(15).sp500_mktvalue.iloc[0]*100,2)\n",
    "kpi_sp500_30d_pct = round(kpi_sp500_30d_abs/portf_allvalues.tail(30).sp500_mktvalue.iloc[0]*100,2)\n",
    "kpi_sp500_200d_pct = round(kpi_sp500_200d_abs/portf_allvalues.tail(200).sp500_mktvalue.iloc[0]*100,2)"
   ]
  },
  {
   "cell_type": "code",
   "execution_count": 158,
   "metadata": {
    "scrolled": true
   },
   "outputs": [
    {
     "data": {
      "application/vnd.plotly.v1+json": {
       "config": {
        "plotlyServerURL": "https://plot.ly"
       },
       "data": [
        {
         "delta": {
          "position": "bottom",
          "reference": -3.24,
          "relative": false
         },
         "domain": {
          "column": 0,
          "row": 0
         },
         "mode": "number+delta",
         "number": {
          "suffix": " %"
         },
         "title": {
          "text": "<br><span style='font-size:0.7em;color:gray'>7 Days</span>"
         },
         "type": "indicator",
         "value": -7.14
        },
        {
         "delta": {
          "position": "bottom",
          "reference": -2.37,
          "relative": false
         },
         "domain": {
          "column": 0,
          "row": 1
         },
         "mode": "number+delta",
         "number": {
          "suffix": " %"
         },
         "title": {
          "text": "<span style='font-size:0.7em;color:gray'>15 Days</span>"
         },
         "type": "indicator",
         "value": -7.72
        },
        {
         "delta": {
          "position": "bottom",
          "reference": -0.25,
          "relative": false
         },
         "domain": {
          "column": 0,
          "row": 2
         },
         "mode": "number+delta",
         "number": {
          "suffix": " %"
         },
         "title": {
          "text": "<span style='font-size:0.7em;color:gray'>30 Days</span>"
         },
         "type": "indicator",
         "value": -9.58
        },
        {
         "delta": {
          "position": "bottom",
          "reference": 16.3,
          "relative": false
         },
         "domain": {
          "column": 1,
          "row": 3
         },
         "mode": "number+delta",
         "number": {
          "suffix": " %"
         },
         "title": {
          "text": "<span style='font-size:0.7em;color:gray'>200 Days</span>"
         },
         "type": "indicator",
         "value": -3.53
        }
       ],
       "layout": {
        "grid": {
         "columns": 1,
         "pattern": "independent",
         "rows": 4
        },
        "margin": {
         "b": 30,
         "l": 50,
         "r": 50,
         "t": 30
        },
        "paper_bgcolor": "#272b30",
        "template": {
         "data": {
          "bar": [
           {
            "error_x": {
             "color": "#f2f5fa"
            },
            "error_y": {
             "color": "#f2f5fa"
            },
            "marker": {
             "line": {
              "color": "rgb(17,17,17)",
              "width": 0.5
             },
             "pattern": {
              "fillmode": "overlay",
              "size": 10,
              "solidity": 0.2
             }
            },
            "type": "bar"
           }
          ],
          "barpolar": [
           {
            "marker": {
             "line": {
              "color": "rgb(17,17,17)",
              "width": 0.5
             },
             "pattern": {
              "fillmode": "overlay",
              "size": 10,
              "solidity": 0.2
             }
            },
            "type": "barpolar"
           }
          ],
          "carpet": [
           {
            "aaxis": {
             "endlinecolor": "#A2B1C6",
             "gridcolor": "#506784",
             "linecolor": "#506784",
             "minorgridcolor": "#506784",
             "startlinecolor": "#A2B1C6"
            },
            "baxis": {
             "endlinecolor": "#A2B1C6",
             "gridcolor": "#506784",
             "linecolor": "#506784",
             "minorgridcolor": "#506784",
             "startlinecolor": "#A2B1C6"
            },
            "type": "carpet"
           }
          ],
          "choropleth": [
           {
            "colorbar": {
             "outlinewidth": 0,
             "ticks": ""
            },
            "type": "choropleth"
           }
          ],
          "contour": [
           {
            "colorbar": {
             "outlinewidth": 0,
             "ticks": ""
            },
            "colorscale": [
             [
              0,
              "#0d0887"
             ],
             [
              0.1111111111111111,
              "#46039f"
             ],
             [
              0.2222222222222222,
              "#7201a8"
             ],
             [
              0.3333333333333333,
              "#9c179e"
             ],
             [
              0.4444444444444444,
              "#bd3786"
             ],
             [
              0.5555555555555556,
              "#d8576b"
             ],
             [
              0.6666666666666666,
              "#ed7953"
             ],
             [
              0.7777777777777778,
              "#fb9f3a"
             ],
             [
              0.8888888888888888,
              "#fdca26"
             ],
             [
              1,
              "#f0f921"
             ]
            ],
            "type": "contour"
           }
          ],
          "contourcarpet": [
           {
            "colorbar": {
             "outlinewidth": 0,
             "ticks": ""
            },
            "type": "contourcarpet"
           }
          ],
          "heatmap": [
           {
            "colorbar": {
             "outlinewidth": 0,
             "ticks": ""
            },
            "colorscale": [
             [
              0,
              "#0d0887"
             ],
             [
              0.1111111111111111,
              "#46039f"
             ],
             [
              0.2222222222222222,
              "#7201a8"
             ],
             [
              0.3333333333333333,
              "#9c179e"
             ],
             [
              0.4444444444444444,
              "#bd3786"
             ],
             [
              0.5555555555555556,
              "#d8576b"
             ],
             [
              0.6666666666666666,
              "#ed7953"
             ],
             [
              0.7777777777777778,
              "#fb9f3a"
             ],
             [
              0.8888888888888888,
              "#fdca26"
             ],
             [
              1,
              "#f0f921"
             ]
            ],
            "type": "heatmap"
           }
          ],
          "heatmapgl": [
           {
            "colorbar": {
             "outlinewidth": 0,
             "ticks": ""
            },
            "colorscale": [
             [
              0,
              "#0d0887"
             ],
             [
              0.1111111111111111,
              "#46039f"
             ],
             [
              0.2222222222222222,
              "#7201a8"
             ],
             [
              0.3333333333333333,
              "#9c179e"
             ],
             [
              0.4444444444444444,
              "#bd3786"
             ],
             [
              0.5555555555555556,
              "#d8576b"
             ],
             [
              0.6666666666666666,
              "#ed7953"
             ],
             [
              0.7777777777777778,
              "#fb9f3a"
             ],
             [
              0.8888888888888888,
              "#fdca26"
             ],
             [
              1,
              "#f0f921"
             ]
            ],
            "type": "heatmapgl"
           }
          ],
          "histogram": [
           {
            "marker": {
             "pattern": {
              "fillmode": "overlay",
              "size": 10,
              "solidity": 0.2
             }
            },
            "type": "histogram"
           }
          ],
          "histogram2d": [
           {
            "colorbar": {
             "outlinewidth": 0,
             "ticks": ""
            },
            "colorscale": [
             [
              0,
              "#0d0887"
             ],
             [
              0.1111111111111111,
              "#46039f"
             ],
             [
              0.2222222222222222,
              "#7201a8"
             ],
             [
              0.3333333333333333,
              "#9c179e"
             ],
             [
              0.4444444444444444,
              "#bd3786"
             ],
             [
              0.5555555555555556,
              "#d8576b"
             ],
             [
              0.6666666666666666,
              "#ed7953"
             ],
             [
              0.7777777777777778,
              "#fb9f3a"
             ],
             [
              0.8888888888888888,
              "#fdca26"
             ],
             [
              1,
              "#f0f921"
             ]
            ],
            "type": "histogram2d"
           }
          ],
          "histogram2dcontour": [
           {
            "colorbar": {
             "outlinewidth": 0,
             "ticks": ""
            },
            "colorscale": [
             [
              0,
              "#0d0887"
             ],
             [
              0.1111111111111111,
              "#46039f"
             ],
             [
              0.2222222222222222,
              "#7201a8"
             ],
             [
              0.3333333333333333,
              "#9c179e"
             ],
             [
              0.4444444444444444,
              "#bd3786"
             ],
             [
              0.5555555555555556,
              "#d8576b"
             ],
             [
              0.6666666666666666,
              "#ed7953"
             ],
             [
              0.7777777777777778,
              "#fb9f3a"
             ],
             [
              0.8888888888888888,
              "#fdca26"
             ],
             [
              1,
              "#f0f921"
             ]
            ],
            "type": "histogram2dcontour"
           }
          ],
          "mesh3d": [
           {
            "colorbar": {
             "outlinewidth": 0,
             "ticks": ""
            },
            "type": "mesh3d"
           }
          ],
          "parcoords": [
           {
            "line": {
             "colorbar": {
              "outlinewidth": 0,
              "ticks": ""
             }
            },
            "type": "parcoords"
           }
          ],
          "pie": [
           {
            "automargin": true,
            "type": "pie"
           }
          ],
          "scatter": [
           {
            "marker": {
             "line": {
              "color": "#283442"
             }
            },
            "type": "scatter"
           }
          ],
          "scatter3d": [
           {
            "line": {
             "colorbar": {
              "outlinewidth": 0,
              "ticks": ""
             }
            },
            "marker": {
             "colorbar": {
              "outlinewidth": 0,
              "ticks": ""
             }
            },
            "type": "scatter3d"
           }
          ],
          "scattercarpet": [
           {
            "marker": {
             "colorbar": {
              "outlinewidth": 0,
              "ticks": ""
             }
            },
            "type": "scattercarpet"
           }
          ],
          "scattergeo": [
           {
            "marker": {
             "colorbar": {
              "outlinewidth": 0,
              "ticks": ""
             }
            },
            "type": "scattergeo"
           }
          ],
          "scattergl": [
           {
            "marker": {
             "line": {
              "color": "#283442"
             }
            },
            "type": "scattergl"
           }
          ],
          "scattermapbox": [
           {
            "marker": {
             "colorbar": {
              "outlinewidth": 0,
              "ticks": ""
             }
            },
            "type": "scattermapbox"
           }
          ],
          "scatterpolar": [
           {
            "marker": {
             "colorbar": {
              "outlinewidth": 0,
              "ticks": ""
             }
            },
            "type": "scatterpolar"
           }
          ],
          "scatterpolargl": [
           {
            "marker": {
             "colorbar": {
              "outlinewidth": 0,
              "ticks": ""
             }
            },
            "type": "scatterpolargl"
           }
          ],
          "scatterternary": [
           {
            "marker": {
             "colorbar": {
              "outlinewidth": 0,
              "ticks": ""
             }
            },
            "type": "scatterternary"
           }
          ],
          "surface": [
           {
            "colorbar": {
             "outlinewidth": 0,
             "ticks": ""
            },
            "colorscale": [
             [
              0,
              "#0d0887"
             ],
             [
              0.1111111111111111,
              "#46039f"
             ],
             [
              0.2222222222222222,
              "#7201a8"
             ],
             [
              0.3333333333333333,
              "#9c179e"
             ],
             [
              0.4444444444444444,
              "#bd3786"
             ],
             [
              0.5555555555555556,
              "#d8576b"
             ],
             [
              0.6666666666666666,
              "#ed7953"
             ],
             [
              0.7777777777777778,
              "#fb9f3a"
             ],
             [
              0.8888888888888888,
              "#fdca26"
             ],
             [
              1,
              "#f0f921"
             ]
            ],
            "type": "surface"
           }
          ],
          "table": [
           {
            "cells": {
             "fill": {
              "color": "#506784"
             },
             "line": {
              "color": "rgb(17,17,17)"
             }
            },
            "header": {
             "fill": {
              "color": "#2a3f5f"
             },
             "line": {
              "color": "rgb(17,17,17)"
             }
            },
            "type": "table"
           }
          ]
         },
         "layout": {
          "annotationdefaults": {
           "arrowcolor": "#f2f5fa",
           "arrowhead": 0,
           "arrowwidth": 1
          },
          "autotypenumbers": "strict",
          "coloraxis": {
           "colorbar": {
            "outlinewidth": 0,
            "ticks": ""
           }
          },
          "colorscale": {
           "diverging": [
            [
             0,
             "#8e0152"
            ],
            [
             0.1,
             "#c51b7d"
            ],
            [
             0.2,
             "#de77ae"
            ],
            [
             0.3,
             "#f1b6da"
            ],
            [
             0.4,
             "#fde0ef"
            ],
            [
             0.5,
             "#f7f7f7"
            ],
            [
             0.6,
             "#e6f5d0"
            ],
            [
             0.7,
             "#b8e186"
            ],
            [
             0.8,
             "#7fbc41"
            ],
            [
             0.9,
             "#4d9221"
            ],
            [
             1,
             "#276419"
            ]
           ],
           "sequential": [
            [
             0,
             "#0d0887"
            ],
            [
             0.1111111111111111,
             "#46039f"
            ],
            [
             0.2222222222222222,
             "#7201a8"
            ],
            [
             0.3333333333333333,
             "#9c179e"
            ],
            [
             0.4444444444444444,
             "#bd3786"
            ],
            [
             0.5555555555555556,
             "#d8576b"
            ],
            [
             0.6666666666666666,
             "#ed7953"
            ],
            [
             0.7777777777777778,
             "#fb9f3a"
            ],
            [
             0.8888888888888888,
             "#fdca26"
            ],
            [
             1,
             "#f0f921"
            ]
           ],
           "sequentialminus": [
            [
             0,
             "#0d0887"
            ],
            [
             0.1111111111111111,
             "#46039f"
            ],
            [
             0.2222222222222222,
             "#7201a8"
            ],
            [
             0.3333333333333333,
             "#9c179e"
            ],
            [
             0.4444444444444444,
             "#bd3786"
            ],
            [
             0.5555555555555556,
             "#d8576b"
            ],
            [
             0.6666666666666666,
             "#ed7953"
            ],
            [
             0.7777777777777778,
             "#fb9f3a"
            ],
            [
             0.8888888888888888,
             "#fdca26"
            ],
            [
             1,
             "#f0f921"
            ]
           ]
          },
          "colorway": [
           "#636efa",
           "#EF553B",
           "#00cc96",
           "#ab63fa",
           "#FFA15A",
           "#19d3f3",
           "#FF6692",
           "#B6E880",
           "#FF97FF",
           "#FECB52"
          ],
          "font": {
           "color": "#f2f5fa"
          },
          "geo": {
           "bgcolor": "rgb(17,17,17)",
           "lakecolor": "rgb(17,17,17)",
           "landcolor": "rgb(17,17,17)",
           "showlakes": true,
           "showland": true,
           "subunitcolor": "#506784"
          },
          "hoverlabel": {
           "align": "left"
          },
          "hovermode": "closest",
          "mapbox": {
           "style": "dark"
          },
          "paper_bgcolor": "rgb(17,17,17)",
          "plot_bgcolor": "rgb(17,17,17)",
          "polar": {
           "angularaxis": {
            "gridcolor": "#506784",
            "linecolor": "#506784",
            "ticks": ""
           },
           "bgcolor": "rgb(17,17,17)",
           "radialaxis": {
            "gridcolor": "#506784",
            "linecolor": "#506784",
            "ticks": ""
           }
          },
          "scene": {
           "xaxis": {
            "backgroundcolor": "rgb(17,17,17)",
            "gridcolor": "#506784",
            "gridwidth": 2,
            "linecolor": "#506784",
            "showbackground": true,
            "ticks": "",
            "zerolinecolor": "#C8D4E3"
           },
           "yaxis": {
            "backgroundcolor": "rgb(17,17,17)",
            "gridcolor": "#506784",
            "gridwidth": 2,
            "linecolor": "#506784",
            "showbackground": true,
            "ticks": "",
            "zerolinecolor": "#C8D4E3"
           },
           "zaxis": {
            "backgroundcolor": "rgb(17,17,17)",
            "gridcolor": "#506784",
            "gridwidth": 2,
            "linecolor": "#506784",
            "showbackground": true,
            "ticks": "",
            "zerolinecolor": "#C8D4E3"
           }
          },
          "shapedefaults": {
           "line": {
            "color": "#f2f5fa"
           }
          },
          "sliderdefaults": {
           "bgcolor": "#C8D4E3",
           "bordercolor": "rgb(17,17,17)",
           "borderwidth": 1,
           "tickwidth": 0
          },
          "ternary": {
           "aaxis": {
            "gridcolor": "#506784",
            "linecolor": "#506784",
            "ticks": ""
           },
           "baxis": {
            "gridcolor": "#506784",
            "linecolor": "#506784",
            "ticks": ""
           },
           "bgcolor": "rgb(17,17,17)",
           "caxis": {
            "gridcolor": "#506784",
            "linecolor": "#506784",
            "ticks": ""
           }
          },
          "title": {
           "x": 0.05
          },
          "updatemenudefaults": {
           "bgcolor": "#506784",
           "borderwidth": 0
          },
          "xaxis": {
           "automargin": true,
           "gridcolor": "#283442",
           "linecolor": "#506784",
           "ticks": "",
           "title": {
            "standoff": 15
           },
           "zerolinecolor": "#283442",
           "zerolinewidth": 2
          },
          "yaxis": {
           "automargin": true,
           "gridcolor": "#283442",
           "linecolor": "#506784",
           "ticks": "",
           "title": {
            "standoff": 15
           },
           "zerolinecolor": "#283442",
           "zerolinewidth": 2
          }
         }
        }
       }
      }
     },
     "metadata": {},
     "output_type": "display_data"
    }
   ],
   "source": [
    "indicators_ptf = go.Figure()\n",
    "indicators_ptf.layout.template = CHART_THEME\n",
    "indicators_ptf.add_trace(go.Indicator(\n",
    "    mode = \"number+delta\",\n",
    "    value = kpi_portfolio7d_pct,\n",
    "    number = {'suffix': \" %\"},\n",
    "    title = {\"text\": \"<br><span style='font-size:0.7em;color:gray'>7 Days</span>\"},\n",
    "    delta = {'position': \"bottom\", 'reference': kpi_sp500_7d_pct, 'relative': False},\n",
    "    domain = {'row': 0, 'column': 0}))\n",
    "\n",
    "indicators_ptf.add_trace(go.Indicator(\n",
    "    mode = \"number+delta\",\n",
    "    value = kpi_portfolio15d_pct,\n",
    "    number = {'suffix': \" %\"},\n",
    "    title = {\"text\": \"<span style='font-size:0.7em;color:gray'>15 Days</span>\"},\n",
    "    delta = {'position': \"bottom\", 'reference': kpi_sp500_15d_pct, 'relative': False},\n",
    "    domain = {'row': 1, 'column': 0}))\n",
    "\n",
    "indicators_ptf.add_trace(go.Indicator(\n",
    "    mode = \"number+delta\",\n",
    "    value = kpi_portfolio30d_pct,\n",
    "    number = {'suffix': \" %\"},\n",
    "    title = {\"text\": \"<span style='font-size:0.7em;color:gray'>30 Days</span>\"},\n",
    "    delta = {'position': \"bottom\", 'reference': kpi_sp500_30d_pct, 'relative': False},\n",
    "    domain = {'row': 2, 'column': 0}))\n",
    "\n",
    "indicators_ptf.add_trace(go.Indicator(\n",
    "    mode = \"number+delta\",\n",
    "    value = kpi_portfolio200d_pct,\n",
    "    number = {'suffix': \" %\"},\n",
    "    title = {\"text\": \"<span style='font-size:0.7em;color:gray'>200 Days</span>\"},\n",
    "    delta = {'position': \"bottom\", 'reference': kpi_sp500_200d_pct, 'relative': False},\n",
    "    domain = {'row': 3, 'column': 1}))\n",
    "\n",
    "indicators_ptf.update_layout(\n",
    "    grid = {'rows': 4, 'columns': 1, 'pattern': \"independent\"},\n",
    "    margin=dict(l=50, r=50, t=30, b=30)\n",
    ")\n",
    "indicators_ptf.update_layout(paper_bgcolor=\"#272b30\")"
   ]
  },
  {
   "cell_type": "code",
   "execution_count": null,
   "metadata": {
    "scrolled": true
   },
   "outputs": [
    {
     "data": {
      "application/vnd.plotly.v1+json": {
       "config": {
        "plotlyServerURL": "https://plot.ly"
       },
       "data": [
        {
         "domain": {
          "column": 0,
          "row": 0
         },
         "mode": "number+delta",
         "number": {
          "suffix": " %"
         },
         "title": {
          "text": "<br><span style='font-size:0.7em;color:gray'>7 Days</span>"
         },
         "type": "indicator",
         "value": -3.24
        },
        {
         "domain": {
          "column": 0,
          "row": 1
         },
         "mode": "number+delta",
         "number": {
          "suffix": " %"
         },
         "title": {
          "text": "<span style='font-size:0.7em;color:gray'>15 Days</span>"
         },
         "type": "indicator",
         "value": -2.37
        },
        {
         "domain": {
          "column": 0,
          "row": 2
         },
         "mode": "number+delta",
         "number": {
          "suffix": " %"
         },
         "title": {
          "text": "<span style='font-size:0.7em;color:gray'>30 Days</span>"
         },
         "type": "indicator",
         "value": -0.25
        },
        {
         "domain": {
          "column": 1,
          "row": 3
         },
         "mode": "number+delta",
         "number": {
          "suffix": " %"
         },
         "title": {
          "text": "<span style='font-size:0.7em;color:gray'>200 Days</span>"
         },
         "type": "indicator",
         "value": 16.3
        }
       ],
       "layout": {
        "grid": {
         "columns": 1,
         "pattern": "independent",
         "rows": 4
        },
        "margin": {
         "b": 30,
         "l": 50,
         "r": 50,
         "t": 30
        },
        "paper_bgcolor": "#272b30",
        "template": {
         "data": {
          "bar": [
           {
            "error_x": {
             "color": "#f2f5fa"
            },
            "error_y": {
             "color": "#f2f5fa"
            },
            "marker": {
             "line": {
              "color": "rgb(17,17,17)",
              "width": 0.5
             },
             "pattern": {
              "fillmode": "overlay",
              "size": 10,
              "solidity": 0.2
             }
            },
            "type": "bar"
           }
          ],
          "barpolar": [
           {
            "marker": {
             "line": {
              "color": "rgb(17,17,17)",
              "width": 0.5
             },
             "pattern": {
              "fillmode": "overlay",
              "size": 10,
              "solidity": 0.2
             }
            },
            "type": "barpolar"
           }
          ],
          "carpet": [
           {
            "aaxis": {
             "endlinecolor": "#A2B1C6",
             "gridcolor": "#506784",
             "linecolor": "#506784",
             "minorgridcolor": "#506784",
             "startlinecolor": "#A2B1C6"
            },
            "baxis": {
             "endlinecolor": "#A2B1C6",
             "gridcolor": "#506784",
             "linecolor": "#506784",
             "minorgridcolor": "#506784",
             "startlinecolor": "#A2B1C6"
            },
            "type": "carpet"
           }
          ],
          "choropleth": [
           {
            "colorbar": {
             "outlinewidth": 0,
             "ticks": ""
            },
            "type": "choropleth"
           }
          ],
          "contour": [
           {
            "colorbar": {
             "outlinewidth": 0,
             "ticks": ""
            },
            "colorscale": [
             [
              0,
              "#0d0887"
             ],
             [
              0.1111111111111111,
              "#46039f"
             ],
             [
              0.2222222222222222,
              "#7201a8"
             ],
             [
              0.3333333333333333,
              "#9c179e"
             ],
             [
              0.4444444444444444,
              "#bd3786"
             ],
             [
              0.5555555555555556,
              "#d8576b"
             ],
             [
              0.6666666666666666,
              "#ed7953"
             ],
             [
              0.7777777777777778,
              "#fb9f3a"
             ],
             [
              0.8888888888888888,
              "#fdca26"
             ],
             [
              1,
              "#f0f921"
             ]
            ],
            "type": "contour"
           }
          ],
          "contourcarpet": [
           {
            "colorbar": {
             "outlinewidth": 0,
             "ticks": ""
            },
            "type": "contourcarpet"
           }
          ],
          "heatmap": [
           {
            "colorbar": {
             "outlinewidth": 0,
             "ticks": ""
            },
            "colorscale": [
             [
              0,
              "#0d0887"
             ],
             [
              0.1111111111111111,
              "#46039f"
             ],
             [
              0.2222222222222222,
              "#7201a8"
             ],
             [
              0.3333333333333333,
              "#9c179e"
             ],
             [
              0.4444444444444444,
              "#bd3786"
             ],
             [
              0.5555555555555556,
              "#d8576b"
             ],
             [
              0.6666666666666666,
              "#ed7953"
             ],
             [
              0.7777777777777778,
              "#fb9f3a"
             ],
             [
              0.8888888888888888,
              "#fdca26"
             ],
             [
              1,
              "#f0f921"
             ]
            ],
            "type": "heatmap"
           }
          ],
          "heatmapgl": [
           {
            "colorbar": {
             "outlinewidth": 0,
             "ticks": ""
            },
            "colorscale": [
             [
              0,
              "#0d0887"
             ],
             [
              0.1111111111111111,
              "#46039f"
             ],
             [
              0.2222222222222222,
              "#7201a8"
             ],
             [
              0.3333333333333333,
              "#9c179e"
             ],
             [
              0.4444444444444444,
              "#bd3786"
             ],
             [
              0.5555555555555556,
              "#d8576b"
             ],
             [
              0.6666666666666666,
              "#ed7953"
             ],
             [
              0.7777777777777778,
              "#fb9f3a"
             ],
             [
              0.8888888888888888,
              "#fdca26"
             ],
             [
              1,
              "#f0f921"
             ]
            ],
            "type": "heatmapgl"
           }
          ],
          "histogram": [
           {
            "marker": {
             "pattern": {
              "fillmode": "overlay",
              "size": 10,
              "solidity": 0.2
             }
            },
            "type": "histogram"
           }
          ],
          "histogram2d": [
           {
            "colorbar": {
             "outlinewidth": 0,
             "ticks": ""
            },
            "colorscale": [
             [
              0,
              "#0d0887"
             ],
             [
              0.1111111111111111,
              "#46039f"
             ],
             [
              0.2222222222222222,
              "#7201a8"
             ],
             [
              0.3333333333333333,
              "#9c179e"
             ],
             [
              0.4444444444444444,
              "#bd3786"
             ],
             [
              0.5555555555555556,
              "#d8576b"
             ],
             [
              0.6666666666666666,
              "#ed7953"
             ],
             [
              0.7777777777777778,
              "#fb9f3a"
             ],
             [
              0.8888888888888888,
              "#fdca26"
             ],
             [
              1,
              "#f0f921"
             ]
            ],
            "type": "histogram2d"
           }
          ],
          "histogram2dcontour": [
           {
            "colorbar": {
             "outlinewidth": 0,
             "ticks": ""
            },
            "colorscale": [
             [
              0,
              "#0d0887"
             ],
             [
              0.1111111111111111,
              "#46039f"
             ],
             [
              0.2222222222222222,
              "#7201a8"
             ],
             [
              0.3333333333333333,
              "#9c179e"
             ],
             [
              0.4444444444444444,
              "#bd3786"
             ],
             [
              0.5555555555555556,
              "#d8576b"
             ],
             [
              0.6666666666666666,
              "#ed7953"
             ],
             [
              0.7777777777777778,
              "#fb9f3a"
             ],
             [
              0.8888888888888888,
              "#fdca26"
             ],
             [
              1,
              "#f0f921"
             ]
            ],
            "type": "histogram2dcontour"
           }
          ],
          "mesh3d": [
           {
            "colorbar": {
             "outlinewidth": 0,
             "ticks": ""
            },
            "type": "mesh3d"
           }
          ],
          "parcoords": [
           {
            "line": {
             "colorbar": {
              "outlinewidth": 0,
              "ticks": ""
             }
            },
            "type": "parcoords"
           }
          ],
          "pie": [
           {
            "automargin": true,
            "type": "pie"
           }
          ],
          "scatter": [
           {
            "marker": {
             "line": {
              "color": "#283442"
             }
            },
            "type": "scatter"
           }
          ],
          "scatter3d": [
           {
            "line": {
             "colorbar": {
              "outlinewidth": 0,
              "ticks": ""
             }
            },
            "marker": {
             "colorbar": {
              "outlinewidth": 0,
              "ticks": ""
             }
            },
            "type": "scatter3d"
           }
          ],
          "scattercarpet": [
           {
            "marker": {
             "colorbar": {
              "outlinewidth": 0,
              "ticks": ""
             }
            },
            "type": "scattercarpet"
           }
          ],
          "scattergeo": [
           {
            "marker": {
             "colorbar": {
              "outlinewidth": 0,
              "ticks": ""
             }
            },
            "type": "scattergeo"
           }
          ],
          "scattergl": [
           {
            "marker": {
             "line": {
              "color": "#283442"
             }
            },
            "type": "scattergl"
           }
          ],
          "scattermapbox": [
           {
            "marker": {
             "colorbar": {
              "outlinewidth": 0,
              "ticks": ""
             }
            },
            "type": "scattermapbox"
           }
          ],
          "scatterpolar": [
           {
            "marker": {
             "colorbar": {
              "outlinewidth": 0,
              "ticks": ""
             }
            },
            "type": "scatterpolar"
           }
          ],
          "scatterpolargl": [
           {
            "marker": {
             "colorbar": {
              "outlinewidth": 0,
              "ticks": ""
             }
            },
            "type": "scatterpolargl"
           }
          ],
          "scatterternary": [
           {
            "marker": {
             "colorbar": {
              "outlinewidth": 0,
              "ticks": ""
             }
            },
            "type": "scatterternary"
           }
          ],
          "surface": [
           {
            "colorbar": {
             "outlinewidth": 0,
             "ticks": ""
            },
            "colorscale": [
             [
              0,
              "#0d0887"
             ],
             [
              0.1111111111111111,
              "#46039f"
             ],
             [
              0.2222222222222222,
              "#7201a8"
             ],
             [
              0.3333333333333333,
              "#9c179e"
             ],
             [
              0.4444444444444444,
              "#bd3786"
             ],
             [
              0.5555555555555556,
              "#d8576b"
             ],
             [
              0.6666666666666666,
              "#ed7953"
             ],
             [
              0.7777777777777778,
              "#fb9f3a"
             ],
             [
              0.8888888888888888,
              "#fdca26"
             ],
             [
              1,
              "#f0f921"
             ]
            ],
            "type": "surface"
           }
          ],
          "table": [
           {
            "cells": {
             "fill": {
              "color": "#506784"
             },
             "line": {
              "color": "rgb(17,17,17)"
             }
            },
            "header": {
             "fill": {
              "color": "#2a3f5f"
             },
             "line": {
              "color": "rgb(17,17,17)"
             }
            },
            "type": "table"
           }
          ]
         },
         "layout": {
          "annotationdefaults": {
           "arrowcolor": "#f2f5fa",
           "arrowhead": 0,
           "arrowwidth": 1
          },
          "autotypenumbers": "strict",
          "coloraxis": {
           "colorbar": {
            "outlinewidth": 0,
            "ticks": ""
           }
          },
          "colorscale": {
           "diverging": [
            [
             0,
             "#8e0152"
            ],
            [
             0.1,
             "#c51b7d"
            ],
            [
             0.2,
             "#de77ae"
            ],
            [
             0.3,
             "#f1b6da"
            ],
            [
             0.4,
             "#fde0ef"
            ],
            [
             0.5,
             "#f7f7f7"
            ],
            [
             0.6,
             "#e6f5d0"
            ],
            [
             0.7,
             "#b8e186"
            ],
            [
             0.8,
             "#7fbc41"
            ],
            [
             0.9,
             "#4d9221"
            ],
            [
             1,
             "#276419"
            ]
           ],
           "sequential": [
            [
             0,
             "#0d0887"
            ],
            [
             0.1111111111111111,
             "#46039f"
            ],
            [
             0.2222222222222222,
             "#7201a8"
            ],
            [
             0.3333333333333333,
             "#9c179e"
            ],
            [
             0.4444444444444444,
             "#bd3786"
            ],
            [
             0.5555555555555556,
             "#d8576b"
            ],
            [
             0.6666666666666666,
             "#ed7953"
            ],
            [
             0.7777777777777778,
             "#fb9f3a"
            ],
            [
             0.8888888888888888,
             "#fdca26"
            ],
            [
             1,
             "#f0f921"
            ]
           ],
           "sequentialminus": [
            [
             0,
             "#0d0887"
            ],
            [
             0.1111111111111111,
             "#46039f"
            ],
            [
             0.2222222222222222,
             "#7201a8"
            ],
            [
             0.3333333333333333,
             "#9c179e"
            ],
            [
             0.4444444444444444,
             "#bd3786"
            ],
            [
             0.5555555555555556,
             "#d8576b"
            ],
            [
             0.6666666666666666,
             "#ed7953"
            ],
            [
             0.7777777777777778,
             "#fb9f3a"
            ],
            [
             0.8888888888888888,
             "#fdca26"
            ],
            [
             1,
             "#f0f921"
            ]
           ]
          },
          "colorway": [
           "#636efa",
           "#EF553B",
           "#00cc96",
           "#ab63fa",
           "#FFA15A",
           "#19d3f3",
           "#FF6692",
           "#B6E880",
           "#FF97FF",
           "#FECB52"
          ],
          "font": {
           "color": "#f2f5fa"
          },
          "geo": {
           "bgcolor": "rgb(17,17,17)",
           "lakecolor": "rgb(17,17,17)",
           "landcolor": "rgb(17,17,17)",
           "showlakes": true,
           "showland": true,
           "subunitcolor": "#506784"
          },
          "hoverlabel": {
           "align": "left"
          },
          "hovermode": "closest",
          "mapbox": {
           "style": "dark"
          },
          "paper_bgcolor": "rgb(17,17,17)",
          "plot_bgcolor": "rgb(17,17,17)",
          "polar": {
           "angularaxis": {
            "gridcolor": "#506784",
            "linecolor": "#506784",
            "ticks": ""
           },
           "bgcolor": "rgb(17,17,17)",
           "radialaxis": {
            "gridcolor": "#506784",
            "linecolor": "#506784",
            "ticks": ""
           }
          },
          "scene": {
           "xaxis": {
            "backgroundcolor": "rgb(17,17,17)",
            "gridcolor": "#506784",
            "gridwidth": 2,
            "linecolor": "#506784",
            "showbackground": true,
            "ticks": "",
            "zerolinecolor": "#C8D4E3"
           },
           "yaxis": {
            "backgroundcolor": "rgb(17,17,17)",
            "gridcolor": "#506784",
            "gridwidth": 2,
            "linecolor": "#506784",
            "showbackground": true,
            "ticks": "",
            "zerolinecolor": "#C8D4E3"
           },
           "zaxis": {
            "backgroundcolor": "rgb(17,17,17)",
            "gridcolor": "#506784",
            "gridwidth": 2,
            "linecolor": "#506784",
            "showbackground": true,
            "ticks": "",
            "zerolinecolor": "#C8D4E3"
           }
          },
          "shapedefaults": {
           "line": {
            "color": "#f2f5fa"
           }
          },
          "sliderdefaults": {
           "bgcolor": "#C8D4E3",
           "bordercolor": "rgb(17,17,17)",
           "borderwidth": 1,
           "tickwidth": 0
          },
          "ternary": {
           "aaxis": {
            "gridcolor": "#506784",
            "linecolor": "#506784",
            "ticks": ""
           },
           "baxis": {
            "gridcolor": "#506784",
            "linecolor": "#506784",
            "ticks": ""
           },
           "bgcolor": "rgb(17,17,17)",
           "caxis": {
            "gridcolor": "#506784",
            "linecolor": "#506784",
            "ticks": ""
           }
          },
          "title": {
           "x": 0.05
          },
          "updatemenudefaults": {
           "bgcolor": "#506784",
           "borderwidth": 0
          },
          "xaxis": {
           "automargin": true,
           "gridcolor": "#283442",
           "linecolor": "#506784",
           "ticks": "",
           "title": {
            "standoff": 15
           },
           "zerolinecolor": "#283442",
           "zerolinewidth": 2
          },
          "yaxis": {
           "automargin": true,
           "gridcolor": "#283442",
           "linecolor": "#506784",
           "ticks": "",
           "title": {
            "standoff": 15
           },
           "zerolinecolor": "#283442",
           "zerolinewidth": 2
          }
         }
        }
       }
      }
     },
     "metadata": {},
     "output_type": "display_data"
    }
   ],
   "source": [
    "indicators_sp500 = go.Figure()\n",
    "indicators_sp500.layout.template = CHART_THEME\n",
    "indicators_sp500.add_trace(go.Indicator(\n",
    "    mode = \"number+delta\",\n",
    "    value = kpi_sp500_7d_pct,\n",
    "    number = {'suffix': \" %\"},\n",
    "    title = {\"text\": \"<br><span style='font-size:0.7em;color:gray'>7 Days</span>\"},\n",
    "    domain = {'row': 0, 'column': 0}))\n",
    "\n",
    "indicators_sp500.add_trace(go.Indicator(\n",
    "    mode = \"number+delta\",\n",
    "    value = kpi_sp500_15d_pct,\n",
    "    number = {'suffix': \" %\"},\n",
    "    title = {\"text\": \"<span style='font-size:0.7em;color:gray'>15 Days</span>\"},\n",
    "    domain = {'row': 1, 'column': 0}))\n",
    "\n",
    "indicators_sp500.add_trace(go.Indicator(\n",
    "    mode = \"number+delta\",\n",
    "    value = kpi_sp500_30d_pct,\n",
    "    number = {'suffix': \" %\"},\n",
    "    title = {\"text\": \"<span style='font-size:0.7em;color:gray'>30 Days</span>\"},\n",
    "    domain = {'row': 2, 'column': 0}))\n",
    "\n",
    "indicators_sp500.add_trace(go.Indicator(\n",
    "    mode = \"number+delta\",\n",
    "    value = kpi_sp500_200d_pct,\n",
    "    number = {'suffix': \" %\"},\n",
    "    title = {\"text\": \"<span style='font-size:0.7em;color:gray'>200 Days</span>\"},\n",
    "    domain = {'row': 3, 'column': 1}))\n",
    "\n",
    "indicators_sp500.update_layout(\n",
    "    grid = {'rows': 4, 'columns': 1, 'pattern': \"independent\"},\n",
    "    margin=dict(l=50, r=50, t=30, b=30)\n",
    ")\n",
    "\n",
    "indicators_sp500.update_layout(paper_bgcolor=\"#272b30\")"
   ]
  },
  {
   "cell_type": "code",
   "execution_count": null,
   "metadata": {},
   "outputs": [],
   "source": []
  },
  {
   "cell_type": "code",
   "execution_count": null,
   "metadata": {},
   "outputs": [],
   "source": []
  },
  {
   "cell_type": "code",
   "execution_count": null,
   "metadata": {},
   "outputs": [],
   "source": []
  },
  {
   "cell_type": "markdown",
   "metadata": {},
   "source": [
    "## Sunburst Part"
   ]
  },
  {
   "cell_type": "code",
   "execution_count": 159,
   "metadata": {},
   "outputs": [
    {
     "name": "stderr",
     "output_type": "stream",
     "text": [
      "/var/folders/z3/b5316dvd1psddj2gngyct7jw0000gn/T/ipykernel_2446/891280204.py:4: FutureWarning:\n",
      "\n",
      "Series.__getitem__ treating keys as positions is deprecated. In a future version, integer keys will always be treated as labels (consistent with DataFrame behavior). To access a value by position, use `ser.iloc[pos]`\n",
      "\n"
     ]
    }
   ],
   "source": [
    "levels = ['ticker', 'industry', 'sector'] # levels used for the hierarchical chart\n",
    "color_columns = ['current_value', 'cml_cost']\n",
    "value_column = 'current_value'\n",
    "current_ptfvalue = \"${:,.2f}\".format(portf_allvalues.portf_value[-1]) # To use later with Dash"
   ]
  },
  {
   "cell_type": "code",
   "execution_count": 160,
   "metadata": {},
   "outputs": [],
   "source": [
    "def build_hierarchical_dataframe(df, levels, value_column, color_columns=None, total_name='total'):\n",
    "    \"\"\"\n",
    "    Build a hierarchy of levels for Sunburst or Treemap charts.\n",
    "\n",
    "    Levels are given starting from the bottom to the top of the hierarchy,\n",
    "    ie the last level corresponds to the root.\n",
    "    \"\"\"\n",
    "    df_all_trees = pd.DataFrame(columns=['id', 'parent', 'value', 'color'])\n",
    "    for i, level in enumerate(levels):\n",
    "        df_tree = pd.DataFrame(columns=['id', 'parent', 'value', 'color'])\n",
    "        dfg = df.groupby(levels[i:]).sum()\n",
    "        dfg = dfg.reset_index()\n",
    "        df_tree['id'] = dfg[level].copy()\n",
    "        if i < len(levels) - 1:\n",
    "            df_tree['parent'] = dfg[levels[i+1]].copy()\n",
    "        else:\n",
    "            df_tree['parent'] = total_name\n",
    "        df_tree['value'] = dfg[value_column]\n",
    "        df_tree['color'] = round((dfg[color_columns[0]] / dfg[color_columns[1]]-1)*100, 2)\n",
    "        df_all_trees = pd.concat([df_all_trees, pd.DataFrame(df_tree)], ignore_index=True)\n",
    "    total = pd.Series(dict(id=total_name, parent='',\n",
    "                              value=df[value_column].sum(),\n",
    "                              color=100*round(df[color_columns[0]].sum() / df[color_columns[1]].sum()-1,2)))\n",
    "    df_all_trees = pd.concat([df_all_trees, pd.DataFrame(total)], ignore_index=True)\n",
    "    return df_all_trees"
   ]
  },
  {
   "cell_type": "code",
   "execution_count": 161,
   "metadata": {},
   "outputs": [
    {
     "name": "stderr",
     "output_type": "stream",
     "text": [
      "/var/folders/z3/b5316dvd1psddj2gngyct7jw0000gn/T/ipykernel_2446/1819858195.py:20: FutureWarning:\n",
      "\n",
      "The behavior of DataFrame concatenation with empty or all-NA entries is deprecated. In a future version, this will no longer exclude empty or all-NA columns when determining the result dtypes. To retain the old behavior, exclude the relevant entries before the concat operation.\n",
      "\n"
     ]
    }
   ],
   "source": [
    "df_all_trees = build_hierarchical_dataframe(current_positions, levels, value_column, color_columns, total_name='Portfolio')"
   ]
  },
  {
   "cell_type": "code",
   "execution_count": 162,
   "metadata": {
    "scrolled": false
   },
   "outputs": [
    {
     "data": {
      "text/html": [
       "<div>\n",
       "<style scoped>\n",
       "    .dataframe tbody tr th:only-of-type {\n",
       "        vertical-align: middle;\n",
       "    }\n",
       "\n",
       "    .dataframe tbody tr th {\n",
       "        vertical-align: top;\n",
       "    }\n",
       "\n",
       "    .dataframe thead th {\n",
       "        text-align: right;\n",
       "    }\n",
       "</style>\n",
       "<table border=\"1\" class=\"dataframe\">\n",
       "  <thead>\n",
       "    <tr style=\"text-align: right;\">\n",
       "      <th></th>\n",
       "      <th>id</th>\n",
       "      <th>parent</th>\n",
       "      <th>value</th>\n",
       "      <th>color</th>\n",
       "      <th>0</th>\n",
       "    </tr>\n",
       "  </thead>\n",
       "  <tbody>\n",
       "    <tr>\n",
       "      <th>67</th>\n",
       "      <td>Other Industrial Metals &amp; Mining</td>\n",
       "      <td>Basic Materials</td>\n",
       "      <td>1614.30</td>\n",
       "      <td>73.34</td>\n",
       "      <td>NaN</td>\n",
       "    </tr>\n",
       "    <tr>\n",
       "      <th>68</th>\n",
       "      <td>REIT - Diversified</td>\n",
       "      <td>Real Estate</td>\n",
       "      <td>1544.42</td>\n",
       "      <td>23.29</td>\n",
       "      <td>NaN</td>\n",
       "    </tr>\n",
       "    <tr>\n",
       "      <th>69</th>\n",
       "      <td>Resorts &amp; Casinos</td>\n",
       "      <td>Consumer Cyclical</td>\n",
       "      <td>1606.80</td>\n",
       "      <td>73.75</td>\n",
       "      <td>NaN</td>\n",
       "    </tr>\n",
       "    <tr>\n",
       "      <th>70</th>\n",
       "      <td>Restaurants</td>\n",
       "      <td>Consumer Cyclical</td>\n",
       "      <td>1371.32</td>\n",
       "      <td>27.51</td>\n",
       "      <td>NaN</td>\n",
       "    </tr>\n",
       "    <tr>\n",
       "      <th>71</th>\n",
       "      <td>Semiconductors</td>\n",
       "      <td>Technology</td>\n",
       "      <td>9526.26</td>\n",
       "      <td>118.00</td>\n",
       "      <td>NaN</td>\n",
       "    </tr>\n",
       "    <tr>\n",
       "      <th>72</th>\n",
       "      <td>Software - Application</td>\n",
       "      <td>Technology</td>\n",
       "      <td>9680.58</td>\n",
       "      <td>21.35</td>\n",
       "      <td>NaN</td>\n",
       "    </tr>\n",
       "    <tr>\n",
       "      <th>73</th>\n",
       "      <td>Software - Infrastructure</td>\n",
       "      <td>Technology</td>\n",
       "      <td>4483.48</td>\n",
       "      <td>55.68</td>\n",
       "      <td>NaN</td>\n",
       "    </tr>\n",
       "    <tr>\n",
       "      <th>74</th>\n",
       "      <td>Solar</td>\n",
       "      <td>Technology</td>\n",
       "      <td>1438.20</td>\n",
       "      <td>-37.04</td>\n",
       "      <td>NaN</td>\n",
       "    </tr>\n",
       "    <tr>\n",
       "      <th>75</th>\n",
       "      <td>Specialty Business Services</td>\n",
       "      <td>Industrials</td>\n",
       "      <td>259.50</td>\n",
       "      <td>-73.33</td>\n",
       "      <td>NaN</td>\n",
       "    </tr>\n",
       "    <tr>\n",
       "      <th>76</th>\n",
       "      <td>Specialty Industrial Machinery</td>\n",
       "      <td>Industrials</td>\n",
       "      <td>2071.08</td>\n",
       "      <td>-4.62</td>\n",
       "      <td>NaN</td>\n",
       "    </tr>\n",
       "    <tr>\n",
       "      <th>77</th>\n",
       "      <td>Tobacco</td>\n",
       "      <td>Consumer Defensive</td>\n",
       "      <td>2196.00</td>\n",
       "      <td>3.90</td>\n",
       "      <td>NaN</td>\n",
       "    </tr>\n",
       "    <tr>\n",
       "      <th>78</th>\n",
       "      <td>Basic Materials</td>\n",
       "      <td>Portfolio</td>\n",
       "      <td>1614.30</td>\n",
       "      <td>73.34</td>\n",
       "      <td>NaN</td>\n",
       "    </tr>\n",
       "    <tr>\n",
       "      <th>79</th>\n",
       "      <td>Communication Services</td>\n",
       "      <td>Portfolio</td>\n",
       "      <td>14477.89</td>\n",
       "      <td>64.31</td>\n",
       "      <td>NaN</td>\n",
       "    </tr>\n",
       "    <tr>\n",
       "      <th>80</th>\n",
       "      <td>Consumer Cyclical</td>\n",
       "      <td>Portfolio</td>\n",
       "      <td>21662.49</td>\n",
       "      <td>58.23</td>\n",
       "      <td>NaN</td>\n",
       "    </tr>\n",
       "    <tr>\n",
       "      <th>81</th>\n",
       "      <td>Consumer Defensive</td>\n",
       "      <td>Portfolio</td>\n",
       "      <td>3571.10</td>\n",
       "      <td>6.41</td>\n",
       "      <td>NaN</td>\n",
       "    </tr>\n",
       "    <tr>\n",
       "      <th>82</th>\n",
       "      <td>Energy</td>\n",
       "      <td>Portfolio</td>\n",
       "      <td>2059.38</td>\n",
       "      <td>28.13</td>\n",
       "      <td>NaN</td>\n",
       "    </tr>\n",
       "    <tr>\n",
       "      <th>83</th>\n",
       "      <td>Financial</td>\n",
       "      <td>Portfolio</td>\n",
       "      <td>4853.95</td>\n",
       "      <td>69.80</td>\n",
       "      <td>NaN</td>\n",
       "    </tr>\n",
       "    <tr>\n",
       "      <th>84</th>\n",
       "      <td>Healthcare</td>\n",
       "      <td>Portfolio</td>\n",
       "      <td>3962.83</td>\n",
       "      <td>90.30</td>\n",
       "      <td>NaN</td>\n",
       "    </tr>\n",
       "    <tr>\n",
       "      <th>85</th>\n",
       "      <td>Industrials</td>\n",
       "      <td>Portfolio</td>\n",
       "      <td>7453.15</td>\n",
       "      <td>1.41</td>\n",
       "      <td>NaN</td>\n",
       "    </tr>\n",
       "    <tr>\n",
       "      <th>86</th>\n",
       "      <td>Real Estate</td>\n",
       "      <td>Portfolio</td>\n",
       "      <td>1544.42</td>\n",
       "      <td>23.29</td>\n",
       "      <td>NaN</td>\n",
       "    </tr>\n",
       "    <tr>\n",
       "      <th>87</th>\n",
       "      <td>Technology</td>\n",
       "      <td>Portfolio</td>\n",
       "      <td>32770.38</td>\n",
       "      <td>49.57</td>\n",
       "      <td>NaN</td>\n",
       "    </tr>\n",
       "    <tr>\n",
       "      <th>88</th>\n",
       "      <td>NaN</td>\n",
       "      <td>NaN</td>\n",
       "      <td>NaN</td>\n",
       "      <td>NaN</td>\n",
       "      <td>Portfolio</td>\n",
       "    </tr>\n",
       "    <tr>\n",
       "      <th>89</th>\n",
       "      <td>NaN</td>\n",
       "      <td>NaN</td>\n",
       "      <td>NaN</td>\n",
       "      <td>NaN</td>\n",
       "      <td></td>\n",
       "    </tr>\n",
       "    <tr>\n",
       "      <th>90</th>\n",
       "      <td>NaN</td>\n",
       "      <td>NaN</td>\n",
       "      <td>NaN</td>\n",
       "      <td>NaN</td>\n",
       "      <td>93969.89</td>\n",
       "    </tr>\n",
       "    <tr>\n",
       "      <th>91</th>\n",
       "      <td>NaN</td>\n",
       "      <td>NaN</td>\n",
       "      <td>NaN</td>\n",
       "      <td>NaN</td>\n",
       "      <td>47.0</td>\n",
       "    </tr>\n",
       "  </tbody>\n",
       "</table>\n",
       "</div>"
      ],
      "text/plain": [
       "                                  id              parent     value   color  \\\n",
       "67  Other Industrial Metals & Mining     Basic Materials   1614.30   73.34   \n",
       "68                REIT - Diversified         Real Estate   1544.42   23.29   \n",
       "69                 Resorts & Casinos   Consumer Cyclical   1606.80   73.75   \n",
       "70                       Restaurants   Consumer Cyclical   1371.32   27.51   \n",
       "71                    Semiconductors          Technology   9526.26  118.00   \n",
       "72            Software - Application          Technology   9680.58   21.35   \n",
       "73         Software - Infrastructure          Technology   4483.48   55.68   \n",
       "74                             Solar          Technology   1438.20  -37.04   \n",
       "75       Specialty Business Services         Industrials    259.50  -73.33   \n",
       "76    Specialty Industrial Machinery         Industrials   2071.08   -4.62   \n",
       "77                           Tobacco  Consumer Defensive   2196.00    3.90   \n",
       "78                   Basic Materials           Portfolio   1614.30   73.34   \n",
       "79            Communication Services           Portfolio  14477.89   64.31   \n",
       "80                 Consumer Cyclical           Portfolio  21662.49   58.23   \n",
       "81                Consumer Defensive           Portfolio   3571.10    6.41   \n",
       "82                            Energy           Portfolio   2059.38   28.13   \n",
       "83                         Financial           Portfolio   4853.95   69.80   \n",
       "84                        Healthcare           Portfolio   3962.83   90.30   \n",
       "85                       Industrials           Portfolio   7453.15    1.41   \n",
       "86                       Real Estate           Portfolio   1544.42   23.29   \n",
       "87                        Technology           Portfolio  32770.38   49.57   \n",
       "88                               NaN                 NaN       NaN     NaN   \n",
       "89                               NaN                 NaN       NaN     NaN   \n",
       "90                               NaN                 NaN       NaN     NaN   \n",
       "91                               NaN                 NaN       NaN     NaN   \n",
       "\n",
       "            0  \n",
       "67        NaN  \n",
       "68        NaN  \n",
       "69        NaN  \n",
       "70        NaN  \n",
       "71        NaN  \n",
       "72        NaN  \n",
       "73        NaN  \n",
       "74        NaN  \n",
       "75        NaN  \n",
       "76        NaN  \n",
       "77        NaN  \n",
       "78        NaN  \n",
       "79        NaN  \n",
       "80        NaN  \n",
       "81        NaN  \n",
       "82        NaN  \n",
       "83        NaN  \n",
       "84        NaN  \n",
       "85        NaN  \n",
       "86        NaN  \n",
       "87        NaN  \n",
       "88  Portfolio  \n",
       "89             \n",
       "90   93969.89  \n",
       "91       47.0  "
      ]
     },
     "execution_count": 162,
     "metadata": {},
     "output_type": "execute_result"
    }
   ],
   "source": [
    "df_all_trees.tail(25)"
   ]
  },
  {
   "cell_type": "code",
   "execution_count": 163,
   "metadata": {},
   "outputs": [],
   "source": [
    "average_score = current_positions['current_value'].sum() / current_positions['cml_cost'].sum()-1"
   ]
  },
  {
   "cell_type": "code",
   "execution_count": 164,
   "metadata": {},
   "outputs": [
    {
     "data": {
      "text/plain": [
       "0.47173558031821905"
      ]
     },
     "execution_count": 164,
     "metadata": {},
     "output_type": "execute_result"
    }
   ],
   "source": [
    "average_score"
   ]
  },
  {
   "cell_type": "code",
   "execution_count": 165,
   "metadata": {
    "scrolled": false
   },
   "outputs": [
    {
     "data": {
      "application/vnd.plotly.v1+json": {
       "config": {
        "plotlyServerURL": "https://plot.ly"
       },
       "data": [
        {
         "branchvalues": "total",
         "domain": {
          "x": [
           0,
           0.45
          ],
          "y": [
           0,
           1
          ]
         },
         "hovertemplate": "<b>%{label} </b> <br> Size: $ %{value}<br> Variation: %{color:.2f}%",
         "labels": [
          "AAPL",
          "AMD",
          "AMZN",
          "BA",
          "CSCO",
          "CVS",
          "CVX",
          "DIS",
          "DKNG",
          "DOCU",
          "FB",
          "FDX",
          "FVRR",
          "GOOGL",
          "IBM",
          "INTC",
          "JNJ",
          "JPM",
          "MCD",
          "MGM",
          "MMM",
          "MO",
          "MRNA",
          "MSFT",
          "NFLX",
          "NIO",
          "NKLA",
          "NVDA",
          "NWS",
          "PAYS",
          "PLL",
          "PLTR",
          "PLUG",
          "PTON",
          "PYPL",
          "RIOT",
          "RUN",
          "SHOP",
          "STOR",
          "SYF",
          "TSLA",
          "TTD",
          "TWTR",
          "VIAC",
          "WMT",
          "ZEN",
          "ZI",
          "Aerospace & Defense",
          "Auto Manufacturers",
          "Banks - Diversified",
          "Biotechnology",
          "Broadcasting",
          "Communication Equipment",
          "Consumer Electronics",
          "Credit Services",
          "Discount Stores",
          "Drug Manufacturers - General",
          "Electrical Equipment & Parts",
          "Entertainment",
          "Gambling",
          "Healthcare Plans",
          "Information Technology Services",
          "Integrated Freight & Logistics",
          "Internet Content & Information",
          "Internet Retail",
          "Leisure",
          "Oil & Gas Integrated",
          "Other Industrial Metals & Mining",
          "REIT - Diversified",
          "Resorts & Casinos",
          "Restaurants",
          "Semiconductors",
          "Software - Application",
          "Software - Infrastructure",
          "Solar",
          "Specialty Business Services",
          "Specialty Industrial Machinery",
          "Tobacco",
          "Basic Materials",
          "Communication Services",
          "Consumer Cyclical",
          "Consumer Defensive",
          "Energy",
          "Financial",
          "Healthcare",
          "Industrials",
          "Real Estate",
          "Technology",
          null,
          null,
          null,
          null
         ],
         "marker": {
          "cmid": 0.47173558031821905,
          "colors": [
           112.96,
           166.69,
           32.17,
           -5.85,
           43.74,
           66.15,
           28.13,
           36.71,
           -27.78,
           -44.89,
           69.88,
           5.79,
           104.75,
           87.29,
           -4.38,
           -13.22,
           22.79,
           62.3,
           27.51,
           73.75,
           -4.62,
           3.9,
           356.7,
           90.6,
           18.84,
           13.9,
           -72.16,
           316.88,
           140.86,
           -73.33,
           73.34,
           -28.24,
           99.71,
           -7.15,
           67.22,
           -0.43,
           -37.04,
           74.87,
           23.29,
           94.38,
           297.73,
           193.76,
           26.12,
           97.77,
           10.69,
           19.34,
           49.65,
           -5.85,
           113.14,
           62.3,
           356.7,
           140.86,
           43.74,
           112.96,
           74.31,
           10.69,
           22.79,
           99.71,
           41.4,
           -27.78,
           66.15,
           -4.38,
           5.79,
           73.06,
           41.06,
           -7.15,
           28.13,
           73.34,
           23.29,
           73.75,
           27.51,
           118,
           21.35,
           55.68,
           -37.04,
           -73.33,
           -4.62,
           3.9,
           73.34,
           64.31,
           58.23,
           6.41,
           28.13,
           69.8,
           90.3,
           1.41,
           23.29,
           49.57,
           null,
           null,
           null,
           null
          ],
          "colorscale": [
           [
            0,
            "rgb(84,48,5)"
           ],
           [
            0.1,
            "rgb(140,81,10)"
           ],
           [
            0.2,
            "rgb(191,129,45)"
           ],
           [
            0.3,
            "rgb(223,194,125)"
           ],
           [
            0.4,
            "rgb(246,232,195)"
           ],
           [
            0.5,
            "rgb(245,245,245)"
           ],
           [
            0.6,
            "rgb(199,234,229)"
           ],
           [
            0.7,
            "rgb(128,205,193)"
           ],
           [
            0.8,
            "rgb(53,151,143)"
           ],
           [
            0.9,
            "rgb(1,102,94)"
           ],
           [
            1,
            "rgb(0,60,48)"
           ]
          ]
         },
         "name": "",
         "parents": [
          "Consumer Electronics",
          "Semiconductors",
          "Internet Retail",
          "Aerospace & Defense",
          "Communication Equipment",
          "Healthcare Plans",
          "Oil & Gas Integrated",
          "Entertainment",
          "Gambling",
          "Software - Application",
          "Internet Content & Information",
          "Integrated Freight & Logistics",
          "Internet Retail",
          "Internet Content & Information",
          "Information Technology Services",
          "Semiconductors",
          "Drug Manufacturers - General",
          "Banks - Diversified",
          "Restaurants",
          "Resorts & Casinos",
          "Specialty Industrial Machinery",
          "Tobacco",
          "Biotechnology",
          "Software - Infrastructure",
          "Entertainment",
          "Auto Manufacturers",
          "Auto Manufacturers",
          "Semiconductors",
          "Broadcasting",
          "Specialty Business Services",
          "Other Industrial Metals & Mining",
          "Software - Infrastructure",
          "Electrical Equipment & Parts",
          "Leisure",
          "Credit Services",
          "Software - Application",
          "Solar",
          "Software - Application",
          "REIT - Diversified",
          "Credit Services",
          "Auto Manufacturers",
          "Software - Application",
          "Internet Content & Information",
          "Entertainment",
          "Discount Stores",
          "Software - Application",
          "Software - Application",
          "Industrials",
          "Consumer Cyclical",
          "Financial",
          "Healthcare",
          "Communication Services",
          "Technology",
          "Technology",
          "Financial",
          "Consumer Defensive",
          "Healthcare",
          "Industrials",
          "Communication Services",
          "Consumer Cyclical",
          "Healthcare",
          "Technology",
          "Industrials",
          "Communication Services",
          "Consumer Cyclical",
          "Consumer Cyclical",
          "Energy",
          "Basic Materials",
          "Real Estate",
          "Consumer Cyclical",
          "Consumer Cyclical",
          "Technology",
          "Technology",
          "Technology",
          "Technology",
          "Industrials",
          "Industrials",
          "Consumer Defensive",
          "Portfolio",
          "Portfolio",
          "Portfolio",
          "Portfolio",
          "Portfolio",
          "Portfolio",
          "Portfolio",
          "Portfolio",
          "Portfolio",
          "Portfolio",
          null,
          null,
          null,
          null
         ],
         "type": "sunburst",
         "values": [
          5826.24,
          3456.24,
          5762.64,
          1548.22,
          674.76,
          1090.44,
          2059.38,
          1614.27,
          780.18,
          1621.08,
          2393.35,
          1734.05,
          1246.9,
          5225.66,
          1140.86,
          1773,
          1338.79,
          1741.19,
          1371.32,
          1606.8,
          2071.08,
          2196,
          1533.6,
          3876.12,
          1806.39,
          964.5,
          472.5,
          4297.02,
          1093.5,
          259.5,
          1614.3,
          607.36,
          1840.3,
          871,
          2207.16,
          1575.2,
          1438.2,
          1692,
          1544.42,
          905.6,
          8586.65,
          2685.3,
          946.57,
          1398.15,
          1375.1,
          968.8,
          1138.2,
          1548.22,
          10023.65,
          1741.19,
          1533.6,
          1093.5,
          674.76,
          5826.24,
          3112.7599999999998,
          1375.1,
          1338.79,
          1840.3,
          4818.81,
          780.18,
          1090.44,
          1140.86,
          1734.05,
          8565.58,
          7009.540000000001,
          871,
          2059.38,
          1614.3,
          1544.42,
          1606.8,
          1371.32,
          9526.26,
          9680.58,
          4483.48,
          1438.2,
          259.5,
          2071.08,
          2196,
          1614.3,
          14477.89,
          21662.49,
          3571.1,
          2059.38,
          4853.95,
          3962.83,
          7453.15,
          1544.42,
          32770.38,
          null,
          null,
          null,
          null
         ]
        },
        {
         "branchvalues": "total",
         "domain": {
          "x": [
           0.55,
           1
          ],
          "y": [
           0,
           1
          ]
         },
         "hovertemplate": "<b>%{label} </b> <br> Size: $ %{value}<br> Variation: %{color:.2f}%",
         "labels": [
          "AAPL",
          "AMD",
          "AMZN",
          "BA",
          "CSCO",
          "CVS",
          "CVX",
          "DIS",
          "DKNG",
          "DOCU",
          "FB",
          "FDX",
          "FVRR",
          "GOOGL",
          "IBM",
          "INTC",
          "JNJ",
          "JPM",
          "MCD",
          "MGM",
          "MMM",
          "MO",
          "MRNA",
          "MSFT",
          "NFLX",
          "NIO",
          "NKLA",
          "NVDA",
          "NWS",
          "PAYS",
          "PLL",
          "PLTR",
          "PLUG",
          "PTON",
          "PYPL",
          "RIOT",
          "RUN",
          "SHOP",
          "STOR",
          "SYF",
          "TSLA",
          "TTD",
          "TWTR",
          "VIAC",
          "WMT",
          "ZEN",
          "ZI",
          "Aerospace & Defense",
          "Auto Manufacturers",
          "Banks - Diversified",
          "Biotechnology",
          "Broadcasting",
          "Communication Equipment",
          "Consumer Electronics",
          "Credit Services",
          "Discount Stores",
          "Drug Manufacturers - General",
          "Electrical Equipment & Parts",
          "Entertainment",
          "Gambling",
          "Healthcare Plans",
          "Information Technology Services",
          "Integrated Freight & Logistics",
          "Internet Content & Information",
          "Internet Retail",
          "Leisure",
          "Oil & Gas Integrated",
          "Other Industrial Metals & Mining",
          "REIT - Diversified",
          "Resorts & Casinos",
          "Restaurants",
          "Semiconductors",
          "Software - Application",
          "Software - Infrastructure",
          "Solar",
          "Specialty Business Services",
          "Specialty Industrial Machinery",
          "Tobacco",
          "Basic Materials",
          "Communication Services",
          "Consumer Cyclical",
          "Consumer Defensive",
          "Energy",
          "Financial",
          "Healthcare",
          "Industrials",
          "Real Estate",
          "Technology",
          null,
          null,
          null,
          null
         ],
         "marker": {
          "cmid": 0.47173558031821905,
          "colors": [
           112.96,
           166.69,
           32.17,
           -5.85,
           43.74,
           66.15,
           28.13,
           36.71,
           -27.78,
           -44.89,
           69.88,
           5.79,
           104.75,
           87.29,
           -4.38,
           -13.22,
           22.79,
           62.3,
           27.51,
           73.75,
           -4.62,
           3.9,
           356.7,
           90.6,
           18.84,
           13.9,
           -72.16,
           316.88,
           140.86,
           -73.33,
           73.34,
           -28.24,
           99.71,
           -7.15,
           67.22,
           -0.43,
           -37.04,
           74.87,
           23.29,
           94.38,
           297.73,
           193.76,
           26.12,
           97.77,
           10.69,
           19.34,
           49.65,
           -5.85,
           113.14,
           62.3,
           356.7,
           140.86,
           43.74,
           112.96,
           74.31,
           10.69,
           22.79,
           99.71,
           41.4,
           -27.78,
           66.15,
           -4.38,
           5.79,
           73.06,
           41.06,
           -7.15,
           28.13,
           73.34,
           23.29,
           73.75,
           27.51,
           118,
           21.35,
           55.68,
           -37.04,
           -73.33,
           -4.62,
           3.9,
           73.34,
           64.31,
           58.23,
           6.41,
           28.13,
           69.8,
           90.3,
           1.41,
           23.29,
           49.57,
           null,
           null,
           null,
           null
          ],
          "colorscale": [
           [
            0,
            "rgb(84,48,5)"
           ],
           [
            0.1,
            "rgb(140,81,10)"
           ],
           [
            0.2,
            "rgb(191,129,45)"
           ],
           [
            0.3,
            "rgb(223,194,125)"
           ],
           [
            0.4,
            "rgb(246,232,195)"
           ],
           [
            0.5,
            "rgb(245,245,245)"
           ],
           [
            0.6,
            "rgb(199,234,229)"
           ],
           [
            0.7,
            "rgb(128,205,193)"
           ],
           [
            0.8,
            "rgb(53,151,143)"
           ],
           [
            0.9,
            "rgb(1,102,94)"
           ],
           [
            1,
            "rgb(0,60,48)"
           ]
          ]
         },
         "maxdepth": 2,
         "name": "",
         "parents": [
          "Consumer Electronics",
          "Semiconductors",
          "Internet Retail",
          "Aerospace & Defense",
          "Communication Equipment",
          "Healthcare Plans",
          "Oil & Gas Integrated",
          "Entertainment",
          "Gambling",
          "Software - Application",
          "Internet Content & Information",
          "Integrated Freight & Logistics",
          "Internet Retail",
          "Internet Content & Information",
          "Information Technology Services",
          "Semiconductors",
          "Drug Manufacturers - General",
          "Banks - Diversified",
          "Restaurants",
          "Resorts & Casinos",
          "Specialty Industrial Machinery",
          "Tobacco",
          "Biotechnology",
          "Software - Infrastructure",
          "Entertainment",
          "Auto Manufacturers",
          "Auto Manufacturers",
          "Semiconductors",
          "Broadcasting",
          "Specialty Business Services",
          "Other Industrial Metals & Mining",
          "Software - Infrastructure",
          "Electrical Equipment & Parts",
          "Leisure",
          "Credit Services",
          "Software - Application",
          "Solar",
          "Software - Application",
          "REIT - Diversified",
          "Credit Services",
          "Auto Manufacturers",
          "Software - Application",
          "Internet Content & Information",
          "Entertainment",
          "Discount Stores",
          "Software - Application",
          "Software - Application",
          "Industrials",
          "Consumer Cyclical",
          "Financial",
          "Healthcare",
          "Communication Services",
          "Technology",
          "Technology",
          "Financial",
          "Consumer Defensive",
          "Healthcare",
          "Industrials",
          "Communication Services",
          "Consumer Cyclical",
          "Healthcare",
          "Technology",
          "Industrials",
          "Communication Services",
          "Consumer Cyclical",
          "Consumer Cyclical",
          "Energy",
          "Basic Materials",
          "Real Estate",
          "Consumer Cyclical",
          "Consumer Cyclical",
          "Technology",
          "Technology",
          "Technology",
          "Technology",
          "Industrials",
          "Industrials",
          "Consumer Defensive",
          "Portfolio",
          "Portfolio",
          "Portfolio",
          "Portfolio",
          "Portfolio",
          "Portfolio",
          "Portfolio",
          "Portfolio",
          "Portfolio",
          "Portfolio",
          null,
          null,
          null,
          null
         ],
         "type": "sunburst",
         "values": [
          5826.24,
          3456.24,
          5762.64,
          1548.22,
          674.76,
          1090.44,
          2059.38,
          1614.27,
          780.18,
          1621.08,
          2393.35,
          1734.05,
          1246.9,
          5225.66,
          1140.86,
          1773,
          1338.79,
          1741.19,
          1371.32,
          1606.8,
          2071.08,
          2196,
          1533.6,
          3876.12,
          1806.39,
          964.5,
          472.5,
          4297.02,
          1093.5,
          259.5,
          1614.3,
          607.36,
          1840.3,
          871,
          2207.16,
          1575.2,
          1438.2,
          1692,
          1544.42,
          905.6,
          8586.65,
          2685.3,
          946.57,
          1398.15,
          1375.1,
          968.8,
          1138.2,
          1548.22,
          10023.65,
          1741.19,
          1533.6,
          1093.5,
          674.76,
          5826.24,
          3112.7599999999998,
          1375.1,
          1338.79,
          1840.3,
          4818.81,
          780.18,
          1090.44,
          1140.86,
          1734.05,
          8565.58,
          7009.540000000001,
          871,
          2059.38,
          1614.3,
          1544.42,
          1606.8,
          1371.32,
          9526.26,
          9680.58,
          4483.48,
          1438.2,
          259.5,
          2071.08,
          2196,
          1614.3,
          14477.89,
          21662.49,
          3571.1,
          2059.38,
          4853.95,
          3962.83,
          7453.15,
          1544.42,
          32770.38,
          null,
          null,
          null,
          null
         ]
        }
       ],
       "layout": {
        "margin": {
         "b": 10,
         "l": 10,
         "r": 10,
         "t": 10
        },
        "paper_bgcolor": "#272b30",
        "template": {
         "data": {
          "bar": [
           {
            "error_x": {
             "color": "#f2f5fa"
            },
            "error_y": {
             "color": "#f2f5fa"
            },
            "marker": {
             "line": {
              "color": "rgb(17,17,17)",
              "width": 0.5
             },
             "pattern": {
              "fillmode": "overlay",
              "size": 10,
              "solidity": 0.2
             }
            },
            "type": "bar"
           }
          ],
          "barpolar": [
           {
            "marker": {
             "line": {
              "color": "rgb(17,17,17)",
              "width": 0.5
             },
             "pattern": {
              "fillmode": "overlay",
              "size": 10,
              "solidity": 0.2
             }
            },
            "type": "barpolar"
           }
          ],
          "carpet": [
           {
            "aaxis": {
             "endlinecolor": "#A2B1C6",
             "gridcolor": "#506784",
             "linecolor": "#506784",
             "minorgridcolor": "#506784",
             "startlinecolor": "#A2B1C6"
            },
            "baxis": {
             "endlinecolor": "#A2B1C6",
             "gridcolor": "#506784",
             "linecolor": "#506784",
             "minorgridcolor": "#506784",
             "startlinecolor": "#A2B1C6"
            },
            "type": "carpet"
           }
          ],
          "choropleth": [
           {
            "colorbar": {
             "outlinewidth": 0,
             "ticks": ""
            },
            "type": "choropleth"
           }
          ],
          "contour": [
           {
            "colorbar": {
             "outlinewidth": 0,
             "ticks": ""
            },
            "colorscale": [
             [
              0,
              "#0d0887"
             ],
             [
              0.1111111111111111,
              "#46039f"
             ],
             [
              0.2222222222222222,
              "#7201a8"
             ],
             [
              0.3333333333333333,
              "#9c179e"
             ],
             [
              0.4444444444444444,
              "#bd3786"
             ],
             [
              0.5555555555555556,
              "#d8576b"
             ],
             [
              0.6666666666666666,
              "#ed7953"
             ],
             [
              0.7777777777777778,
              "#fb9f3a"
             ],
             [
              0.8888888888888888,
              "#fdca26"
             ],
             [
              1,
              "#f0f921"
             ]
            ],
            "type": "contour"
           }
          ],
          "contourcarpet": [
           {
            "colorbar": {
             "outlinewidth": 0,
             "ticks": ""
            },
            "type": "contourcarpet"
           }
          ],
          "heatmap": [
           {
            "colorbar": {
             "outlinewidth": 0,
             "ticks": ""
            },
            "colorscale": [
             [
              0,
              "#0d0887"
             ],
             [
              0.1111111111111111,
              "#46039f"
             ],
             [
              0.2222222222222222,
              "#7201a8"
             ],
             [
              0.3333333333333333,
              "#9c179e"
             ],
             [
              0.4444444444444444,
              "#bd3786"
             ],
             [
              0.5555555555555556,
              "#d8576b"
             ],
             [
              0.6666666666666666,
              "#ed7953"
             ],
             [
              0.7777777777777778,
              "#fb9f3a"
             ],
             [
              0.8888888888888888,
              "#fdca26"
             ],
             [
              1,
              "#f0f921"
             ]
            ],
            "type": "heatmap"
           }
          ],
          "heatmapgl": [
           {
            "colorbar": {
             "outlinewidth": 0,
             "ticks": ""
            },
            "colorscale": [
             [
              0,
              "#0d0887"
             ],
             [
              0.1111111111111111,
              "#46039f"
             ],
             [
              0.2222222222222222,
              "#7201a8"
             ],
             [
              0.3333333333333333,
              "#9c179e"
             ],
             [
              0.4444444444444444,
              "#bd3786"
             ],
             [
              0.5555555555555556,
              "#d8576b"
             ],
             [
              0.6666666666666666,
              "#ed7953"
             ],
             [
              0.7777777777777778,
              "#fb9f3a"
             ],
             [
              0.8888888888888888,
              "#fdca26"
             ],
             [
              1,
              "#f0f921"
             ]
            ],
            "type": "heatmapgl"
           }
          ],
          "histogram": [
           {
            "marker": {
             "pattern": {
              "fillmode": "overlay",
              "size": 10,
              "solidity": 0.2
             }
            },
            "type": "histogram"
           }
          ],
          "histogram2d": [
           {
            "colorbar": {
             "outlinewidth": 0,
             "ticks": ""
            },
            "colorscale": [
             [
              0,
              "#0d0887"
             ],
             [
              0.1111111111111111,
              "#46039f"
             ],
             [
              0.2222222222222222,
              "#7201a8"
             ],
             [
              0.3333333333333333,
              "#9c179e"
             ],
             [
              0.4444444444444444,
              "#bd3786"
             ],
             [
              0.5555555555555556,
              "#d8576b"
             ],
             [
              0.6666666666666666,
              "#ed7953"
             ],
             [
              0.7777777777777778,
              "#fb9f3a"
             ],
             [
              0.8888888888888888,
              "#fdca26"
             ],
             [
              1,
              "#f0f921"
             ]
            ],
            "type": "histogram2d"
           }
          ],
          "histogram2dcontour": [
           {
            "colorbar": {
             "outlinewidth": 0,
             "ticks": ""
            },
            "colorscale": [
             [
              0,
              "#0d0887"
             ],
             [
              0.1111111111111111,
              "#46039f"
             ],
             [
              0.2222222222222222,
              "#7201a8"
             ],
             [
              0.3333333333333333,
              "#9c179e"
             ],
             [
              0.4444444444444444,
              "#bd3786"
             ],
             [
              0.5555555555555556,
              "#d8576b"
             ],
             [
              0.6666666666666666,
              "#ed7953"
             ],
             [
              0.7777777777777778,
              "#fb9f3a"
             ],
             [
              0.8888888888888888,
              "#fdca26"
             ],
             [
              1,
              "#f0f921"
             ]
            ],
            "type": "histogram2dcontour"
           }
          ],
          "mesh3d": [
           {
            "colorbar": {
             "outlinewidth": 0,
             "ticks": ""
            },
            "type": "mesh3d"
           }
          ],
          "parcoords": [
           {
            "line": {
             "colorbar": {
              "outlinewidth": 0,
              "ticks": ""
             }
            },
            "type": "parcoords"
           }
          ],
          "pie": [
           {
            "automargin": true,
            "type": "pie"
           }
          ],
          "scatter": [
           {
            "marker": {
             "line": {
              "color": "#283442"
             }
            },
            "type": "scatter"
           }
          ],
          "scatter3d": [
           {
            "line": {
             "colorbar": {
              "outlinewidth": 0,
              "ticks": ""
             }
            },
            "marker": {
             "colorbar": {
              "outlinewidth": 0,
              "ticks": ""
             }
            },
            "type": "scatter3d"
           }
          ],
          "scattercarpet": [
           {
            "marker": {
             "colorbar": {
              "outlinewidth": 0,
              "ticks": ""
             }
            },
            "type": "scattercarpet"
           }
          ],
          "scattergeo": [
           {
            "marker": {
             "colorbar": {
              "outlinewidth": 0,
              "ticks": ""
             }
            },
            "type": "scattergeo"
           }
          ],
          "scattergl": [
           {
            "marker": {
             "line": {
              "color": "#283442"
             }
            },
            "type": "scattergl"
           }
          ],
          "scattermapbox": [
           {
            "marker": {
             "colorbar": {
              "outlinewidth": 0,
              "ticks": ""
             }
            },
            "type": "scattermapbox"
           }
          ],
          "scatterpolar": [
           {
            "marker": {
             "colorbar": {
              "outlinewidth": 0,
              "ticks": ""
             }
            },
            "type": "scatterpolar"
           }
          ],
          "scatterpolargl": [
           {
            "marker": {
             "colorbar": {
              "outlinewidth": 0,
              "ticks": ""
             }
            },
            "type": "scatterpolargl"
           }
          ],
          "scatterternary": [
           {
            "marker": {
             "colorbar": {
              "outlinewidth": 0,
              "ticks": ""
             }
            },
            "type": "scatterternary"
           }
          ],
          "surface": [
           {
            "colorbar": {
             "outlinewidth": 0,
             "ticks": ""
            },
            "colorscale": [
             [
              0,
              "#0d0887"
             ],
             [
              0.1111111111111111,
              "#46039f"
             ],
             [
              0.2222222222222222,
              "#7201a8"
             ],
             [
              0.3333333333333333,
              "#9c179e"
             ],
             [
              0.4444444444444444,
              "#bd3786"
             ],
             [
              0.5555555555555556,
              "#d8576b"
             ],
             [
              0.6666666666666666,
              "#ed7953"
             ],
             [
              0.7777777777777778,
              "#fb9f3a"
             ],
             [
              0.8888888888888888,
              "#fdca26"
             ],
             [
              1,
              "#f0f921"
             ]
            ],
            "type": "surface"
           }
          ],
          "table": [
           {
            "cells": {
             "fill": {
              "color": "#506784"
             },
             "line": {
              "color": "rgb(17,17,17)"
             }
            },
            "header": {
             "fill": {
              "color": "#2a3f5f"
             },
             "line": {
              "color": "rgb(17,17,17)"
             }
            },
            "type": "table"
           }
          ]
         },
         "layout": {
          "annotationdefaults": {
           "arrowcolor": "#f2f5fa",
           "arrowhead": 0,
           "arrowwidth": 1
          },
          "autotypenumbers": "strict",
          "coloraxis": {
           "colorbar": {
            "outlinewidth": 0,
            "ticks": ""
           }
          },
          "colorscale": {
           "diverging": [
            [
             0,
             "#8e0152"
            ],
            [
             0.1,
             "#c51b7d"
            ],
            [
             0.2,
             "#de77ae"
            ],
            [
             0.3,
             "#f1b6da"
            ],
            [
             0.4,
             "#fde0ef"
            ],
            [
             0.5,
             "#f7f7f7"
            ],
            [
             0.6,
             "#e6f5d0"
            ],
            [
             0.7,
             "#b8e186"
            ],
            [
             0.8,
             "#7fbc41"
            ],
            [
             0.9,
             "#4d9221"
            ],
            [
             1,
             "#276419"
            ]
           ],
           "sequential": [
            [
             0,
             "#0d0887"
            ],
            [
             0.1111111111111111,
             "#46039f"
            ],
            [
             0.2222222222222222,
             "#7201a8"
            ],
            [
             0.3333333333333333,
             "#9c179e"
            ],
            [
             0.4444444444444444,
             "#bd3786"
            ],
            [
             0.5555555555555556,
             "#d8576b"
            ],
            [
             0.6666666666666666,
             "#ed7953"
            ],
            [
             0.7777777777777778,
             "#fb9f3a"
            ],
            [
             0.8888888888888888,
             "#fdca26"
            ],
            [
             1,
             "#f0f921"
            ]
           ],
           "sequentialminus": [
            [
             0,
             "#0d0887"
            ],
            [
             0.1111111111111111,
             "#46039f"
            ],
            [
             0.2222222222222222,
             "#7201a8"
            ],
            [
             0.3333333333333333,
             "#9c179e"
            ],
            [
             0.4444444444444444,
             "#bd3786"
            ],
            [
             0.5555555555555556,
             "#d8576b"
            ],
            [
             0.6666666666666666,
             "#ed7953"
            ],
            [
             0.7777777777777778,
             "#fb9f3a"
            ],
            [
             0.8888888888888888,
             "#fdca26"
            ],
            [
             1,
             "#f0f921"
            ]
           ]
          },
          "colorway": [
           "#636efa",
           "#EF553B",
           "#00cc96",
           "#ab63fa",
           "#FFA15A",
           "#19d3f3",
           "#FF6692",
           "#B6E880",
           "#FF97FF",
           "#FECB52"
          ],
          "font": {
           "color": "#f2f5fa"
          },
          "geo": {
           "bgcolor": "rgb(17,17,17)",
           "lakecolor": "rgb(17,17,17)",
           "landcolor": "rgb(17,17,17)",
           "showlakes": true,
           "showland": true,
           "subunitcolor": "#506784"
          },
          "hoverlabel": {
           "align": "left"
          },
          "hovermode": "closest",
          "mapbox": {
           "style": "dark"
          },
          "paper_bgcolor": "rgb(17,17,17)",
          "plot_bgcolor": "rgb(17,17,17)",
          "polar": {
           "angularaxis": {
            "gridcolor": "#506784",
            "linecolor": "#506784",
            "ticks": ""
           },
           "bgcolor": "rgb(17,17,17)",
           "radialaxis": {
            "gridcolor": "#506784",
            "linecolor": "#506784",
            "ticks": ""
           }
          },
          "scene": {
           "xaxis": {
            "backgroundcolor": "rgb(17,17,17)",
            "gridcolor": "#506784",
            "gridwidth": 2,
            "linecolor": "#506784",
            "showbackground": true,
            "ticks": "",
            "zerolinecolor": "#C8D4E3"
           },
           "yaxis": {
            "backgroundcolor": "rgb(17,17,17)",
            "gridcolor": "#506784",
            "gridwidth": 2,
            "linecolor": "#506784",
            "showbackground": true,
            "ticks": "",
            "zerolinecolor": "#C8D4E3"
           },
           "zaxis": {
            "backgroundcolor": "rgb(17,17,17)",
            "gridcolor": "#506784",
            "gridwidth": 2,
            "linecolor": "#506784",
            "showbackground": true,
            "ticks": "",
            "zerolinecolor": "#C8D4E3"
           }
          },
          "shapedefaults": {
           "line": {
            "color": "#f2f5fa"
           }
          },
          "sliderdefaults": {
           "bgcolor": "#C8D4E3",
           "bordercolor": "rgb(17,17,17)",
           "borderwidth": 1,
           "tickwidth": 0
          },
          "ternary": {
           "aaxis": {
            "gridcolor": "#506784",
            "linecolor": "#506784",
            "ticks": ""
           },
           "baxis": {
            "gridcolor": "#506784",
            "linecolor": "#506784",
            "ticks": ""
           },
           "bgcolor": "rgb(17,17,17)",
           "caxis": {
            "gridcolor": "#506784",
            "linecolor": "#506784",
            "ticks": ""
           }
          },
          "title": {
           "x": 0.05
          },
          "updatemenudefaults": {
           "bgcolor": "#506784",
           "borderwidth": 0
          },
          "xaxis": {
           "automargin": true,
           "gridcolor": "#283442",
           "linecolor": "#506784",
           "ticks": "",
           "title": {
            "standoff": 15
           },
           "zerolinecolor": "#283442",
           "zerolinewidth": 2
          },
          "yaxis": {
           "automargin": true,
           "gridcolor": "#283442",
           "linecolor": "#506784",
           "ticks": "",
           "title": {
            "standoff": 15
           },
           "zerolinecolor": "#283442",
           "zerolinewidth": 2
          }
         }
        }
       }
      }
     },
     "metadata": {},
     "output_type": "display_data"
    }
   ],
   "source": [
    "sunburst_fig = make_subplots(1, 2, specs=[[{\"type\": \"domain\"}, {\"type\": \"domain\"}]],)\n",
    "sunburst_fig.layout.template = CHART_THEME\n",
    "sunburst_fig.add_trace(go.Sunburst(\n",
    "    labels=df_all_trees['id'],\n",
    "    parents=df_all_trees['parent'],\n",
    "    values=df_all_trees['value'],\n",
    "    branchvalues='total',\n",
    "    marker=dict(\n",
    "        colors=df_all_trees['color'],\n",
    "        colorscale='brbg',\n",
    "        cmid=average_score),\n",
    "    hovertemplate='<b>%{label} </b> <br> Size: $ %{value}<br> Variation: %{color:.2f}%',\n",
    "    name=''\n",
    "    ), 1, 1)\n",
    "\n",
    "sunburst_fig.add_trace(go.Sunburst(\n",
    "    labels=df_all_trees['id'],\n",
    "    parents=df_all_trees['parent'],\n",
    "    values=df_all_trees['value'],\n",
    "    branchvalues='total',\n",
    "    marker=dict(\n",
    "        colors=df_all_trees['color'],\n",
    "        colorscale='brbg',\n",
    "        cmid=average_score),\n",
    "    hovertemplate='<b>%{label} </b> <br> Size: $ %{value}<br> Variation: %{color:.2f}%',\n",
    "    maxdepth=2,\n",
    "    name=''\n",
    "    ), 1, 2)\n",
    "\n",
    "sunburst_fig.update_layout(margin=dict(t=10, b=10, r=10, l=10), paper_bgcolor=\"#272b30\")\n",
    "sunburst_fig.show()"
   ]
  },
  {
   "cell_type": "code",
   "execution_count": 103,
   "metadata": {},
   "outputs": [
    {
     "data": {
      "application/vnd.plotly.v1+json": {
       "config": {
        "plotlyServerURL": "https://plot.ly"
       },
       "data": [
        {
         "branchvalues": "total",
         "hovertemplate": "<b>%{label} </b> <br> Size: $ %{value}<br> Variation: %{color:.2f}%",
         "labels": [
          "AAPL",
          "AMD",
          "AMZN",
          "BA",
          "CSCO",
          "CVS",
          "CVX",
          "DIS",
          "DKNG",
          "DOCU",
          "FB",
          "FDX",
          "FVRR",
          "GOOGL",
          "IBM",
          "INTC",
          "JNJ",
          "JPM",
          "MCD",
          "MGM",
          "MMM",
          "MO",
          "MRNA",
          "MSFT",
          "NFLX",
          "NIO",
          "NKLA",
          "NVDA",
          "NWS",
          "PAYS",
          "PLL",
          "PLTR",
          "PLUG",
          "PTON",
          "PYPL",
          "RIOT",
          "RUN",
          "SHOP",
          "STOR",
          "SYF",
          "TSLA",
          "TTD",
          "TWTR",
          "VIAC",
          "WMT",
          "ZEN",
          "ZI",
          "Aerospace & Defense",
          "Auto Manufacturers",
          "Banks - Diversified",
          "Biotechnology",
          "Broadcasting",
          "Communication Equipment",
          "Consumer Electronics",
          "Credit Services",
          "Discount Stores",
          "Drug Manufacturers - General",
          "Electrical Equipment & Parts",
          "Entertainment",
          "Gambling",
          "Healthcare Plans",
          "Information Technology Services",
          "Integrated Freight & Logistics",
          "Internet Content & Information",
          "Internet Retail",
          "Leisure",
          "Oil & Gas Integrated",
          "Other Industrial Metals & Mining",
          "REIT - Diversified",
          "Resorts & Casinos",
          "Restaurants",
          "Semiconductors",
          "Software - Application",
          "Software - Infrastructure",
          "Solar",
          "Specialty Business Services",
          "Specialty Industrial Machinery",
          "Tobacco",
          "Basic Materials",
          "Communication Services",
          "Consumer Cyclical",
          "Consumer Defensive",
          "Energy",
          "Financial",
          "Healthcare",
          "Industrials",
          "Real Estate",
          "Technology",
          null,
          null,
          null,
          null
         ],
         "marker": {
          "cmid": 0.47173558031821905,
          "colors": [
           112.96,
           166.69,
           32.17,
           -5.85,
           43.74,
           66.15,
           28.13,
           36.71,
           -27.78,
           -44.89,
           69.88,
           5.79,
           104.75,
           87.29,
           -4.38,
           -13.22,
           22.79,
           62.3,
           27.51,
           73.75,
           -4.62,
           3.9,
           356.7,
           90.6,
           18.84,
           13.9,
           -72.16,
           316.88,
           140.86,
           -73.33,
           73.34,
           -28.24,
           99.71,
           -7.15,
           67.22,
           -0.43,
           -37.04,
           74.87,
           23.29,
           94.38,
           297.73,
           193.76,
           26.12,
           97.77,
           10.69,
           19.34,
           49.65,
           -5.85,
           113.14,
           62.3,
           356.7,
           140.86,
           43.74,
           112.96,
           74.31,
           10.69,
           22.79,
           99.71,
           41.4,
           -27.78,
           66.15,
           -4.38,
           5.79,
           73.06,
           41.06,
           -7.15,
           28.13,
           73.34,
           23.29,
           73.75,
           27.51,
           118,
           21.35,
           55.68,
           -37.04,
           -73.33,
           -4.62,
           3.9,
           73.34,
           64.31,
           58.23,
           6.41,
           28.13,
           69.8,
           90.3,
           1.41,
           23.29,
           49.57,
           null,
           null,
           null,
           null
          ],
          "colorscale": [
           [
            0,
            "rgb(84,48,5)"
           ],
           [
            0.1,
            "rgb(140,81,10)"
           ],
           [
            0.2,
            "rgb(191,129,45)"
           ],
           [
            0.3,
            "rgb(223,194,125)"
           ],
           [
            0.4,
            "rgb(246,232,195)"
           ],
           [
            0.5,
            "rgb(245,245,245)"
           ],
           [
            0.6,
            "rgb(199,234,229)"
           ],
           [
            0.7,
            "rgb(128,205,193)"
           ],
           [
            0.8,
            "rgb(53,151,143)"
           ],
           [
            0.9,
            "rgb(1,102,94)"
           ],
           [
            1,
            "rgb(0,60,48)"
           ]
          ]
         },
         "name": "",
         "parents": [
          "Consumer Electronics",
          "Semiconductors",
          "Internet Retail",
          "Aerospace & Defense",
          "Communication Equipment",
          "Healthcare Plans",
          "Oil & Gas Integrated",
          "Entertainment",
          "Gambling",
          "Software - Application",
          "Internet Content & Information",
          "Integrated Freight & Logistics",
          "Internet Retail",
          "Internet Content & Information",
          "Information Technology Services",
          "Semiconductors",
          "Drug Manufacturers - General",
          "Banks - Diversified",
          "Restaurants",
          "Resorts & Casinos",
          "Specialty Industrial Machinery",
          "Tobacco",
          "Biotechnology",
          "Software - Infrastructure",
          "Entertainment",
          "Auto Manufacturers",
          "Auto Manufacturers",
          "Semiconductors",
          "Broadcasting",
          "Specialty Business Services",
          "Other Industrial Metals & Mining",
          "Software - Infrastructure",
          "Electrical Equipment & Parts",
          "Leisure",
          "Credit Services",
          "Software - Application",
          "Solar",
          "Software - Application",
          "REIT - Diversified",
          "Credit Services",
          "Auto Manufacturers",
          "Software - Application",
          "Internet Content & Information",
          "Entertainment",
          "Discount Stores",
          "Software - Application",
          "Software - Application",
          "Industrials",
          "Consumer Cyclical",
          "Financial",
          "Healthcare",
          "Communication Services",
          "Technology",
          "Technology",
          "Financial",
          "Consumer Defensive",
          "Healthcare",
          "Industrials",
          "Communication Services",
          "Consumer Cyclical",
          "Healthcare",
          "Technology",
          "Industrials",
          "Communication Services",
          "Consumer Cyclical",
          "Consumer Cyclical",
          "Energy",
          "Basic Materials",
          "Real Estate",
          "Consumer Cyclical",
          "Consumer Cyclical",
          "Technology",
          "Technology",
          "Technology",
          "Technology",
          "Industrials",
          "Industrials",
          "Consumer Defensive",
          "Portfolio",
          "Portfolio",
          "Portfolio",
          "Portfolio",
          "Portfolio",
          "Portfolio",
          "Portfolio",
          "Portfolio",
          "Portfolio",
          "Portfolio",
          null,
          null,
          null,
          null
         ],
         "type": "sunburst",
         "values": [
          5826.24,
          3456.24,
          5762.64,
          1548.22,
          674.76,
          1090.44,
          2059.38,
          1614.27,
          780.18,
          1621.08,
          2393.35,
          1734.05,
          1246.9,
          5225.66,
          1140.86,
          1773,
          1338.79,
          1741.19,
          1371.32,
          1606.8,
          2071.08,
          2196,
          1533.6,
          3876.12,
          1806.39,
          964.5,
          472.5,
          4297.02,
          1093.5,
          259.5,
          1614.3,
          607.36,
          1840.3,
          871,
          2207.16,
          1575.2,
          1438.2,
          1692,
          1544.42,
          905.6,
          8586.65,
          2685.3,
          946.57,
          1398.15,
          1375.1,
          968.8,
          1138.2,
          1548.22,
          10023.65,
          1741.19,
          1533.6,
          1093.5,
          674.76,
          5826.24,
          3112.7599999999998,
          1375.1,
          1338.79,
          1840.3,
          4818.81,
          780.18,
          1090.44,
          1140.86,
          1734.05,
          8565.58,
          7009.540000000001,
          871,
          2059.38,
          1614.3,
          1544.42,
          1606.8,
          1371.32,
          9526.26,
          9680.58,
          4483.48,
          1438.2,
          259.5,
          2071.08,
          2196,
          1614.3,
          14477.89,
          21662.49,
          3571.1,
          2059.38,
          4853.95,
          3962.83,
          7453.15,
          1544.42,
          32770.38,
          null,
          null,
          null,
          null
         ]
        }
       ],
       "layout": {
        "margin": {
         "b": 10,
         "l": 10,
         "r": 10,
         "t": 10
        },
        "paper_bgcolor": "#272b30",
        "template": {
         "data": {
          "bar": [
           {
            "error_x": {
             "color": "#f2f5fa"
            },
            "error_y": {
             "color": "#f2f5fa"
            },
            "marker": {
             "line": {
              "color": "rgb(17,17,17)",
              "width": 0.5
             },
             "pattern": {
              "fillmode": "overlay",
              "size": 10,
              "solidity": 0.2
             }
            },
            "type": "bar"
           }
          ],
          "barpolar": [
           {
            "marker": {
             "line": {
              "color": "rgb(17,17,17)",
              "width": 0.5
             },
             "pattern": {
              "fillmode": "overlay",
              "size": 10,
              "solidity": 0.2
             }
            },
            "type": "barpolar"
           }
          ],
          "carpet": [
           {
            "aaxis": {
             "endlinecolor": "#A2B1C6",
             "gridcolor": "#506784",
             "linecolor": "#506784",
             "minorgridcolor": "#506784",
             "startlinecolor": "#A2B1C6"
            },
            "baxis": {
             "endlinecolor": "#A2B1C6",
             "gridcolor": "#506784",
             "linecolor": "#506784",
             "minorgridcolor": "#506784",
             "startlinecolor": "#A2B1C6"
            },
            "type": "carpet"
           }
          ],
          "choropleth": [
           {
            "colorbar": {
             "outlinewidth": 0,
             "ticks": ""
            },
            "type": "choropleth"
           }
          ],
          "contour": [
           {
            "colorbar": {
             "outlinewidth": 0,
             "ticks": ""
            },
            "colorscale": [
             [
              0,
              "#0d0887"
             ],
             [
              0.1111111111111111,
              "#46039f"
             ],
             [
              0.2222222222222222,
              "#7201a8"
             ],
             [
              0.3333333333333333,
              "#9c179e"
             ],
             [
              0.4444444444444444,
              "#bd3786"
             ],
             [
              0.5555555555555556,
              "#d8576b"
             ],
             [
              0.6666666666666666,
              "#ed7953"
             ],
             [
              0.7777777777777778,
              "#fb9f3a"
             ],
             [
              0.8888888888888888,
              "#fdca26"
             ],
             [
              1,
              "#f0f921"
             ]
            ],
            "type": "contour"
           }
          ],
          "contourcarpet": [
           {
            "colorbar": {
             "outlinewidth": 0,
             "ticks": ""
            },
            "type": "contourcarpet"
           }
          ],
          "heatmap": [
           {
            "colorbar": {
             "outlinewidth": 0,
             "ticks": ""
            },
            "colorscale": [
             [
              0,
              "#0d0887"
             ],
             [
              0.1111111111111111,
              "#46039f"
             ],
             [
              0.2222222222222222,
              "#7201a8"
             ],
             [
              0.3333333333333333,
              "#9c179e"
             ],
             [
              0.4444444444444444,
              "#bd3786"
             ],
             [
              0.5555555555555556,
              "#d8576b"
             ],
             [
              0.6666666666666666,
              "#ed7953"
             ],
             [
              0.7777777777777778,
              "#fb9f3a"
             ],
             [
              0.8888888888888888,
              "#fdca26"
             ],
             [
              1,
              "#f0f921"
             ]
            ],
            "type": "heatmap"
           }
          ],
          "heatmapgl": [
           {
            "colorbar": {
             "outlinewidth": 0,
             "ticks": ""
            },
            "colorscale": [
             [
              0,
              "#0d0887"
             ],
             [
              0.1111111111111111,
              "#46039f"
             ],
             [
              0.2222222222222222,
              "#7201a8"
             ],
             [
              0.3333333333333333,
              "#9c179e"
             ],
             [
              0.4444444444444444,
              "#bd3786"
             ],
             [
              0.5555555555555556,
              "#d8576b"
             ],
             [
              0.6666666666666666,
              "#ed7953"
             ],
             [
              0.7777777777777778,
              "#fb9f3a"
             ],
             [
              0.8888888888888888,
              "#fdca26"
             ],
             [
              1,
              "#f0f921"
             ]
            ],
            "type": "heatmapgl"
           }
          ],
          "histogram": [
           {
            "marker": {
             "pattern": {
              "fillmode": "overlay",
              "size": 10,
              "solidity": 0.2
             }
            },
            "type": "histogram"
           }
          ],
          "histogram2d": [
           {
            "colorbar": {
             "outlinewidth": 0,
             "ticks": ""
            },
            "colorscale": [
             [
              0,
              "#0d0887"
             ],
             [
              0.1111111111111111,
              "#46039f"
             ],
             [
              0.2222222222222222,
              "#7201a8"
             ],
             [
              0.3333333333333333,
              "#9c179e"
             ],
             [
              0.4444444444444444,
              "#bd3786"
             ],
             [
              0.5555555555555556,
              "#d8576b"
             ],
             [
              0.6666666666666666,
              "#ed7953"
             ],
             [
              0.7777777777777778,
              "#fb9f3a"
             ],
             [
              0.8888888888888888,
              "#fdca26"
             ],
             [
              1,
              "#f0f921"
             ]
            ],
            "type": "histogram2d"
           }
          ],
          "histogram2dcontour": [
           {
            "colorbar": {
             "outlinewidth": 0,
             "ticks": ""
            },
            "colorscale": [
             [
              0,
              "#0d0887"
             ],
             [
              0.1111111111111111,
              "#46039f"
             ],
             [
              0.2222222222222222,
              "#7201a8"
             ],
             [
              0.3333333333333333,
              "#9c179e"
             ],
             [
              0.4444444444444444,
              "#bd3786"
             ],
             [
              0.5555555555555556,
              "#d8576b"
             ],
             [
              0.6666666666666666,
              "#ed7953"
             ],
             [
              0.7777777777777778,
              "#fb9f3a"
             ],
             [
              0.8888888888888888,
              "#fdca26"
             ],
             [
              1,
              "#f0f921"
             ]
            ],
            "type": "histogram2dcontour"
           }
          ],
          "mesh3d": [
           {
            "colorbar": {
             "outlinewidth": 0,
             "ticks": ""
            },
            "type": "mesh3d"
           }
          ],
          "parcoords": [
           {
            "line": {
             "colorbar": {
              "outlinewidth": 0,
              "ticks": ""
             }
            },
            "type": "parcoords"
           }
          ],
          "pie": [
           {
            "automargin": true,
            "type": "pie"
           }
          ],
          "scatter": [
           {
            "marker": {
             "line": {
              "color": "#283442"
             }
            },
            "type": "scatter"
           }
          ],
          "scatter3d": [
           {
            "line": {
             "colorbar": {
              "outlinewidth": 0,
              "ticks": ""
             }
            },
            "marker": {
             "colorbar": {
              "outlinewidth": 0,
              "ticks": ""
             }
            },
            "type": "scatter3d"
           }
          ],
          "scattercarpet": [
           {
            "marker": {
             "colorbar": {
              "outlinewidth": 0,
              "ticks": ""
             }
            },
            "type": "scattercarpet"
           }
          ],
          "scattergeo": [
           {
            "marker": {
             "colorbar": {
              "outlinewidth": 0,
              "ticks": ""
             }
            },
            "type": "scattergeo"
           }
          ],
          "scattergl": [
           {
            "marker": {
             "line": {
              "color": "#283442"
             }
            },
            "type": "scattergl"
           }
          ],
          "scattermapbox": [
           {
            "marker": {
             "colorbar": {
              "outlinewidth": 0,
              "ticks": ""
             }
            },
            "type": "scattermapbox"
           }
          ],
          "scatterpolar": [
           {
            "marker": {
             "colorbar": {
              "outlinewidth": 0,
              "ticks": ""
             }
            },
            "type": "scatterpolar"
           }
          ],
          "scatterpolargl": [
           {
            "marker": {
             "colorbar": {
              "outlinewidth": 0,
              "ticks": ""
             }
            },
            "type": "scatterpolargl"
           }
          ],
          "scatterternary": [
           {
            "marker": {
             "colorbar": {
              "outlinewidth": 0,
              "ticks": ""
             }
            },
            "type": "scatterternary"
           }
          ],
          "surface": [
           {
            "colorbar": {
             "outlinewidth": 0,
             "ticks": ""
            },
            "colorscale": [
             [
              0,
              "#0d0887"
             ],
             [
              0.1111111111111111,
              "#46039f"
             ],
             [
              0.2222222222222222,
              "#7201a8"
             ],
             [
              0.3333333333333333,
              "#9c179e"
             ],
             [
              0.4444444444444444,
              "#bd3786"
             ],
             [
              0.5555555555555556,
              "#d8576b"
             ],
             [
              0.6666666666666666,
              "#ed7953"
             ],
             [
              0.7777777777777778,
              "#fb9f3a"
             ],
             [
              0.8888888888888888,
              "#fdca26"
             ],
             [
              1,
              "#f0f921"
             ]
            ],
            "type": "surface"
           }
          ],
          "table": [
           {
            "cells": {
             "fill": {
              "color": "#506784"
             },
             "line": {
              "color": "rgb(17,17,17)"
             }
            },
            "header": {
             "fill": {
              "color": "#2a3f5f"
             },
             "line": {
              "color": "rgb(17,17,17)"
             }
            },
            "type": "table"
           }
          ]
         },
         "layout": {
          "annotationdefaults": {
           "arrowcolor": "#f2f5fa",
           "arrowhead": 0,
           "arrowwidth": 1
          },
          "autotypenumbers": "strict",
          "coloraxis": {
           "colorbar": {
            "outlinewidth": 0,
            "ticks": ""
           }
          },
          "colorscale": {
           "diverging": [
            [
             0,
             "#8e0152"
            ],
            [
             0.1,
             "#c51b7d"
            ],
            [
             0.2,
             "#de77ae"
            ],
            [
             0.3,
             "#f1b6da"
            ],
            [
             0.4,
             "#fde0ef"
            ],
            [
             0.5,
             "#f7f7f7"
            ],
            [
             0.6,
             "#e6f5d0"
            ],
            [
             0.7,
             "#b8e186"
            ],
            [
             0.8,
             "#7fbc41"
            ],
            [
             0.9,
             "#4d9221"
            ],
            [
             1,
             "#276419"
            ]
           ],
           "sequential": [
            [
             0,
             "#0d0887"
            ],
            [
             0.1111111111111111,
             "#46039f"
            ],
            [
             0.2222222222222222,
             "#7201a8"
            ],
            [
             0.3333333333333333,
             "#9c179e"
            ],
            [
             0.4444444444444444,
             "#bd3786"
            ],
            [
             0.5555555555555556,
             "#d8576b"
            ],
            [
             0.6666666666666666,
             "#ed7953"
            ],
            [
             0.7777777777777778,
             "#fb9f3a"
            ],
            [
             0.8888888888888888,
             "#fdca26"
            ],
            [
             1,
             "#f0f921"
            ]
           ],
           "sequentialminus": [
            [
             0,
             "#0d0887"
            ],
            [
             0.1111111111111111,
             "#46039f"
            ],
            [
             0.2222222222222222,
             "#7201a8"
            ],
            [
             0.3333333333333333,
             "#9c179e"
            ],
            [
             0.4444444444444444,
             "#bd3786"
            ],
            [
             0.5555555555555556,
             "#d8576b"
            ],
            [
             0.6666666666666666,
             "#ed7953"
            ],
            [
             0.7777777777777778,
             "#fb9f3a"
            ],
            [
             0.8888888888888888,
             "#fdca26"
            ],
            [
             1,
             "#f0f921"
            ]
           ]
          },
          "colorway": [
           "#636efa",
           "#EF553B",
           "#00cc96",
           "#ab63fa",
           "#FFA15A",
           "#19d3f3",
           "#FF6692",
           "#B6E880",
           "#FF97FF",
           "#FECB52"
          ],
          "font": {
           "color": "#f2f5fa"
          },
          "geo": {
           "bgcolor": "rgb(17,17,17)",
           "lakecolor": "rgb(17,17,17)",
           "landcolor": "rgb(17,17,17)",
           "showlakes": true,
           "showland": true,
           "subunitcolor": "#506784"
          },
          "hoverlabel": {
           "align": "left"
          },
          "hovermode": "closest",
          "mapbox": {
           "style": "dark"
          },
          "paper_bgcolor": "rgb(17,17,17)",
          "plot_bgcolor": "rgb(17,17,17)",
          "polar": {
           "angularaxis": {
            "gridcolor": "#506784",
            "linecolor": "#506784",
            "ticks": ""
           },
           "bgcolor": "rgb(17,17,17)",
           "radialaxis": {
            "gridcolor": "#506784",
            "linecolor": "#506784",
            "ticks": ""
           }
          },
          "scene": {
           "xaxis": {
            "backgroundcolor": "rgb(17,17,17)",
            "gridcolor": "#506784",
            "gridwidth": 2,
            "linecolor": "#506784",
            "showbackground": true,
            "ticks": "",
            "zerolinecolor": "#C8D4E3"
           },
           "yaxis": {
            "backgroundcolor": "rgb(17,17,17)",
            "gridcolor": "#506784",
            "gridwidth": 2,
            "linecolor": "#506784",
            "showbackground": true,
            "ticks": "",
            "zerolinecolor": "#C8D4E3"
           },
           "zaxis": {
            "backgroundcolor": "rgb(17,17,17)",
            "gridcolor": "#506784",
            "gridwidth": 2,
            "linecolor": "#506784",
            "showbackground": true,
            "ticks": "",
            "zerolinecolor": "#C8D4E3"
           }
          },
          "shapedefaults": {
           "line": {
            "color": "#f2f5fa"
           }
          },
          "sliderdefaults": {
           "bgcolor": "#C8D4E3",
           "bordercolor": "rgb(17,17,17)",
           "borderwidth": 1,
           "tickwidth": 0
          },
          "ternary": {
           "aaxis": {
            "gridcolor": "#506784",
            "linecolor": "#506784",
            "ticks": ""
           },
           "baxis": {
            "gridcolor": "#506784",
            "linecolor": "#506784",
            "ticks": ""
           },
           "bgcolor": "rgb(17,17,17)",
           "caxis": {
            "gridcolor": "#506784",
            "linecolor": "#506784",
            "ticks": ""
           }
          },
          "title": {
           "x": 0.05
          },
          "updatemenudefaults": {
           "bgcolor": "#506784",
           "borderwidth": 0
          },
          "xaxis": {
           "automargin": true,
           "gridcolor": "#283442",
           "linecolor": "#506784",
           "ticks": "",
           "title": {
            "standoff": 15
           },
           "zerolinecolor": "#283442",
           "zerolinewidth": 2
          },
          "yaxis": {
           "automargin": true,
           "gridcolor": "#283442",
           "linecolor": "#506784",
           "ticks": "",
           "title": {
            "standoff": 15
           },
           "zerolinecolor": "#283442",
           "zerolinewidth": 2
          }
         }
        }
       }
      }
     },
     "metadata": {},
     "output_type": "display_data"
    }
   ],
   "source": [
    "sunburst_all = go.Figure()\n",
    "sunburst_all.layout.template = CHART_THEME\n",
    "sunburst_all.add_trace(go.Sunburst(\n",
    "    labels=df_all_trees['id'],\n",
    "    parents=df_all_trees['parent'],\n",
    "    values=df_all_trees['value'],\n",
    "    branchvalues='total',\n",
    "    marker=dict(\n",
    "        colors=df_all_trees['color'],\n",
    "        colorscale='brbg',\n",
    "        cmid=average_score),\n",
    "    hovertemplate='<b>%{label} </b> <br> Size: $ %{value}<br> Variation: %{color:.2f}%',\n",
    "    name=''\n",
    "    ))\n",
    "sunburst_all.update_layout(paper_bgcolor=\"#272b30\")\n",
    "sunburst_all.update_layout(margin=dict(t=10, b=10, r=10, l=10))\n",
    "sunburst_all.show()"
   ]
  },
  {
   "cell_type": "code",
   "execution_count": 166,
   "metadata": {
    "scrolled": false
   },
   "outputs": [
    {
     "data": {
      "application/vnd.plotly.v1+json": {
       "config": {
        "plotlyServerURL": "https://plot.ly"
       },
       "data": [
        {
         "branchvalues": "total",
         "hovertemplate": "<b>%{label} </b> <br> Size: $ %{value}<br> Variation: %{color:.2f}%",
         "labels": [
          "AAPL",
          "AMD",
          "AMZN",
          "BA",
          "CSCO",
          "CVS",
          "CVX",
          "DIS",
          "DKNG",
          "DOCU",
          "FB",
          "FDX",
          "FVRR",
          "GOOGL",
          "IBM",
          "INTC",
          "JNJ",
          "JPM",
          "MCD",
          "MGM",
          "MMM",
          "MO",
          "MRNA",
          "MSFT",
          "NFLX",
          "NIO",
          "NKLA",
          "NVDA",
          "NWS",
          "PAYS",
          "PLL",
          "PLTR",
          "PLUG",
          "PTON",
          "PYPL",
          "RIOT",
          "RUN",
          "SHOP",
          "STOR",
          "SYF",
          "TSLA",
          "TTD",
          "TWTR",
          "VIAC",
          "WMT",
          "ZEN",
          "ZI",
          "Aerospace & Defense",
          "Auto Manufacturers",
          "Banks - Diversified",
          "Biotechnology",
          "Broadcasting",
          "Communication Equipment",
          "Consumer Electronics",
          "Credit Services",
          "Discount Stores",
          "Drug Manufacturers - General",
          "Electrical Equipment & Parts",
          "Entertainment",
          "Gambling",
          "Healthcare Plans",
          "Information Technology Services",
          "Integrated Freight & Logistics",
          "Internet Content & Information",
          "Internet Retail",
          "Leisure",
          "Oil & Gas Integrated",
          "Other Industrial Metals & Mining",
          "REIT - Diversified",
          "Resorts & Casinos",
          "Restaurants",
          "Semiconductors",
          "Software - Application",
          "Software - Infrastructure",
          "Solar",
          "Specialty Business Services",
          "Specialty Industrial Machinery",
          "Tobacco",
          "Basic Materials",
          "Communication Services",
          "Consumer Cyclical",
          "Consumer Defensive",
          "Energy",
          "Financial",
          "Healthcare",
          "Industrials",
          "Real Estate",
          "Technology",
          null,
          null,
          null,
          null
         ],
         "marker": {
          "cmid": 0.47173558031821905,
          "colors": [
           112.96,
           166.69,
           32.17,
           -5.85,
           43.74,
           66.15,
           28.13,
           36.71,
           -27.78,
           -44.89,
           69.88,
           5.79,
           104.75,
           87.29,
           -4.38,
           -13.22,
           22.79,
           62.3,
           27.51,
           73.75,
           -4.62,
           3.9,
           356.7,
           90.6,
           18.84,
           13.9,
           -72.16,
           316.88,
           140.86,
           -73.33,
           73.34,
           -28.24,
           99.71,
           -7.15,
           67.22,
           -0.43,
           -37.04,
           74.87,
           23.29,
           94.38,
           297.73,
           193.76,
           26.12,
           97.77,
           10.69,
           19.34,
           49.65,
           -5.85,
           113.14,
           62.3,
           356.7,
           140.86,
           43.74,
           112.96,
           74.31,
           10.69,
           22.79,
           99.71,
           41.4,
           -27.78,
           66.15,
           -4.38,
           5.79,
           73.06,
           41.06,
           -7.15,
           28.13,
           73.34,
           23.29,
           73.75,
           27.51,
           118,
           21.35,
           55.68,
           -37.04,
           -73.33,
           -4.62,
           3.9,
           73.34,
           64.31,
           58.23,
           6.41,
           28.13,
           69.8,
           90.3,
           1.41,
           23.29,
           49.57,
           null,
           null,
           null,
           null
          ],
          "colorscale": [
           [
            0,
            "#f884f7"
           ],
           [
            0.0625,
            "#f968c4"
           ],
           [
            0.125,
            "#ea4388"
           ],
           [
            0.1875,
            "#cf244b"
           ],
           [
            0.25,
            "#b51a15"
           ],
           [
            0.3125,
            "#bd4304"
           ],
           [
            0.375,
            "#cc6904"
           ],
           [
            0.4375,
            "#d58f04"
           ],
           [
            0.5,
            "#cfaa27"
           ],
           [
            0.5625,
            "#a19f62"
           ],
           [
            0.625,
            "#588a93"
           ],
           [
            0.6875,
            "#2269c4"
           ],
           [
            0.75,
            "#3e3ef0"
           ],
           [
            0.8125,
            "#6b4ef9"
           ],
           [
            0.875,
            "#956bfa"
           ],
           [
            0.9375,
            "#cd7dfe"
           ],
           [
            1,
            "#f884f7"
           ]
          ]
         },
         "maxdepth": 2,
         "name": "",
         "parents": [
          "Consumer Electronics",
          "Semiconductors",
          "Internet Retail",
          "Aerospace & Defense",
          "Communication Equipment",
          "Healthcare Plans",
          "Oil & Gas Integrated",
          "Entertainment",
          "Gambling",
          "Software - Application",
          "Internet Content & Information",
          "Integrated Freight & Logistics",
          "Internet Retail",
          "Internet Content & Information",
          "Information Technology Services",
          "Semiconductors",
          "Drug Manufacturers - General",
          "Banks - Diversified",
          "Restaurants",
          "Resorts & Casinos",
          "Specialty Industrial Machinery",
          "Tobacco",
          "Biotechnology",
          "Software - Infrastructure",
          "Entertainment",
          "Auto Manufacturers",
          "Auto Manufacturers",
          "Semiconductors",
          "Broadcasting",
          "Specialty Business Services",
          "Other Industrial Metals & Mining",
          "Software - Infrastructure",
          "Electrical Equipment & Parts",
          "Leisure",
          "Credit Services",
          "Software - Application",
          "Solar",
          "Software - Application",
          "REIT - Diversified",
          "Credit Services",
          "Auto Manufacturers",
          "Software - Application",
          "Internet Content & Information",
          "Entertainment",
          "Discount Stores",
          "Software - Application",
          "Software - Application",
          "Industrials",
          "Consumer Cyclical",
          "Financial",
          "Healthcare",
          "Communication Services",
          "Technology",
          "Technology",
          "Financial",
          "Consumer Defensive",
          "Healthcare",
          "Industrials",
          "Communication Services",
          "Consumer Cyclical",
          "Healthcare",
          "Technology",
          "Industrials",
          "Communication Services",
          "Consumer Cyclical",
          "Consumer Cyclical",
          "Energy",
          "Basic Materials",
          "Real Estate",
          "Consumer Cyclical",
          "Consumer Cyclical",
          "Technology",
          "Technology",
          "Technology",
          "Technology",
          "Industrials",
          "Industrials",
          "Consumer Defensive",
          "Portfolio",
          "Portfolio",
          "Portfolio",
          "Portfolio",
          "Portfolio",
          "Portfolio",
          "Portfolio",
          "Portfolio",
          "Portfolio",
          "Portfolio",
          null,
          null,
          null,
          null
         ],
         "type": "sunburst",
         "values": [
          5826.24,
          3456.24,
          5762.64,
          1548.22,
          674.76,
          1090.44,
          2059.38,
          1614.27,
          780.18,
          1621.08,
          2393.35,
          1734.05,
          1246.9,
          5225.66,
          1140.86,
          1773,
          1338.79,
          1741.19,
          1371.32,
          1606.8,
          2071.08,
          2196,
          1533.6,
          3876.12,
          1806.39,
          964.5,
          472.5,
          4297.02,
          1093.5,
          259.5,
          1614.3,
          607.36,
          1840.3,
          871,
          2207.16,
          1575.2,
          1438.2,
          1692,
          1544.42,
          905.6,
          8586.65,
          2685.3,
          946.57,
          1398.15,
          1375.1,
          968.8,
          1138.2,
          1548.22,
          10023.65,
          1741.19,
          1533.6,
          1093.5,
          674.76,
          5826.24,
          3112.7599999999998,
          1375.1,
          1338.79,
          1840.3,
          4818.81,
          780.18,
          1090.44,
          1140.86,
          1734.05,
          8565.58,
          7009.540000000001,
          871,
          2059.38,
          1614.3,
          1544.42,
          1606.8,
          1371.32,
          9526.26,
          9680.58,
          4483.48,
          1438.2,
          259.5,
          2071.08,
          2196,
          1614.3,
          14477.89,
          21662.49,
          3571.1,
          2059.38,
          4853.95,
          3962.83,
          7453.15,
          1544.42,
          32770.38,
          null,
          null,
          null,
          null
         ]
        }
       ],
       "layout": {
        "margin": {
         "b": 10,
         "l": 10,
         "r": 10,
         "t": 10
        },
        "paper_bgcolor": "#272b30",
        "template": {
         "data": {
          "bar": [
           {
            "error_x": {
             "color": "#f2f5fa"
            },
            "error_y": {
             "color": "#f2f5fa"
            },
            "marker": {
             "line": {
              "color": "rgb(17,17,17)",
              "width": 0.5
             },
             "pattern": {
              "fillmode": "overlay",
              "size": 10,
              "solidity": 0.2
             }
            },
            "type": "bar"
           }
          ],
          "barpolar": [
           {
            "marker": {
             "line": {
              "color": "rgb(17,17,17)",
              "width": 0.5
             },
             "pattern": {
              "fillmode": "overlay",
              "size": 10,
              "solidity": 0.2
             }
            },
            "type": "barpolar"
           }
          ],
          "carpet": [
           {
            "aaxis": {
             "endlinecolor": "#A2B1C6",
             "gridcolor": "#506784",
             "linecolor": "#506784",
             "minorgridcolor": "#506784",
             "startlinecolor": "#A2B1C6"
            },
            "baxis": {
             "endlinecolor": "#A2B1C6",
             "gridcolor": "#506784",
             "linecolor": "#506784",
             "minorgridcolor": "#506784",
             "startlinecolor": "#A2B1C6"
            },
            "type": "carpet"
           }
          ],
          "choropleth": [
           {
            "colorbar": {
             "outlinewidth": 0,
             "ticks": ""
            },
            "type": "choropleth"
           }
          ],
          "contour": [
           {
            "colorbar": {
             "outlinewidth": 0,
             "ticks": ""
            },
            "colorscale": [
             [
              0,
              "#0d0887"
             ],
             [
              0.1111111111111111,
              "#46039f"
             ],
             [
              0.2222222222222222,
              "#7201a8"
             ],
             [
              0.3333333333333333,
              "#9c179e"
             ],
             [
              0.4444444444444444,
              "#bd3786"
             ],
             [
              0.5555555555555556,
              "#d8576b"
             ],
             [
              0.6666666666666666,
              "#ed7953"
             ],
             [
              0.7777777777777778,
              "#fb9f3a"
             ],
             [
              0.8888888888888888,
              "#fdca26"
             ],
             [
              1,
              "#f0f921"
             ]
            ],
            "type": "contour"
           }
          ],
          "contourcarpet": [
           {
            "colorbar": {
             "outlinewidth": 0,
             "ticks": ""
            },
            "type": "contourcarpet"
           }
          ],
          "heatmap": [
           {
            "colorbar": {
             "outlinewidth": 0,
             "ticks": ""
            },
            "colorscale": [
             [
              0,
              "#0d0887"
             ],
             [
              0.1111111111111111,
              "#46039f"
             ],
             [
              0.2222222222222222,
              "#7201a8"
             ],
             [
              0.3333333333333333,
              "#9c179e"
             ],
             [
              0.4444444444444444,
              "#bd3786"
             ],
             [
              0.5555555555555556,
              "#d8576b"
             ],
             [
              0.6666666666666666,
              "#ed7953"
             ],
             [
              0.7777777777777778,
              "#fb9f3a"
             ],
             [
              0.8888888888888888,
              "#fdca26"
             ],
             [
              1,
              "#f0f921"
             ]
            ],
            "type": "heatmap"
           }
          ],
          "heatmapgl": [
           {
            "colorbar": {
             "outlinewidth": 0,
             "ticks": ""
            },
            "colorscale": [
             [
              0,
              "#0d0887"
             ],
             [
              0.1111111111111111,
              "#46039f"
             ],
             [
              0.2222222222222222,
              "#7201a8"
             ],
             [
              0.3333333333333333,
              "#9c179e"
             ],
             [
              0.4444444444444444,
              "#bd3786"
             ],
             [
              0.5555555555555556,
              "#d8576b"
             ],
             [
              0.6666666666666666,
              "#ed7953"
             ],
             [
              0.7777777777777778,
              "#fb9f3a"
             ],
             [
              0.8888888888888888,
              "#fdca26"
             ],
             [
              1,
              "#f0f921"
             ]
            ],
            "type": "heatmapgl"
           }
          ],
          "histogram": [
           {
            "marker": {
             "pattern": {
              "fillmode": "overlay",
              "size": 10,
              "solidity": 0.2
             }
            },
            "type": "histogram"
           }
          ],
          "histogram2d": [
           {
            "colorbar": {
             "outlinewidth": 0,
             "ticks": ""
            },
            "colorscale": [
             [
              0,
              "#0d0887"
             ],
             [
              0.1111111111111111,
              "#46039f"
             ],
             [
              0.2222222222222222,
              "#7201a8"
             ],
             [
              0.3333333333333333,
              "#9c179e"
             ],
             [
              0.4444444444444444,
              "#bd3786"
             ],
             [
              0.5555555555555556,
              "#d8576b"
             ],
             [
              0.6666666666666666,
              "#ed7953"
             ],
             [
              0.7777777777777778,
              "#fb9f3a"
             ],
             [
              0.8888888888888888,
              "#fdca26"
             ],
             [
              1,
              "#f0f921"
             ]
            ],
            "type": "histogram2d"
           }
          ],
          "histogram2dcontour": [
           {
            "colorbar": {
             "outlinewidth": 0,
             "ticks": ""
            },
            "colorscale": [
             [
              0,
              "#0d0887"
             ],
             [
              0.1111111111111111,
              "#46039f"
             ],
             [
              0.2222222222222222,
              "#7201a8"
             ],
             [
              0.3333333333333333,
              "#9c179e"
             ],
             [
              0.4444444444444444,
              "#bd3786"
             ],
             [
              0.5555555555555556,
              "#d8576b"
             ],
             [
              0.6666666666666666,
              "#ed7953"
             ],
             [
              0.7777777777777778,
              "#fb9f3a"
             ],
             [
              0.8888888888888888,
              "#fdca26"
             ],
             [
              1,
              "#f0f921"
             ]
            ],
            "type": "histogram2dcontour"
           }
          ],
          "mesh3d": [
           {
            "colorbar": {
             "outlinewidth": 0,
             "ticks": ""
            },
            "type": "mesh3d"
           }
          ],
          "parcoords": [
           {
            "line": {
             "colorbar": {
              "outlinewidth": 0,
              "ticks": ""
             }
            },
            "type": "parcoords"
           }
          ],
          "pie": [
           {
            "automargin": true,
            "type": "pie"
           }
          ],
          "scatter": [
           {
            "marker": {
             "line": {
              "color": "#283442"
             }
            },
            "type": "scatter"
           }
          ],
          "scatter3d": [
           {
            "line": {
             "colorbar": {
              "outlinewidth": 0,
              "ticks": ""
             }
            },
            "marker": {
             "colorbar": {
              "outlinewidth": 0,
              "ticks": ""
             }
            },
            "type": "scatter3d"
           }
          ],
          "scattercarpet": [
           {
            "marker": {
             "colorbar": {
              "outlinewidth": 0,
              "ticks": ""
             }
            },
            "type": "scattercarpet"
           }
          ],
          "scattergeo": [
           {
            "marker": {
             "colorbar": {
              "outlinewidth": 0,
              "ticks": ""
             }
            },
            "type": "scattergeo"
           }
          ],
          "scattergl": [
           {
            "marker": {
             "line": {
              "color": "#283442"
             }
            },
            "type": "scattergl"
           }
          ],
          "scattermapbox": [
           {
            "marker": {
             "colorbar": {
              "outlinewidth": 0,
              "ticks": ""
             }
            },
            "type": "scattermapbox"
           }
          ],
          "scatterpolar": [
           {
            "marker": {
             "colorbar": {
              "outlinewidth": 0,
              "ticks": ""
             }
            },
            "type": "scatterpolar"
           }
          ],
          "scatterpolargl": [
           {
            "marker": {
             "colorbar": {
              "outlinewidth": 0,
              "ticks": ""
             }
            },
            "type": "scatterpolargl"
           }
          ],
          "scatterternary": [
           {
            "marker": {
             "colorbar": {
              "outlinewidth": 0,
              "ticks": ""
             }
            },
            "type": "scatterternary"
           }
          ],
          "surface": [
           {
            "colorbar": {
             "outlinewidth": 0,
             "ticks": ""
            },
            "colorscale": [
             [
              0,
              "#0d0887"
             ],
             [
              0.1111111111111111,
              "#46039f"
             ],
             [
              0.2222222222222222,
              "#7201a8"
             ],
             [
              0.3333333333333333,
              "#9c179e"
             ],
             [
              0.4444444444444444,
              "#bd3786"
             ],
             [
              0.5555555555555556,
              "#d8576b"
             ],
             [
              0.6666666666666666,
              "#ed7953"
             ],
             [
              0.7777777777777778,
              "#fb9f3a"
             ],
             [
              0.8888888888888888,
              "#fdca26"
             ],
             [
              1,
              "#f0f921"
             ]
            ],
            "type": "surface"
           }
          ],
          "table": [
           {
            "cells": {
             "fill": {
              "color": "#506784"
             },
             "line": {
              "color": "rgb(17,17,17)"
             }
            },
            "header": {
             "fill": {
              "color": "#2a3f5f"
             },
             "line": {
              "color": "rgb(17,17,17)"
             }
            },
            "type": "table"
           }
          ]
         },
         "layout": {
          "annotationdefaults": {
           "arrowcolor": "#f2f5fa",
           "arrowhead": 0,
           "arrowwidth": 1
          },
          "autotypenumbers": "strict",
          "coloraxis": {
           "colorbar": {
            "outlinewidth": 0,
            "ticks": ""
           }
          },
          "colorscale": {
           "diverging": [
            [
             0,
             "#8e0152"
            ],
            [
             0.1,
             "#c51b7d"
            ],
            [
             0.2,
             "#de77ae"
            ],
            [
             0.3,
             "#f1b6da"
            ],
            [
             0.4,
             "#fde0ef"
            ],
            [
             0.5,
             "#f7f7f7"
            ],
            [
             0.6,
             "#e6f5d0"
            ],
            [
             0.7,
             "#b8e186"
            ],
            [
             0.8,
             "#7fbc41"
            ],
            [
             0.9,
             "#4d9221"
            ],
            [
             1,
             "#276419"
            ]
           ],
           "sequential": [
            [
             0,
             "#0d0887"
            ],
            [
             0.1111111111111111,
             "#46039f"
            ],
            [
             0.2222222222222222,
             "#7201a8"
            ],
            [
             0.3333333333333333,
             "#9c179e"
            ],
            [
             0.4444444444444444,
             "#bd3786"
            ],
            [
             0.5555555555555556,
             "#d8576b"
            ],
            [
             0.6666666666666666,
             "#ed7953"
            ],
            [
             0.7777777777777778,
             "#fb9f3a"
            ],
            [
             0.8888888888888888,
             "#fdca26"
            ],
            [
             1,
             "#f0f921"
            ]
           ],
           "sequentialminus": [
            [
             0,
             "#0d0887"
            ],
            [
             0.1111111111111111,
             "#46039f"
            ],
            [
             0.2222222222222222,
             "#7201a8"
            ],
            [
             0.3333333333333333,
             "#9c179e"
            ],
            [
             0.4444444444444444,
             "#bd3786"
            ],
            [
             0.5555555555555556,
             "#d8576b"
            ],
            [
             0.6666666666666666,
             "#ed7953"
            ],
            [
             0.7777777777777778,
             "#fb9f3a"
            ],
            [
             0.8888888888888888,
             "#fdca26"
            ],
            [
             1,
             "#f0f921"
            ]
           ]
          },
          "colorway": [
           "#636efa",
           "#EF553B",
           "#00cc96",
           "#ab63fa",
           "#FFA15A",
           "#19d3f3",
           "#FF6692",
           "#B6E880",
           "#FF97FF",
           "#FECB52"
          ],
          "font": {
           "color": "#f2f5fa"
          },
          "geo": {
           "bgcolor": "rgb(17,17,17)",
           "lakecolor": "rgb(17,17,17)",
           "landcolor": "rgb(17,17,17)",
           "showlakes": true,
           "showland": true,
           "subunitcolor": "#506784"
          },
          "hoverlabel": {
           "align": "left"
          },
          "hovermode": "closest",
          "mapbox": {
           "style": "dark"
          },
          "paper_bgcolor": "rgb(17,17,17)",
          "plot_bgcolor": "rgb(17,17,17)",
          "polar": {
           "angularaxis": {
            "gridcolor": "#506784",
            "linecolor": "#506784",
            "ticks": ""
           },
           "bgcolor": "rgb(17,17,17)",
           "radialaxis": {
            "gridcolor": "#506784",
            "linecolor": "#506784",
            "ticks": ""
           }
          },
          "scene": {
           "xaxis": {
            "backgroundcolor": "rgb(17,17,17)",
            "gridcolor": "#506784",
            "gridwidth": 2,
            "linecolor": "#506784",
            "showbackground": true,
            "ticks": "",
            "zerolinecolor": "#C8D4E3"
           },
           "yaxis": {
            "backgroundcolor": "rgb(17,17,17)",
            "gridcolor": "#506784",
            "gridwidth": 2,
            "linecolor": "#506784",
            "showbackground": true,
            "ticks": "",
            "zerolinecolor": "#C8D4E3"
           },
           "zaxis": {
            "backgroundcolor": "rgb(17,17,17)",
            "gridcolor": "#506784",
            "gridwidth": 2,
            "linecolor": "#506784",
            "showbackground": true,
            "ticks": "",
            "zerolinecolor": "#C8D4E3"
           }
          },
          "shapedefaults": {
           "line": {
            "color": "#f2f5fa"
           }
          },
          "sliderdefaults": {
           "bgcolor": "#C8D4E3",
           "bordercolor": "rgb(17,17,17)",
           "borderwidth": 1,
           "tickwidth": 0
          },
          "ternary": {
           "aaxis": {
            "gridcolor": "#506784",
            "linecolor": "#506784",
            "ticks": ""
           },
           "baxis": {
            "gridcolor": "#506784",
            "linecolor": "#506784",
            "ticks": ""
           },
           "bgcolor": "rgb(17,17,17)",
           "caxis": {
            "gridcolor": "#506784",
            "linecolor": "#506784",
            "ticks": ""
           }
          },
          "title": {
           "x": 0.05
          },
          "updatemenudefaults": {
           "bgcolor": "#506784",
           "borderwidth": 0
          },
          "xaxis": {
           "automargin": true,
           "gridcolor": "#283442",
           "linecolor": "#506784",
           "ticks": "",
           "title": {
            "standoff": 15
           },
           "zerolinecolor": "#283442",
           "zerolinewidth": 2
          },
          "yaxis": {
           "automargin": true,
           "gridcolor": "#283442",
           "linecolor": "#506784",
           "ticks": "",
           "title": {
            "standoff": 15
           },
           "zerolinecolor": "#283442",
           "zerolinewidth": 2
          }
         }
        }
       }
      }
     },
     "metadata": {},
     "output_type": "display_data"
    }
   ],
   "source": [
    "sunburst_fig2 = go.Figure()\n",
    "sunburst_fig2.layout.template = CHART_THEME\n",
    "sunburst_fig2.add_trace(go.Sunburst(\n",
    "    labels=df_all_trees['id'],\n",
    "    parents=df_all_trees['parent'],\n",
    "    values=df_all_trees['value'],\n",
    "    branchvalues='total',\n",
    "    marker=dict(\n",
    "        colors=df_all_trees['color'],\n",
    "        colorscale='mrybm',\n",
    "        cmid=average_score),\n",
    "    hovertemplate='<b>%{label} </b> <br> Size: $ %{value}<br> Variation: %{color:.2f}%',\n",
    "    maxdepth=2,\n",
    "    name=''\n",
    "    ))\n",
    "\n",
    "sunburst_fig2.update_layout(margin=dict(t=10, b=10, r=10, l=10))\n",
    "sunburst_fig2.update_layout(paper_bgcolor=\"#272b30\")\n",
    "sunburst_fig2.show()"
   ]
  },
  {
   "cell_type": "code",
   "execution_count": 105,
   "metadata": {
    "scrolled": true
   },
   "outputs": [],
   "source": [
    "# https://plotly.com/python/builtin-colorscales/"
   ]
  },
  {
   "cell_type": "code",
   "execution_count": null,
   "metadata": {},
   "outputs": [],
   "source": []
  },
  {
   "cell_type": "code",
   "execution_count": null,
   "metadata": {},
   "outputs": [],
   "source": []
  },
  {
   "cell_type": "code",
   "execution_count": null,
   "metadata": {},
   "outputs": [],
   "source": []
  },
  {
   "cell_type": "code",
   "execution_count": null,
   "metadata": {},
   "outputs": [],
   "source": []
  },
  {
   "cell_type": "code",
   "execution_count": null,
   "metadata": {},
   "outputs": [],
   "source": []
  },
  {
   "cell_type": "markdown",
   "metadata": {},
   "source": [
    "<div class=\"alert alert-block alert-info text-center\">\n",
    "    <H1> PHASE III </H1>\n",
    "</div>\n",
    "\n",
    "# Dash\n",
    "\n",
    "- Make sure to check the Dash Basics and Dash Bootstrap Themes parts if you are new to Dash!\n",
    "- We are going to create all the pages and add the charts we created in Phase II"
   ]
  },
  {
   "cell_type": "code",
   "execution_count": 167,
   "metadata": {},
   "outputs": [],
   "source": [
    "ticker_dict = [{'label': current_positions.company[i], 'value': current_positions.ticker[i]} for i in range(current_positions.shape[0])]\n",
    "first_stock = current_positions.ticker[0]"
   ]
  },
  {
   "cell_type": "code",
   "execution_count": 168,
   "metadata": {},
   "outputs": [],
   "source": [
    "SIDEBAR_STYLE = {\n",
    "    'position': 'fixed',\n",
    "    'top': 0,\n",
    "    'left': 0,\n",
    "    'bottom': 0,\n",
    "    'width': '12rem',\n",
    "    'padding': '2rem 1rem',\n",
    "    'background-color': 'rgba(120, 120, 120, 0.4)',\n",
    "}\n",
    "CONTENT_STYLE = {\n",
    "    'margin-left': '15rem',\n",
    "    'margin-right': '2rem',\n",
    "    'padding': '2rem' '1rem',\n",
    "}"
   ]
  },
  {
   "cell_type": "code",
   "execution_count": 169,
   "metadata": {},
   "outputs": [],
   "source": [
    "sidebar = html.Div(\n",
    "    [\n",
    "        html.Hr(),\n",
    "        html.P('Investment Tracker v0.95', className='text-center p-3 border border-dark'),\n",
    "        html.Hr(),\n",
    "        dbc.Nav(\n",
    "            [\n",
    "                dbc.NavLink('Portfolio', href=\"/\", active='exact'),\n",
    "                dbc.NavLink('Ticker View', href=\"/tickerpage\", active='exact'),\n",
    "                dbc.NavLink('Sunburst Chart', href=\"/sunburst\", active='exact'),\n",
    "                dbc.NavLink('Table View', href=\"/tableview\", active='exact')\n",
    "            ],\n",
    "            vertical=True,\n",
    "            pills=True,\n",
    "        ),\n",
    "    ],\n",
    "    style=SIDEBAR_STYLE,\n",
    ")"
   ]
  },
  {
   "cell_type": "markdown",
   "metadata": {},
   "source": [
    "## Homepage"
   ]
  },
  {
   "cell_type": "code",
   "execution_count": 170,
   "metadata": {},
   "outputs": [],
   "source": [
    "homepage = [\n",
    "    dbc.Row(dbc.Col(html.H2('PORTFOLIO OVERVIEW', className='text-center mb-3 p-3'))),\n",
    "    dbc.Row([\n",
    "        dbc.Col([\n",
    "            html.H5('Portfolio Value vs Net Invested ($USD)', className='text-center'),\n",
    "            html.Div(children=f\"Portfolio Value: {current_ptfvalue}\", className='text-left mb-2'),\n",
    "            dcc.Graph(id='chrt-portfolio-main',\n",
    "                      figure=chart_ptfvalue,\n",
    "                      style={'height': 450},\n",
    "                      className='shadow-lg'\n",
    "                     ),\n",
    "            html.Hr(),\n",
    "\n",
    "        ],\n",
    "            width={'size': 8, 'offset': 0, 'order': 1}),\n",
    "        dbc.Col([\n",
    "            html.H5('Portfolio', className='text-center'),\n",
    "            html.Div(children=\"KPI's\", className='text-center fs-4'),\n",
    "            dcc.Graph(id='indicators-ptf',\n",
    "                      figure=indicators_ptf,\n",
    "                      style={'height': 450},\n",
    "                      className='shadow-lg'),\n",
    "            html.Hr()\n",
    "        ],\n",
    "            width={'size': 2, 'offset': 0, 'order': 2}),\n",
    "        dbc.Col([\n",
    "            html.H5('S&P500', className='text-center'),\n",
    "            html.Div(children=\"KPI's\", className='text-center fs-4'),            \n",
    "            dcc.Graph(id='indicators-sp',\n",
    "                      figure=indicators_sp500,\n",
    "                      style={'height': 450},\n",
    "                      className='shadow-lg'),\n",
    "            html.Hr()\n",
    "        ],\n",
    "            width={'size': 2, 'offset': 0, 'order': 3}),\n",
    "    ]),  # end of second row\n",
    "    dbc.Row([\n",
    "        dbc.Col([\n",
    "            dcc.Graph(id='chrt-portfolio-secondary',\n",
    "                      figure=drawdown_chart,\n",
    "                      style={'height': 300},\n",
    "                      className='shadow-lg'),\n",
    "            html.Hr(),\n",
    "            dcc.Graph(id='chrt-portfolio-third',\n",
    "                      figure=portfolio_cashflow,\n",
    "                      style={'height': 300},\n",
    "                      className='shadow-lg'),\n",
    "        ],\n",
    "            width={'size': 8, 'offset': 0, 'order': 1}),\n",
    "        dbc.Col([\n",
    "            dcc.Graph(id='pie-top15',\n",
    "                      figure=sunburst_fig2,\n",
    "                      style={'height': 630},\n",
    "                      className='shadow-lg'),\n",
    "        ],\n",
    "            width={'size': 4, 'offset': 0, 'order': 2}),\n",
    "    ])\n",
    "\n",
    "]"
   ]
  },
  {
   "cell_type": "markdown",
   "metadata": {},
   "source": [
    "## Stock View"
   ]
  },
  {
   "cell_type": "code",
   "execution_count": 180,
   "metadata": {},
   "outputs": [],
   "source": [
    "tickerpage = [\n",
    "    dbc.Row(dbc.Col(html.H2('TICKER VIEW', className='text-center mb-3 p-3'))),\n",
    "    dbc.Row([\n",
    "        dbc.Col([\n",
    "            html.H5('Candlestick chart', className='text-center'),\n",
    "            dcc.Dropdown(\n",
    "                id='ticker-selector',\n",
    "                options=ticker_dict,\n",
    "                value=first_stock,\n",
    "                clearable=False,\n",
    "            ),\n",
    "            dcc.Graph(id='chrt-ticker-main',\n",
    "                      figure=fig_main,\n",
    "                      style={'height': 920},\n",
    "                      className='shadow-lg'),\n",
    "            html.Hr(),\n",
    "\n",
    "        ],\n",
    "            width={'size': 9, 'offset': 0, 'order': 1}),\n",
    "        dbc.Col([\n",
    "#             html.H5('Metrics', className='text-center'),\n",
    "            dash_table.DataTable(id='first-table',\n",
    "                                 columns=[],\n",
    "                                 data=[],\n",
    "                                 style_header = {'display': 'none'},\n",
    "                                 style_data = {'whiteSpace': 'normal',\n",
    "                                               'height': 'auto',\n",
    "                                               'lineHeight': '15px',\n",
    "                                               'border': 'none',\n",
    "                                               'backgroundColor': '#272b30',\n",
    "                                               'color': 'white'\n",
    "#                                                'textAlign': 'center'\n",
    "                                              },\n",
    "                                style_cell_conditional=[\n",
    "                                    {'if': {'column_id': 'indicator'},\n",
    "                                     'width': '40%',\n",
    "                                     'textAlign': 'left',\n",
    "                                     'fontWeight' : 'bold'\n",
    "#                                      'backgroundColor': 'rgba(0, 116, 217, 0.3)',\n",
    "#                                      'color': 'rgba(0,20,80,1)'\n",
    "                                    },\n",
    "                                    ]),\n",
    "            html.Hr(),\n",
    "            dash_table.DataTable(id='second-table',\n",
    "                                 columns=[],\n",
    "                                 data=[],\n",
    "                                 style_header = {'display': 'none'},\n",
    "                                 style_data = {'whiteSpace': 'normal',\n",
    "                                               'height': 'auto',\n",
    "                                               'lineHeight': '15px',\n",
    "                                               'border': 'none',\n",
    "                                               'backgroundColor': '#272b30',\n",
    "                                               'color': 'white'\n",
    "#                                                'textAlign': 'center'\n",
    "                                              },\n",
    "                                style_cell_conditional = [\n",
    "                                     {\n",
    "                                         'if': {'column_id': 'indicator'},\n",
    "                                         'width': '40%',\n",
    "                                         'textAlign': 'left',\n",
    "                                         'fontWeight' : 'bold'\n",
    "                                     }]\n",
    "                                ),\n",
    "            html.Hr(),\n",
    "            dash_table.DataTable(id='third-table',\n",
    "                                 columns=[],\n",
    "                                 data=[],\n",
    "                                 style_header = {'display': 'none'},\n",
    "                                 style_data = {'whiteSpace': 'normal',\n",
    "                                               'height': 'auto',\n",
    "                                               'lineHeight': '15px',\n",
    "                                               'border': 'none',\n",
    "                                               'backgroundColor': '#272b30',\n",
    "                                               'color': 'white'\n",
    "#                                                'textAlign': 'center'\n",
    "                                              },\n",
    "                                 style_cell_conditional = [\n",
    "                                     {\n",
    "                                         'if': {'column_id': 'indicator'},\n",
    "                                         'width': '40%',\n",
    "                                         'textAlign': 'left',\n",
    "                                         'fontWeight' : 'bold'\n",
    "                                     }]\n",
    "                                 ),\n",
    "            html.Hr(),\n",
    "        ],\n",
    "            width={'size': 3, 'offset': 0, 'order': 2}),\n",
    "    ])\n",
    "]"
   ]
  },
  {
   "cell_type": "markdown",
   "metadata": {},
   "source": [
    "## Sunburst Explorer"
   ]
  },
  {
   "cell_type": "code",
   "execution_count": 172,
   "metadata": {},
   "outputs": [],
   "source": [
    "sunburstpage = [\n",
    "    dbc.Row(dbc.Col(html.H2('SUNBURST VIEW', className='text-center mb-3 p-3'))),\n",
    "    dbc.Row([\n",
    "        dbc.Col([\n",
    "            html.H5('Explore your portfolio interactively', className='text-left'),\n",
    "            html.Div(children=f\"Portfolio Value: {current_ptfvalue}\", className='text-left'),\n",
    "            html.Hr(),\n",
    "            dcc.Graph(id='chrt-sunburstpage',\n",
    "                      figure=sunburst_all,\n",
    "                      style={'height': 800}),\n",
    "            html.Hr(),\n",
    "\n",
    "        ],\n",
    "            width={'size': 12, 'offset': 0, 'order': 1}),\n",
    "    ]),\n",
    "]"
   ]
  },
  {
   "cell_type": "markdown",
   "metadata": {},
   "source": [
    "## Tables"
   ]
  },
  {
   "cell_type": "code",
   "execution_count": 173,
   "metadata": {},
   "outputs": [],
   "source": [
    "tablepage = [\n",
    "    dbc.Row(dbc.Col(html.H2('FULL TABLE VIEW', className='text-center mb-3 p-3'))),\n",
    "    dbc.Row([\n",
    "        dbc.Col([\n",
    "            html.H5('Detailed view about every stock', className='text-left'),\n",
    "            html.Hr(),\n",
    "            tableview_table,\n",
    "            html.Hr(),\n",
    "\n",
    "        ],\n",
    "            width={'size': 12, 'offset': 0, 'order': 1}),\n",
    "    ]),\n",
    "]"
   ]
  },
  {
   "cell_type": "code",
   "execution_count": null,
   "metadata": {},
   "outputs": [],
   "source": []
  },
  {
   "cell_type": "code",
   "execution_count": 174,
   "metadata": {},
   "outputs": [],
   "source": [
    "content = html.Div(id='page-content', children=[], style=CONTENT_STYLE)"
   ]
  },
  {
   "cell_type": "code",
   "execution_count": 182,
   "metadata": {},
   "outputs": [
    {
     "ename": "AssertionError",
     "evalue": "The setup method 'errorhandler' can no longer be called on the application. It has already handled its first request, any changes will not be applied consistently.\nMake sure all imports, decorators, functions, etc. needed to set up the application are done before running it.",
     "output_type": "error",
     "traceback": [
      "\u001b[0;31m---------------------------------------------------------------------------\u001b[0m",
      "\u001b[0;31mAssertionError\u001b[0m                            Traceback (most recent call last)",
      "\u001b[1;32m/Users/anh/Downloads/Dashboard Course Zip/jupyter notebooks/Notebook C - Combining Plotly and Dash.ipynb Cell 84\u001b[0m line \u001b[0;36m1\n\u001b[1;32m     <a href='vscode-notebook-cell:/Users/anh/Downloads/Dashboard%20Course%20Zip/jupyter%20notebooks/Notebook%20C%20-%20Combining%20Plotly%20and%20Dash.ipynb#Y143sZmlsZQ%3D%3D?line=98'>99</a>\u001b[0m     \u001b[39mreturn\u001b[39;00m fig_main, cols, datatable, cols, datatabletwo, cols, datatablethree\n\u001b[1;32m    <a href='vscode-notebook-cell:/Users/anh/Downloads/Dashboard%20Course%20Zip/jupyter%20notebooks/Notebook%20C%20-%20Combining%20Plotly%20and%20Dash.ipynb#Y143sZmlsZQ%3D%3D?line=103'>104</a>\u001b[0m \u001b[39mif\u001b[39;00m \u001b[39m__name__\u001b[39m \u001b[39m==\u001b[39m \u001b[39m\"\u001b[39m\u001b[39m__main__\u001b[39m\u001b[39m\"\u001b[39m:\n\u001b[0;32m--> <a href='vscode-notebook-cell:/Users/anh/Downloads/Dashboard%20Course%20Zip/jupyter%20notebooks/Notebook%20C%20-%20Combining%20Plotly%20and%20Dash.ipynb#Y143sZmlsZQ%3D%3D?line=104'>105</a>\u001b[0m     app\u001b[39m.\u001b[39;49mrun_server(debug\u001b[39m=\u001b[39;49m\u001b[39mTrue\u001b[39;49;00m, port\u001b[39m=\u001b[39;49m\u001b[39m8095\u001b[39;49m)\n",
      "File \u001b[0;32m~/anaconda3/envs/dash/lib/python3.10/site-packages/dash/dash.py:2175\u001b[0m, in \u001b[0;36mDash.run_server\u001b[0;34m(self, *args, **kwargs)\u001b[0m\n\u001b[1;32m   2169\u001b[0m \u001b[39mdef\u001b[39;00m \u001b[39mrun_server\u001b[39m(\u001b[39mself\u001b[39m, \u001b[39m*\u001b[39margs, \u001b[39m*\u001b[39m\u001b[39m*\u001b[39mkwargs):\n\u001b[1;32m   2170\u001b[0m \u001b[39m    \u001b[39m\u001b[39m\"\"\"`run_server` is a deprecated alias of `run` and may be removed in a\u001b[39;00m\n\u001b[1;32m   2171\u001b[0m \u001b[39m    future version. We recommend using `app.run` instead.\u001b[39;00m\n\u001b[1;32m   2172\u001b[0m \n\u001b[1;32m   2173\u001b[0m \u001b[39m    See `app.run` for usage information.\u001b[39;00m\n\u001b[1;32m   2174\u001b[0m \u001b[39m    \"\"\"\u001b[39;00m\n\u001b[0;32m-> 2175\u001b[0m     \u001b[39mself\u001b[39;49m\u001b[39m.\u001b[39;49mrun(\u001b[39m*\u001b[39;49margs, \u001b[39m*\u001b[39;49m\u001b[39m*\u001b[39;49mkwargs)\n",
      "File \u001b[0;32m~/anaconda3/envs/dash/lib/python3.10/site-packages/dash/dash.py:1997\u001b[0m, in \u001b[0;36mDash.run\u001b[0;34m(self, host, port, proxy, debug, jupyter_mode, jupyter_width, jupyter_height, jupyter_server_url, dev_tools_ui, dev_tools_props_check, dev_tools_serve_dev_bundles, dev_tools_hot_reload, dev_tools_hot_reload_interval, dev_tools_hot_reload_watch_interval, dev_tools_hot_reload_max_retry, dev_tools_silence_routes_logging, dev_tools_prune_errors, **flask_run_options)\u001b[0m\n\u001b[1;32m   1994\u001b[0m \u001b[39mif\u001b[39;00m debug \u001b[39mis\u001b[39;00m \u001b[39mNone\u001b[39;00m:\n\u001b[1;32m   1995\u001b[0m     debug \u001b[39m=\u001b[39m get_combined_config(\u001b[39m\"\u001b[39m\u001b[39mdebug\u001b[39m\u001b[39m\"\u001b[39m, \u001b[39mNone\u001b[39;00m, \u001b[39mFalse\u001b[39;00m)\n\u001b[0;32m-> 1997\u001b[0m debug \u001b[39m=\u001b[39m \u001b[39mself\u001b[39;49m\u001b[39m.\u001b[39;49menable_dev_tools(\n\u001b[1;32m   1998\u001b[0m     debug,\n\u001b[1;32m   1999\u001b[0m     dev_tools_ui,\n\u001b[1;32m   2000\u001b[0m     dev_tools_props_check,\n\u001b[1;32m   2001\u001b[0m     dev_tools_serve_dev_bundles,\n\u001b[1;32m   2002\u001b[0m     dev_tools_hot_reload,\n\u001b[1;32m   2003\u001b[0m     dev_tools_hot_reload_interval,\n\u001b[1;32m   2004\u001b[0m     dev_tools_hot_reload_watch_interval,\n\u001b[1;32m   2005\u001b[0m     dev_tools_hot_reload_max_retry,\n\u001b[1;32m   2006\u001b[0m     dev_tools_silence_routes_logging,\n\u001b[1;32m   2007\u001b[0m     dev_tools_prune_errors,\n\u001b[1;32m   2008\u001b[0m )\n\u001b[1;32m   2010\u001b[0m \u001b[39m# Verify port value\u001b[39;00m\n\u001b[1;32m   2011\u001b[0m \u001b[39mtry\u001b[39;00m:\n",
      "File \u001b[0;32m~/anaconda3/envs/dash/lib/python3.10/site-packages/dash/dash.py:1767\u001b[0m, in \u001b[0;36mDash.enable_dev_tools\u001b[0;34m(self, debug, dev_tools_ui, dev_tools_props_check, dev_tools_serve_dev_bundles, dev_tools_hot_reload, dev_tools_hot_reload_interval, dev_tools_hot_reload_watch_interval, dev_tools_hot_reload_max_retry, dev_tools_silence_routes_logging, dev_tools_prune_errors)\u001b[0m\n\u001b[1;32m   1765\u001b[0m \u001b[39mif\u001b[39;00m debug:\n\u001b[1;32m   1766\u001b[0m     \u001b[39mif\u001b[39;00m jupyter_dash\u001b[39m.\u001b[39mactive:\n\u001b[0;32m-> 1767\u001b[0m         jupyter_dash\u001b[39m.\u001b[39;49mconfigure_callback_exception_handling(\n\u001b[1;32m   1768\u001b[0m             \u001b[39mself\u001b[39;49m, dev_tools\u001b[39m.\u001b[39;49mprune_errors\n\u001b[1;32m   1769\u001b[0m         )\n\u001b[1;32m   1770\u001b[0m     \u001b[39melif\u001b[39;00m dev_tools\u001b[39m.\u001b[39mprune_errors:\n\u001b[1;32m   1771\u001b[0m         secret \u001b[39m=\u001b[39m gen_salt(\u001b[39m20\u001b[39m)\n",
      "File \u001b[0;32m~/anaconda3/envs/dash/lib/python3.10/site-packages/dash/_jupyter.py:443\u001b[0m, in \u001b[0;36mJupyterDash.configure_callback_exception_handling\u001b[0;34m(self, app, dev_tools_prune_errors)\u001b[0m\n\u001b[1;32m    440\u001b[0m \u001b[39mdef\u001b[39;00m \u001b[39mconfigure_callback_exception_handling\u001b[39m(\u001b[39mself\u001b[39m, app, dev_tools_prune_errors):\n\u001b[1;32m    441\u001b[0m \u001b[39m    \u001b[39m\u001b[39m\"\"\"Install traceback handling for callbacks\"\"\"\u001b[39;00m\n\u001b[0;32m--> 443\u001b[0m     \u001b[39m@app\u001b[39m\u001b[39m.\u001b[39;49mserver\u001b[39m.\u001b[39;49merrorhandler(\u001b[39mException\u001b[39;49;00m)\n\u001b[1;32m    444\u001b[0m     \u001b[39mdef\u001b[39;00m \u001b[39m_wrap_errors\u001b[39m(error):\n\u001b[1;32m    445\u001b[0m         \u001b[39m# Compute number of stack frames to skip to get down to callback\u001b[39;00m\n\u001b[1;32m    446\u001b[0m         skip \u001b[39m=\u001b[39m _get_skip(error) \u001b[39mif\u001b[39;00m dev_tools_prune_errors \u001b[39melse\u001b[39;00m \u001b[39m0\u001b[39m\n\u001b[1;32m    448\u001b[0m         \u001b[39m# Customized formatargvalues function we can place function parameters\u001b[39;00m\n\u001b[1;32m    449\u001b[0m         \u001b[39m# on separate lines\u001b[39;00m\n",
      "File \u001b[0;32m~/anaconda3/envs/dash/lib/python3.10/site-packages/flask/sansio/scaffold.py:43\u001b[0m, in \u001b[0;36msetupmethod.<locals>.wrapper_func\u001b[0;34m(self, *args, **kwargs)\u001b[0m\n\u001b[1;32m     42\u001b[0m \u001b[39mdef\u001b[39;00m \u001b[39mwrapper_func\u001b[39m(\u001b[39mself\u001b[39m, \u001b[39m*\u001b[39margs: t\u001b[39m.\u001b[39mAny, \u001b[39m*\u001b[39m\u001b[39m*\u001b[39mkwargs: t\u001b[39m.\u001b[39mAny) \u001b[39m-\u001b[39m\u001b[39m>\u001b[39m t\u001b[39m.\u001b[39mAny:\n\u001b[0;32m---> 43\u001b[0m     \u001b[39mself\u001b[39;49m\u001b[39m.\u001b[39;49m_check_setup_finished(f_name)\n\u001b[1;32m     44\u001b[0m     \u001b[39mreturn\u001b[39;00m f(\u001b[39mself\u001b[39m, \u001b[39m*\u001b[39margs, \u001b[39m*\u001b[39m\u001b[39m*\u001b[39mkwargs)\n",
      "File \u001b[0;32m~/anaconda3/envs/dash/lib/python3.10/site-packages/flask/sansio/app.py:417\u001b[0m, in \u001b[0;36mApp._check_setup_finished\u001b[0;34m(self, f_name)\u001b[0m\n\u001b[1;32m    415\u001b[0m \u001b[39mdef\u001b[39;00m \u001b[39m_check_setup_finished\u001b[39m(\u001b[39mself\u001b[39m, f_name: \u001b[39mstr\u001b[39m) \u001b[39m-\u001b[39m\u001b[39m>\u001b[39m \u001b[39mNone\u001b[39;00m:\n\u001b[1;32m    416\u001b[0m     \u001b[39mif\u001b[39;00m \u001b[39mself\u001b[39m\u001b[39m.\u001b[39m_got_first_request:\n\u001b[0;32m--> 417\u001b[0m         \u001b[39mraise\u001b[39;00m \u001b[39mAssertionError\u001b[39;00m(\n\u001b[1;32m    418\u001b[0m             \u001b[39mf\u001b[39m\u001b[39m\"\u001b[39m\u001b[39mThe setup method \u001b[39m\u001b[39m'\u001b[39m\u001b[39m{\u001b[39;00mf_name\u001b[39m}\u001b[39;00m\u001b[39m'\u001b[39m\u001b[39m can no longer be called\u001b[39m\u001b[39m\"\u001b[39m\n\u001b[1;32m    419\u001b[0m             \u001b[39m\"\u001b[39m\u001b[39m on the application. It has already handled its first\u001b[39m\u001b[39m\"\u001b[39m\n\u001b[1;32m    420\u001b[0m             \u001b[39m\"\u001b[39m\u001b[39m request, any changes will not be applied\u001b[39m\u001b[39m\"\u001b[39m\n\u001b[1;32m    421\u001b[0m             \u001b[39m\"\u001b[39m\u001b[39m consistently.\u001b[39m\u001b[39m\\n\u001b[39;00m\u001b[39m\"\u001b[39m\n\u001b[1;32m    422\u001b[0m             \u001b[39m\"\u001b[39m\u001b[39mMake sure all imports, decorators, functions, etc.\u001b[39m\u001b[39m\"\u001b[39m\n\u001b[1;32m    423\u001b[0m             \u001b[39m\"\u001b[39m\u001b[39m needed to set up the application are done before\u001b[39m\u001b[39m\"\u001b[39m\n\u001b[1;32m    424\u001b[0m             \u001b[39m\"\u001b[39m\u001b[39m running it.\u001b[39m\u001b[39m\"\u001b[39m\n\u001b[1;32m    425\u001b[0m         )\n",
      "\u001b[0;31mAssertionError\u001b[0m: The setup method 'errorhandler' can no longer be called on the application. It has already handled its first request, any changes will not be applied consistently.\nMake sure all imports, decorators, functions, etc. needed to set up the application are done before running it."
     ]
    }
   ],
   "source": [
    "# app = JupyterDash(__name__, external_stylesheets=[dbc.themes.SLATE], suppress_callback_exceptions=True)\n",
    "\n",
    "# app.layout = html.Div([\n",
    "#     dcc.Location(id='url'),\n",
    "#     sidebar,\n",
    "#     content\n",
    "# ])\n",
    "\n",
    "\n",
    "@app.callback(\n",
    "    Output(\"page-content\", \"children\"),\n",
    "    [Input(\"url\", \"pathname\")])\n",
    "def render_page_content(pathname):\n",
    "    if pathname == \"/\":\n",
    "        return homepage\n",
    "\n",
    "    elif pathname == \"/tickerpage\":\n",
    "        return tickerpage\n",
    "\n",
    "    elif pathname == \"/sunburst\":\n",
    "        return sunburstpage\n",
    "\n",
    "    elif pathname == \"/tableview\":\n",
    "        return tablepage\n",
    "\n",
    "\n",
    "@app.callback(\n",
    "    [Output(\"chrt-ticker-main\", \"figure\"),\n",
    "     Output(\"first-table\", \"columns\"), Output(\"first-table\", \"data\"),\n",
    "     Output(\"second-table\", \"columns\"), Output(\"second-table\", \"data\"),\n",
    "     Output(\"third-table\", \"columns\"), Output(\"third-table\", \"data\")\n",
    "    ],\n",
    "    [Input(\"ticker-selector\", \"value\")])\n",
    "def render_tickerchart(value):\n",
    "    t_candles = pd.read_csv('../outputs/price_hist/{}_price_hist.csv'.format(value))\n",
    "    fig_main = make_subplots(rows=2, cols=1, shared_xaxes=True,\n",
    "                             vertical_spacing=0.03, subplot_titles=('OHLC', 'Volume'),\n",
    "                             row_width=[0.2, 0.7])\n",
    "\n",
    "    # Plot OHLC on 1st row\n",
    "    fig_main.add_trace(go.Candlestick(x=t_candles[\"date\"], open=t_candles[\"open\"], high=t_candles[\"high\"],\n",
    "                                      low=t_candles['low'], close=t_candles['close'], name=\"OHLC\", showlegend=False),\n",
    "                       row=1, col=1\n",
    "                       )\n",
    "    avg_price_df = current_positions.set_index('ticker')\n",
    "    avg_price = avg_price_df.loc[value].avg_price\n",
    "    res = round((avg_price_df.loc[value].price / avg_price - 1) * 100, 2)\n",
    "    fig_main.update_layout(\n",
    "        yaxis_title='Price $',\n",
    "        shapes=[dict(\n",
    "            x0=0, x1=1, y0=avg_price, y1=avg_price, xref='paper', yref='y', line_width=1)],\n",
    "        annotations=[dict(\n",
    "            x=0.05, y=avg_price * 0.90, xref='paper', yref='y',\n",
    "            showarrow=False, xanchor='left', bgcolor=\"black\",\n",
    "            opacity=0.35, text='Average Price: $ {}<br>Result: {} %'.format(avg_price, res), font={'size': 12})]\n",
    "    )\n",
    "\n",
    "    # Bar trace for volumes on 2nd row without legend\n",
    "    fig_main.add_trace(go.Bar(x=t_candles['date'], y=t_candles['volume'], showlegend=False), row=2, col=1)\n",
    "    tx_df = all_transactions[all_transactions.ticker==value]\n",
    "    fig_main.add_trace(go.Scatter(\n",
    "        x=tx_df[tx_df.type=='Buy'].date,\n",
    "        y=tx_df[tx_df.type=='Buy'].price,\n",
    "        mode='markers',\n",
    "        name='Buy Orders',\n",
    "        marker=dict(\n",
    "            color='rgba(60, 255, 75, 0.8)',\n",
    "            size=12,\n",
    "            line=dict(\n",
    "                color='white',\n",
    "                width=1\n",
    "            )), showlegend=False))\n",
    "    fig_main.add_trace(go.Scatter(\n",
    "        x=tx_df[tx_df.type=='Sell'].date,\n",
    "        y=tx_df[tx_df.type=='Sell'].price,\n",
    "        mode='markers',\n",
    "        name='Sell Orders',\n",
    "        marker=dict(\n",
    "                color='rgba(255, 20, 40, 0.9)',\n",
    "                size=12,\n",
    "                line=dict(\n",
    "                    color='white',\n",
    "                    width=1\n",
    "                )), showlegend=False))\n",
    "\n",
    "    # Do not show OHLC's rangeslider plot\n",
    "    fig_main.update(layout_xaxis_rangeslider_visible=False)\n",
    "    fig_main.update_layout(margin=dict(t=50, b=50, l=25, r=25))\n",
    "    fig_main.update_layout(paper_bgcolor=\"#272b30\", plot_bgcolor='#272b30')\n",
    "    fig_main.layout.template = CHART_THEME\n",
    "    \n",
    "    datatabletwo = table_dict[value][5:11].to_dict('records')\n",
    "    datatable = table_dict[value].iloc[[0,1,2,3,34,35,37,31,36,39,38,33,32],].to_dict('records')\n",
    "    datatablethree = table_dict[value][18:25].to_dict('records')\n",
    "    cols = [{\"name\": i, \"id\": i} for i in table_dict[value].columns]\n",
    "\n",
    "    \n",
    "    \n",
    "    return fig_main, cols, datatable, cols, datatabletwo, cols, datatablethree\n",
    "\n",
    "\n",
    "\n",
    "\n",
    "if __name__ == \"__main__\":\n",
    "    app.run_server(debug=True, port=8095)"
   ]
  },
  {
   "cell_type": "code",
   "execution_count": 115,
   "metadata": {},
   "outputs": [
    {
     "ename": "AttributeError",
     "evalue": "'JupyterDash' object has no attribute '_terminate_server_for_port'",
     "output_type": "error",
     "traceback": [
      "\u001b[0;31m---------------------------------------------------------------------------\u001b[0m",
      "\u001b[0;31mAttributeError\u001b[0m                            Traceback (most recent call last)",
      "\u001b[1;32m/Users/anh/Downloads/Dashboard Course Zip/jupyter notebooks/Notebook C - Combining Plotly and Dash.ipynb Cell 84\u001b[0m line \u001b[0;36m1\n\u001b[0;32m----> <a href='vscode-notebook-cell:/Users/anh/Downloads/Dashboard%20Course%20Zip/jupyter%20notebooks/Notebook%20C%20-%20Combining%20Plotly%20and%20Dash.ipynb#Y144sZmlsZQ%3D%3D?line=0'>1</a>\u001b[0m app\u001b[39m.\u001b[39;49m_terminate_server_for_port(\u001b[39m\"\u001b[39m\u001b[39mlocalhost\u001b[39m\u001b[39m\"\u001b[39m,\u001b[39m8055\u001b[39m)\n",
      "\u001b[0;31mAttributeError\u001b[0m: 'JupyterDash' object has no attribute '_terminate_server_for_port'"
     ]
    }
   ],
   "source": [
    "app._terminate_server_for_port(\"localhost\",8055)"
   ]
  },
  {
   "cell_type": "code",
   "execution_count": null,
   "metadata": {},
   "outputs": [],
   "source": []
  },
  {
   "cell_type": "code",
   "execution_count": 188,
   "metadata": {},
   "outputs": [
    {
     "data": {
      "text/html": [
       "\n",
       "        <iframe\n",
       "            width=\"100%\"\n",
       "            height=\"650\"\n",
       "            src=\"http://127.0.0.1:8058/\"\n",
       "            frameborder=\"0\"\n",
       "            allowfullscreen\n",
       "            \n",
       "        ></iframe>\n",
       "        "
      ],
      "text/plain": [
       "<IPython.lib.display.IFrame at 0x1517cd030>"
      ]
     },
     "metadata": {},
     "output_type": "display_data"
    }
   ],
   "source": [
    "content = html.Div(id='page-content', children=[], style=CONTENT_STYLE)\n",
    "app = Dash(__name__, external_stylesheets=[dbc.themes.SLATE], suppress_callback_exceptions=True)\n",
    "\n",
    "app.layout = dbc.Container(\n",
    "    [\n",
    "        \n",
    "        dcc.Location(id='url', refresh=False),\n",
    "        sidebar,\n",
    "        content,\n",
    "    #     dbc.Row(dbc.Col(html.H2('PORTFOLIO OVERVIEW', className='text-center text-primary, mb-3'))),\n",
    "    #     dbc.Row([\n",
    "    #         dbc.Col([\n",
    "    #         html.H5('Portfolio Value over Time ($USD)', className='text-center'),\n",
    "    #         dcc.Graph(id='chrt-portfolio-main',\n",
    "    #                   figure=chart_ptfvalue,\n",
    "    #                   style={'height':750}),\n",
    "    #         html.Hr(),\n",
    "\n",
    "    #         ],\n",
    "    #             width={'size': 8, 'offset': 0, 'order': 1}),\n",
    "    #         dbc.Col([\n",
    "    #         html.H5('Portfolio', className='text-center'),\n",
    "    #         dcc.Graph(id='indicators-ptf',\n",
    "    #                   figure=indicators_ptf,\n",
    "    #                   style={'height':750}),\n",
    "    #         html.Hr()\n",
    "    #         ],\n",
    "    #             width={'size': 2, 'offset': 0, 'order': 2}),\n",
    "    #         dbc.Col([\n",
    "    #         html.H5('S&P500', className='text-center'),\n",
    "    #         dcc.Graph(id='indicators-sp',\n",
    "    #                   figure=indicators_sp500,\n",
    "    #                   style={'height':750}),\n",
    "    #         html.Hr()\n",
    "    #         ],\n",
    "    #             width={'size': 2, 'offset': 0, 'order': 3}),\n",
    "    #     ]),  # end of second row\n",
    "    #     dbc.Row([\n",
    "    #         dbc.Col([\n",
    "    #             dcc.Graph(id='chrt-portfolio-secondary',\n",
    "    #                   figure=fig_growth2,\n",
    "    #                   style={'height':500}),\n",
    "    #         ],\n",
    "    #             width={'size': 8, 'offset': 0, 'order': 1}),\n",
    "    #         dbc.Col([\n",
    "    #             dcc.Graph(id='pie-top15',\n",
    "    #                   figure = sunburst_fig2,\n",
    "    #                   style={'height':500}),\n",
    "    #         ],\n",
    "    #             width={'size': 4, 'offset': 0, 'order': 2}),\n",
    "    #     ])\n",
    "        \n",
    "    ], fluid=True)\n",
    "\n",
    "\n",
    "\n",
    "@app.callback(\n",
    "    Output(\"page-content\", \"children\"),\n",
    "    [Input(\"url\", \"pathname\")])\n",
    "def render_page_content(pathname):\n",
    "    if pathname == \"/\":\n",
    "        return homepage\n",
    "\n",
    "    elif pathname == \"/tickerpage\":\n",
    "        return tickerpage\n",
    "\n",
    "    elif pathname == \"/sunburst\":\n",
    "        return sunburstpage\n",
    "\n",
    "    elif pathname == \"/tableview\":\n",
    "        return tablepage\n",
    "\n",
    "\n",
    "@app.callback(\n",
    "    [Output(\"chrt-ticker-main\", \"figure\"),\n",
    "     Output(\"first-table\", \"columns\"), Output(\"first-table\", \"data\"),\n",
    "     Output(\"second-table\", \"columns\"), Output(\"second-table\", \"data\"),\n",
    "     Output(\"third-table\", \"columns\"), Output(\"third-table\", \"data\")\n",
    "    ],\n",
    "    [Input(\"ticker-selector\", \"value\")])\n",
    "def render_tickerchart(value):\n",
    "    t_candles = pd.read_csv('../outputs/price_hist/{}_price_hist.csv'.format(value))\n",
    "    fig_main = make_subplots(rows=2, cols=1, shared_xaxes=True,\n",
    "                             vertical_spacing=0.03, subplot_titles=('OHLC', 'Volume'),\n",
    "                             row_width=[0.2, 0.7])\n",
    "\n",
    "    # Plot OHLC on 1st row\n",
    "    fig_main.add_trace(go.Candlestick(x=t_candles[\"date\"], open=t_candles[\"open\"], high=t_candles[\"high\"],\n",
    "                                      low=t_candles['low'], close=t_candles['close'], name=\"OHLC\", showlegend=False),\n",
    "                       row=1, col=1\n",
    "                       )\n",
    "    avg_price_df = current_positions.set_index('ticker')\n",
    "    avg_price = avg_price_df.loc[value].avg_price\n",
    "    res = round((avg_price_df.loc[value].price / avg_price - 1) * 100, 2)\n",
    "    fig_main.update_layout(\n",
    "        yaxis_title='Price $',\n",
    "        shapes=[dict(\n",
    "            x0=0, x1=1, y0=avg_price, y1=avg_price, xref='paper', yref='y', line_width=1)],\n",
    "        annotations=[dict(\n",
    "            x=0.05, y=avg_price * 0.90, xref='paper', yref='y',\n",
    "            showarrow=False, xanchor='left', bgcolor=\"black\",\n",
    "            opacity=0.35, text='Average Price: $ {}<br>Result: {} %'.format(avg_price, res), font={'size': 12})]\n",
    "    )\n",
    "\n",
    "    # Bar trace for volumes on 2nd row without legend\n",
    "    fig_main.add_trace(go.Bar(x=t_candles['date'], y=t_candles['volume'], showlegend=False), row=2, col=1)\n",
    "    tx_df = all_transactions[all_transactions.ticker==value]\n",
    "    fig_main.add_trace(go.Scatter(\n",
    "        x=tx_df[tx_df.type=='Buy'].date,\n",
    "        y=tx_df[tx_df.type=='Buy'].price,\n",
    "        mode='markers',\n",
    "        name='Buy Orders',\n",
    "        marker=dict(\n",
    "            color='rgba(60, 255, 75, 0.8)',\n",
    "            size=12,\n",
    "            line=dict(\n",
    "                color='white',\n",
    "                width=1\n",
    "            )), showlegend=False))\n",
    "    fig_main.add_trace(go.Scatter(\n",
    "        x=tx_df[tx_df.type=='Sell'].date,\n",
    "        y=tx_df[tx_df.type=='Sell'].price,\n",
    "        mode='markers',\n",
    "        name='Sell Orders',\n",
    "        marker=dict(\n",
    "                color='rgba(255, 20, 40, 0.9)',\n",
    "                size=12,\n",
    "                line=dict(\n",
    "                    color='white',\n",
    "                    width=1\n",
    "                )), showlegend=False))\n",
    "\n",
    "    # Do not show OHLC's rangeslider plot\n",
    "    fig_main.update(layout_xaxis_rangeslider_visible=False)\n",
    "    fig_main.update_layout(margin=dict(t=50, b=50, l=25, r=25))\n",
    "    fig_main.update_layout(paper_bgcolor=\"#272b30\", plot_bgcolor='#272b30')\n",
    "    fig_main.layout.template = CHART_THEME\n",
    "    \n",
    "    datatabletwo = table_dict[value][5:11].to_dict('records')\n",
    "    datatable = table_dict[value].iloc[[0,1,2,3,34,35,37,31,36,39,38,33,32],].to_dict('records')\n",
    "    datatablethree = table_dict[value][18:25].to_dict('records')\n",
    "    cols = [{\"name\": i, \"id\": i} for i in table_dict[value].columns]\n",
    "\n",
    "    \n",
    "    \n",
    "    return fig_main, cols, datatable, cols, datatabletwo, cols, datatablethree\n",
    "\n",
    "if __name__ == \"__main__\":\n",
    "    app.run_server(debug=True, port='8058')"
   ]
  },
  {
   "cell_type": "code",
   "execution_count": null,
   "metadata": {},
   "outputs": [],
   "source": []
  },
  {
   "cell_type": "code",
   "execution_count": 117,
   "metadata": {},
   "outputs": [
    {
     "ename": "AttributeError",
     "evalue": "'JupyterDash' object has no attribute '_terminate_server_for_port'",
     "output_type": "error",
     "traceback": [
      "\u001b[0;31m---------------------------------------------------------------------------\u001b[0m",
      "\u001b[0;31mAttributeError\u001b[0m                            Traceback (most recent call last)",
      "\u001b[1;32m/Users/anh/Downloads/Dashboard Course Zip/jupyter notebooks/Notebook C - Combining Plotly and Dash.ipynb Cell 88\u001b[0m line \u001b[0;36m1\n\u001b[0;32m----> <a href='vscode-notebook-cell:/Users/anh/Downloads/Dashboard%20Course%20Zip/jupyter%20notebooks/Notebook%20C%20-%20Combining%20Plotly%20and%20Dash.ipynb#Y151sZmlsZQ%3D%3D?line=0'>1</a>\u001b[0m app\u001b[39m.\u001b[39;49m_terminate_server_for_port(\u001b[39m\"\u001b[39m\u001b[39mlocalhost\u001b[39m\u001b[39m\"\u001b[39m,\u001b[39m8058\u001b[39m)\n",
      "\u001b[0;31mAttributeError\u001b[0m: 'JupyterDash' object has no attribute '_terminate_server_for_port'"
     ]
    }
   ],
   "source": [
    "app._terminate_server_for_port(\"localhost\",8058)"
   ]
  },
  {
   "cell_type": "code",
   "execution_count": null,
   "metadata": {},
   "outputs": [],
   "source": []
  },
  {
   "cell_type": "code",
   "execution_count": null,
   "metadata": {},
   "outputs": [],
   "source": []
  },
  {
   "cell_type": "code",
   "execution_count": null,
   "metadata": {},
   "outputs": [],
   "source": []
  }
 ],
 "metadata": {
  "kernelspec": {
   "display_name": "Python 3 (ipykernel)",
   "language": "python",
   "name": "python3"
  },
  "language_info": {
   "codemirror_mode": {
    "name": "ipython",
    "version": 3
   },
   "file_extension": ".py",
   "mimetype": "text/x-python",
   "name": "python",
   "nbconvert_exporter": "python",
   "pygments_lexer": "ipython3",
   "version": "3.10.13"
  }
 },
 "nbformat": 4,
 "nbformat_minor": 2
}
